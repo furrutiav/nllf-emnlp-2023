{
 "cells": [
  {
   "cell_type": "code",
   "execution_count": 6,
   "id": "23214572",
   "metadata": {},
   "outputs": [],
   "source": [
    "import pandas as pd\n",
    "from sklearn.metrics import classification_report"
   ]
  },
  {
   "cell_type": "code",
   "execution_count": 7,
   "id": "49149033",
   "metadata": {},
   "outputs": [
    {
     "data": {
      "text/plain": [
       "13"
      ]
     },
     "execution_count": 7,
     "metadata": {},
     "output_type": "execute_result"
    }
   ],
   "source": [
    "bsq = [\n",
    "    \"Does the article discuss agroecological practices?\",\n",
    "    \"Does the article focus primarily on climate change mitigation?\",\n",
    "    \"Does the article cover climate change adaptation?\",\n",
    "    \"Does the article comprehensively cover climate change and environmental aspects?\",\n",
    "    \"Does the study specifically evaluate greenhouse gas emissions?\",\n",
    "    \"Does the article assess agroecological practices' impact on climate change?\",\n",
    "    \"Does the article target stakeholders?\",\n",
    "    \"Does the article address limitations, challenges, and potential risks?\",\n",
    "    \"Does the article address policy implications?\",\n",
    "    \"Does the article have a specific geographic focus?\",\n",
    "    \"Does the article discuss the role of agroecology in enhancing climate resilience in agricultural systems?\",\n",
    "    \"Does the article assess the impact of agroecology on nitrogen dynamics?\",\n",
    "    \"Does the article discuss the impact of methane (CH4) emissions?\"\n",
    "]\n",
    "len(bsq)"
   ]
  },
  {
   "cell_type": "code",
   "execution_count": 1,
   "id": "5398ce8d",
   "metadata": {},
   "outputs": [
    {
     "ename": "NameError",
     "evalue": "name 'bsq' is not defined",
     "output_type": "error",
     "traceback": [
      "\u001b[1;31m---------------------------------------------------------------------------\u001b[0m",
      "\u001b[1;31mNameError\u001b[0m                                 Traceback (most recent call last)",
      "\u001b[1;32m~\\AppData\\Local\\Temp/ipykernel_10488/2050185895.py\u001b[0m in \u001b[0;36m<module>\u001b[1;34m\u001b[0m\n\u001b[0;32m      1\u001b[0m \u001b[0mchatgpt_responses_b\u001b[0m \u001b[1;33m=\u001b[0m \u001b[1;33m[\u001b[0m\u001b[1;33m]\u001b[0m\u001b[1;33m\u001b[0m\u001b[1;33m\u001b[0m\u001b[0m\n\u001b[1;32m----> 2\u001b[1;33m \u001b[1;32mfor\u001b[0m \u001b[0mi\u001b[0m \u001b[1;32min\u001b[0m \u001b[0mrange\u001b[0m\u001b[1;33m(\u001b[0m\u001b[0mlen\u001b[0m\u001b[1;33m(\u001b[0m\u001b[0mbsq\u001b[0m\u001b[1;33m)\u001b[0m\u001b[1;33m)\u001b[0m\u001b[1;33m:\u001b[0m\u001b[1;33m\u001b[0m\u001b[1;33m\u001b[0m\u001b[0m\n\u001b[0m\u001b[0;32m      3\u001b[0m     \u001b[1;32mif\u001b[0m \u001b[0mi\u001b[0m\u001b[1;33m+\u001b[0m\u001b[1;36m1\u001b[0m \u001b[1;32min\u001b[0m \u001b[1;33m[\u001b[0m\u001b[1;36m7\u001b[0m\u001b[1;33m,\u001b[0m \u001b[1;36m5\u001b[0m\u001b[1;33m,\u001b[0m \u001b[1;36m2\u001b[0m\u001b[1;33m]\u001b[0m\u001b[1;33m:\u001b[0m\u001b[1;33m\u001b[0m\u001b[1;33m\u001b[0m\u001b[0m\n\u001b[0;32m      4\u001b[0m         \u001b[0mchatgpt_responses_b\u001b[0m\u001b[1;33m.\u001b[0m\u001b[0mappend\u001b[0m\u001b[1;33m(\u001b[0m\u001b[0mpd\u001b[0m\u001b[1;33m.\u001b[0m\u001b[0mread_excel\u001b[0m\u001b[1;33m(\u001b[0m\u001b[1;34mf\"chatgpt_responses_b{i+1}_v2.xlsx\"\u001b[0m\u001b[1;33m,\u001b[0m \u001b[0mindex_col\u001b[0m\u001b[1;33m=\u001b[0m\u001b[1;36m0\u001b[0m\u001b[1;33m)\u001b[0m\u001b[1;33m)\u001b[0m\u001b[1;33m\u001b[0m\u001b[1;33m\u001b[0m\u001b[0m\n\u001b[0;32m      5\u001b[0m     \u001b[1;32melse\u001b[0m\u001b[1;33m:\u001b[0m\u001b[1;33m\u001b[0m\u001b[1;33m\u001b[0m\u001b[0m\n",
      "\u001b[1;31mNameError\u001b[0m: name 'bsq' is not defined"
     ]
    }
   ],
   "source": [
    "chatgpt_responses_b = []\n",
    "for i in range(len(bsq)):\n",
    "    if i+1 in [7, 5, 2]:\n",
    "        chatgpt_responses_b.append(pd.read_excel(f\"chatgpt_responses_b{i+1}_v2.xlsx\", index_col=0))\n",
    "    else:\n",
    "        o = pd.read_excel(f\"chatgpt_responses_b{i+1}.xlsx\", index_col=0)\n",
    "        o_ = pd.read_excel(f\"chatgpt_responses_b{i+1}_v2.xlsx\", index_col=0)\n",
    "        chatgpt_responses_b.append(pd.concat([o, o_]))\n",
    "    print(i+1, bsq[i])\n",
    "    print(classification_report(chatgpt_responses_b[-1][\"Final decision\"] == \"INCLUDE\", chatgpt_responses_b[-1][\"chatgpt\"].apply(lambda x: int(\"Yes\" in x)), digits=4))\n",
    "    print(chatgpt_responses_b[-1][\"chatgpt\"].apply(lambda x: int(\"Yes\" in x)).value_counts().to_dict())\n",
    "    print(chatgpt_responses_b[-1].shape)"
   ]
  },
  {
   "cell_type": "code",
   "execution_count": 10,
   "id": "8c6f120e",
   "metadata": {},
   "outputs": [],
   "source": [
    "to_pred = chatgpt_responses_b[0].copy()\n",
    "to_pred[\"b1\"] = chatgpt_responses_b[0][\"chatgpt\"].apply(lambda x: int(\"Yes\" in x))\n",
    "for i in range(0, len(bsq)):\n",
    "    to_pred[f\"b{i+1}\"] = chatgpt_responses_b[i][\"chatgpt\"].apply(lambda x: int(\"Yes\" in x))"
   ]
  },
  {
   "cell_type": "code",
   "execution_count": 11,
   "id": "e011c639",
   "metadata": {},
   "outputs": [],
   "source": [
    "X = to_pred[[f\"b{i+1}\" for i in range(len(bsq))]]\n",
    "y = (to_pred[\"Final decision\"] == \"INCLUDE\").apply(int)"
   ]
  },
  {
   "cell_type": "code",
   "execution_count": 12,
   "id": "5f357260",
   "metadata": {},
   "outputs": [],
   "source": [
    "from sklearn.tree import DecisionTreeClassifier\n",
    "clf = DecisionTreeClassifier(random_state=0)"
   ]
  },
  {
   "cell_type": "code",
   "execution_count": 13,
   "id": "696fd887",
   "metadata": {},
   "outputs": [
    {
     "data": {
      "text/plain": [
       "0.8742138364779874"
      ]
     },
     "execution_count": 13,
     "metadata": {},
     "output_type": "execute_result"
    }
   ],
   "source": [
    "clf.fit(X, y)\n",
    "clf.score(X, y)"
   ]
  },
  {
   "cell_type": "code",
   "execution_count": 14,
   "id": "3bdd3a77",
   "metadata": {},
   "outputs": [
    {
     "name": "stdout",
     "output_type": "stream",
     "text": [
      "              precision    recall  f1-score   support\n",
      "\n",
      "           0     0.8696    0.9091    0.8889        88\n",
      "           1     0.8806    0.8310    0.8551        71\n",
      "\n",
      "    accuracy                         0.8742       159\n",
      "   macro avg     0.8751    0.8700    0.8720       159\n",
      "weighted avg     0.8745    0.8742    0.8738       159\n",
      "\n"
     ]
    }
   ],
   "source": [
    "print(classification_report(y, clf.predict(X), digits=4))"
   ]
  },
  {
   "cell_type": "code",
   "execution_count": 17,
   "id": "29ca897f",
   "metadata": {},
   "outputs": [
    {
     "data": {
      "text/plain": [
       "Publication Type                                                    J\n",
       "Authors              Reda, GK; Kebede, TG; Kahsay, ST; Gebrehiwot, BH\n",
       "Article Title       Carbon sequestration and vegetation properties...\n",
       "Abstract (AB)       Exclosure management is becoming a common appr...\n",
       "Publication Year                                               2020.0\n",
       "DOI                                         10.1016/j.jnc.2020.125856\n",
       "Researcher1                                                       NaN\n",
       "Researcher2                                                   EXCLUDE\n",
       "Researcher3                                                   EXCLUDE\n",
       "Final decision                                                EXCLUDE\n",
       "Review studies                                                    NaN\n",
       "Duplicates                                                        NaN\n",
       "chatgpt                                                           Yes\n",
       "b1                                                                  1\n",
       "b2                                                                  1\n",
       "b3                                                                  1\n",
       "b4                                                                  1\n",
       "b5                                                                  1\n",
       "b6                                                                  1\n",
       "b7                                                                  1\n",
       "b8                                                                  0\n",
       "b9                                                                  1\n",
       "b10                                                                 1\n",
       "b11                                                                 1\n",
       "b12                                                                 0\n",
       "b13                                                                 0\n",
       "Name: 1603, dtype: object"
      ]
     },
     "execution_count": 17,
     "metadata": {},
     "output_type": "execute_result"
    }
   ],
   "source": [
    "row"
   ]
  },
  {
   "cell_type": "code",
   "execution_count": 16,
   "id": "3d8bd54d",
   "metadata": {},
   "outputs": [
    {
     "name": "stdout",
     "output_type": "stream",
     "text": [
      "Title: Carbon sequestration and vegetation properties across the age of community managed exclosures in Northern Ethiopia\n",
      "Abstract: Exclosure management is becoming a common approach to rehabilitate and increase net biomass productivity of extremely degraded areas in Northern Ethiopia. However, the effect of age of exclosures on vegetation and soil property of communal lands is not yet well studied. In this study, the effect of land exclusion and age of exclosure on plant species richness, diversity, density and dominance, herbaceous standing biomass, woody biomass, woody biomass carbon, soil organic carbon (SOC) and other soil properties were assessed. To study the above listed variables, exclosures in three age classes (5-7, 12-15 and > 20 years) and adjacent free grazing areas were selected. We replicate each age class three times considering agroecological similarity. From each exclosure and free grazing area, six larger plots (10m x 20m) each having five small quadrats were taken. Totally, 72 larger plots and 360 small quadrats were sampled. The result of this study indicates that exclusion of communal lands significantly improved species richness, diversity, biomass, woody biomass carbon, SOC, total nitrogen (TN) and total potassium (TK). Similarly, the density of perennial species and the density of grass species were found increased with the age of exclosure. Herbaceous species richness, diversity and annual species density were higher in the young-aged exclosures than in the older exclosures. Woody species richness, diversity, density, biomass, and woody biomass carbon were highest in the older exclosures. Besides, age of exclosure increases the content of SOC, TN and TK. Furthermore, it was found that the old-aged exclosures stored more biomass carbon (267 %) and SOC (37.66 %) than the young-aged exclosures. The study indicates the benefits of land exclosure for permanent carbon storage, which is vital to reduce atmospheric greenhouse gas concentration.\n",
      "Label: EXCLUDE\n"
     ]
    }
   ],
   "source": [
    "row = to_pred[y != clf.predict(X)].sample(1).iloc[0]\n",
    "print(f\"\"\"Title: {row[\"Article Title\"]}\\nAbstract: {row[\"Abstract (AB)\"]}\\nLabel: {row[\"Final decision\"]}\"\"\")"
   ]
  },
  {
   "cell_type": "code",
   "execution_count": 18,
   "id": "0b44dcce",
   "metadata": {},
   "outputs": [
    {
     "data": {
      "text/html": [
       "<div>\n",
       "<style scoped>\n",
       "    .dataframe tbody tr th:only-of-type {\n",
       "        vertical-align: middle;\n",
       "    }\n",
       "\n",
       "    .dataframe tbody tr th {\n",
       "        vertical-align: top;\n",
       "    }\n",
       "\n",
       "    .dataframe thead th {\n",
       "        text-align: right;\n",
       "    }\n",
       "</style>\n",
       "<table border=\"1\" class=\"dataframe\">\n",
       "  <thead>\n",
       "    <tr style=\"text-align: right;\">\n",
       "      <th></th>\n",
       "      <th>t</th>\n",
       "      <th>ab</th>\n",
       "      <th>q</th>\n",
       "      <th>label</th>\n",
       "    </tr>\n",
       "  </thead>\n",
       "  <tbody>\n",
       "    <tr>\n",
       "      <th>0</th>\n",
       "      <td>Does carbon farming provide a cost-effective o...</td>\n",
       "      <td>In this study, we apply a whole farm bioeconom...</td>\n",
       "      <td>Does the article discuss agroecological practi...</td>\n",
       "      <td>1</td>\n",
       "    </tr>\n",
       "    <tr>\n",
       "      <th>1</th>\n",
       "      <td>Influence of Organic and Mineral Fertilizers o...</td>\n",
       "      <td>The intensive use of mineral (M) fertilizers m...</td>\n",
       "      <td>Does the article discuss agroecological practi...</td>\n",
       "      <td>1</td>\n",
       "    </tr>\n",
       "    <tr>\n",
       "      <th>2</th>\n",
       "      <td>Climate Change Mitigation Options in the Fores...</td>\n",
       "      <td>The Intergovernmental Panel on Climate Change ...</td>\n",
       "      <td>Does the article discuss agroecological practi...</td>\n",
       "      <td>1</td>\n",
       "    </tr>\n",
       "    <tr>\n",
       "      <th>3</th>\n",
       "      <td>Rye cover crop incorporation and high watertab...</td>\n",
       "      <td>Drainage and cultivation of peat soils almost ...</td>\n",
       "      <td>Does the article discuss agroecological practi...</td>\n",
       "      <td>1</td>\n",
       "    </tr>\n",
       "    <tr>\n",
       "      <th>4</th>\n",
       "      <td>Emerging Issues and Potential Opportunities in...</td>\n",
       "      <td>The rice-wheat cropping system (RWCS) is the b...</td>\n",
       "      <td>Does the article discuss agroecological practi...</td>\n",
       "      <td>1</td>\n",
       "    </tr>\n",
       "    <tr>\n",
       "      <th>...</th>\n",
       "      <td>...</td>\n",
       "      <td>...</td>\n",
       "      <td>...</td>\n",
       "      <td>...</td>\n",
       "    </tr>\n",
       "    <tr>\n",
       "      <th>1903</th>\n",
       "      <td>Crop-livestock integration provides opportunit...</td>\n",
       "      <td>CONTEXT: The Greater Mekong Subregion has been...</td>\n",
       "      <td>Does the article discuss the impact of methane...</td>\n",
       "      <td>1</td>\n",
       "    </tr>\n",
       "    <tr>\n",
       "      <th>1904</th>\n",
       "      <td>Pesticide Use and Associated Greenhouse Gas Em...</td>\n",
       "      <td>The production of synthetic pesticides is ener...</td>\n",
       "      <td>Does the article discuss the impact of methane...</td>\n",
       "      <td>0</td>\n",
       "    </tr>\n",
       "    <tr>\n",
       "      <th>1905</th>\n",
       "      <td>A Review: Soil Management, Sustainable Strateg...</td>\n",
       "      <td>Conservative and sustainable soil management i...</td>\n",
       "      <td>Does the article discuss the impact of methane...</td>\n",
       "      <td>0</td>\n",
       "    </tr>\n",
       "    <tr>\n",
       "      <th>1906</th>\n",
       "      <td>Agricultural waste recycling in horticultural ...</td>\n",
       "      <td>The vegetables supply chain of intensive farmi...</td>\n",
       "      <td>Does the article discuss the impact of methane...</td>\n",
       "      <td>0</td>\n",
       "    </tr>\n",
       "    <tr>\n",
       "      <th>1907</th>\n",
       "      <td>Herd parameters in organic and conventional da...</td>\n",
       "      <td>In the study on Climate effects and sustainabi...</td>\n",
       "      <td>Does the article discuss the impact of methane...</td>\n",
       "      <td>1</td>\n",
       "    </tr>\n",
       "  </tbody>\n",
       "</table>\n",
       "<p>1908 rows × 4 columns</p>\n",
       "</div>"
      ],
      "text/plain": [
       "                                                      t  \\\n",
       "0     Does carbon farming provide a cost-effective o...   \n",
       "1     Influence of Organic and Mineral Fertilizers o...   \n",
       "2     Climate Change Mitigation Options in the Fores...   \n",
       "3     Rye cover crop incorporation and high watertab...   \n",
       "4     Emerging Issues and Potential Opportunities in...   \n",
       "...                                                 ...   \n",
       "1903  Crop-livestock integration provides opportunit...   \n",
       "1904  Pesticide Use and Associated Greenhouse Gas Em...   \n",
       "1905  A Review: Soil Management, Sustainable Strateg...   \n",
       "1906  Agricultural waste recycling in horticultural ...   \n",
       "1907  Herd parameters in organic and conventional da...   \n",
       "\n",
       "                                                     ab  \\\n",
       "0     In this study, we apply a whole farm bioeconom...   \n",
       "1     The intensive use of mineral (M) fertilizers m...   \n",
       "2     The Intergovernmental Panel on Climate Change ...   \n",
       "3     Drainage and cultivation of peat soils almost ...   \n",
       "4     The rice-wheat cropping system (RWCS) is the b...   \n",
       "...                                                 ...   \n",
       "1903  CONTEXT: The Greater Mekong Subregion has been...   \n",
       "1904  The production of synthetic pesticides is ener...   \n",
       "1905  Conservative and sustainable soil management i...   \n",
       "1906  The vegetables supply chain of intensive farmi...   \n",
       "1907  In the study on Climate effects and sustainabi...   \n",
       "\n",
       "                                                      q  label  \n",
       "0     Does the article discuss agroecological practi...      1  \n",
       "1     Does the article discuss agroecological practi...      1  \n",
       "2     Does the article discuss agroecological practi...      1  \n",
       "3     Does the article discuss agroecological practi...      1  \n",
       "4     Does the article discuss agroecological practi...      1  \n",
       "...                                                 ...    ...  \n",
       "1903  Does the article discuss the impact of methane...      1  \n",
       "1904  Does the article discuss the impact of methane...      0  \n",
       "1905  Does the article discuss the impact of methane...      0  \n",
       "1906  Does the article discuss the impact of methane...      0  \n",
       "1907  Does the article discuss the impact of methane...      1  \n",
       "\n",
       "[1908 rows x 4 columns]"
      ]
     },
     "execution_count": 18,
     "metadata": {},
     "output_type": "execute_result"
    }
   ],
   "source": [
    "columns = \"Article Title  Abstract (AB)\".split(\"  \")\n",
    "recols = {\"Article Title\": \"t\", \"Abstract (AB)\": \"ab\"}\n",
    "i = 0\n",
    "o = chatgpt_responses_b[i][columns].rename(columns = recols)\n",
    "o[\"q\"] = bsq[i]\n",
    "o[\"label\"] = to_pred[f\"b{i+1}\"]\n",
    "o = o.reset_index().drop(columns=\"index\")\n",
    "for i in range(1, len(bsq)):\n",
    "    if i+1 not in [7]:\n",
    "        oi = chatgpt_responses_b[i][columns].rename(columns = recols)\n",
    "        oi[\"q\"] = bsq[i]\n",
    "        oi[\"label\"] = to_pred[f\"b{i+1}\"]\n",
    "        oi = oi.reset_index().drop(columns=\"index\")\n",
    "        o = pd.concat([o, oi], ignore_index=True)\n",
    "o"
   ]
  },
  {
   "cell_type": "code",
   "execution_count": 19,
   "id": "5542eeed",
   "metadata": {},
   "outputs": [
    {
     "data": {
      "text/plain": [
       "1    1291\n",
       "0     617\n",
       "Name: label, dtype: int64"
      ]
     },
     "execution_count": 19,
     "metadata": {},
     "output_type": "execute_result"
    }
   ],
   "source": [
    "o[\"label\"].value_counts()"
   ]
  },
  {
   "cell_type": "code",
   "execution_count": 20,
   "id": "79815af6",
   "metadata": {},
   "outputs": [],
   "source": [
    "o.to_excel(\"train_bsq_abstract_chatgpt_v2.xlsx\")"
   ]
  }
 ],
 "metadata": {
  "kernelspec": {
   "display_name": "Python 3 (ipykernel)",
   "language": "python",
   "name": "python3"
  },
  "language_info": {
   "codemirror_mode": {
    "name": "ipython",
    "version": 3
   },
   "file_extension": ".py",
   "mimetype": "text/x-python",
   "name": "python",
   "nbconvert_exporter": "python",
   "pygments_lexer": "ipython3",
   "version": "3.8.5"
  }
 },
 "nbformat": 4,
 "nbformat_minor": 5
}
