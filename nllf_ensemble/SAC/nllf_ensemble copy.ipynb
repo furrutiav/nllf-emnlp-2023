{
 "cells": [
  {
   "cell_type": "code",
   "execution_count": 1,
   "id": "b3fff90a",
   "metadata": {},
   "outputs": [],
   "source": [
    "import pandas as pd\n",
    "import pickle"
   ]
  },
  {
   "cell_type": "code",
   "execution_count": 3,
   "id": "aa03b05e",
   "metadata": {},
   "outputs": [
    {
     "data": {
      "text/plain": [
       "['nllf_v2_lf5.xlsx',\n",
       " 'nllf_v2_b2.xlsx',\n",
       " 'nllf_v2_exp26.xlsx',\n",
       " 'nllf_v2_b12_v1_v3.xlsx',\n",
       " 'nllf_v2_raw10.xlsx',\n",
       " 'nllf_v2_raw61.xlsx',\n",
       " 'nllf_v2_raw3.xlsx',\n",
       " 'nllf_v2_exp1_v1.xlsx',\n",
       " 'nllf_v2_exp1_v3_v1.xlsx',\n",
       " 'nllf_v2_raw66_v3.xlsx',\n",
       " 'nllf_v2_raw45_v1.xlsx',\n",
       " 'nllf_v2_b12_v2.xlsx',\n",
       " 'nllf_v2_raw45_v3.xlsx',\n",
       " 'nllf_v2_raw38.xlsx',\n",
       " 'nllf_v2_raw48.xlsx',\n",
       " 'nllf_v2_raw70_v2.xlsx',\n",
       " 'nllf_v2_exp5_v2.xlsx',\n",
       " 'nllf_v2_raw78.xlsx',\n",
       " 'nllf_v2_exp16_v1.xlsx',\n",
       " 'nllf_v2_b8_v2.xlsx',\n",
       " 'nllf_v2_raw71.xlsx',\n",
       " 'nllf_v2_lf6.xlsx',\n",
       " 'nllf_v2_raw21.xlsx',\n",
       " 'nllf_v2_lf18.xlsx',\n",
       " 'nllf_v2_raw51.xlsx',\n",
       " 'nllf_v2_exp11.xlsx',\n",
       " 'nllf_v2_exp1_v2.xlsx',\n",
       " 'nllf_v2_raw21_v3.xlsx',\n",
       " 'nllf_v2_raw41.xlsx',\n",
       " 'nllf_v2_b7.xlsx',\n",
       " 'nllf_v2_raw43.xlsx',\n",
       " 'nllf_v2_lf23.xlsx',\n",
       " 'nllf_v2_raw31_v1.xlsx',\n",
       " 'nllf_v2_b6_v1_v2.xlsx',\n",
       " 'nllf_v2_raw75.xlsx',\n",
       " 'nllf_v2_exp12.xlsx',\n",
       " 'nllf_v2_raw30.xlsx',\n",
       " 'nllf_v2_exp4_v2.xlsx',\n",
       " 'nllf_v2_b13_v2.xlsx',\n",
       " 'nllf_v2_raw70_v3.xlsx',\n",
       " 'nllf_v2_exp25.xlsx',\n",
       " 'nllf_v2_raw26_v3.xlsx',\n",
       " 'nllf_v2_exp22_v1.xlsx',\n",
       " 'nllf_v2_exp27_v1.xlsx',\n",
       " 'nllf_v2_exp21_v3.xlsx',\n",
       " 'nllf_v2_raw79.xlsx',\n",
       " 'nllf_v2_exp15.xlsx',\n",
       " 'nllf_v2_b2_v2.xlsx',\n",
       " 'nllf_v2_exp2.xlsx',\n",
       " 'nllf_v2_b4_v1.xlsx',\n",
       " 'nllf_v2_raw68.xlsx',\n",
       " 'nllf_v2_lf16.xlsx',\n",
       " 'nllf_v2_lf4.xlsx',\n",
       " 'nllf_v2_exp12_v2.xlsx',\n",
       " 'nllf_v2_lf7.xlsx',\n",
       " 'nllf_v2_b6_v1.xlsx',\n",
       " 'nllf_v2_raw47_v1.xlsx',\n",
       " 'nllf_v2_raw80.xlsx',\n",
       " 'nllf_v2_exp22.xlsx',\n",
       " 'nllf_v2_exp13.xlsx',\n",
       " 'nllf_v2_raw74_v3.xlsx',\n",
       " 'nllf_v2_raw62.xlsx',\n",
       " 'nllf_v2_raw6.xlsx',\n",
       " 'nllf_v2_exp5.xlsx',\n",
       " 'nllf_v2_b6.xlsx',\n",
       " 'nllf_v2_raw73_v2.xlsx',\n",
       " 'nllf_v2_b1_v3.xlsx',\n",
       " 'nllf_v2_b2_v1.xlsx',\n",
       " 'nllf_v2_exp6.xlsx',\n",
       " 'nllf_v2_b12_v3.xlsx',\n",
       " 'nllf_v2_raw77.xlsx',\n",
       " 'nllf_v2_raw49_v2.xlsx',\n",
       " 'nllf_v2_raw58.xlsx',\n",
       " 'nllf_v2_raw31_v2.xlsx',\n",
       " 'nllf_v2_raw57.xlsx',\n",
       " 'nllf_v2_raw25.xlsx',\n",
       " 'nllf_v2_raw26_v1.xlsx',\n",
       " 'nllf_v2_raw11.xlsx',\n",
       " 'nllf_v2_raw26.xlsx',\n",
       " 'nllf_v2_lf15.xlsx',\n",
       " 'nllf_v2_exp19_v1.xlsx',\n",
       " 'nllf_v2_raw69_v2.xlsx',\n",
       " 'nllf_v2_raw33.xlsx',\n",
       " 'nllf_v2_b9.xlsx',\n",
       " 'nllf_v2_raw1.xlsx',\n",
       " 'nllf_v2_raw70_v1.xlsx',\n",
       " 'nllf_v2_lf21.xlsx',\n",
       " 'nllf_v2_exp10_v3.xlsx',\n",
       " 'nllf_v2_exp4.xlsx',\n",
       " 'nllf_v2_exp1_v3_v2.xlsx',\n",
       " 'nllf_v2_raw27.xlsx',\n",
       " 'nllf_v2_raw36.xlsx',\n",
       " 'nllf_v2_lf24.xlsx',\n",
       " 'nllf_v2_raw63_v1.xlsx',\n",
       " 'nllf_v2_exp1_v1_v1.xlsx',\n",
       " 'nllf_v2_raw31.xlsx',\n",
       " 'nllf_v2_b5.xlsx',\n",
       " 'nllf_v2_exp33.xlsx',\n",
       " 'nllf_v2_b1_v1.xlsx',\n",
       " 'nllf_v2_lf10.xlsx',\n",
       " 'nllf_v2_raw21_v1.xlsx',\n",
       " 'nllf_v2_b8_v3.xlsx',\n",
       " 'nllf_v2_b9_v2.xlsx',\n",
       " 'nllf_v2_b9_v1.xlsx',\n",
       " 'nllf_v2_lf1.xlsx',\n",
       " 'nllf_v2_exp4_v1.xlsx',\n",
       " 'nllf_v2_exp22_v3.xlsx',\n",
       " 'nllf_v2_exp12_v1.xlsx',\n",
       " 'nllf_v2_raw48_v2.xlsx',\n",
       " 'nllf_v2_exp30.xlsx',\n",
       " 'nllf_v2_b6_v1_v1.xlsx',\n",
       " 'nllf_v2_raw7.xlsx',\n",
       " 'nllf_v2_b6_v2.xlsx',\n",
       " 'nllf_v2_exp9.xlsx',\n",
       " 'nllf_v2_raw30_v3.xlsx',\n",
       " 'nllf_v2_raw33_v1.xlsx',\n",
       " 'nllf_v2_exp1_v1_v3.xlsx',\n",
       " 'nllf_v2_exp17.xlsx',\n",
       " 'nllf_v2_exp33_v2.xlsx',\n",
       " 'nllf_v2_lf13.xlsx',\n",
       " 'nllf_v2_raw53.xlsx',\n",
       " 'nllf_v2_exp21_v1.xlsx',\n",
       " 'nllf_v2_exp19.xlsx',\n",
       " 'nllf_v2_lf14.xlsx',\n",
       " 'nllf_v2_raw45_v2.xlsx',\n",
       " 'nllf_v2_exp5_v3.xlsx',\n",
       " 'nllf_v2_raw2.xlsx',\n",
       " 'nllf_v2_raw63_v2.xlsx',\n",
       " 'nllf_v2_raw17.xlsx',\n",
       " 'nllf_v2_lf8.xlsx',\n",
       " 'nllf_v2_raw63_v3.xlsx',\n",
       " 'nllf_v2_raw48_v3.xlsx',\n",
       " 'nllf_v2_lf22.xlsx',\n",
       " 'nllf_v2_exp16_v3.xlsx',\n",
       " 'nllf_v2_raw67.xlsx',\n",
       " 'nllf_v2_raw76_v3.xlsx',\n",
       " 'nllf_v2_raw59.xlsx',\n",
       " 'nllf_v2_raw54.xlsx',\n",
       " 'nllf_v2_exp36.xlsx',\n",
       " 'nllf_v2_exp1_v3.xlsx',\n",
       " 'nllf_v2_exp16.xlsx',\n",
       " 'nllf_v2_raw47.xlsx',\n",
       " 'nllf_v2_b12_v1_v2.xlsx',\n",
       " 'nllf_v2_raw45.xlsx',\n",
       " 'nllf_v2_exp19_v2.xlsx',\n",
       " 'nllf_v2_raw22.xlsx',\n",
       " 'nllf_v2_raw74_v2.xlsx',\n",
       " 'nllf_v2_exp33_v1.xlsx',\n",
       " 'nllf_v2_raw64.xlsx',\n",
       " 'nllf_v2_exp8.xlsx',\n",
       " 'nllf_v2_raw32.xlsx',\n",
       " 'nllf_v2_raw21_v2.xlsx',\n",
       " 'nllf_v2_exp34.xlsx',\n",
       " 'nllf_v2_raw33_v2.xlsx',\n",
       " 'nllf_v2_lf11.xlsx',\n",
       " 'nllf_v2_exp1_v1_v2.xlsx',\n",
       " 'nllf_v2_exp22_v2_v3.xlsx',\n",
       " 'nllf_v2_exp28.xlsx',\n",
       " 'nllf_v2_raw4.xlsx',\n",
       " 'nllf_v2_b12_v1_v1.xlsx',\n",
       " 'nllf_v2_b6_v1_v3.xlsx',\n",
       " 'nllf_v2_b10.xlsx',\n",
       " 'nllf_v2_b8.xlsx',\n",
       " 'nllf_v2_exp14_v1.xlsx',\n",
       " 'nllf_v2_exp1_v3_v3.xlsx',\n",
       " 'nllf_v2_raw48_v1.xlsx',\n",
       " 'nllf_v2_exp24.xlsx',\n",
       " 'nllf_v2_exp1.xlsx',\n",
       " 'nllf_v2_b6_v3.xlsx',\n",
       " 'nllf_v2_exp29.xlsx',\n",
       " 'nllf_v2_raw74.xlsx',\n",
       " 'nllf_v2_exp10_v2.xlsx',\n",
       " 'nllf_v2_b4.xlsx',\n",
       " 'nllf_v2_exp2_v1.xlsx',\n",
       " 'nllf_v2_raw29.xlsx',\n",
       " 'nllf_v2_raw12.xlsx',\n",
       " 'nllf_v2_exp7.xlsx',\n",
       " 'nllf_v2_raw40.xlsx',\n",
       " 'nllf_v2_raw47_v2.xlsx',\n",
       " 'nllf_v2_b4_v3.xlsx',\n",
       " 'nllf_v2_raw50.xlsx',\n",
       " 'nllf_v2_raw76_v1.xlsx',\n",
       " 'nllf_v2_raw66_v1.xlsx',\n",
       " 'nllf_v2_raw5.xlsx',\n",
       " 'nllf_v2_raw35.xlsx',\n",
       " 'nllf_v2_raw31_v3.xlsx',\n",
       " 'nllf_v2_raw30_v2.xlsx',\n",
       " 'nllf_v2_raw14.xlsx',\n",
       " 'nllf_v2_exp10_v1.xlsx',\n",
       " 'nllf_v2_exp5_v1.xlsx',\n",
       " 'nllf_v2_b1.xlsx',\n",
       " 'nllf_v2_b9_v3.xlsx',\n",
       " 'nllf_v2_exp2_v3.xlsx',\n",
       " 'nllf_v2_raw56.xlsx',\n",
       " 'nllf_v2_raw73.xlsx',\n",
       " 'nllf_v2_b13_v3.xlsx',\n",
       " 'nllf_v2_exp2_v2.xlsx',\n",
       " 'nllf_v2_exp17_v3.xlsx',\n",
       " 'nllf_v2_exp12_v3.xlsx',\n",
       " 'nllf_v2_raw76.xlsx',\n",
       " 'nllf_v2_raw81.xlsx',\n",
       " 'nllf_v2_exp22_v2_v1.xlsx',\n",
       " 'nllf_v2_lf3.xlsx',\n",
       " 'nllf_v2_exp35.xlsx',\n",
       " 'nllf_v2_exp22_v2.xlsx',\n",
       " 'nllf_v2_exp32.xlsx',\n",
       " 'nllf_v2_raw47_v3.xlsx',\n",
       " 'nllf_v2_raw69_v1.xlsx',\n",
       " 'nllf_v2_exp33_v3.xlsx',\n",
       " 'nllf_v2_raw44.xlsx',\n",
       " 'nllf_v2_raw18.xlsx',\n",
       " 'nllf_v2_raw60.xlsx',\n",
       " 'nllf_v2_raw34.xlsx',\n",
       " 'nllf_v2_raw52.xlsx',\n",
       " 'nllf_v2_raw37.xlsx',\n",
       " 'nllf_v2_b3.xlsx',\n",
       " 'nllf_v2_exp14_v2.xlsx',\n",
       " 'nllf_v2_raw72.xlsx',\n",
       " 'nllf_v2_exp23.xlsx',\n",
       " 'nllf_v2_b12.xlsx',\n",
       " 'nllf_v2_exp27_v2.xlsx',\n",
       " 'nllf_v2_raw9.xlsx',\n",
       " 'nllf_v2_raw24.xlsx',\n",
       " 'nllf_v2_raw33_v3.xlsx',\n",
       " 'nllf_v2_lf19.xlsx',\n",
       " 'nllf_v2_raw15.xlsx',\n",
       " 'nllf_v2_b11.xlsx',\n",
       " 'nllf_v2_lf17.xlsx',\n",
       " 'nllf_v2_raw23.xlsx',\n",
       " 'nllf_v2_exp14_v3.xlsx',\n",
       " 'nllf_v2_lf9.xlsx',\n",
       " 'nllf_v2_raw69_v3.xlsx',\n",
       " 'nllf_v2_raw73_v1.xlsx',\n",
       " 'nllf_v2_exp14.xlsx',\n",
       " 'nllf_v2_exp19_v3.xlsx',\n",
       " 'nllf_v2_raw66.xlsx',\n",
       " 'nllf_v2_raw70.xlsx',\n",
       " 'nllf_v2_raw42.xlsx',\n",
       " 'nllf_v2_b2_v3.xlsx',\n",
       " 'nllf_v2_raw76_v2.xlsx',\n",
       " 'nllf_v2_exp17_v1.xlsx',\n",
       " 'nllf_v2_raw65.xlsx',\n",
       " 'nllf_v2_raw66_v2.xlsx',\n",
       " 'nllf_v2_raw19.xlsx',\n",
       " 'nllf_v2_raw73_v3.xlsx',\n",
       " 'nllf_v2_exp20.xlsx',\n",
       " 'nllf_v2_exp17_v2.xlsx',\n",
       " 'nllf_v2_exp16_v2.xlsx',\n",
       " 'nllf_v2_exp31.xlsx',\n",
       " 'nllf_v2_raw49.xlsx',\n",
       " 'nllf_v2_lf20.xlsx',\n",
       " 'nllf_v2_raw55.xlsx',\n",
       " 'nllf_v2_raw63.xlsx',\n",
       " 'nllf_v2_exp4_v3.xlsx',\n",
       " 'nllf_v2_b1_v2.xlsx',\n",
       " 'nllf_v2_raw28.xlsx',\n",
       " 'nllf_v2_raw26_v2.xlsx',\n",
       " 'nllf_v2_b12_v1.xlsx',\n",
       " 'nllf_v2_exp3.xlsx',\n",
       " 'nllf_v2_raw20.xlsx',\n",
       " 'nllf_v2_b4_v2.xlsx',\n",
       " 'nllf_v2_raw8.xlsx',\n",
       " 'nllf_v2_lf12.xlsx',\n",
       " 'nllf_v2_raw69.xlsx',\n",
       " 'nllf_v2_raw74_v1.xlsx',\n",
       " 'nllf_v2_exp27.xlsx',\n",
       " 'nllf_v2_b13_v1.xlsx',\n",
       " 'nllf_v2_lf2.xlsx',\n",
       " 'nllf_v2_b8_v1.xlsx',\n",
       " 'nllf_v2_raw30_v1.xlsx',\n",
       " 'nllf_v2_raw46.xlsx',\n",
       " 'nllf_v2_exp10.xlsx',\n",
       " 'nllf_v2_lf25.xlsx',\n",
       " 'nllf_v2_raw16.xlsx',\n",
       " 'nllf_v2_raw49_v1.xlsx',\n",
       " 'nllf_v2_exp21.xlsx',\n",
       " 'nllf_v2_exp22_v2_v2.xlsx',\n",
       " 'nllf_v2_raw49_v3.xlsx',\n",
       " 'nllf_v2_exp27_v3.xlsx',\n",
       " 'nllf_v2_raw13.xlsx',\n",
       " 'nllf_v2_exp18.xlsx',\n",
       " 'nllf_v2_b13.xlsx',\n",
       " 'nllf_v2_raw39.xlsx',\n",
       " 'nllf_v2_exp21_v2.xlsx']"
      ]
     },
     "execution_count": 3,
     "metadata": {},
     "output_type": "execute_result"
    }
   ],
   "source": [
    "import os\n",
    "file_names = [] \n",
    "for file_name in os.listdir(\"/home/X/abstracts/\"):\n",
    "    if file_name.startswith(\"nllf_v2\") and \".xlsx\" in file_name:\n",
    "        file_names.append(file_name)\n",
    "file_names"
   ]
  },
  {
   "cell_type": "code",
   "execution_count": 4,
   "id": "da8062d2",
   "metadata": {},
   "outputs": [],
   "source": [
    "data = pd.read_excel(\"First_2000_abstract_clean.xlsx\", index_col=0).reset_index().drop(columns=\"index\")"
   ]
  },
  {
   "cell_type": "code",
   "execution_count": 6,
   "id": "3e354b02",
   "metadata": {},
   "outputs": [
    {
     "name": "stdout",
     "output_type": "stream",
     "text": [
      "lf5\n",
      "b2\n",
      "exp26\n",
      "b12_v1_v3\n",
      "raw10\n",
      "raw61\n",
      "raw3\n",
      "exp1_v1\n",
      "exp1_v3_v1\n",
      "raw66_v3\n",
      "raw45_v1\n",
      "b12_v2\n",
      "raw45_v3\n",
      "raw38\n",
      "raw48\n",
      "raw70_v2\n",
      "exp5_v2\n",
      "raw78\n",
      "exp16_v1\n",
      "b8_v2\n",
      "raw71\n",
      "lf6\n",
      "raw21\n",
      "lf18\n",
      "raw51\n",
      "exp11\n",
      "exp1_v2\n",
      "raw21_v3\n",
      "raw41\n",
      "b7\n",
      "raw43\n",
      "lf23\n",
      "raw31_v1\n",
      "b6_v1_v2\n",
      "raw75\n",
      "exp12\n",
      "raw30\n",
      "exp4_v2\n",
      "b13_v2\n",
      "raw70_v3\n",
      "exp25\n",
      "raw26_v3\n",
      "exp22_v1\n",
      "exp27_v1\n",
      "exp21_v3\n",
      "raw79\n",
      "exp15\n",
      "b2_v2\n",
      "exp2\n",
      "b4_v1\n"
     ]
    },
    {
     "name": "stderr",
     "output_type": "stream",
     "text": [
      "/tmp/ipykernel_4082266/3455397725.py:7: PerformanceWarning: DataFrame is highly fragmented.  This is usually the result of calling `frame.insert` many times, which has poor performance.  Consider joining all columns at once using pd.concat(axis=1) instead. To get a de-fragmented frame, use `newframe = frame.copy()`\n",
      "  nllf[f\"{c}(Y)\"] = o[\"chatgpt_label\"].apply(lambda x: float(str(x)[1:-1].split()[1]))\n",
      "/tmp/ipykernel_4082266/3455397725.py:6: PerformanceWarning: DataFrame is highly fragmented.  This is usually the result of calling `frame.insert` many times, which has poor performance.  Consider joining all columns at once using pd.concat(axis=1) instead. To get a de-fragmented frame, use `newframe = frame.copy()`\n",
      "  nllf[f\"{c}(N)\"] = o[\"chatgpt_label\"].apply(lambda x: float(str(x)[1:-1].split()[0]))\n",
      "/tmp/ipykernel_4082266/3455397725.py:7: PerformanceWarning: DataFrame is highly fragmented.  This is usually the result of calling `frame.insert` many times, which has poor performance.  Consider joining all columns at once using pd.concat(axis=1) instead. To get a de-fragmented frame, use `newframe = frame.copy()`\n",
      "  nllf[f\"{c}(Y)\"] = o[\"chatgpt_label\"].apply(lambda x: float(str(x)[1:-1].split()[1]))\n"
     ]
    },
    {
     "name": "stdout",
     "output_type": "stream",
     "text": [
      "raw68\n",
      "lf16\n"
     ]
    },
    {
     "name": "stderr",
     "output_type": "stream",
     "text": [
      "/tmp/ipykernel_4082266/3455397725.py:6: PerformanceWarning: DataFrame is highly fragmented.  This is usually the result of calling `frame.insert` many times, which has poor performance.  Consider joining all columns at once using pd.concat(axis=1) instead. To get a de-fragmented frame, use `newframe = frame.copy()`\n",
      "  nllf[f\"{c}(N)\"] = o[\"chatgpt_label\"].apply(lambda x: float(str(x)[1:-1].split()[0]))\n",
      "/tmp/ipykernel_4082266/3455397725.py:7: PerformanceWarning: DataFrame is highly fragmented.  This is usually the result of calling `frame.insert` many times, which has poor performance.  Consider joining all columns at once using pd.concat(axis=1) instead. To get a de-fragmented frame, use `newframe = frame.copy()`\n",
      "  nllf[f\"{c}(Y)\"] = o[\"chatgpt_label\"].apply(lambda x: float(str(x)[1:-1].split()[1]))\n",
      "/tmp/ipykernel_4082266/3455397725.py:6: PerformanceWarning: DataFrame is highly fragmented.  This is usually the result of calling `frame.insert` many times, which has poor performance.  Consider joining all columns at once using pd.concat(axis=1) instead. To get a de-fragmented frame, use `newframe = frame.copy()`\n",
      "  nllf[f\"{c}(N)\"] = o[\"chatgpt_label\"].apply(lambda x: float(str(x)[1:-1].split()[0]))\n",
      "/tmp/ipykernel_4082266/3455397725.py:7: PerformanceWarning: DataFrame is highly fragmented.  This is usually the result of calling `frame.insert` many times, which has poor performance.  Consider joining all columns at once using pd.concat(axis=1) instead. To get a de-fragmented frame, use `newframe = frame.copy()`\n",
      "  nllf[f\"{c}(Y)\"] = o[\"chatgpt_label\"].apply(lambda x: float(str(x)[1:-1].split()[1]))\n"
     ]
    },
    {
     "name": "stdout",
     "output_type": "stream",
     "text": [
      "lf4\n",
      "exp12_v2\n"
     ]
    },
    {
     "name": "stderr",
     "output_type": "stream",
     "text": [
      "/tmp/ipykernel_4082266/3455397725.py:6: PerformanceWarning: DataFrame is highly fragmented.  This is usually the result of calling `frame.insert` many times, which has poor performance.  Consider joining all columns at once using pd.concat(axis=1) instead. To get a de-fragmented frame, use `newframe = frame.copy()`\n",
      "  nllf[f\"{c}(N)\"] = o[\"chatgpt_label\"].apply(lambda x: float(str(x)[1:-1].split()[0]))\n",
      "/tmp/ipykernel_4082266/3455397725.py:7: PerformanceWarning: DataFrame is highly fragmented.  This is usually the result of calling `frame.insert` many times, which has poor performance.  Consider joining all columns at once using pd.concat(axis=1) instead. To get a de-fragmented frame, use `newframe = frame.copy()`\n",
      "  nllf[f\"{c}(Y)\"] = o[\"chatgpt_label\"].apply(lambda x: float(str(x)[1:-1].split()[1]))\n",
      "/tmp/ipykernel_4082266/3455397725.py:6: PerformanceWarning: DataFrame is highly fragmented.  This is usually the result of calling `frame.insert` many times, which has poor performance.  Consider joining all columns at once using pd.concat(axis=1) instead. To get a de-fragmented frame, use `newframe = frame.copy()`\n",
      "  nllf[f\"{c}(N)\"] = o[\"chatgpt_label\"].apply(lambda x: float(str(x)[1:-1].split()[0]))\n",
      "/tmp/ipykernel_4082266/3455397725.py:7: PerformanceWarning: DataFrame is highly fragmented.  This is usually the result of calling `frame.insert` many times, which has poor performance.  Consider joining all columns at once using pd.concat(axis=1) instead. To get a de-fragmented frame, use `newframe = frame.copy()`\n",
      "  nllf[f\"{c}(Y)\"] = o[\"chatgpt_label\"].apply(lambda x: float(str(x)[1:-1].split()[1]))\n"
     ]
    },
    {
     "name": "stdout",
     "output_type": "stream",
     "text": [
      "lf7\n",
      "b6_v1\n"
     ]
    },
    {
     "name": "stderr",
     "output_type": "stream",
     "text": [
      "/tmp/ipykernel_4082266/3455397725.py:6: PerformanceWarning: DataFrame is highly fragmented.  This is usually the result of calling `frame.insert` many times, which has poor performance.  Consider joining all columns at once using pd.concat(axis=1) instead. To get a de-fragmented frame, use `newframe = frame.copy()`\n",
      "  nllf[f\"{c}(N)\"] = o[\"chatgpt_label\"].apply(lambda x: float(str(x)[1:-1].split()[0]))\n",
      "/tmp/ipykernel_4082266/3455397725.py:7: PerformanceWarning: DataFrame is highly fragmented.  This is usually the result of calling `frame.insert` many times, which has poor performance.  Consider joining all columns at once using pd.concat(axis=1) instead. To get a de-fragmented frame, use `newframe = frame.copy()`\n",
      "  nllf[f\"{c}(Y)\"] = o[\"chatgpt_label\"].apply(lambda x: float(str(x)[1:-1].split()[1]))\n",
      "/tmp/ipykernel_4082266/3455397725.py:6: PerformanceWarning: DataFrame is highly fragmented.  This is usually the result of calling `frame.insert` many times, which has poor performance.  Consider joining all columns at once using pd.concat(axis=1) instead. To get a de-fragmented frame, use `newframe = frame.copy()`\n",
      "  nllf[f\"{c}(N)\"] = o[\"chatgpt_label\"].apply(lambda x: float(str(x)[1:-1].split()[0]))\n",
      "/tmp/ipykernel_4082266/3455397725.py:7: PerformanceWarning: DataFrame is highly fragmented.  This is usually the result of calling `frame.insert` many times, which has poor performance.  Consider joining all columns at once using pd.concat(axis=1) instead. To get a de-fragmented frame, use `newframe = frame.copy()`\n",
      "  nllf[f\"{c}(Y)\"] = o[\"chatgpt_label\"].apply(lambda x: float(str(x)[1:-1].split()[1]))\n"
     ]
    },
    {
     "name": "stdout",
     "output_type": "stream",
     "text": [
      "raw47_v1\n",
      "raw80\n"
     ]
    },
    {
     "name": "stderr",
     "output_type": "stream",
     "text": [
      "/tmp/ipykernel_4082266/3455397725.py:6: PerformanceWarning: DataFrame is highly fragmented.  This is usually the result of calling `frame.insert` many times, which has poor performance.  Consider joining all columns at once using pd.concat(axis=1) instead. To get a de-fragmented frame, use `newframe = frame.copy()`\n",
      "  nllf[f\"{c}(N)\"] = o[\"chatgpt_label\"].apply(lambda x: float(str(x)[1:-1].split()[0]))\n",
      "/tmp/ipykernel_4082266/3455397725.py:7: PerformanceWarning: DataFrame is highly fragmented.  This is usually the result of calling `frame.insert` many times, which has poor performance.  Consider joining all columns at once using pd.concat(axis=1) instead. To get a de-fragmented frame, use `newframe = frame.copy()`\n",
      "  nllf[f\"{c}(Y)\"] = o[\"chatgpt_label\"].apply(lambda x: float(str(x)[1:-1].split()[1]))\n",
      "/tmp/ipykernel_4082266/3455397725.py:6: PerformanceWarning: DataFrame is highly fragmented.  This is usually the result of calling `frame.insert` many times, which has poor performance.  Consider joining all columns at once using pd.concat(axis=1) instead. To get a de-fragmented frame, use `newframe = frame.copy()`\n",
      "  nllf[f\"{c}(N)\"] = o[\"chatgpt_label\"].apply(lambda x: float(str(x)[1:-1].split()[0]))\n",
      "/tmp/ipykernel_4082266/3455397725.py:7: PerformanceWarning: DataFrame is highly fragmented.  This is usually the result of calling `frame.insert` many times, which has poor performance.  Consider joining all columns at once using pd.concat(axis=1) instead. To get a de-fragmented frame, use `newframe = frame.copy()`\n",
      "  nllf[f\"{c}(Y)\"] = o[\"chatgpt_label\"].apply(lambda x: float(str(x)[1:-1].split()[1]))\n"
     ]
    },
    {
     "name": "stdout",
     "output_type": "stream",
     "text": [
      "exp22\n",
      "exp13\n"
     ]
    },
    {
     "name": "stderr",
     "output_type": "stream",
     "text": [
      "/tmp/ipykernel_4082266/3455397725.py:6: PerformanceWarning: DataFrame is highly fragmented.  This is usually the result of calling `frame.insert` many times, which has poor performance.  Consider joining all columns at once using pd.concat(axis=1) instead. To get a de-fragmented frame, use `newframe = frame.copy()`\n",
      "  nllf[f\"{c}(N)\"] = o[\"chatgpt_label\"].apply(lambda x: float(str(x)[1:-1].split()[0]))\n",
      "/tmp/ipykernel_4082266/3455397725.py:7: PerformanceWarning: DataFrame is highly fragmented.  This is usually the result of calling `frame.insert` many times, which has poor performance.  Consider joining all columns at once using pd.concat(axis=1) instead. To get a de-fragmented frame, use `newframe = frame.copy()`\n",
      "  nllf[f\"{c}(Y)\"] = o[\"chatgpt_label\"].apply(lambda x: float(str(x)[1:-1].split()[1]))\n",
      "/tmp/ipykernel_4082266/3455397725.py:6: PerformanceWarning: DataFrame is highly fragmented.  This is usually the result of calling `frame.insert` many times, which has poor performance.  Consider joining all columns at once using pd.concat(axis=1) instead. To get a de-fragmented frame, use `newframe = frame.copy()`\n",
      "  nllf[f\"{c}(N)\"] = o[\"chatgpt_label\"].apply(lambda x: float(str(x)[1:-1].split()[0]))\n",
      "/tmp/ipykernel_4082266/3455397725.py:7: PerformanceWarning: DataFrame is highly fragmented.  This is usually the result of calling `frame.insert` many times, which has poor performance.  Consider joining all columns at once using pd.concat(axis=1) instead. To get a de-fragmented frame, use `newframe = frame.copy()`\n",
      "  nllf[f\"{c}(Y)\"] = o[\"chatgpt_label\"].apply(lambda x: float(str(x)[1:-1].split()[1]))\n"
     ]
    },
    {
     "name": "stdout",
     "output_type": "stream",
     "text": [
      "raw74_v3\n",
      "raw62\n"
     ]
    },
    {
     "name": "stderr",
     "output_type": "stream",
     "text": [
      "/tmp/ipykernel_4082266/3455397725.py:6: PerformanceWarning: DataFrame is highly fragmented.  This is usually the result of calling `frame.insert` many times, which has poor performance.  Consider joining all columns at once using pd.concat(axis=1) instead. To get a de-fragmented frame, use `newframe = frame.copy()`\n",
      "  nllf[f\"{c}(N)\"] = o[\"chatgpt_label\"].apply(lambda x: float(str(x)[1:-1].split()[0]))\n",
      "/tmp/ipykernel_4082266/3455397725.py:7: PerformanceWarning: DataFrame is highly fragmented.  This is usually the result of calling `frame.insert` many times, which has poor performance.  Consider joining all columns at once using pd.concat(axis=1) instead. To get a de-fragmented frame, use `newframe = frame.copy()`\n",
      "  nllf[f\"{c}(Y)\"] = o[\"chatgpt_label\"].apply(lambda x: float(str(x)[1:-1].split()[1]))\n",
      "/tmp/ipykernel_4082266/3455397725.py:6: PerformanceWarning: DataFrame is highly fragmented.  This is usually the result of calling `frame.insert` many times, which has poor performance.  Consider joining all columns at once using pd.concat(axis=1) instead. To get a de-fragmented frame, use `newframe = frame.copy()`\n",
      "  nllf[f\"{c}(N)\"] = o[\"chatgpt_label\"].apply(lambda x: float(str(x)[1:-1].split()[0]))\n",
      "/tmp/ipykernel_4082266/3455397725.py:7: PerformanceWarning: DataFrame is highly fragmented.  This is usually the result of calling `frame.insert` many times, which has poor performance.  Consider joining all columns at once using pd.concat(axis=1) instead. To get a de-fragmented frame, use `newframe = frame.copy()`\n",
      "  nllf[f\"{c}(Y)\"] = o[\"chatgpt_label\"].apply(lambda x: float(str(x)[1:-1].split()[1]))\n"
     ]
    },
    {
     "name": "stdout",
     "output_type": "stream",
     "text": [
      "raw6\n",
      "exp5\n"
     ]
    },
    {
     "name": "stderr",
     "output_type": "stream",
     "text": [
      "/tmp/ipykernel_4082266/3455397725.py:6: PerformanceWarning: DataFrame is highly fragmented.  This is usually the result of calling `frame.insert` many times, which has poor performance.  Consider joining all columns at once using pd.concat(axis=1) instead. To get a de-fragmented frame, use `newframe = frame.copy()`\n",
      "  nllf[f\"{c}(N)\"] = o[\"chatgpt_label\"].apply(lambda x: float(str(x)[1:-1].split()[0]))\n",
      "/tmp/ipykernel_4082266/3455397725.py:7: PerformanceWarning: DataFrame is highly fragmented.  This is usually the result of calling `frame.insert` many times, which has poor performance.  Consider joining all columns at once using pd.concat(axis=1) instead. To get a de-fragmented frame, use `newframe = frame.copy()`\n",
      "  nllf[f\"{c}(Y)\"] = o[\"chatgpt_label\"].apply(lambda x: float(str(x)[1:-1].split()[1]))\n",
      "/tmp/ipykernel_4082266/3455397725.py:6: PerformanceWarning: DataFrame is highly fragmented.  This is usually the result of calling `frame.insert` many times, which has poor performance.  Consider joining all columns at once using pd.concat(axis=1) instead. To get a de-fragmented frame, use `newframe = frame.copy()`\n",
      "  nllf[f\"{c}(N)\"] = o[\"chatgpt_label\"].apply(lambda x: float(str(x)[1:-1].split()[0]))\n",
      "/tmp/ipykernel_4082266/3455397725.py:7: PerformanceWarning: DataFrame is highly fragmented.  This is usually the result of calling `frame.insert` many times, which has poor performance.  Consider joining all columns at once using pd.concat(axis=1) instead. To get a de-fragmented frame, use `newframe = frame.copy()`\n",
      "  nllf[f\"{c}(Y)\"] = o[\"chatgpt_label\"].apply(lambda x: float(str(x)[1:-1].split()[1]))\n"
     ]
    },
    {
     "name": "stdout",
     "output_type": "stream",
     "text": [
      "b6\n",
      "raw73_v2\n"
     ]
    },
    {
     "name": "stderr",
     "output_type": "stream",
     "text": [
      "/tmp/ipykernel_4082266/3455397725.py:6: PerformanceWarning: DataFrame is highly fragmented.  This is usually the result of calling `frame.insert` many times, which has poor performance.  Consider joining all columns at once using pd.concat(axis=1) instead. To get a de-fragmented frame, use `newframe = frame.copy()`\n",
      "  nllf[f\"{c}(N)\"] = o[\"chatgpt_label\"].apply(lambda x: float(str(x)[1:-1].split()[0]))\n",
      "/tmp/ipykernel_4082266/3455397725.py:7: PerformanceWarning: DataFrame is highly fragmented.  This is usually the result of calling `frame.insert` many times, which has poor performance.  Consider joining all columns at once using pd.concat(axis=1) instead. To get a de-fragmented frame, use `newframe = frame.copy()`\n",
      "  nllf[f\"{c}(Y)\"] = o[\"chatgpt_label\"].apply(lambda x: float(str(x)[1:-1].split()[1]))\n",
      "/tmp/ipykernel_4082266/3455397725.py:6: PerformanceWarning: DataFrame is highly fragmented.  This is usually the result of calling `frame.insert` many times, which has poor performance.  Consider joining all columns at once using pd.concat(axis=1) instead. To get a de-fragmented frame, use `newframe = frame.copy()`\n",
      "  nllf[f\"{c}(N)\"] = o[\"chatgpt_label\"].apply(lambda x: float(str(x)[1:-1].split()[0]))\n",
      "/tmp/ipykernel_4082266/3455397725.py:7: PerformanceWarning: DataFrame is highly fragmented.  This is usually the result of calling `frame.insert` many times, which has poor performance.  Consider joining all columns at once using pd.concat(axis=1) instead. To get a de-fragmented frame, use `newframe = frame.copy()`\n",
      "  nllf[f\"{c}(Y)\"] = o[\"chatgpt_label\"].apply(lambda x: float(str(x)[1:-1].split()[1]))\n"
     ]
    },
    {
     "name": "stdout",
     "output_type": "stream",
     "text": [
      "b1_v3\n",
      "b2_v1\n"
     ]
    },
    {
     "name": "stderr",
     "output_type": "stream",
     "text": [
      "/tmp/ipykernel_4082266/3455397725.py:6: PerformanceWarning: DataFrame is highly fragmented.  This is usually the result of calling `frame.insert` many times, which has poor performance.  Consider joining all columns at once using pd.concat(axis=1) instead. To get a de-fragmented frame, use `newframe = frame.copy()`\n",
      "  nllf[f\"{c}(N)\"] = o[\"chatgpt_label\"].apply(lambda x: float(str(x)[1:-1].split()[0]))\n",
      "/tmp/ipykernel_4082266/3455397725.py:7: PerformanceWarning: DataFrame is highly fragmented.  This is usually the result of calling `frame.insert` many times, which has poor performance.  Consider joining all columns at once using pd.concat(axis=1) instead. To get a de-fragmented frame, use `newframe = frame.copy()`\n",
      "  nllf[f\"{c}(Y)\"] = o[\"chatgpt_label\"].apply(lambda x: float(str(x)[1:-1].split()[1]))\n",
      "/tmp/ipykernel_4082266/3455397725.py:6: PerformanceWarning: DataFrame is highly fragmented.  This is usually the result of calling `frame.insert` many times, which has poor performance.  Consider joining all columns at once using pd.concat(axis=1) instead. To get a de-fragmented frame, use `newframe = frame.copy()`\n",
      "  nllf[f\"{c}(N)\"] = o[\"chatgpt_label\"].apply(lambda x: float(str(x)[1:-1].split()[0]))\n",
      "/tmp/ipykernel_4082266/3455397725.py:7: PerformanceWarning: DataFrame is highly fragmented.  This is usually the result of calling `frame.insert` many times, which has poor performance.  Consider joining all columns at once using pd.concat(axis=1) instead. To get a de-fragmented frame, use `newframe = frame.copy()`\n",
      "  nllf[f\"{c}(Y)\"] = o[\"chatgpt_label\"].apply(lambda x: float(str(x)[1:-1].split()[1]))\n"
     ]
    },
    {
     "name": "stdout",
     "output_type": "stream",
     "text": [
      "exp6\n",
      "b12_v3\n"
     ]
    },
    {
     "name": "stderr",
     "output_type": "stream",
     "text": [
      "/tmp/ipykernel_4082266/3455397725.py:6: PerformanceWarning: DataFrame is highly fragmented.  This is usually the result of calling `frame.insert` many times, which has poor performance.  Consider joining all columns at once using pd.concat(axis=1) instead. To get a de-fragmented frame, use `newframe = frame.copy()`\n",
      "  nllf[f\"{c}(N)\"] = o[\"chatgpt_label\"].apply(lambda x: float(str(x)[1:-1].split()[0]))\n",
      "/tmp/ipykernel_4082266/3455397725.py:7: PerformanceWarning: DataFrame is highly fragmented.  This is usually the result of calling `frame.insert` many times, which has poor performance.  Consider joining all columns at once using pd.concat(axis=1) instead. To get a de-fragmented frame, use `newframe = frame.copy()`\n",
      "  nllf[f\"{c}(Y)\"] = o[\"chatgpt_label\"].apply(lambda x: float(str(x)[1:-1].split()[1]))\n",
      "/tmp/ipykernel_4082266/3455397725.py:6: PerformanceWarning: DataFrame is highly fragmented.  This is usually the result of calling `frame.insert` many times, which has poor performance.  Consider joining all columns at once using pd.concat(axis=1) instead. To get a de-fragmented frame, use `newframe = frame.copy()`\n",
      "  nllf[f\"{c}(N)\"] = o[\"chatgpt_label\"].apply(lambda x: float(str(x)[1:-1].split()[0]))\n",
      "/tmp/ipykernel_4082266/3455397725.py:7: PerformanceWarning: DataFrame is highly fragmented.  This is usually the result of calling `frame.insert` many times, which has poor performance.  Consider joining all columns at once using pd.concat(axis=1) instead. To get a de-fragmented frame, use `newframe = frame.copy()`\n",
      "  nllf[f\"{c}(Y)\"] = o[\"chatgpt_label\"].apply(lambda x: float(str(x)[1:-1].split()[1]))\n"
     ]
    },
    {
     "name": "stdout",
     "output_type": "stream",
     "text": [
      "raw77\n",
      "raw49_v2\n"
     ]
    },
    {
     "name": "stderr",
     "output_type": "stream",
     "text": [
      "/tmp/ipykernel_4082266/3455397725.py:6: PerformanceWarning: DataFrame is highly fragmented.  This is usually the result of calling `frame.insert` many times, which has poor performance.  Consider joining all columns at once using pd.concat(axis=1) instead. To get a de-fragmented frame, use `newframe = frame.copy()`\n",
      "  nllf[f\"{c}(N)\"] = o[\"chatgpt_label\"].apply(lambda x: float(str(x)[1:-1].split()[0]))\n",
      "/tmp/ipykernel_4082266/3455397725.py:7: PerformanceWarning: DataFrame is highly fragmented.  This is usually the result of calling `frame.insert` many times, which has poor performance.  Consider joining all columns at once using pd.concat(axis=1) instead. To get a de-fragmented frame, use `newframe = frame.copy()`\n",
      "  nllf[f\"{c}(Y)\"] = o[\"chatgpt_label\"].apply(lambda x: float(str(x)[1:-1].split()[1]))\n",
      "/tmp/ipykernel_4082266/3455397725.py:6: PerformanceWarning: DataFrame is highly fragmented.  This is usually the result of calling `frame.insert` many times, which has poor performance.  Consider joining all columns at once using pd.concat(axis=1) instead. To get a de-fragmented frame, use `newframe = frame.copy()`\n",
      "  nllf[f\"{c}(N)\"] = o[\"chatgpt_label\"].apply(lambda x: float(str(x)[1:-1].split()[0]))\n",
      "/tmp/ipykernel_4082266/3455397725.py:7: PerformanceWarning: DataFrame is highly fragmented.  This is usually the result of calling `frame.insert` many times, which has poor performance.  Consider joining all columns at once using pd.concat(axis=1) instead. To get a de-fragmented frame, use `newframe = frame.copy()`\n",
      "  nllf[f\"{c}(Y)\"] = o[\"chatgpt_label\"].apply(lambda x: float(str(x)[1:-1].split()[1]))\n"
     ]
    },
    {
     "name": "stdout",
     "output_type": "stream",
     "text": [
      "raw58\n",
      "raw31_v2\n"
     ]
    },
    {
     "name": "stderr",
     "output_type": "stream",
     "text": [
      "/tmp/ipykernel_4082266/3455397725.py:6: PerformanceWarning: DataFrame is highly fragmented.  This is usually the result of calling `frame.insert` many times, which has poor performance.  Consider joining all columns at once using pd.concat(axis=1) instead. To get a de-fragmented frame, use `newframe = frame.copy()`\n",
      "  nllf[f\"{c}(N)\"] = o[\"chatgpt_label\"].apply(lambda x: float(str(x)[1:-1].split()[0]))\n",
      "/tmp/ipykernel_4082266/3455397725.py:7: PerformanceWarning: DataFrame is highly fragmented.  This is usually the result of calling `frame.insert` many times, which has poor performance.  Consider joining all columns at once using pd.concat(axis=1) instead. To get a de-fragmented frame, use `newframe = frame.copy()`\n",
      "  nllf[f\"{c}(Y)\"] = o[\"chatgpt_label\"].apply(lambda x: float(str(x)[1:-1].split()[1]))\n",
      "/tmp/ipykernel_4082266/3455397725.py:6: PerformanceWarning: DataFrame is highly fragmented.  This is usually the result of calling `frame.insert` many times, which has poor performance.  Consider joining all columns at once using pd.concat(axis=1) instead. To get a de-fragmented frame, use `newframe = frame.copy()`\n",
      "  nllf[f\"{c}(N)\"] = o[\"chatgpt_label\"].apply(lambda x: float(str(x)[1:-1].split()[0]))\n",
      "/tmp/ipykernel_4082266/3455397725.py:7: PerformanceWarning: DataFrame is highly fragmented.  This is usually the result of calling `frame.insert` many times, which has poor performance.  Consider joining all columns at once using pd.concat(axis=1) instead. To get a de-fragmented frame, use `newframe = frame.copy()`\n",
      "  nllf[f\"{c}(Y)\"] = o[\"chatgpt_label\"].apply(lambda x: float(str(x)[1:-1].split()[1]))\n"
     ]
    },
    {
     "name": "stdout",
     "output_type": "stream",
     "text": [
      "raw57\n",
      "raw25\n"
     ]
    },
    {
     "name": "stderr",
     "output_type": "stream",
     "text": [
      "/tmp/ipykernel_4082266/3455397725.py:6: PerformanceWarning: DataFrame is highly fragmented.  This is usually the result of calling `frame.insert` many times, which has poor performance.  Consider joining all columns at once using pd.concat(axis=1) instead. To get a de-fragmented frame, use `newframe = frame.copy()`\n",
      "  nllf[f\"{c}(N)\"] = o[\"chatgpt_label\"].apply(lambda x: float(str(x)[1:-1].split()[0]))\n",
      "/tmp/ipykernel_4082266/3455397725.py:7: PerformanceWarning: DataFrame is highly fragmented.  This is usually the result of calling `frame.insert` many times, which has poor performance.  Consider joining all columns at once using pd.concat(axis=1) instead. To get a de-fragmented frame, use `newframe = frame.copy()`\n",
      "  nllf[f\"{c}(Y)\"] = o[\"chatgpt_label\"].apply(lambda x: float(str(x)[1:-1].split()[1]))\n",
      "/tmp/ipykernel_4082266/3455397725.py:6: PerformanceWarning: DataFrame is highly fragmented.  This is usually the result of calling `frame.insert` many times, which has poor performance.  Consider joining all columns at once using pd.concat(axis=1) instead. To get a de-fragmented frame, use `newframe = frame.copy()`\n",
      "  nllf[f\"{c}(N)\"] = o[\"chatgpt_label\"].apply(lambda x: float(str(x)[1:-1].split()[0]))\n",
      "/tmp/ipykernel_4082266/3455397725.py:7: PerformanceWarning: DataFrame is highly fragmented.  This is usually the result of calling `frame.insert` many times, which has poor performance.  Consider joining all columns at once using pd.concat(axis=1) instead. To get a de-fragmented frame, use `newframe = frame.copy()`\n",
      "  nllf[f\"{c}(Y)\"] = o[\"chatgpt_label\"].apply(lambda x: float(str(x)[1:-1].split()[1]))\n"
     ]
    },
    {
     "name": "stdout",
     "output_type": "stream",
     "text": [
      "raw26_v1\n",
      "raw11\n"
     ]
    },
    {
     "name": "stderr",
     "output_type": "stream",
     "text": [
      "/tmp/ipykernel_4082266/3455397725.py:6: PerformanceWarning: DataFrame is highly fragmented.  This is usually the result of calling `frame.insert` many times, which has poor performance.  Consider joining all columns at once using pd.concat(axis=1) instead. To get a de-fragmented frame, use `newframe = frame.copy()`\n",
      "  nllf[f\"{c}(N)\"] = o[\"chatgpt_label\"].apply(lambda x: float(str(x)[1:-1].split()[0]))\n",
      "/tmp/ipykernel_4082266/3455397725.py:7: PerformanceWarning: DataFrame is highly fragmented.  This is usually the result of calling `frame.insert` many times, which has poor performance.  Consider joining all columns at once using pd.concat(axis=1) instead. To get a de-fragmented frame, use `newframe = frame.copy()`\n",
      "  nllf[f\"{c}(Y)\"] = o[\"chatgpt_label\"].apply(lambda x: float(str(x)[1:-1].split()[1]))\n",
      "/tmp/ipykernel_4082266/3455397725.py:6: PerformanceWarning: DataFrame is highly fragmented.  This is usually the result of calling `frame.insert` many times, which has poor performance.  Consider joining all columns at once using pd.concat(axis=1) instead. To get a de-fragmented frame, use `newframe = frame.copy()`\n",
      "  nllf[f\"{c}(N)\"] = o[\"chatgpt_label\"].apply(lambda x: float(str(x)[1:-1].split()[0]))\n",
      "/tmp/ipykernel_4082266/3455397725.py:7: PerformanceWarning: DataFrame is highly fragmented.  This is usually the result of calling `frame.insert` many times, which has poor performance.  Consider joining all columns at once using pd.concat(axis=1) instead. To get a de-fragmented frame, use `newframe = frame.copy()`\n",
      "  nllf[f\"{c}(Y)\"] = o[\"chatgpt_label\"].apply(lambda x: float(str(x)[1:-1].split()[1]))\n"
     ]
    },
    {
     "name": "stdout",
     "output_type": "stream",
     "text": [
      "raw26\n",
      "lf15\n"
     ]
    },
    {
     "name": "stderr",
     "output_type": "stream",
     "text": [
      "/tmp/ipykernel_4082266/3455397725.py:6: PerformanceWarning: DataFrame is highly fragmented.  This is usually the result of calling `frame.insert` many times, which has poor performance.  Consider joining all columns at once using pd.concat(axis=1) instead. To get a de-fragmented frame, use `newframe = frame.copy()`\n",
      "  nllf[f\"{c}(N)\"] = o[\"chatgpt_label\"].apply(lambda x: float(str(x)[1:-1].split()[0]))\n",
      "/tmp/ipykernel_4082266/3455397725.py:7: PerformanceWarning: DataFrame is highly fragmented.  This is usually the result of calling `frame.insert` many times, which has poor performance.  Consider joining all columns at once using pd.concat(axis=1) instead. To get a de-fragmented frame, use `newframe = frame.copy()`\n",
      "  nllf[f\"{c}(Y)\"] = o[\"chatgpt_label\"].apply(lambda x: float(str(x)[1:-1].split()[1]))\n",
      "/tmp/ipykernel_4082266/3455397725.py:6: PerformanceWarning: DataFrame is highly fragmented.  This is usually the result of calling `frame.insert` many times, which has poor performance.  Consider joining all columns at once using pd.concat(axis=1) instead. To get a de-fragmented frame, use `newframe = frame.copy()`\n",
      "  nllf[f\"{c}(N)\"] = o[\"chatgpt_label\"].apply(lambda x: float(str(x)[1:-1].split()[0]))\n",
      "/tmp/ipykernel_4082266/3455397725.py:7: PerformanceWarning: DataFrame is highly fragmented.  This is usually the result of calling `frame.insert` many times, which has poor performance.  Consider joining all columns at once using pd.concat(axis=1) instead. To get a de-fragmented frame, use `newframe = frame.copy()`\n",
      "  nllf[f\"{c}(Y)\"] = o[\"chatgpt_label\"].apply(lambda x: float(str(x)[1:-1].split()[1]))\n"
     ]
    },
    {
     "name": "stdout",
     "output_type": "stream",
     "text": [
      "exp19_v1\n",
      "raw69_v2\n"
     ]
    },
    {
     "name": "stderr",
     "output_type": "stream",
     "text": [
      "/tmp/ipykernel_4082266/3455397725.py:6: PerformanceWarning: DataFrame is highly fragmented.  This is usually the result of calling `frame.insert` many times, which has poor performance.  Consider joining all columns at once using pd.concat(axis=1) instead. To get a de-fragmented frame, use `newframe = frame.copy()`\n",
      "  nllf[f\"{c}(N)\"] = o[\"chatgpt_label\"].apply(lambda x: float(str(x)[1:-1].split()[0]))\n",
      "/tmp/ipykernel_4082266/3455397725.py:7: PerformanceWarning: DataFrame is highly fragmented.  This is usually the result of calling `frame.insert` many times, which has poor performance.  Consider joining all columns at once using pd.concat(axis=1) instead. To get a de-fragmented frame, use `newframe = frame.copy()`\n",
      "  nllf[f\"{c}(Y)\"] = o[\"chatgpt_label\"].apply(lambda x: float(str(x)[1:-1].split()[1]))\n",
      "/tmp/ipykernel_4082266/3455397725.py:6: PerformanceWarning: DataFrame is highly fragmented.  This is usually the result of calling `frame.insert` many times, which has poor performance.  Consider joining all columns at once using pd.concat(axis=1) instead. To get a de-fragmented frame, use `newframe = frame.copy()`\n",
      "  nllf[f\"{c}(N)\"] = o[\"chatgpt_label\"].apply(lambda x: float(str(x)[1:-1].split()[0]))\n",
      "/tmp/ipykernel_4082266/3455397725.py:7: PerformanceWarning: DataFrame is highly fragmented.  This is usually the result of calling `frame.insert` many times, which has poor performance.  Consider joining all columns at once using pd.concat(axis=1) instead. To get a de-fragmented frame, use `newframe = frame.copy()`\n",
      "  nllf[f\"{c}(Y)\"] = o[\"chatgpt_label\"].apply(lambda x: float(str(x)[1:-1].split()[1]))\n"
     ]
    },
    {
     "name": "stdout",
     "output_type": "stream",
     "text": [
      "raw33\n",
      "b9\n"
     ]
    },
    {
     "name": "stderr",
     "output_type": "stream",
     "text": [
      "/tmp/ipykernel_4082266/3455397725.py:6: PerformanceWarning: DataFrame is highly fragmented.  This is usually the result of calling `frame.insert` many times, which has poor performance.  Consider joining all columns at once using pd.concat(axis=1) instead. To get a de-fragmented frame, use `newframe = frame.copy()`\n",
      "  nllf[f\"{c}(N)\"] = o[\"chatgpt_label\"].apply(lambda x: float(str(x)[1:-1].split()[0]))\n",
      "/tmp/ipykernel_4082266/3455397725.py:7: PerformanceWarning: DataFrame is highly fragmented.  This is usually the result of calling `frame.insert` many times, which has poor performance.  Consider joining all columns at once using pd.concat(axis=1) instead. To get a de-fragmented frame, use `newframe = frame.copy()`\n",
      "  nllf[f\"{c}(Y)\"] = o[\"chatgpt_label\"].apply(lambda x: float(str(x)[1:-1].split()[1]))\n",
      "/tmp/ipykernel_4082266/3455397725.py:6: PerformanceWarning: DataFrame is highly fragmented.  This is usually the result of calling `frame.insert` many times, which has poor performance.  Consider joining all columns at once using pd.concat(axis=1) instead. To get a de-fragmented frame, use `newframe = frame.copy()`\n",
      "  nllf[f\"{c}(N)\"] = o[\"chatgpt_label\"].apply(lambda x: float(str(x)[1:-1].split()[0]))\n",
      "/tmp/ipykernel_4082266/3455397725.py:7: PerformanceWarning: DataFrame is highly fragmented.  This is usually the result of calling `frame.insert` many times, which has poor performance.  Consider joining all columns at once using pd.concat(axis=1) instead. To get a de-fragmented frame, use `newframe = frame.copy()`\n",
      "  nllf[f\"{c}(Y)\"] = o[\"chatgpt_label\"].apply(lambda x: float(str(x)[1:-1].split()[1]))\n"
     ]
    },
    {
     "name": "stdout",
     "output_type": "stream",
     "text": [
      "raw1\n",
      "raw70_v1\n"
     ]
    },
    {
     "name": "stderr",
     "output_type": "stream",
     "text": [
      "/tmp/ipykernel_4082266/3455397725.py:6: PerformanceWarning: DataFrame is highly fragmented.  This is usually the result of calling `frame.insert` many times, which has poor performance.  Consider joining all columns at once using pd.concat(axis=1) instead. To get a de-fragmented frame, use `newframe = frame.copy()`\n",
      "  nllf[f\"{c}(N)\"] = o[\"chatgpt_label\"].apply(lambda x: float(str(x)[1:-1].split()[0]))\n",
      "/tmp/ipykernel_4082266/3455397725.py:7: PerformanceWarning: DataFrame is highly fragmented.  This is usually the result of calling `frame.insert` many times, which has poor performance.  Consider joining all columns at once using pd.concat(axis=1) instead. To get a de-fragmented frame, use `newframe = frame.copy()`\n",
      "  nllf[f\"{c}(Y)\"] = o[\"chatgpt_label\"].apply(lambda x: float(str(x)[1:-1].split()[1]))\n",
      "/tmp/ipykernel_4082266/3455397725.py:6: PerformanceWarning: DataFrame is highly fragmented.  This is usually the result of calling `frame.insert` many times, which has poor performance.  Consider joining all columns at once using pd.concat(axis=1) instead. To get a de-fragmented frame, use `newframe = frame.copy()`\n",
      "  nllf[f\"{c}(N)\"] = o[\"chatgpt_label\"].apply(lambda x: float(str(x)[1:-1].split()[0]))\n",
      "/tmp/ipykernel_4082266/3455397725.py:7: PerformanceWarning: DataFrame is highly fragmented.  This is usually the result of calling `frame.insert` many times, which has poor performance.  Consider joining all columns at once using pd.concat(axis=1) instead. To get a de-fragmented frame, use `newframe = frame.copy()`\n",
      "  nllf[f\"{c}(Y)\"] = o[\"chatgpt_label\"].apply(lambda x: float(str(x)[1:-1].split()[1]))\n"
     ]
    },
    {
     "name": "stdout",
     "output_type": "stream",
     "text": [
      "lf21\n",
      "exp10_v3\n"
     ]
    },
    {
     "name": "stderr",
     "output_type": "stream",
     "text": [
      "/tmp/ipykernel_4082266/3455397725.py:6: PerformanceWarning: DataFrame is highly fragmented.  This is usually the result of calling `frame.insert` many times, which has poor performance.  Consider joining all columns at once using pd.concat(axis=1) instead. To get a de-fragmented frame, use `newframe = frame.copy()`\n",
      "  nllf[f\"{c}(N)\"] = o[\"chatgpt_label\"].apply(lambda x: float(str(x)[1:-1].split()[0]))\n",
      "/tmp/ipykernel_4082266/3455397725.py:7: PerformanceWarning: DataFrame is highly fragmented.  This is usually the result of calling `frame.insert` many times, which has poor performance.  Consider joining all columns at once using pd.concat(axis=1) instead. To get a de-fragmented frame, use `newframe = frame.copy()`\n",
      "  nllf[f\"{c}(Y)\"] = o[\"chatgpt_label\"].apply(lambda x: float(str(x)[1:-1].split()[1]))\n",
      "/tmp/ipykernel_4082266/3455397725.py:6: PerformanceWarning: DataFrame is highly fragmented.  This is usually the result of calling `frame.insert` many times, which has poor performance.  Consider joining all columns at once using pd.concat(axis=1) instead. To get a de-fragmented frame, use `newframe = frame.copy()`\n",
      "  nllf[f\"{c}(N)\"] = o[\"chatgpt_label\"].apply(lambda x: float(str(x)[1:-1].split()[0]))\n",
      "/tmp/ipykernel_4082266/3455397725.py:7: PerformanceWarning: DataFrame is highly fragmented.  This is usually the result of calling `frame.insert` many times, which has poor performance.  Consider joining all columns at once using pd.concat(axis=1) instead. To get a de-fragmented frame, use `newframe = frame.copy()`\n",
      "  nllf[f\"{c}(Y)\"] = o[\"chatgpt_label\"].apply(lambda x: float(str(x)[1:-1].split()[1]))\n"
     ]
    },
    {
     "name": "stdout",
     "output_type": "stream",
     "text": [
      "exp4\n",
      "exp1_v3_v2\n"
     ]
    },
    {
     "name": "stderr",
     "output_type": "stream",
     "text": [
      "/tmp/ipykernel_4082266/3455397725.py:6: PerformanceWarning: DataFrame is highly fragmented.  This is usually the result of calling `frame.insert` many times, which has poor performance.  Consider joining all columns at once using pd.concat(axis=1) instead. To get a de-fragmented frame, use `newframe = frame.copy()`\n",
      "  nllf[f\"{c}(N)\"] = o[\"chatgpt_label\"].apply(lambda x: float(str(x)[1:-1].split()[0]))\n",
      "/tmp/ipykernel_4082266/3455397725.py:7: PerformanceWarning: DataFrame is highly fragmented.  This is usually the result of calling `frame.insert` many times, which has poor performance.  Consider joining all columns at once using pd.concat(axis=1) instead. To get a de-fragmented frame, use `newframe = frame.copy()`\n",
      "  nllf[f\"{c}(Y)\"] = o[\"chatgpt_label\"].apply(lambda x: float(str(x)[1:-1].split()[1]))\n",
      "/tmp/ipykernel_4082266/3455397725.py:6: PerformanceWarning: DataFrame is highly fragmented.  This is usually the result of calling `frame.insert` many times, which has poor performance.  Consider joining all columns at once using pd.concat(axis=1) instead. To get a de-fragmented frame, use `newframe = frame.copy()`\n",
      "  nllf[f\"{c}(N)\"] = o[\"chatgpt_label\"].apply(lambda x: float(str(x)[1:-1].split()[0]))\n",
      "/tmp/ipykernel_4082266/3455397725.py:7: PerformanceWarning: DataFrame is highly fragmented.  This is usually the result of calling `frame.insert` many times, which has poor performance.  Consider joining all columns at once using pd.concat(axis=1) instead. To get a de-fragmented frame, use `newframe = frame.copy()`\n",
      "  nllf[f\"{c}(Y)\"] = o[\"chatgpt_label\"].apply(lambda x: float(str(x)[1:-1].split()[1]))\n"
     ]
    },
    {
     "name": "stdout",
     "output_type": "stream",
     "text": [
      "raw27\n",
      "raw36\n"
     ]
    },
    {
     "name": "stderr",
     "output_type": "stream",
     "text": [
      "/tmp/ipykernel_4082266/3455397725.py:6: PerformanceWarning: DataFrame is highly fragmented.  This is usually the result of calling `frame.insert` many times, which has poor performance.  Consider joining all columns at once using pd.concat(axis=1) instead. To get a de-fragmented frame, use `newframe = frame.copy()`\n",
      "  nllf[f\"{c}(N)\"] = o[\"chatgpt_label\"].apply(lambda x: float(str(x)[1:-1].split()[0]))\n",
      "/tmp/ipykernel_4082266/3455397725.py:7: PerformanceWarning: DataFrame is highly fragmented.  This is usually the result of calling `frame.insert` many times, which has poor performance.  Consider joining all columns at once using pd.concat(axis=1) instead. To get a de-fragmented frame, use `newframe = frame.copy()`\n",
      "  nllf[f\"{c}(Y)\"] = o[\"chatgpt_label\"].apply(lambda x: float(str(x)[1:-1].split()[1]))\n",
      "/tmp/ipykernel_4082266/3455397725.py:6: PerformanceWarning: DataFrame is highly fragmented.  This is usually the result of calling `frame.insert` many times, which has poor performance.  Consider joining all columns at once using pd.concat(axis=1) instead. To get a de-fragmented frame, use `newframe = frame.copy()`\n",
      "  nllf[f\"{c}(N)\"] = o[\"chatgpt_label\"].apply(lambda x: float(str(x)[1:-1].split()[0]))\n",
      "/tmp/ipykernel_4082266/3455397725.py:7: PerformanceWarning: DataFrame is highly fragmented.  This is usually the result of calling `frame.insert` many times, which has poor performance.  Consider joining all columns at once using pd.concat(axis=1) instead. To get a de-fragmented frame, use `newframe = frame.copy()`\n",
      "  nllf[f\"{c}(Y)\"] = o[\"chatgpt_label\"].apply(lambda x: float(str(x)[1:-1].split()[1]))\n"
     ]
    },
    {
     "name": "stdout",
     "output_type": "stream",
     "text": [
      "lf24\n",
      "raw63_v1\n"
     ]
    },
    {
     "name": "stderr",
     "output_type": "stream",
     "text": [
      "/tmp/ipykernel_4082266/3455397725.py:6: PerformanceWarning: DataFrame is highly fragmented.  This is usually the result of calling `frame.insert` many times, which has poor performance.  Consider joining all columns at once using pd.concat(axis=1) instead. To get a de-fragmented frame, use `newframe = frame.copy()`\n",
      "  nllf[f\"{c}(N)\"] = o[\"chatgpt_label\"].apply(lambda x: float(str(x)[1:-1].split()[0]))\n",
      "/tmp/ipykernel_4082266/3455397725.py:7: PerformanceWarning: DataFrame is highly fragmented.  This is usually the result of calling `frame.insert` many times, which has poor performance.  Consider joining all columns at once using pd.concat(axis=1) instead. To get a de-fragmented frame, use `newframe = frame.copy()`\n",
      "  nllf[f\"{c}(Y)\"] = o[\"chatgpt_label\"].apply(lambda x: float(str(x)[1:-1].split()[1]))\n",
      "/tmp/ipykernel_4082266/3455397725.py:6: PerformanceWarning: DataFrame is highly fragmented.  This is usually the result of calling `frame.insert` many times, which has poor performance.  Consider joining all columns at once using pd.concat(axis=1) instead. To get a de-fragmented frame, use `newframe = frame.copy()`\n",
      "  nllf[f\"{c}(N)\"] = o[\"chatgpt_label\"].apply(lambda x: float(str(x)[1:-1].split()[0]))\n",
      "/tmp/ipykernel_4082266/3455397725.py:7: PerformanceWarning: DataFrame is highly fragmented.  This is usually the result of calling `frame.insert` many times, which has poor performance.  Consider joining all columns at once using pd.concat(axis=1) instead. To get a de-fragmented frame, use `newframe = frame.copy()`\n",
      "  nllf[f\"{c}(Y)\"] = o[\"chatgpt_label\"].apply(lambda x: float(str(x)[1:-1].split()[1]))\n"
     ]
    },
    {
     "name": "stdout",
     "output_type": "stream",
     "text": [
      "exp1_v1_v1\n",
      "raw31\n"
     ]
    },
    {
     "name": "stderr",
     "output_type": "stream",
     "text": [
      "/tmp/ipykernel_4082266/3455397725.py:6: PerformanceWarning: DataFrame is highly fragmented.  This is usually the result of calling `frame.insert` many times, which has poor performance.  Consider joining all columns at once using pd.concat(axis=1) instead. To get a de-fragmented frame, use `newframe = frame.copy()`\n",
      "  nllf[f\"{c}(N)\"] = o[\"chatgpt_label\"].apply(lambda x: float(str(x)[1:-1].split()[0]))\n",
      "/tmp/ipykernel_4082266/3455397725.py:7: PerformanceWarning: DataFrame is highly fragmented.  This is usually the result of calling `frame.insert` many times, which has poor performance.  Consider joining all columns at once using pd.concat(axis=1) instead. To get a de-fragmented frame, use `newframe = frame.copy()`\n",
      "  nllf[f\"{c}(Y)\"] = o[\"chatgpt_label\"].apply(lambda x: float(str(x)[1:-1].split()[1]))\n",
      "/tmp/ipykernel_4082266/3455397725.py:6: PerformanceWarning: DataFrame is highly fragmented.  This is usually the result of calling `frame.insert` many times, which has poor performance.  Consider joining all columns at once using pd.concat(axis=1) instead. To get a de-fragmented frame, use `newframe = frame.copy()`\n",
      "  nllf[f\"{c}(N)\"] = o[\"chatgpt_label\"].apply(lambda x: float(str(x)[1:-1].split()[0]))\n",
      "/tmp/ipykernel_4082266/3455397725.py:7: PerformanceWarning: DataFrame is highly fragmented.  This is usually the result of calling `frame.insert` many times, which has poor performance.  Consider joining all columns at once using pd.concat(axis=1) instead. To get a de-fragmented frame, use `newframe = frame.copy()`\n",
      "  nllf[f\"{c}(Y)\"] = o[\"chatgpt_label\"].apply(lambda x: float(str(x)[1:-1].split()[1]))\n"
     ]
    },
    {
     "name": "stdout",
     "output_type": "stream",
     "text": [
      "b5\n",
      "exp33\n"
     ]
    },
    {
     "name": "stderr",
     "output_type": "stream",
     "text": [
      "/tmp/ipykernel_4082266/3455397725.py:6: PerformanceWarning: DataFrame is highly fragmented.  This is usually the result of calling `frame.insert` many times, which has poor performance.  Consider joining all columns at once using pd.concat(axis=1) instead. To get a de-fragmented frame, use `newframe = frame.copy()`\n",
      "  nllf[f\"{c}(N)\"] = o[\"chatgpt_label\"].apply(lambda x: float(str(x)[1:-1].split()[0]))\n",
      "/tmp/ipykernel_4082266/3455397725.py:7: PerformanceWarning: DataFrame is highly fragmented.  This is usually the result of calling `frame.insert` many times, which has poor performance.  Consider joining all columns at once using pd.concat(axis=1) instead. To get a de-fragmented frame, use `newframe = frame.copy()`\n",
      "  nllf[f\"{c}(Y)\"] = o[\"chatgpt_label\"].apply(lambda x: float(str(x)[1:-1].split()[1]))\n",
      "/tmp/ipykernel_4082266/3455397725.py:6: PerformanceWarning: DataFrame is highly fragmented.  This is usually the result of calling `frame.insert` many times, which has poor performance.  Consider joining all columns at once using pd.concat(axis=1) instead. To get a de-fragmented frame, use `newframe = frame.copy()`\n",
      "  nllf[f\"{c}(N)\"] = o[\"chatgpt_label\"].apply(lambda x: float(str(x)[1:-1].split()[0]))\n",
      "/tmp/ipykernel_4082266/3455397725.py:7: PerformanceWarning: DataFrame is highly fragmented.  This is usually the result of calling `frame.insert` many times, which has poor performance.  Consider joining all columns at once using pd.concat(axis=1) instead. To get a de-fragmented frame, use `newframe = frame.copy()`\n",
      "  nllf[f\"{c}(Y)\"] = o[\"chatgpt_label\"].apply(lambda x: float(str(x)[1:-1].split()[1]))\n"
     ]
    },
    {
     "name": "stdout",
     "output_type": "stream",
     "text": [
      "b1_v1\n",
      "lf10\n"
     ]
    },
    {
     "name": "stderr",
     "output_type": "stream",
     "text": [
      "/tmp/ipykernel_4082266/3455397725.py:6: PerformanceWarning: DataFrame is highly fragmented.  This is usually the result of calling `frame.insert` many times, which has poor performance.  Consider joining all columns at once using pd.concat(axis=1) instead. To get a de-fragmented frame, use `newframe = frame.copy()`\n",
      "  nllf[f\"{c}(N)\"] = o[\"chatgpt_label\"].apply(lambda x: float(str(x)[1:-1].split()[0]))\n",
      "/tmp/ipykernel_4082266/3455397725.py:7: PerformanceWarning: DataFrame is highly fragmented.  This is usually the result of calling `frame.insert` many times, which has poor performance.  Consider joining all columns at once using pd.concat(axis=1) instead. To get a de-fragmented frame, use `newframe = frame.copy()`\n",
      "  nllf[f\"{c}(Y)\"] = o[\"chatgpt_label\"].apply(lambda x: float(str(x)[1:-1].split()[1]))\n",
      "/tmp/ipykernel_4082266/3455397725.py:6: PerformanceWarning: DataFrame is highly fragmented.  This is usually the result of calling `frame.insert` many times, which has poor performance.  Consider joining all columns at once using pd.concat(axis=1) instead. To get a de-fragmented frame, use `newframe = frame.copy()`\n",
      "  nllf[f\"{c}(N)\"] = o[\"chatgpt_label\"].apply(lambda x: float(str(x)[1:-1].split()[0]))\n",
      "/tmp/ipykernel_4082266/3455397725.py:7: PerformanceWarning: DataFrame is highly fragmented.  This is usually the result of calling `frame.insert` many times, which has poor performance.  Consider joining all columns at once using pd.concat(axis=1) instead. To get a de-fragmented frame, use `newframe = frame.copy()`\n",
      "  nllf[f\"{c}(Y)\"] = o[\"chatgpt_label\"].apply(lambda x: float(str(x)[1:-1].split()[1]))\n"
     ]
    },
    {
     "name": "stdout",
     "output_type": "stream",
     "text": [
      "raw21_v1\n",
      "b8_v3\n"
     ]
    },
    {
     "name": "stderr",
     "output_type": "stream",
     "text": [
      "/tmp/ipykernel_4082266/3455397725.py:6: PerformanceWarning: DataFrame is highly fragmented.  This is usually the result of calling `frame.insert` many times, which has poor performance.  Consider joining all columns at once using pd.concat(axis=1) instead. To get a de-fragmented frame, use `newframe = frame.copy()`\n",
      "  nllf[f\"{c}(N)\"] = o[\"chatgpt_label\"].apply(lambda x: float(str(x)[1:-1].split()[0]))\n",
      "/tmp/ipykernel_4082266/3455397725.py:7: PerformanceWarning: DataFrame is highly fragmented.  This is usually the result of calling `frame.insert` many times, which has poor performance.  Consider joining all columns at once using pd.concat(axis=1) instead. To get a de-fragmented frame, use `newframe = frame.copy()`\n",
      "  nllf[f\"{c}(Y)\"] = o[\"chatgpt_label\"].apply(lambda x: float(str(x)[1:-1].split()[1]))\n",
      "/tmp/ipykernel_4082266/3455397725.py:6: PerformanceWarning: DataFrame is highly fragmented.  This is usually the result of calling `frame.insert` many times, which has poor performance.  Consider joining all columns at once using pd.concat(axis=1) instead. To get a de-fragmented frame, use `newframe = frame.copy()`\n",
      "  nllf[f\"{c}(N)\"] = o[\"chatgpt_label\"].apply(lambda x: float(str(x)[1:-1].split()[0]))\n",
      "/tmp/ipykernel_4082266/3455397725.py:7: PerformanceWarning: DataFrame is highly fragmented.  This is usually the result of calling `frame.insert` many times, which has poor performance.  Consider joining all columns at once using pd.concat(axis=1) instead. To get a de-fragmented frame, use `newframe = frame.copy()`\n",
      "  nllf[f\"{c}(Y)\"] = o[\"chatgpt_label\"].apply(lambda x: float(str(x)[1:-1].split()[1]))\n"
     ]
    },
    {
     "name": "stdout",
     "output_type": "stream",
     "text": [
      "b9_v2\n",
      "b9_v1\n"
     ]
    },
    {
     "name": "stderr",
     "output_type": "stream",
     "text": [
      "/tmp/ipykernel_4082266/3455397725.py:6: PerformanceWarning: DataFrame is highly fragmented.  This is usually the result of calling `frame.insert` many times, which has poor performance.  Consider joining all columns at once using pd.concat(axis=1) instead. To get a de-fragmented frame, use `newframe = frame.copy()`\n",
      "  nllf[f\"{c}(N)\"] = o[\"chatgpt_label\"].apply(lambda x: float(str(x)[1:-1].split()[0]))\n",
      "/tmp/ipykernel_4082266/3455397725.py:7: PerformanceWarning: DataFrame is highly fragmented.  This is usually the result of calling `frame.insert` many times, which has poor performance.  Consider joining all columns at once using pd.concat(axis=1) instead. To get a de-fragmented frame, use `newframe = frame.copy()`\n",
      "  nllf[f\"{c}(Y)\"] = o[\"chatgpt_label\"].apply(lambda x: float(str(x)[1:-1].split()[1]))\n",
      "/tmp/ipykernel_4082266/3455397725.py:6: PerformanceWarning: DataFrame is highly fragmented.  This is usually the result of calling `frame.insert` many times, which has poor performance.  Consider joining all columns at once using pd.concat(axis=1) instead. To get a de-fragmented frame, use `newframe = frame.copy()`\n",
      "  nllf[f\"{c}(N)\"] = o[\"chatgpt_label\"].apply(lambda x: float(str(x)[1:-1].split()[0]))\n",
      "/tmp/ipykernel_4082266/3455397725.py:7: PerformanceWarning: DataFrame is highly fragmented.  This is usually the result of calling `frame.insert` many times, which has poor performance.  Consider joining all columns at once using pd.concat(axis=1) instead. To get a de-fragmented frame, use `newframe = frame.copy()`\n",
      "  nllf[f\"{c}(Y)\"] = o[\"chatgpt_label\"].apply(lambda x: float(str(x)[1:-1].split()[1]))\n"
     ]
    },
    {
     "name": "stdout",
     "output_type": "stream",
     "text": [
      "lf1\n",
      "exp4_v1\n"
     ]
    },
    {
     "name": "stderr",
     "output_type": "stream",
     "text": [
      "/tmp/ipykernel_4082266/3455397725.py:6: PerformanceWarning: DataFrame is highly fragmented.  This is usually the result of calling `frame.insert` many times, which has poor performance.  Consider joining all columns at once using pd.concat(axis=1) instead. To get a de-fragmented frame, use `newframe = frame.copy()`\n",
      "  nllf[f\"{c}(N)\"] = o[\"chatgpt_label\"].apply(lambda x: float(str(x)[1:-1].split()[0]))\n",
      "/tmp/ipykernel_4082266/3455397725.py:7: PerformanceWarning: DataFrame is highly fragmented.  This is usually the result of calling `frame.insert` many times, which has poor performance.  Consider joining all columns at once using pd.concat(axis=1) instead. To get a de-fragmented frame, use `newframe = frame.copy()`\n",
      "  nllf[f\"{c}(Y)\"] = o[\"chatgpt_label\"].apply(lambda x: float(str(x)[1:-1].split()[1]))\n",
      "/tmp/ipykernel_4082266/3455397725.py:6: PerformanceWarning: DataFrame is highly fragmented.  This is usually the result of calling `frame.insert` many times, which has poor performance.  Consider joining all columns at once using pd.concat(axis=1) instead. To get a de-fragmented frame, use `newframe = frame.copy()`\n",
      "  nllf[f\"{c}(N)\"] = o[\"chatgpt_label\"].apply(lambda x: float(str(x)[1:-1].split()[0]))\n",
      "/tmp/ipykernel_4082266/3455397725.py:7: PerformanceWarning: DataFrame is highly fragmented.  This is usually the result of calling `frame.insert` many times, which has poor performance.  Consider joining all columns at once using pd.concat(axis=1) instead. To get a de-fragmented frame, use `newframe = frame.copy()`\n",
      "  nllf[f\"{c}(Y)\"] = o[\"chatgpt_label\"].apply(lambda x: float(str(x)[1:-1].split()[1]))\n"
     ]
    },
    {
     "name": "stdout",
     "output_type": "stream",
     "text": [
      "exp22_v3\n",
      "exp12_v1\n"
     ]
    },
    {
     "name": "stderr",
     "output_type": "stream",
     "text": [
      "/tmp/ipykernel_4082266/3455397725.py:6: PerformanceWarning: DataFrame is highly fragmented.  This is usually the result of calling `frame.insert` many times, which has poor performance.  Consider joining all columns at once using pd.concat(axis=1) instead. To get a de-fragmented frame, use `newframe = frame.copy()`\n",
      "  nllf[f\"{c}(N)\"] = o[\"chatgpt_label\"].apply(lambda x: float(str(x)[1:-1].split()[0]))\n",
      "/tmp/ipykernel_4082266/3455397725.py:7: PerformanceWarning: DataFrame is highly fragmented.  This is usually the result of calling `frame.insert` many times, which has poor performance.  Consider joining all columns at once using pd.concat(axis=1) instead. To get a de-fragmented frame, use `newframe = frame.copy()`\n",
      "  nllf[f\"{c}(Y)\"] = o[\"chatgpt_label\"].apply(lambda x: float(str(x)[1:-1].split()[1]))\n",
      "/tmp/ipykernel_4082266/3455397725.py:6: PerformanceWarning: DataFrame is highly fragmented.  This is usually the result of calling `frame.insert` many times, which has poor performance.  Consider joining all columns at once using pd.concat(axis=1) instead. To get a de-fragmented frame, use `newframe = frame.copy()`\n",
      "  nllf[f\"{c}(N)\"] = o[\"chatgpt_label\"].apply(lambda x: float(str(x)[1:-1].split()[0]))\n",
      "/tmp/ipykernel_4082266/3455397725.py:7: PerformanceWarning: DataFrame is highly fragmented.  This is usually the result of calling `frame.insert` many times, which has poor performance.  Consider joining all columns at once using pd.concat(axis=1) instead. To get a de-fragmented frame, use `newframe = frame.copy()`\n",
      "  nllf[f\"{c}(Y)\"] = o[\"chatgpt_label\"].apply(lambda x: float(str(x)[1:-1].split()[1]))\n"
     ]
    },
    {
     "name": "stdout",
     "output_type": "stream",
     "text": [
      "raw48_v2\n",
      "exp30\n"
     ]
    },
    {
     "name": "stderr",
     "output_type": "stream",
     "text": [
      "/tmp/ipykernel_4082266/3455397725.py:6: PerformanceWarning: DataFrame is highly fragmented.  This is usually the result of calling `frame.insert` many times, which has poor performance.  Consider joining all columns at once using pd.concat(axis=1) instead. To get a de-fragmented frame, use `newframe = frame.copy()`\n",
      "  nllf[f\"{c}(N)\"] = o[\"chatgpt_label\"].apply(lambda x: float(str(x)[1:-1].split()[0]))\n",
      "/tmp/ipykernel_4082266/3455397725.py:7: PerformanceWarning: DataFrame is highly fragmented.  This is usually the result of calling `frame.insert` many times, which has poor performance.  Consider joining all columns at once using pd.concat(axis=1) instead. To get a de-fragmented frame, use `newframe = frame.copy()`\n",
      "  nllf[f\"{c}(Y)\"] = o[\"chatgpt_label\"].apply(lambda x: float(str(x)[1:-1].split()[1]))\n",
      "/tmp/ipykernel_4082266/3455397725.py:6: PerformanceWarning: DataFrame is highly fragmented.  This is usually the result of calling `frame.insert` many times, which has poor performance.  Consider joining all columns at once using pd.concat(axis=1) instead. To get a de-fragmented frame, use `newframe = frame.copy()`\n",
      "  nllf[f\"{c}(N)\"] = o[\"chatgpt_label\"].apply(lambda x: float(str(x)[1:-1].split()[0]))\n",
      "/tmp/ipykernel_4082266/3455397725.py:7: PerformanceWarning: DataFrame is highly fragmented.  This is usually the result of calling `frame.insert` many times, which has poor performance.  Consider joining all columns at once using pd.concat(axis=1) instead. To get a de-fragmented frame, use `newframe = frame.copy()`\n",
      "  nllf[f\"{c}(Y)\"] = o[\"chatgpt_label\"].apply(lambda x: float(str(x)[1:-1].split()[1]))\n"
     ]
    },
    {
     "name": "stdout",
     "output_type": "stream",
     "text": [
      "b6_v1_v1\n",
      "raw7\n"
     ]
    },
    {
     "name": "stderr",
     "output_type": "stream",
     "text": [
      "/tmp/ipykernel_4082266/3455397725.py:6: PerformanceWarning: DataFrame is highly fragmented.  This is usually the result of calling `frame.insert` many times, which has poor performance.  Consider joining all columns at once using pd.concat(axis=1) instead. To get a de-fragmented frame, use `newframe = frame.copy()`\n",
      "  nllf[f\"{c}(N)\"] = o[\"chatgpt_label\"].apply(lambda x: float(str(x)[1:-1].split()[0]))\n",
      "/tmp/ipykernel_4082266/3455397725.py:7: PerformanceWarning: DataFrame is highly fragmented.  This is usually the result of calling `frame.insert` many times, which has poor performance.  Consider joining all columns at once using pd.concat(axis=1) instead. To get a de-fragmented frame, use `newframe = frame.copy()`\n",
      "  nllf[f\"{c}(Y)\"] = o[\"chatgpt_label\"].apply(lambda x: float(str(x)[1:-1].split()[1]))\n",
      "/tmp/ipykernel_4082266/3455397725.py:6: PerformanceWarning: DataFrame is highly fragmented.  This is usually the result of calling `frame.insert` many times, which has poor performance.  Consider joining all columns at once using pd.concat(axis=1) instead. To get a de-fragmented frame, use `newframe = frame.copy()`\n",
      "  nllf[f\"{c}(N)\"] = o[\"chatgpt_label\"].apply(lambda x: float(str(x)[1:-1].split()[0]))\n",
      "/tmp/ipykernel_4082266/3455397725.py:7: PerformanceWarning: DataFrame is highly fragmented.  This is usually the result of calling `frame.insert` many times, which has poor performance.  Consider joining all columns at once using pd.concat(axis=1) instead. To get a de-fragmented frame, use `newframe = frame.copy()`\n",
      "  nllf[f\"{c}(Y)\"] = o[\"chatgpt_label\"].apply(lambda x: float(str(x)[1:-1].split()[1]))\n"
     ]
    },
    {
     "name": "stdout",
     "output_type": "stream",
     "text": [
      "b6_v2\n",
      "exp9\n"
     ]
    },
    {
     "name": "stderr",
     "output_type": "stream",
     "text": [
      "/tmp/ipykernel_4082266/3455397725.py:6: PerformanceWarning: DataFrame is highly fragmented.  This is usually the result of calling `frame.insert` many times, which has poor performance.  Consider joining all columns at once using pd.concat(axis=1) instead. To get a de-fragmented frame, use `newframe = frame.copy()`\n",
      "  nllf[f\"{c}(N)\"] = o[\"chatgpt_label\"].apply(lambda x: float(str(x)[1:-1].split()[0]))\n",
      "/tmp/ipykernel_4082266/3455397725.py:7: PerformanceWarning: DataFrame is highly fragmented.  This is usually the result of calling `frame.insert` many times, which has poor performance.  Consider joining all columns at once using pd.concat(axis=1) instead. To get a de-fragmented frame, use `newframe = frame.copy()`\n",
      "  nllf[f\"{c}(Y)\"] = o[\"chatgpt_label\"].apply(lambda x: float(str(x)[1:-1].split()[1]))\n",
      "/tmp/ipykernel_4082266/3455397725.py:6: PerformanceWarning: DataFrame is highly fragmented.  This is usually the result of calling `frame.insert` many times, which has poor performance.  Consider joining all columns at once using pd.concat(axis=1) instead. To get a de-fragmented frame, use `newframe = frame.copy()`\n",
      "  nllf[f\"{c}(N)\"] = o[\"chatgpt_label\"].apply(lambda x: float(str(x)[1:-1].split()[0]))\n",
      "/tmp/ipykernel_4082266/3455397725.py:7: PerformanceWarning: DataFrame is highly fragmented.  This is usually the result of calling `frame.insert` many times, which has poor performance.  Consider joining all columns at once using pd.concat(axis=1) instead. To get a de-fragmented frame, use `newframe = frame.copy()`\n",
      "  nllf[f\"{c}(Y)\"] = o[\"chatgpt_label\"].apply(lambda x: float(str(x)[1:-1].split()[1]))\n"
     ]
    },
    {
     "name": "stdout",
     "output_type": "stream",
     "text": [
      "raw30_v3\n",
      "raw33_v1\n"
     ]
    },
    {
     "name": "stderr",
     "output_type": "stream",
     "text": [
      "/tmp/ipykernel_4082266/3455397725.py:6: PerformanceWarning: DataFrame is highly fragmented.  This is usually the result of calling `frame.insert` many times, which has poor performance.  Consider joining all columns at once using pd.concat(axis=1) instead. To get a de-fragmented frame, use `newframe = frame.copy()`\n",
      "  nllf[f\"{c}(N)\"] = o[\"chatgpt_label\"].apply(lambda x: float(str(x)[1:-1].split()[0]))\n",
      "/tmp/ipykernel_4082266/3455397725.py:7: PerformanceWarning: DataFrame is highly fragmented.  This is usually the result of calling `frame.insert` many times, which has poor performance.  Consider joining all columns at once using pd.concat(axis=1) instead. To get a de-fragmented frame, use `newframe = frame.copy()`\n",
      "  nllf[f\"{c}(Y)\"] = o[\"chatgpt_label\"].apply(lambda x: float(str(x)[1:-1].split()[1]))\n",
      "/tmp/ipykernel_4082266/3455397725.py:6: PerformanceWarning: DataFrame is highly fragmented.  This is usually the result of calling `frame.insert` many times, which has poor performance.  Consider joining all columns at once using pd.concat(axis=1) instead. To get a de-fragmented frame, use `newframe = frame.copy()`\n",
      "  nllf[f\"{c}(N)\"] = o[\"chatgpt_label\"].apply(lambda x: float(str(x)[1:-1].split()[0]))\n",
      "/tmp/ipykernel_4082266/3455397725.py:7: PerformanceWarning: DataFrame is highly fragmented.  This is usually the result of calling `frame.insert` many times, which has poor performance.  Consider joining all columns at once using pd.concat(axis=1) instead. To get a de-fragmented frame, use `newframe = frame.copy()`\n",
      "  nllf[f\"{c}(Y)\"] = o[\"chatgpt_label\"].apply(lambda x: float(str(x)[1:-1].split()[1]))\n"
     ]
    },
    {
     "name": "stdout",
     "output_type": "stream",
     "text": [
      "exp1_v1_v3\n",
      "exp17\n"
     ]
    },
    {
     "name": "stderr",
     "output_type": "stream",
     "text": [
      "/tmp/ipykernel_4082266/3455397725.py:6: PerformanceWarning: DataFrame is highly fragmented.  This is usually the result of calling `frame.insert` many times, which has poor performance.  Consider joining all columns at once using pd.concat(axis=1) instead. To get a de-fragmented frame, use `newframe = frame.copy()`\n",
      "  nllf[f\"{c}(N)\"] = o[\"chatgpt_label\"].apply(lambda x: float(str(x)[1:-1].split()[0]))\n",
      "/tmp/ipykernel_4082266/3455397725.py:7: PerformanceWarning: DataFrame is highly fragmented.  This is usually the result of calling `frame.insert` many times, which has poor performance.  Consider joining all columns at once using pd.concat(axis=1) instead. To get a de-fragmented frame, use `newframe = frame.copy()`\n",
      "  nllf[f\"{c}(Y)\"] = o[\"chatgpt_label\"].apply(lambda x: float(str(x)[1:-1].split()[1]))\n",
      "/tmp/ipykernel_4082266/3455397725.py:6: PerformanceWarning: DataFrame is highly fragmented.  This is usually the result of calling `frame.insert` many times, which has poor performance.  Consider joining all columns at once using pd.concat(axis=1) instead. To get a de-fragmented frame, use `newframe = frame.copy()`\n",
      "  nllf[f\"{c}(N)\"] = o[\"chatgpt_label\"].apply(lambda x: float(str(x)[1:-1].split()[0]))\n",
      "/tmp/ipykernel_4082266/3455397725.py:7: PerformanceWarning: DataFrame is highly fragmented.  This is usually the result of calling `frame.insert` many times, which has poor performance.  Consider joining all columns at once using pd.concat(axis=1) instead. To get a de-fragmented frame, use `newframe = frame.copy()`\n",
      "  nllf[f\"{c}(Y)\"] = o[\"chatgpt_label\"].apply(lambda x: float(str(x)[1:-1].split()[1]))\n"
     ]
    },
    {
     "name": "stdout",
     "output_type": "stream",
     "text": [
      "exp33_v2\n",
      "lf13\n"
     ]
    },
    {
     "name": "stderr",
     "output_type": "stream",
     "text": [
      "/tmp/ipykernel_4082266/3455397725.py:6: PerformanceWarning: DataFrame is highly fragmented.  This is usually the result of calling `frame.insert` many times, which has poor performance.  Consider joining all columns at once using pd.concat(axis=1) instead. To get a de-fragmented frame, use `newframe = frame.copy()`\n",
      "  nllf[f\"{c}(N)\"] = o[\"chatgpt_label\"].apply(lambda x: float(str(x)[1:-1].split()[0]))\n",
      "/tmp/ipykernel_4082266/3455397725.py:7: PerformanceWarning: DataFrame is highly fragmented.  This is usually the result of calling `frame.insert` many times, which has poor performance.  Consider joining all columns at once using pd.concat(axis=1) instead. To get a de-fragmented frame, use `newframe = frame.copy()`\n",
      "  nllf[f\"{c}(Y)\"] = o[\"chatgpt_label\"].apply(lambda x: float(str(x)[1:-1].split()[1]))\n",
      "/tmp/ipykernel_4082266/3455397725.py:6: PerformanceWarning: DataFrame is highly fragmented.  This is usually the result of calling `frame.insert` many times, which has poor performance.  Consider joining all columns at once using pd.concat(axis=1) instead. To get a de-fragmented frame, use `newframe = frame.copy()`\n",
      "  nllf[f\"{c}(N)\"] = o[\"chatgpt_label\"].apply(lambda x: float(str(x)[1:-1].split()[0]))\n",
      "/tmp/ipykernel_4082266/3455397725.py:7: PerformanceWarning: DataFrame is highly fragmented.  This is usually the result of calling `frame.insert` many times, which has poor performance.  Consider joining all columns at once using pd.concat(axis=1) instead. To get a de-fragmented frame, use `newframe = frame.copy()`\n",
      "  nllf[f\"{c}(Y)\"] = o[\"chatgpt_label\"].apply(lambda x: float(str(x)[1:-1].split()[1]))\n"
     ]
    },
    {
     "name": "stdout",
     "output_type": "stream",
     "text": [
      "raw53\n",
      "exp21_v1\n"
     ]
    },
    {
     "name": "stderr",
     "output_type": "stream",
     "text": [
      "/tmp/ipykernel_4082266/3455397725.py:6: PerformanceWarning: DataFrame is highly fragmented.  This is usually the result of calling `frame.insert` many times, which has poor performance.  Consider joining all columns at once using pd.concat(axis=1) instead. To get a de-fragmented frame, use `newframe = frame.copy()`\n",
      "  nllf[f\"{c}(N)\"] = o[\"chatgpt_label\"].apply(lambda x: float(str(x)[1:-1].split()[0]))\n",
      "/tmp/ipykernel_4082266/3455397725.py:7: PerformanceWarning: DataFrame is highly fragmented.  This is usually the result of calling `frame.insert` many times, which has poor performance.  Consider joining all columns at once using pd.concat(axis=1) instead. To get a de-fragmented frame, use `newframe = frame.copy()`\n",
      "  nllf[f\"{c}(Y)\"] = o[\"chatgpt_label\"].apply(lambda x: float(str(x)[1:-1].split()[1]))\n",
      "/tmp/ipykernel_4082266/3455397725.py:6: PerformanceWarning: DataFrame is highly fragmented.  This is usually the result of calling `frame.insert` many times, which has poor performance.  Consider joining all columns at once using pd.concat(axis=1) instead. To get a de-fragmented frame, use `newframe = frame.copy()`\n",
      "  nllf[f\"{c}(N)\"] = o[\"chatgpt_label\"].apply(lambda x: float(str(x)[1:-1].split()[0]))\n",
      "/tmp/ipykernel_4082266/3455397725.py:7: PerformanceWarning: DataFrame is highly fragmented.  This is usually the result of calling `frame.insert` many times, which has poor performance.  Consider joining all columns at once using pd.concat(axis=1) instead. To get a de-fragmented frame, use `newframe = frame.copy()`\n",
      "  nllf[f\"{c}(Y)\"] = o[\"chatgpt_label\"].apply(lambda x: float(str(x)[1:-1].split()[1]))\n"
     ]
    },
    {
     "name": "stdout",
     "output_type": "stream",
     "text": [
      "exp19\n",
      "lf14\n"
     ]
    },
    {
     "name": "stderr",
     "output_type": "stream",
     "text": [
      "/tmp/ipykernel_4082266/3455397725.py:6: PerformanceWarning: DataFrame is highly fragmented.  This is usually the result of calling `frame.insert` many times, which has poor performance.  Consider joining all columns at once using pd.concat(axis=1) instead. To get a de-fragmented frame, use `newframe = frame.copy()`\n",
      "  nllf[f\"{c}(N)\"] = o[\"chatgpt_label\"].apply(lambda x: float(str(x)[1:-1].split()[0]))\n",
      "/tmp/ipykernel_4082266/3455397725.py:7: PerformanceWarning: DataFrame is highly fragmented.  This is usually the result of calling `frame.insert` many times, which has poor performance.  Consider joining all columns at once using pd.concat(axis=1) instead. To get a de-fragmented frame, use `newframe = frame.copy()`\n",
      "  nllf[f\"{c}(Y)\"] = o[\"chatgpt_label\"].apply(lambda x: float(str(x)[1:-1].split()[1]))\n",
      "/tmp/ipykernel_4082266/3455397725.py:6: PerformanceWarning: DataFrame is highly fragmented.  This is usually the result of calling `frame.insert` many times, which has poor performance.  Consider joining all columns at once using pd.concat(axis=1) instead. To get a de-fragmented frame, use `newframe = frame.copy()`\n",
      "  nllf[f\"{c}(N)\"] = o[\"chatgpt_label\"].apply(lambda x: float(str(x)[1:-1].split()[0]))\n",
      "/tmp/ipykernel_4082266/3455397725.py:7: PerformanceWarning: DataFrame is highly fragmented.  This is usually the result of calling `frame.insert` many times, which has poor performance.  Consider joining all columns at once using pd.concat(axis=1) instead. To get a de-fragmented frame, use `newframe = frame.copy()`\n",
      "  nllf[f\"{c}(Y)\"] = o[\"chatgpt_label\"].apply(lambda x: float(str(x)[1:-1].split()[1]))\n"
     ]
    },
    {
     "name": "stdout",
     "output_type": "stream",
     "text": [
      "raw45_v2\n",
      "exp5_v3\n",
      "raw2\n"
     ]
    },
    {
     "name": "stderr",
     "output_type": "stream",
     "text": [
      "/tmp/ipykernel_4082266/3455397725.py:6: PerformanceWarning: DataFrame is highly fragmented.  This is usually the result of calling `frame.insert` many times, which has poor performance.  Consider joining all columns at once using pd.concat(axis=1) instead. To get a de-fragmented frame, use `newframe = frame.copy()`\n",
      "  nllf[f\"{c}(N)\"] = o[\"chatgpt_label\"].apply(lambda x: float(str(x)[1:-1].split()[0]))\n",
      "/tmp/ipykernel_4082266/3455397725.py:7: PerformanceWarning: DataFrame is highly fragmented.  This is usually the result of calling `frame.insert` many times, which has poor performance.  Consider joining all columns at once using pd.concat(axis=1) instead. To get a de-fragmented frame, use `newframe = frame.copy()`\n",
      "  nllf[f\"{c}(Y)\"] = o[\"chatgpt_label\"].apply(lambda x: float(str(x)[1:-1].split()[1]))\n",
      "/tmp/ipykernel_4082266/3455397725.py:6: PerformanceWarning: DataFrame is highly fragmented.  This is usually the result of calling `frame.insert` many times, which has poor performance.  Consider joining all columns at once using pd.concat(axis=1) instead. To get a de-fragmented frame, use `newframe = frame.copy()`\n",
      "  nllf[f\"{c}(N)\"] = o[\"chatgpt_label\"].apply(lambda x: float(str(x)[1:-1].split()[0]))\n",
      "/tmp/ipykernel_4082266/3455397725.py:7: PerformanceWarning: DataFrame is highly fragmented.  This is usually the result of calling `frame.insert` many times, which has poor performance.  Consider joining all columns at once using pd.concat(axis=1) instead. To get a de-fragmented frame, use `newframe = frame.copy()`\n",
      "  nllf[f\"{c}(Y)\"] = o[\"chatgpt_label\"].apply(lambda x: float(str(x)[1:-1].split()[1]))\n"
     ]
    },
    {
     "name": "stdout",
     "output_type": "stream",
     "text": [
      "raw63_v2\n",
      "raw17\n"
     ]
    },
    {
     "name": "stderr",
     "output_type": "stream",
     "text": [
      "/tmp/ipykernel_4082266/3455397725.py:6: PerformanceWarning: DataFrame is highly fragmented.  This is usually the result of calling `frame.insert` many times, which has poor performance.  Consider joining all columns at once using pd.concat(axis=1) instead. To get a de-fragmented frame, use `newframe = frame.copy()`\n",
      "  nllf[f\"{c}(N)\"] = o[\"chatgpt_label\"].apply(lambda x: float(str(x)[1:-1].split()[0]))\n",
      "/tmp/ipykernel_4082266/3455397725.py:7: PerformanceWarning: DataFrame is highly fragmented.  This is usually the result of calling `frame.insert` many times, which has poor performance.  Consider joining all columns at once using pd.concat(axis=1) instead. To get a de-fragmented frame, use `newframe = frame.copy()`\n",
      "  nllf[f\"{c}(Y)\"] = o[\"chatgpt_label\"].apply(lambda x: float(str(x)[1:-1].split()[1]))\n",
      "/tmp/ipykernel_4082266/3455397725.py:6: PerformanceWarning: DataFrame is highly fragmented.  This is usually the result of calling `frame.insert` many times, which has poor performance.  Consider joining all columns at once using pd.concat(axis=1) instead. To get a de-fragmented frame, use `newframe = frame.copy()`\n",
      "  nllf[f\"{c}(N)\"] = o[\"chatgpt_label\"].apply(lambda x: float(str(x)[1:-1].split()[0]))\n",
      "/tmp/ipykernel_4082266/3455397725.py:7: PerformanceWarning: DataFrame is highly fragmented.  This is usually the result of calling `frame.insert` many times, which has poor performance.  Consider joining all columns at once using pd.concat(axis=1) instead. To get a de-fragmented frame, use `newframe = frame.copy()`\n",
      "  nllf[f\"{c}(Y)\"] = o[\"chatgpt_label\"].apply(lambda x: float(str(x)[1:-1].split()[1]))\n"
     ]
    },
    {
     "name": "stdout",
     "output_type": "stream",
     "text": [
      "lf8\n",
      "raw63_v3\n"
     ]
    },
    {
     "name": "stderr",
     "output_type": "stream",
     "text": [
      "/tmp/ipykernel_4082266/3455397725.py:6: PerformanceWarning: DataFrame is highly fragmented.  This is usually the result of calling `frame.insert` many times, which has poor performance.  Consider joining all columns at once using pd.concat(axis=1) instead. To get a de-fragmented frame, use `newframe = frame.copy()`\n",
      "  nllf[f\"{c}(N)\"] = o[\"chatgpt_label\"].apply(lambda x: float(str(x)[1:-1].split()[0]))\n",
      "/tmp/ipykernel_4082266/3455397725.py:7: PerformanceWarning: DataFrame is highly fragmented.  This is usually the result of calling `frame.insert` many times, which has poor performance.  Consider joining all columns at once using pd.concat(axis=1) instead. To get a de-fragmented frame, use `newframe = frame.copy()`\n",
      "  nllf[f\"{c}(Y)\"] = o[\"chatgpt_label\"].apply(lambda x: float(str(x)[1:-1].split()[1]))\n",
      "/tmp/ipykernel_4082266/3455397725.py:6: PerformanceWarning: DataFrame is highly fragmented.  This is usually the result of calling `frame.insert` many times, which has poor performance.  Consider joining all columns at once using pd.concat(axis=1) instead. To get a de-fragmented frame, use `newframe = frame.copy()`\n",
      "  nllf[f\"{c}(N)\"] = o[\"chatgpt_label\"].apply(lambda x: float(str(x)[1:-1].split()[0]))\n",
      "/tmp/ipykernel_4082266/3455397725.py:7: PerformanceWarning: DataFrame is highly fragmented.  This is usually the result of calling `frame.insert` many times, which has poor performance.  Consider joining all columns at once using pd.concat(axis=1) instead. To get a de-fragmented frame, use `newframe = frame.copy()`\n",
      "  nllf[f\"{c}(Y)\"] = o[\"chatgpt_label\"].apply(lambda x: float(str(x)[1:-1].split()[1]))\n"
     ]
    },
    {
     "name": "stdout",
     "output_type": "stream",
     "text": [
      "raw48_v3\n",
      "lf22\n"
     ]
    },
    {
     "name": "stderr",
     "output_type": "stream",
     "text": [
      "/tmp/ipykernel_4082266/3455397725.py:6: PerformanceWarning: DataFrame is highly fragmented.  This is usually the result of calling `frame.insert` many times, which has poor performance.  Consider joining all columns at once using pd.concat(axis=1) instead. To get a de-fragmented frame, use `newframe = frame.copy()`\n",
      "  nllf[f\"{c}(N)\"] = o[\"chatgpt_label\"].apply(lambda x: float(str(x)[1:-1].split()[0]))\n",
      "/tmp/ipykernel_4082266/3455397725.py:7: PerformanceWarning: DataFrame is highly fragmented.  This is usually the result of calling `frame.insert` many times, which has poor performance.  Consider joining all columns at once using pd.concat(axis=1) instead. To get a de-fragmented frame, use `newframe = frame.copy()`\n",
      "  nllf[f\"{c}(Y)\"] = o[\"chatgpt_label\"].apply(lambda x: float(str(x)[1:-1].split()[1]))\n",
      "/tmp/ipykernel_4082266/3455397725.py:6: PerformanceWarning: DataFrame is highly fragmented.  This is usually the result of calling `frame.insert` many times, which has poor performance.  Consider joining all columns at once using pd.concat(axis=1) instead. To get a de-fragmented frame, use `newframe = frame.copy()`\n",
      "  nllf[f\"{c}(N)\"] = o[\"chatgpt_label\"].apply(lambda x: float(str(x)[1:-1].split()[0]))\n",
      "/tmp/ipykernel_4082266/3455397725.py:7: PerformanceWarning: DataFrame is highly fragmented.  This is usually the result of calling `frame.insert` many times, which has poor performance.  Consider joining all columns at once using pd.concat(axis=1) instead. To get a de-fragmented frame, use `newframe = frame.copy()`\n",
      "  nllf[f\"{c}(Y)\"] = o[\"chatgpt_label\"].apply(lambda x: float(str(x)[1:-1].split()[1]))\n"
     ]
    },
    {
     "name": "stdout",
     "output_type": "stream",
     "text": [
      "exp16_v3\n",
      "raw67\n"
     ]
    },
    {
     "name": "stderr",
     "output_type": "stream",
     "text": [
      "/tmp/ipykernel_4082266/3455397725.py:6: PerformanceWarning: DataFrame is highly fragmented.  This is usually the result of calling `frame.insert` many times, which has poor performance.  Consider joining all columns at once using pd.concat(axis=1) instead. To get a de-fragmented frame, use `newframe = frame.copy()`\n",
      "  nllf[f\"{c}(N)\"] = o[\"chatgpt_label\"].apply(lambda x: float(str(x)[1:-1].split()[0]))\n",
      "/tmp/ipykernel_4082266/3455397725.py:7: PerformanceWarning: DataFrame is highly fragmented.  This is usually the result of calling `frame.insert` many times, which has poor performance.  Consider joining all columns at once using pd.concat(axis=1) instead. To get a de-fragmented frame, use `newframe = frame.copy()`\n",
      "  nllf[f\"{c}(Y)\"] = o[\"chatgpt_label\"].apply(lambda x: float(str(x)[1:-1].split()[1]))\n",
      "/tmp/ipykernel_4082266/3455397725.py:6: PerformanceWarning: DataFrame is highly fragmented.  This is usually the result of calling `frame.insert` many times, which has poor performance.  Consider joining all columns at once using pd.concat(axis=1) instead. To get a de-fragmented frame, use `newframe = frame.copy()`\n",
      "  nllf[f\"{c}(N)\"] = o[\"chatgpt_label\"].apply(lambda x: float(str(x)[1:-1].split()[0]))\n",
      "/tmp/ipykernel_4082266/3455397725.py:7: PerformanceWarning: DataFrame is highly fragmented.  This is usually the result of calling `frame.insert` many times, which has poor performance.  Consider joining all columns at once using pd.concat(axis=1) instead. To get a de-fragmented frame, use `newframe = frame.copy()`\n",
      "  nllf[f\"{c}(Y)\"] = o[\"chatgpt_label\"].apply(lambda x: float(str(x)[1:-1].split()[1]))\n"
     ]
    },
    {
     "name": "stdout",
     "output_type": "stream",
     "text": [
      "raw76_v3\n",
      "raw59\n"
     ]
    },
    {
     "name": "stderr",
     "output_type": "stream",
     "text": [
      "/tmp/ipykernel_4082266/3455397725.py:6: PerformanceWarning: DataFrame is highly fragmented.  This is usually the result of calling `frame.insert` many times, which has poor performance.  Consider joining all columns at once using pd.concat(axis=1) instead. To get a de-fragmented frame, use `newframe = frame.copy()`\n",
      "  nllf[f\"{c}(N)\"] = o[\"chatgpt_label\"].apply(lambda x: float(str(x)[1:-1].split()[0]))\n",
      "/tmp/ipykernel_4082266/3455397725.py:7: PerformanceWarning: DataFrame is highly fragmented.  This is usually the result of calling `frame.insert` many times, which has poor performance.  Consider joining all columns at once using pd.concat(axis=1) instead. To get a de-fragmented frame, use `newframe = frame.copy()`\n",
      "  nllf[f\"{c}(Y)\"] = o[\"chatgpt_label\"].apply(lambda x: float(str(x)[1:-1].split()[1]))\n",
      "/tmp/ipykernel_4082266/3455397725.py:6: PerformanceWarning: DataFrame is highly fragmented.  This is usually the result of calling `frame.insert` many times, which has poor performance.  Consider joining all columns at once using pd.concat(axis=1) instead. To get a de-fragmented frame, use `newframe = frame.copy()`\n",
      "  nllf[f\"{c}(N)\"] = o[\"chatgpt_label\"].apply(lambda x: float(str(x)[1:-1].split()[0]))\n",
      "/tmp/ipykernel_4082266/3455397725.py:7: PerformanceWarning: DataFrame is highly fragmented.  This is usually the result of calling `frame.insert` many times, which has poor performance.  Consider joining all columns at once using pd.concat(axis=1) instead. To get a de-fragmented frame, use `newframe = frame.copy()`\n",
      "  nllf[f\"{c}(Y)\"] = o[\"chatgpt_label\"].apply(lambda x: float(str(x)[1:-1].split()[1]))\n"
     ]
    },
    {
     "name": "stdout",
     "output_type": "stream",
     "text": [
      "raw54\n",
      "exp36\n"
     ]
    },
    {
     "name": "stderr",
     "output_type": "stream",
     "text": [
      "/tmp/ipykernel_4082266/3455397725.py:6: PerformanceWarning: DataFrame is highly fragmented.  This is usually the result of calling `frame.insert` many times, which has poor performance.  Consider joining all columns at once using pd.concat(axis=1) instead. To get a de-fragmented frame, use `newframe = frame.copy()`\n",
      "  nllf[f\"{c}(N)\"] = o[\"chatgpt_label\"].apply(lambda x: float(str(x)[1:-1].split()[0]))\n",
      "/tmp/ipykernel_4082266/3455397725.py:7: PerformanceWarning: DataFrame is highly fragmented.  This is usually the result of calling `frame.insert` many times, which has poor performance.  Consider joining all columns at once using pd.concat(axis=1) instead. To get a de-fragmented frame, use `newframe = frame.copy()`\n",
      "  nllf[f\"{c}(Y)\"] = o[\"chatgpt_label\"].apply(lambda x: float(str(x)[1:-1].split()[1]))\n",
      "/tmp/ipykernel_4082266/3455397725.py:6: PerformanceWarning: DataFrame is highly fragmented.  This is usually the result of calling `frame.insert` many times, which has poor performance.  Consider joining all columns at once using pd.concat(axis=1) instead. To get a de-fragmented frame, use `newframe = frame.copy()`\n",
      "  nllf[f\"{c}(N)\"] = o[\"chatgpt_label\"].apply(lambda x: float(str(x)[1:-1].split()[0]))\n",
      "/tmp/ipykernel_4082266/3455397725.py:7: PerformanceWarning: DataFrame is highly fragmented.  This is usually the result of calling `frame.insert` many times, which has poor performance.  Consider joining all columns at once using pd.concat(axis=1) instead. To get a de-fragmented frame, use `newframe = frame.copy()`\n",
      "  nllf[f\"{c}(Y)\"] = o[\"chatgpt_label\"].apply(lambda x: float(str(x)[1:-1].split()[1]))\n"
     ]
    },
    {
     "name": "stdout",
     "output_type": "stream",
     "text": [
      "exp1_v3\n",
      "exp16\n"
     ]
    },
    {
     "name": "stderr",
     "output_type": "stream",
     "text": [
      "/tmp/ipykernel_4082266/3455397725.py:6: PerformanceWarning: DataFrame is highly fragmented.  This is usually the result of calling `frame.insert` many times, which has poor performance.  Consider joining all columns at once using pd.concat(axis=1) instead. To get a de-fragmented frame, use `newframe = frame.copy()`\n",
      "  nllf[f\"{c}(N)\"] = o[\"chatgpt_label\"].apply(lambda x: float(str(x)[1:-1].split()[0]))\n",
      "/tmp/ipykernel_4082266/3455397725.py:7: PerformanceWarning: DataFrame is highly fragmented.  This is usually the result of calling `frame.insert` many times, which has poor performance.  Consider joining all columns at once using pd.concat(axis=1) instead. To get a de-fragmented frame, use `newframe = frame.copy()`\n",
      "  nllf[f\"{c}(Y)\"] = o[\"chatgpt_label\"].apply(lambda x: float(str(x)[1:-1].split()[1]))\n",
      "/tmp/ipykernel_4082266/3455397725.py:6: PerformanceWarning: DataFrame is highly fragmented.  This is usually the result of calling `frame.insert` many times, which has poor performance.  Consider joining all columns at once using pd.concat(axis=1) instead. To get a de-fragmented frame, use `newframe = frame.copy()`\n",
      "  nllf[f\"{c}(N)\"] = o[\"chatgpt_label\"].apply(lambda x: float(str(x)[1:-1].split()[0]))\n",
      "/tmp/ipykernel_4082266/3455397725.py:7: PerformanceWarning: DataFrame is highly fragmented.  This is usually the result of calling `frame.insert` many times, which has poor performance.  Consider joining all columns at once using pd.concat(axis=1) instead. To get a de-fragmented frame, use `newframe = frame.copy()`\n",
      "  nllf[f\"{c}(Y)\"] = o[\"chatgpt_label\"].apply(lambda x: float(str(x)[1:-1].split()[1]))\n"
     ]
    },
    {
     "name": "stdout",
     "output_type": "stream",
     "text": [
      "raw47\n",
      "b12_v1_v2\n"
     ]
    },
    {
     "name": "stderr",
     "output_type": "stream",
     "text": [
      "/tmp/ipykernel_4082266/3455397725.py:6: PerformanceWarning: DataFrame is highly fragmented.  This is usually the result of calling `frame.insert` many times, which has poor performance.  Consider joining all columns at once using pd.concat(axis=1) instead. To get a de-fragmented frame, use `newframe = frame.copy()`\n",
      "  nllf[f\"{c}(N)\"] = o[\"chatgpt_label\"].apply(lambda x: float(str(x)[1:-1].split()[0]))\n",
      "/tmp/ipykernel_4082266/3455397725.py:7: PerformanceWarning: DataFrame is highly fragmented.  This is usually the result of calling `frame.insert` many times, which has poor performance.  Consider joining all columns at once using pd.concat(axis=1) instead. To get a de-fragmented frame, use `newframe = frame.copy()`\n",
      "  nllf[f\"{c}(Y)\"] = o[\"chatgpt_label\"].apply(lambda x: float(str(x)[1:-1].split()[1]))\n",
      "/tmp/ipykernel_4082266/3455397725.py:6: PerformanceWarning: DataFrame is highly fragmented.  This is usually the result of calling `frame.insert` many times, which has poor performance.  Consider joining all columns at once using pd.concat(axis=1) instead. To get a de-fragmented frame, use `newframe = frame.copy()`\n",
      "  nllf[f\"{c}(N)\"] = o[\"chatgpt_label\"].apply(lambda x: float(str(x)[1:-1].split()[0]))\n",
      "/tmp/ipykernel_4082266/3455397725.py:7: PerformanceWarning: DataFrame is highly fragmented.  This is usually the result of calling `frame.insert` many times, which has poor performance.  Consider joining all columns at once using pd.concat(axis=1) instead. To get a de-fragmented frame, use `newframe = frame.copy()`\n",
      "  nllf[f\"{c}(Y)\"] = o[\"chatgpt_label\"].apply(lambda x: float(str(x)[1:-1].split()[1]))\n"
     ]
    },
    {
     "name": "stdout",
     "output_type": "stream",
     "text": [
      "raw45\n",
      "exp19_v2\n"
     ]
    },
    {
     "name": "stderr",
     "output_type": "stream",
     "text": [
      "/tmp/ipykernel_4082266/3455397725.py:6: PerformanceWarning: DataFrame is highly fragmented.  This is usually the result of calling `frame.insert` many times, which has poor performance.  Consider joining all columns at once using pd.concat(axis=1) instead. To get a de-fragmented frame, use `newframe = frame.copy()`\n",
      "  nllf[f\"{c}(N)\"] = o[\"chatgpt_label\"].apply(lambda x: float(str(x)[1:-1].split()[0]))\n",
      "/tmp/ipykernel_4082266/3455397725.py:7: PerformanceWarning: DataFrame is highly fragmented.  This is usually the result of calling `frame.insert` many times, which has poor performance.  Consider joining all columns at once using pd.concat(axis=1) instead. To get a de-fragmented frame, use `newframe = frame.copy()`\n",
      "  nllf[f\"{c}(Y)\"] = o[\"chatgpt_label\"].apply(lambda x: float(str(x)[1:-1].split()[1]))\n",
      "/tmp/ipykernel_4082266/3455397725.py:6: PerformanceWarning: DataFrame is highly fragmented.  This is usually the result of calling `frame.insert` many times, which has poor performance.  Consider joining all columns at once using pd.concat(axis=1) instead. To get a de-fragmented frame, use `newframe = frame.copy()`\n",
      "  nllf[f\"{c}(N)\"] = o[\"chatgpt_label\"].apply(lambda x: float(str(x)[1:-1].split()[0]))\n",
      "/tmp/ipykernel_4082266/3455397725.py:7: PerformanceWarning: DataFrame is highly fragmented.  This is usually the result of calling `frame.insert` many times, which has poor performance.  Consider joining all columns at once using pd.concat(axis=1) instead. To get a de-fragmented frame, use `newframe = frame.copy()`\n",
      "  nllf[f\"{c}(Y)\"] = o[\"chatgpt_label\"].apply(lambda x: float(str(x)[1:-1].split()[1]))\n"
     ]
    },
    {
     "name": "stdout",
     "output_type": "stream",
     "text": [
      "raw22\n",
      "raw74_v2\n"
     ]
    },
    {
     "name": "stderr",
     "output_type": "stream",
     "text": [
      "/tmp/ipykernel_4082266/3455397725.py:6: PerformanceWarning: DataFrame is highly fragmented.  This is usually the result of calling `frame.insert` many times, which has poor performance.  Consider joining all columns at once using pd.concat(axis=1) instead. To get a de-fragmented frame, use `newframe = frame.copy()`\n",
      "  nllf[f\"{c}(N)\"] = o[\"chatgpt_label\"].apply(lambda x: float(str(x)[1:-1].split()[0]))\n",
      "/tmp/ipykernel_4082266/3455397725.py:7: PerformanceWarning: DataFrame is highly fragmented.  This is usually the result of calling `frame.insert` many times, which has poor performance.  Consider joining all columns at once using pd.concat(axis=1) instead. To get a de-fragmented frame, use `newframe = frame.copy()`\n",
      "  nllf[f\"{c}(Y)\"] = o[\"chatgpt_label\"].apply(lambda x: float(str(x)[1:-1].split()[1]))\n",
      "/tmp/ipykernel_4082266/3455397725.py:6: PerformanceWarning: DataFrame is highly fragmented.  This is usually the result of calling `frame.insert` many times, which has poor performance.  Consider joining all columns at once using pd.concat(axis=1) instead. To get a de-fragmented frame, use `newframe = frame.copy()`\n",
      "  nllf[f\"{c}(N)\"] = o[\"chatgpt_label\"].apply(lambda x: float(str(x)[1:-1].split()[0]))\n",
      "/tmp/ipykernel_4082266/3455397725.py:7: PerformanceWarning: DataFrame is highly fragmented.  This is usually the result of calling `frame.insert` many times, which has poor performance.  Consider joining all columns at once using pd.concat(axis=1) instead. To get a de-fragmented frame, use `newframe = frame.copy()`\n",
      "  nllf[f\"{c}(Y)\"] = o[\"chatgpt_label\"].apply(lambda x: float(str(x)[1:-1].split()[1]))\n"
     ]
    },
    {
     "name": "stdout",
     "output_type": "stream",
     "text": [
      "exp33_v1\n",
      "raw64\n"
     ]
    },
    {
     "name": "stderr",
     "output_type": "stream",
     "text": [
      "/tmp/ipykernel_4082266/3455397725.py:6: PerformanceWarning: DataFrame is highly fragmented.  This is usually the result of calling `frame.insert` many times, which has poor performance.  Consider joining all columns at once using pd.concat(axis=1) instead. To get a de-fragmented frame, use `newframe = frame.copy()`\n",
      "  nllf[f\"{c}(N)\"] = o[\"chatgpt_label\"].apply(lambda x: float(str(x)[1:-1].split()[0]))\n",
      "/tmp/ipykernel_4082266/3455397725.py:7: PerformanceWarning: DataFrame is highly fragmented.  This is usually the result of calling `frame.insert` many times, which has poor performance.  Consider joining all columns at once using pd.concat(axis=1) instead. To get a de-fragmented frame, use `newframe = frame.copy()`\n",
      "  nllf[f\"{c}(Y)\"] = o[\"chatgpt_label\"].apply(lambda x: float(str(x)[1:-1].split()[1]))\n",
      "/tmp/ipykernel_4082266/3455397725.py:6: PerformanceWarning: DataFrame is highly fragmented.  This is usually the result of calling `frame.insert` many times, which has poor performance.  Consider joining all columns at once using pd.concat(axis=1) instead. To get a de-fragmented frame, use `newframe = frame.copy()`\n",
      "  nllf[f\"{c}(N)\"] = o[\"chatgpt_label\"].apply(lambda x: float(str(x)[1:-1].split()[0]))\n",
      "/tmp/ipykernel_4082266/3455397725.py:7: PerformanceWarning: DataFrame is highly fragmented.  This is usually the result of calling `frame.insert` many times, which has poor performance.  Consider joining all columns at once using pd.concat(axis=1) instead. To get a de-fragmented frame, use `newframe = frame.copy()`\n",
      "  nllf[f\"{c}(Y)\"] = o[\"chatgpt_label\"].apply(lambda x: float(str(x)[1:-1].split()[1]))\n"
     ]
    },
    {
     "name": "stdout",
     "output_type": "stream",
     "text": [
      "exp8\n",
      "raw32\n"
     ]
    },
    {
     "name": "stderr",
     "output_type": "stream",
     "text": [
      "/tmp/ipykernel_4082266/3455397725.py:6: PerformanceWarning: DataFrame is highly fragmented.  This is usually the result of calling `frame.insert` many times, which has poor performance.  Consider joining all columns at once using pd.concat(axis=1) instead. To get a de-fragmented frame, use `newframe = frame.copy()`\n",
      "  nllf[f\"{c}(N)\"] = o[\"chatgpt_label\"].apply(lambda x: float(str(x)[1:-1].split()[0]))\n",
      "/tmp/ipykernel_4082266/3455397725.py:7: PerformanceWarning: DataFrame is highly fragmented.  This is usually the result of calling `frame.insert` many times, which has poor performance.  Consider joining all columns at once using pd.concat(axis=1) instead. To get a de-fragmented frame, use `newframe = frame.copy()`\n",
      "  nllf[f\"{c}(Y)\"] = o[\"chatgpt_label\"].apply(lambda x: float(str(x)[1:-1].split()[1]))\n",
      "/tmp/ipykernel_4082266/3455397725.py:6: PerformanceWarning: DataFrame is highly fragmented.  This is usually the result of calling `frame.insert` many times, which has poor performance.  Consider joining all columns at once using pd.concat(axis=1) instead. To get a de-fragmented frame, use `newframe = frame.copy()`\n",
      "  nllf[f\"{c}(N)\"] = o[\"chatgpt_label\"].apply(lambda x: float(str(x)[1:-1].split()[0]))\n",
      "/tmp/ipykernel_4082266/3455397725.py:7: PerformanceWarning: DataFrame is highly fragmented.  This is usually the result of calling `frame.insert` many times, which has poor performance.  Consider joining all columns at once using pd.concat(axis=1) instead. To get a de-fragmented frame, use `newframe = frame.copy()`\n",
      "  nllf[f\"{c}(Y)\"] = o[\"chatgpt_label\"].apply(lambda x: float(str(x)[1:-1].split()[1]))\n"
     ]
    },
    {
     "name": "stdout",
     "output_type": "stream",
     "text": [
      "raw21_v2\n",
      "exp34\n"
     ]
    },
    {
     "name": "stderr",
     "output_type": "stream",
     "text": [
      "/tmp/ipykernel_4082266/3455397725.py:6: PerformanceWarning: DataFrame is highly fragmented.  This is usually the result of calling `frame.insert` many times, which has poor performance.  Consider joining all columns at once using pd.concat(axis=1) instead. To get a de-fragmented frame, use `newframe = frame.copy()`\n",
      "  nllf[f\"{c}(N)\"] = o[\"chatgpt_label\"].apply(lambda x: float(str(x)[1:-1].split()[0]))\n",
      "/tmp/ipykernel_4082266/3455397725.py:7: PerformanceWarning: DataFrame is highly fragmented.  This is usually the result of calling `frame.insert` many times, which has poor performance.  Consider joining all columns at once using pd.concat(axis=1) instead. To get a de-fragmented frame, use `newframe = frame.copy()`\n",
      "  nllf[f\"{c}(Y)\"] = o[\"chatgpt_label\"].apply(lambda x: float(str(x)[1:-1].split()[1]))\n",
      "/tmp/ipykernel_4082266/3455397725.py:6: PerformanceWarning: DataFrame is highly fragmented.  This is usually the result of calling `frame.insert` many times, which has poor performance.  Consider joining all columns at once using pd.concat(axis=1) instead. To get a de-fragmented frame, use `newframe = frame.copy()`\n",
      "  nllf[f\"{c}(N)\"] = o[\"chatgpt_label\"].apply(lambda x: float(str(x)[1:-1].split()[0]))\n",
      "/tmp/ipykernel_4082266/3455397725.py:7: PerformanceWarning: DataFrame is highly fragmented.  This is usually the result of calling `frame.insert` many times, which has poor performance.  Consider joining all columns at once using pd.concat(axis=1) instead. To get a de-fragmented frame, use `newframe = frame.copy()`\n",
      "  nllf[f\"{c}(Y)\"] = o[\"chatgpt_label\"].apply(lambda x: float(str(x)[1:-1].split()[1]))\n"
     ]
    },
    {
     "name": "stdout",
     "output_type": "stream",
     "text": [
      "raw33_v2\n",
      "lf11\n"
     ]
    },
    {
     "name": "stderr",
     "output_type": "stream",
     "text": [
      "/tmp/ipykernel_4082266/3455397725.py:6: PerformanceWarning: DataFrame is highly fragmented.  This is usually the result of calling `frame.insert` many times, which has poor performance.  Consider joining all columns at once using pd.concat(axis=1) instead. To get a de-fragmented frame, use `newframe = frame.copy()`\n",
      "  nllf[f\"{c}(N)\"] = o[\"chatgpt_label\"].apply(lambda x: float(str(x)[1:-1].split()[0]))\n",
      "/tmp/ipykernel_4082266/3455397725.py:7: PerformanceWarning: DataFrame is highly fragmented.  This is usually the result of calling `frame.insert` many times, which has poor performance.  Consider joining all columns at once using pd.concat(axis=1) instead. To get a de-fragmented frame, use `newframe = frame.copy()`\n",
      "  nllf[f\"{c}(Y)\"] = o[\"chatgpt_label\"].apply(lambda x: float(str(x)[1:-1].split()[1]))\n",
      "/tmp/ipykernel_4082266/3455397725.py:6: PerformanceWarning: DataFrame is highly fragmented.  This is usually the result of calling `frame.insert` many times, which has poor performance.  Consider joining all columns at once using pd.concat(axis=1) instead. To get a de-fragmented frame, use `newframe = frame.copy()`\n",
      "  nllf[f\"{c}(N)\"] = o[\"chatgpt_label\"].apply(lambda x: float(str(x)[1:-1].split()[0]))\n",
      "/tmp/ipykernel_4082266/3455397725.py:7: PerformanceWarning: DataFrame is highly fragmented.  This is usually the result of calling `frame.insert` many times, which has poor performance.  Consider joining all columns at once using pd.concat(axis=1) instead. To get a de-fragmented frame, use `newframe = frame.copy()`\n",
      "  nllf[f\"{c}(Y)\"] = o[\"chatgpt_label\"].apply(lambda x: float(str(x)[1:-1].split()[1]))\n"
     ]
    },
    {
     "name": "stdout",
     "output_type": "stream",
     "text": [
      "exp1_v1_v2\n",
      "exp22_v2_v3\n"
     ]
    },
    {
     "name": "stderr",
     "output_type": "stream",
     "text": [
      "/tmp/ipykernel_4082266/3455397725.py:6: PerformanceWarning: DataFrame is highly fragmented.  This is usually the result of calling `frame.insert` many times, which has poor performance.  Consider joining all columns at once using pd.concat(axis=1) instead. To get a de-fragmented frame, use `newframe = frame.copy()`\n",
      "  nllf[f\"{c}(N)\"] = o[\"chatgpt_label\"].apply(lambda x: float(str(x)[1:-1].split()[0]))\n",
      "/tmp/ipykernel_4082266/3455397725.py:7: PerformanceWarning: DataFrame is highly fragmented.  This is usually the result of calling `frame.insert` many times, which has poor performance.  Consider joining all columns at once using pd.concat(axis=1) instead. To get a de-fragmented frame, use `newframe = frame.copy()`\n",
      "  nllf[f\"{c}(Y)\"] = o[\"chatgpt_label\"].apply(lambda x: float(str(x)[1:-1].split()[1]))\n",
      "/tmp/ipykernel_4082266/3455397725.py:6: PerformanceWarning: DataFrame is highly fragmented.  This is usually the result of calling `frame.insert` many times, which has poor performance.  Consider joining all columns at once using pd.concat(axis=1) instead. To get a de-fragmented frame, use `newframe = frame.copy()`\n",
      "  nllf[f\"{c}(N)\"] = o[\"chatgpt_label\"].apply(lambda x: float(str(x)[1:-1].split()[0]))\n",
      "/tmp/ipykernel_4082266/3455397725.py:7: PerformanceWarning: DataFrame is highly fragmented.  This is usually the result of calling `frame.insert` many times, which has poor performance.  Consider joining all columns at once using pd.concat(axis=1) instead. To get a de-fragmented frame, use `newframe = frame.copy()`\n",
      "  nllf[f\"{c}(Y)\"] = o[\"chatgpt_label\"].apply(lambda x: float(str(x)[1:-1].split()[1]))\n"
     ]
    },
    {
     "name": "stdout",
     "output_type": "stream",
     "text": [
      "exp28\n",
      "raw4\n"
     ]
    },
    {
     "name": "stderr",
     "output_type": "stream",
     "text": [
      "/tmp/ipykernel_4082266/3455397725.py:6: PerformanceWarning: DataFrame is highly fragmented.  This is usually the result of calling `frame.insert` many times, which has poor performance.  Consider joining all columns at once using pd.concat(axis=1) instead. To get a de-fragmented frame, use `newframe = frame.copy()`\n",
      "  nllf[f\"{c}(N)\"] = o[\"chatgpt_label\"].apply(lambda x: float(str(x)[1:-1].split()[0]))\n",
      "/tmp/ipykernel_4082266/3455397725.py:7: PerformanceWarning: DataFrame is highly fragmented.  This is usually the result of calling `frame.insert` many times, which has poor performance.  Consider joining all columns at once using pd.concat(axis=1) instead. To get a de-fragmented frame, use `newframe = frame.copy()`\n",
      "  nllf[f\"{c}(Y)\"] = o[\"chatgpt_label\"].apply(lambda x: float(str(x)[1:-1].split()[1]))\n",
      "/tmp/ipykernel_4082266/3455397725.py:6: PerformanceWarning: DataFrame is highly fragmented.  This is usually the result of calling `frame.insert` many times, which has poor performance.  Consider joining all columns at once using pd.concat(axis=1) instead. To get a de-fragmented frame, use `newframe = frame.copy()`\n",
      "  nllf[f\"{c}(N)\"] = o[\"chatgpt_label\"].apply(lambda x: float(str(x)[1:-1].split()[0]))\n",
      "/tmp/ipykernel_4082266/3455397725.py:7: PerformanceWarning: DataFrame is highly fragmented.  This is usually the result of calling `frame.insert` many times, which has poor performance.  Consider joining all columns at once using pd.concat(axis=1) instead. To get a de-fragmented frame, use `newframe = frame.copy()`\n",
      "  nllf[f\"{c}(Y)\"] = o[\"chatgpt_label\"].apply(lambda x: float(str(x)[1:-1].split()[1]))\n"
     ]
    },
    {
     "name": "stdout",
     "output_type": "stream",
     "text": [
      "b12_v1_v1\n",
      "b6_v1_v3\n"
     ]
    },
    {
     "name": "stderr",
     "output_type": "stream",
     "text": [
      "/tmp/ipykernel_4082266/3455397725.py:6: PerformanceWarning: DataFrame is highly fragmented.  This is usually the result of calling `frame.insert` many times, which has poor performance.  Consider joining all columns at once using pd.concat(axis=1) instead. To get a de-fragmented frame, use `newframe = frame.copy()`\n",
      "  nllf[f\"{c}(N)\"] = o[\"chatgpt_label\"].apply(lambda x: float(str(x)[1:-1].split()[0]))\n",
      "/tmp/ipykernel_4082266/3455397725.py:7: PerformanceWarning: DataFrame is highly fragmented.  This is usually the result of calling `frame.insert` many times, which has poor performance.  Consider joining all columns at once using pd.concat(axis=1) instead. To get a de-fragmented frame, use `newframe = frame.copy()`\n",
      "  nllf[f\"{c}(Y)\"] = o[\"chatgpt_label\"].apply(lambda x: float(str(x)[1:-1].split()[1]))\n",
      "/tmp/ipykernel_4082266/3455397725.py:6: PerformanceWarning: DataFrame is highly fragmented.  This is usually the result of calling `frame.insert` many times, which has poor performance.  Consider joining all columns at once using pd.concat(axis=1) instead. To get a de-fragmented frame, use `newframe = frame.copy()`\n",
      "  nllf[f\"{c}(N)\"] = o[\"chatgpt_label\"].apply(lambda x: float(str(x)[1:-1].split()[0]))\n",
      "/tmp/ipykernel_4082266/3455397725.py:7: PerformanceWarning: DataFrame is highly fragmented.  This is usually the result of calling `frame.insert` many times, which has poor performance.  Consider joining all columns at once using pd.concat(axis=1) instead. To get a de-fragmented frame, use `newframe = frame.copy()`\n",
      "  nllf[f\"{c}(Y)\"] = o[\"chatgpt_label\"].apply(lambda x: float(str(x)[1:-1].split()[1]))\n"
     ]
    },
    {
     "name": "stdout",
     "output_type": "stream",
     "text": [
      "b10\n",
      "b8\n"
     ]
    },
    {
     "name": "stderr",
     "output_type": "stream",
     "text": [
      "/tmp/ipykernel_4082266/3455397725.py:6: PerformanceWarning: DataFrame is highly fragmented.  This is usually the result of calling `frame.insert` many times, which has poor performance.  Consider joining all columns at once using pd.concat(axis=1) instead. To get a de-fragmented frame, use `newframe = frame.copy()`\n",
      "  nllf[f\"{c}(N)\"] = o[\"chatgpt_label\"].apply(lambda x: float(str(x)[1:-1].split()[0]))\n",
      "/tmp/ipykernel_4082266/3455397725.py:7: PerformanceWarning: DataFrame is highly fragmented.  This is usually the result of calling `frame.insert` many times, which has poor performance.  Consider joining all columns at once using pd.concat(axis=1) instead. To get a de-fragmented frame, use `newframe = frame.copy()`\n",
      "  nllf[f\"{c}(Y)\"] = o[\"chatgpt_label\"].apply(lambda x: float(str(x)[1:-1].split()[1]))\n",
      "/tmp/ipykernel_4082266/3455397725.py:6: PerformanceWarning: DataFrame is highly fragmented.  This is usually the result of calling `frame.insert` many times, which has poor performance.  Consider joining all columns at once using pd.concat(axis=1) instead. To get a de-fragmented frame, use `newframe = frame.copy()`\n",
      "  nllf[f\"{c}(N)\"] = o[\"chatgpt_label\"].apply(lambda x: float(str(x)[1:-1].split()[0]))\n",
      "/tmp/ipykernel_4082266/3455397725.py:7: PerformanceWarning: DataFrame is highly fragmented.  This is usually the result of calling `frame.insert` many times, which has poor performance.  Consider joining all columns at once using pd.concat(axis=1) instead. To get a de-fragmented frame, use `newframe = frame.copy()`\n",
      "  nllf[f\"{c}(Y)\"] = o[\"chatgpt_label\"].apply(lambda x: float(str(x)[1:-1].split()[1]))\n"
     ]
    },
    {
     "name": "stdout",
     "output_type": "stream",
     "text": [
      "exp14_v1\n",
      "exp1_v3_v3\n"
     ]
    },
    {
     "name": "stderr",
     "output_type": "stream",
     "text": [
      "/tmp/ipykernel_4082266/3455397725.py:6: PerformanceWarning: DataFrame is highly fragmented.  This is usually the result of calling `frame.insert` many times, which has poor performance.  Consider joining all columns at once using pd.concat(axis=1) instead. To get a de-fragmented frame, use `newframe = frame.copy()`\n",
      "  nllf[f\"{c}(N)\"] = o[\"chatgpt_label\"].apply(lambda x: float(str(x)[1:-1].split()[0]))\n",
      "/tmp/ipykernel_4082266/3455397725.py:7: PerformanceWarning: DataFrame is highly fragmented.  This is usually the result of calling `frame.insert` many times, which has poor performance.  Consider joining all columns at once using pd.concat(axis=1) instead. To get a de-fragmented frame, use `newframe = frame.copy()`\n",
      "  nllf[f\"{c}(Y)\"] = o[\"chatgpt_label\"].apply(lambda x: float(str(x)[1:-1].split()[1]))\n",
      "/tmp/ipykernel_4082266/3455397725.py:6: PerformanceWarning: DataFrame is highly fragmented.  This is usually the result of calling `frame.insert` many times, which has poor performance.  Consider joining all columns at once using pd.concat(axis=1) instead. To get a de-fragmented frame, use `newframe = frame.copy()`\n",
      "  nllf[f\"{c}(N)\"] = o[\"chatgpt_label\"].apply(lambda x: float(str(x)[1:-1].split()[0]))\n",
      "/tmp/ipykernel_4082266/3455397725.py:7: PerformanceWarning: DataFrame is highly fragmented.  This is usually the result of calling `frame.insert` many times, which has poor performance.  Consider joining all columns at once using pd.concat(axis=1) instead. To get a de-fragmented frame, use `newframe = frame.copy()`\n",
      "  nllf[f\"{c}(Y)\"] = o[\"chatgpt_label\"].apply(lambda x: float(str(x)[1:-1].split()[1]))\n"
     ]
    },
    {
     "name": "stdout",
     "output_type": "stream",
     "text": [
      "raw48_v1\n",
      "exp24\n"
     ]
    },
    {
     "name": "stderr",
     "output_type": "stream",
     "text": [
      "/tmp/ipykernel_4082266/3455397725.py:6: PerformanceWarning: DataFrame is highly fragmented.  This is usually the result of calling `frame.insert` many times, which has poor performance.  Consider joining all columns at once using pd.concat(axis=1) instead. To get a de-fragmented frame, use `newframe = frame.copy()`\n",
      "  nllf[f\"{c}(N)\"] = o[\"chatgpt_label\"].apply(lambda x: float(str(x)[1:-1].split()[0]))\n",
      "/tmp/ipykernel_4082266/3455397725.py:7: PerformanceWarning: DataFrame is highly fragmented.  This is usually the result of calling `frame.insert` many times, which has poor performance.  Consider joining all columns at once using pd.concat(axis=1) instead. To get a de-fragmented frame, use `newframe = frame.copy()`\n",
      "  nllf[f\"{c}(Y)\"] = o[\"chatgpt_label\"].apply(lambda x: float(str(x)[1:-1].split()[1]))\n",
      "/tmp/ipykernel_4082266/3455397725.py:6: PerformanceWarning: DataFrame is highly fragmented.  This is usually the result of calling `frame.insert` many times, which has poor performance.  Consider joining all columns at once using pd.concat(axis=1) instead. To get a de-fragmented frame, use `newframe = frame.copy()`\n",
      "  nllf[f\"{c}(N)\"] = o[\"chatgpt_label\"].apply(lambda x: float(str(x)[1:-1].split()[0]))\n",
      "/tmp/ipykernel_4082266/3455397725.py:7: PerformanceWarning: DataFrame is highly fragmented.  This is usually the result of calling `frame.insert` many times, which has poor performance.  Consider joining all columns at once using pd.concat(axis=1) instead. To get a de-fragmented frame, use `newframe = frame.copy()`\n",
      "  nllf[f\"{c}(Y)\"] = o[\"chatgpt_label\"].apply(lambda x: float(str(x)[1:-1].split()[1]))\n"
     ]
    },
    {
     "name": "stdout",
     "output_type": "stream",
     "text": [
      "exp1\n",
      "b6_v3\n"
     ]
    },
    {
     "name": "stderr",
     "output_type": "stream",
     "text": [
      "/tmp/ipykernel_4082266/3455397725.py:6: PerformanceWarning: DataFrame is highly fragmented.  This is usually the result of calling `frame.insert` many times, which has poor performance.  Consider joining all columns at once using pd.concat(axis=1) instead. To get a de-fragmented frame, use `newframe = frame.copy()`\n",
      "  nllf[f\"{c}(N)\"] = o[\"chatgpt_label\"].apply(lambda x: float(str(x)[1:-1].split()[0]))\n",
      "/tmp/ipykernel_4082266/3455397725.py:7: PerformanceWarning: DataFrame is highly fragmented.  This is usually the result of calling `frame.insert` many times, which has poor performance.  Consider joining all columns at once using pd.concat(axis=1) instead. To get a de-fragmented frame, use `newframe = frame.copy()`\n",
      "  nllf[f\"{c}(Y)\"] = o[\"chatgpt_label\"].apply(lambda x: float(str(x)[1:-1].split()[1]))\n",
      "/tmp/ipykernel_4082266/3455397725.py:6: PerformanceWarning: DataFrame is highly fragmented.  This is usually the result of calling `frame.insert` many times, which has poor performance.  Consider joining all columns at once using pd.concat(axis=1) instead. To get a de-fragmented frame, use `newframe = frame.copy()`\n",
      "  nllf[f\"{c}(N)\"] = o[\"chatgpt_label\"].apply(lambda x: float(str(x)[1:-1].split()[0]))\n",
      "/tmp/ipykernel_4082266/3455397725.py:7: PerformanceWarning: DataFrame is highly fragmented.  This is usually the result of calling `frame.insert` many times, which has poor performance.  Consider joining all columns at once using pd.concat(axis=1) instead. To get a de-fragmented frame, use `newframe = frame.copy()`\n",
      "  nllf[f\"{c}(Y)\"] = o[\"chatgpt_label\"].apply(lambda x: float(str(x)[1:-1].split()[1]))\n"
     ]
    },
    {
     "name": "stdout",
     "output_type": "stream",
     "text": [
      "exp29\n",
      "raw74\n"
     ]
    },
    {
     "name": "stderr",
     "output_type": "stream",
     "text": [
      "/tmp/ipykernel_4082266/3455397725.py:6: PerformanceWarning: DataFrame is highly fragmented.  This is usually the result of calling `frame.insert` many times, which has poor performance.  Consider joining all columns at once using pd.concat(axis=1) instead. To get a de-fragmented frame, use `newframe = frame.copy()`\n",
      "  nllf[f\"{c}(N)\"] = o[\"chatgpt_label\"].apply(lambda x: float(str(x)[1:-1].split()[0]))\n",
      "/tmp/ipykernel_4082266/3455397725.py:7: PerformanceWarning: DataFrame is highly fragmented.  This is usually the result of calling `frame.insert` many times, which has poor performance.  Consider joining all columns at once using pd.concat(axis=1) instead. To get a de-fragmented frame, use `newframe = frame.copy()`\n",
      "  nllf[f\"{c}(Y)\"] = o[\"chatgpt_label\"].apply(lambda x: float(str(x)[1:-1].split()[1]))\n",
      "/tmp/ipykernel_4082266/3455397725.py:6: PerformanceWarning: DataFrame is highly fragmented.  This is usually the result of calling `frame.insert` many times, which has poor performance.  Consider joining all columns at once using pd.concat(axis=1) instead. To get a de-fragmented frame, use `newframe = frame.copy()`\n",
      "  nllf[f\"{c}(N)\"] = o[\"chatgpt_label\"].apply(lambda x: float(str(x)[1:-1].split()[0]))\n",
      "/tmp/ipykernel_4082266/3455397725.py:7: PerformanceWarning: DataFrame is highly fragmented.  This is usually the result of calling `frame.insert` many times, which has poor performance.  Consider joining all columns at once using pd.concat(axis=1) instead. To get a de-fragmented frame, use `newframe = frame.copy()`\n",
      "  nllf[f\"{c}(Y)\"] = o[\"chatgpt_label\"].apply(lambda x: float(str(x)[1:-1].split()[1]))\n"
     ]
    },
    {
     "name": "stdout",
     "output_type": "stream",
     "text": [
      "exp10_v2\n",
      "b4\n"
     ]
    },
    {
     "name": "stderr",
     "output_type": "stream",
     "text": [
      "/tmp/ipykernel_4082266/3455397725.py:6: PerformanceWarning: DataFrame is highly fragmented.  This is usually the result of calling `frame.insert` many times, which has poor performance.  Consider joining all columns at once using pd.concat(axis=1) instead. To get a de-fragmented frame, use `newframe = frame.copy()`\n",
      "  nllf[f\"{c}(N)\"] = o[\"chatgpt_label\"].apply(lambda x: float(str(x)[1:-1].split()[0]))\n",
      "/tmp/ipykernel_4082266/3455397725.py:7: PerformanceWarning: DataFrame is highly fragmented.  This is usually the result of calling `frame.insert` many times, which has poor performance.  Consider joining all columns at once using pd.concat(axis=1) instead. To get a de-fragmented frame, use `newframe = frame.copy()`\n",
      "  nllf[f\"{c}(Y)\"] = o[\"chatgpt_label\"].apply(lambda x: float(str(x)[1:-1].split()[1]))\n",
      "/tmp/ipykernel_4082266/3455397725.py:6: PerformanceWarning: DataFrame is highly fragmented.  This is usually the result of calling `frame.insert` many times, which has poor performance.  Consider joining all columns at once using pd.concat(axis=1) instead. To get a de-fragmented frame, use `newframe = frame.copy()`\n",
      "  nllf[f\"{c}(N)\"] = o[\"chatgpt_label\"].apply(lambda x: float(str(x)[1:-1].split()[0]))\n",
      "/tmp/ipykernel_4082266/3455397725.py:7: PerformanceWarning: DataFrame is highly fragmented.  This is usually the result of calling `frame.insert` many times, which has poor performance.  Consider joining all columns at once using pd.concat(axis=1) instead. To get a de-fragmented frame, use `newframe = frame.copy()`\n",
      "  nllf[f\"{c}(Y)\"] = o[\"chatgpt_label\"].apply(lambda x: float(str(x)[1:-1].split()[1]))\n"
     ]
    },
    {
     "name": "stdout",
     "output_type": "stream",
     "text": [
      "exp2_v1\n",
      "raw29\n"
     ]
    },
    {
     "name": "stderr",
     "output_type": "stream",
     "text": [
      "/tmp/ipykernel_4082266/3455397725.py:6: PerformanceWarning: DataFrame is highly fragmented.  This is usually the result of calling `frame.insert` many times, which has poor performance.  Consider joining all columns at once using pd.concat(axis=1) instead. To get a de-fragmented frame, use `newframe = frame.copy()`\n",
      "  nllf[f\"{c}(N)\"] = o[\"chatgpt_label\"].apply(lambda x: float(str(x)[1:-1].split()[0]))\n",
      "/tmp/ipykernel_4082266/3455397725.py:7: PerformanceWarning: DataFrame is highly fragmented.  This is usually the result of calling `frame.insert` many times, which has poor performance.  Consider joining all columns at once using pd.concat(axis=1) instead. To get a de-fragmented frame, use `newframe = frame.copy()`\n",
      "  nllf[f\"{c}(Y)\"] = o[\"chatgpt_label\"].apply(lambda x: float(str(x)[1:-1].split()[1]))\n",
      "/tmp/ipykernel_4082266/3455397725.py:6: PerformanceWarning: DataFrame is highly fragmented.  This is usually the result of calling `frame.insert` many times, which has poor performance.  Consider joining all columns at once using pd.concat(axis=1) instead. To get a de-fragmented frame, use `newframe = frame.copy()`\n",
      "  nllf[f\"{c}(N)\"] = o[\"chatgpt_label\"].apply(lambda x: float(str(x)[1:-1].split()[0]))\n",
      "/tmp/ipykernel_4082266/3455397725.py:7: PerformanceWarning: DataFrame is highly fragmented.  This is usually the result of calling `frame.insert` many times, which has poor performance.  Consider joining all columns at once using pd.concat(axis=1) instead. To get a de-fragmented frame, use `newframe = frame.copy()`\n",
      "  nllf[f\"{c}(Y)\"] = o[\"chatgpt_label\"].apply(lambda x: float(str(x)[1:-1].split()[1]))\n"
     ]
    },
    {
     "name": "stdout",
     "output_type": "stream",
     "text": [
      "raw12\n",
      "exp7\n"
     ]
    },
    {
     "name": "stderr",
     "output_type": "stream",
     "text": [
      "/tmp/ipykernel_4082266/3455397725.py:6: PerformanceWarning: DataFrame is highly fragmented.  This is usually the result of calling `frame.insert` many times, which has poor performance.  Consider joining all columns at once using pd.concat(axis=1) instead. To get a de-fragmented frame, use `newframe = frame.copy()`\n",
      "  nllf[f\"{c}(N)\"] = o[\"chatgpt_label\"].apply(lambda x: float(str(x)[1:-1].split()[0]))\n",
      "/tmp/ipykernel_4082266/3455397725.py:7: PerformanceWarning: DataFrame is highly fragmented.  This is usually the result of calling `frame.insert` many times, which has poor performance.  Consider joining all columns at once using pd.concat(axis=1) instead. To get a de-fragmented frame, use `newframe = frame.copy()`\n",
      "  nllf[f\"{c}(Y)\"] = o[\"chatgpt_label\"].apply(lambda x: float(str(x)[1:-1].split()[1]))\n",
      "/tmp/ipykernel_4082266/3455397725.py:6: PerformanceWarning: DataFrame is highly fragmented.  This is usually the result of calling `frame.insert` many times, which has poor performance.  Consider joining all columns at once using pd.concat(axis=1) instead. To get a de-fragmented frame, use `newframe = frame.copy()`\n",
      "  nllf[f\"{c}(N)\"] = o[\"chatgpt_label\"].apply(lambda x: float(str(x)[1:-1].split()[0]))\n",
      "/tmp/ipykernel_4082266/3455397725.py:7: PerformanceWarning: DataFrame is highly fragmented.  This is usually the result of calling `frame.insert` many times, which has poor performance.  Consider joining all columns at once using pd.concat(axis=1) instead. To get a de-fragmented frame, use `newframe = frame.copy()`\n",
      "  nllf[f\"{c}(Y)\"] = o[\"chatgpt_label\"].apply(lambda x: float(str(x)[1:-1].split()[1]))\n"
     ]
    },
    {
     "name": "stdout",
     "output_type": "stream",
     "text": [
      "raw40\n",
      "raw47_v2\n"
     ]
    },
    {
     "name": "stderr",
     "output_type": "stream",
     "text": [
      "/tmp/ipykernel_4082266/3455397725.py:6: PerformanceWarning: DataFrame is highly fragmented.  This is usually the result of calling `frame.insert` many times, which has poor performance.  Consider joining all columns at once using pd.concat(axis=1) instead. To get a de-fragmented frame, use `newframe = frame.copy()`\n",
      "  nllf[f\"{c}(N)\"] = o[\"chatgpt_label\"].apply(lambda x: float(str(x)[1:-1].split()[0]))\n",
      "/tmp/ipykernel_4082266/3455397725.py:7: PerformanceWarning: DataFrame is highly fragmented.  This is usually the result of calling `frame.insert` many times, which has poor performance.  Consider joining all columns at once using pd.concat(axis=1) instead. To get a de-fragmented frame, use `newframe = frame.copy()`\n",
      "  nllf[f\"{c}(Y)\"] = o[\"chatgpt_label\"].apply(lambda x: float(str(x)[1:-1].split()[1]))\n",
      "/tmp/ipykernel_4082266/3455397725.py:6: PerformanceWarning: DataFrame is highly fragmented.  This is usually the result of calling `frame.insert` many times, which has poor performance.  Consider joining all columns at once using pd.concat(axis=1) instead. To get a de-fragmented frame, use `newframe = frame.copy()`\n",
      "  nllf[f\"{c}(N)\"] = o[\"chatgpt_label\"].apply(lambda x: float(str(x)[1:-1].split()[0]))\n",
      "/tmp/ipykernel_4082266/3455397725.py:7: PerformanceWarning: DataFrame is highly fragmented.  This is usually the result of calling `frame.insert` many times, which has poor performance.  Consider joining all columns at once using pd.concat(axis=1) instead. To get a de-fragmented frame, use `newframe = frame.copy()`\n",
      "  nllf[f\"{c}(Y)\"] = o[\"chatgpt_label\"].apply(lambda x: float(str(x)[1:-1].split()[1]))\n"
     ]
    },
    {
     "name": "stdout",
     "output_type": "stream",
     "text": [
      "b4_v3\n",
      "raw50\n"
     ]
    },
    {
     "name": "stderr",
     "output_type": "stream",
     "text": [
      "/tmp/ipykernel_4082266/3455397725.py:6: PerformanceWarning: DataFrame is highly fragmented.  This is usually the result of calling `frame.insert` many times, which has poor performance.  Consider joining all columns at once using pd.concat(axis=1) instead. To get a de-fragmented frame, use `newframe = frame.copy()`\n",
      "  nllf[f\"{c}(N)\"] = o[\"chatgpt_label\"].apply(lambda x: float(str(x)[1:-1].split()[0]))\n",
      "/tmp/ipykernel_4082266/3455397725.py:7: PerformanceWarning: DataFrame is highly fragmented.  This is usually the result of calling `frame.insert` many times, which has poor performance.  Consider joining all columns at once using pd.concat(axis=1) instead. To get a de-fragmented frame, use `newframe = frame.copy()`\n",
      "  nllf[f\"{c}(Y)\"] = o[\"chatgpt_label\"].apply(lambda x: float(str(x)[1:-1].split()[1]))\n",
      "/tmp/ipykernel_4082266/3455397725.py:6: PerformanceWarning: DataFrame is highly fragmented.  This is usually the result of calling `frame.insert` many times, which has poor performance.  Consider joining all columns at once using pd.concat(axis=1) instead. To get a de-fragmented frame, use `newframe = frame.copy()`\n",
      "  nllf[f\"{c}(N)\"] = o[\"chatgpt_label\"].apply(lambda x: float(str(x)[1:-1].split()[0]))\n",
      "/tmp/ipykernel_4082266/3455397725.py:7: PerformanceWarning: DataFrame is highly fragmented.  This is usually the result of calling `frame.insert` many times, which has poor performance.  Consider joining all columns at once using pd.concat(axis=1) instead. To get a de-fragmented frame, use `newframe = frame.copy()`\n",
      "  nllf[f\"{c}(Y)\"] = o[\"chatgpt_label\"].apply(lambda x: float(str(x)[1:-1].split()[1]))\n"
     ]
    },
    {
     "name": "stdout",
     "output_type": "stream",
     "text": [
      "raw76_v1\n",
      "raw66_v1\n"
     ]
    },
    {
     "name": "stderr",
     "output_type": "stream",
     "text": [
      "/tmp/ipykernel_4082266/3455397725.py:6: PerformanceWarning: DataFrame is highly fragmented.  This is usually the result of calling `frame.insert` many times, which has poor performance.  Consider joining all columns at once using pd.concat(axis=1) instead. To get a de-fragmented frame, use `newframe = frame.copy()`\n",
      "  nllf[f\"{c}(N)\"] = o[\"chatgpt_label\"].apply(lambda x: float(str(x)[1:-1].split()[0]))\n",
      "/tmp/ipykernel_4082266/3455397725.py:7: PerformanceWarning: DataFrame is highly fragmented.  This is usually the result of calling `frame.insert` many times, which has poor performance.  Consider joining all columns at once using pd.concat(axis=1) instead. To get a de-fragmented frame, use `newframe = frame.copy()`\n",
      "  nllf[f\"{c}(Y)\"] = o[\"chatgpt_label\"].apply(lambda x: float(str(x)[1:-1].split()[1]))\n",
      "/tmp/ipykernel_4082266/3455397725.py:6: PerformanceWarning: DataFrame is highly fragmented.  This is usually the result of calling `frame.insert` many times, which has poor performance.  Consider joining all columns at once using pd.concat(axis=1) instead. To get a de-fragmented frame, use `newframe = frame.copy()`\n",
      "  nllf[f\"{c}(N)\"] = o[\"chatgpt_label\"].apply(lambda x: float(str(x)[1:-1].split()[0]))\n",
      "/tmp/ipykernel_4082266/3455397725.py:7: PerformanceWarning: DataFrame is highly fragmented.  This is usually the result of calling `frame.insert` many times, which has poor performance.  Consider joining all columns at once using pd.concat(axis=1) instead. To get a de-fragmented frame, use `newframe = frame.copy()`\n",
      "  nllf[f\"{c}(Y)\"] = o[\"chatgpt_label\"].apply(lambda x: float(str(x)[1:-1].split()[1]))\n"
     ]
    },
    {
     "name": "stdout",
     "output_type": "stream",
     "text": [
      "raw5\n",
      "raw35\n"
     ]
    },
    {
     "name": "stderr",
     "output_type": "stream",
     "text": [
      "/tmp/ipykernel_4082266/3455397725.py:6: PerformanceWarning: DataFrame is highly fragmented.  This is usually the result of calling `frame.insert` many times, which has poor performance.  Consider joining all columns at once using pd.concat(axis=1) instead. To get a de-fragmented frame, use `newframe = frame.copy()`\n",
      "  nllf[f\"{c}(N)\"] = o[\"chatgpt_label\"].apply(lambda x: float(str(x)[1:-1].split()[0]))\n",
      "/tmp/ipykernel_4082266/3455397725.py:7: PerformanceWarning: DataFrame is highly fragmented.  This is usually the result of calling `frame.insert` many times, which has poor performance.  Consider joining all columns at once using pd.concat(axis=1) instead. To get a de-fragmented frame, use `newframe = frame.copy()`\n",
      "  nllf[f\"{c}(Y)\"] = o[\"chatgpt_label\"].apply(lambda x: float(str(x)[1:-1].split()[1]))\n",
      "/tmp/ipykernel_4082266/3455397725.py:6: PerformanceWarning: DataFrame is highly fragmented.  This is usually the result of calling `frame.insert` many times, which has poor performance.  Consider joining all columns at once using pd.concat(axis=1) instead. To get a de-fragmented frame, use `newframe = frame.copy()`\n",
      "  nllf[f\"{c}(N)\"] = o[\"chatgpt_label\"].apply(lambda x: float(str(x)[1:-1].split()[0]))\n",
      "/tmp/ipykernel_4082266/3455397725.py:7: PerformanceWarning: DataFrame is highly fragmented.  This is usually the result of calling `frame.insert` many times, which has poor performance.  Consider joining all columns at once using pd.concat(axis=1) instead. To get a de-fragmented frame, use `newframe = frame.copy()`\n",
      "  nllf[f\"{c}(Y)\"] = o[\"chatgpt_label\"].apply(lambda x: float(str(x)[1:-1].split()[1]))\n"
     ]
    },
    {
     "name": "stdout",
     "output_type": "stream",
     "text": [
      "raw31_v3\n",
      "raw30_v2\n"
     ]
    },
    {
     "name": "stderr",
     "output_type": "stream",
     "text": [
      "/tmp/ipykernel_4082266/3455397725.py:6: PerformanceWarning: DataFrame is highly fragmented.  This is usually the result of calling `frame.insert` many times, which has poor performance.  Consider joining all columns at once using pd.concat(axis=1) instead. To get a de-fragmented frame, use `newframe = frame.copy()`\n",
      "  nllf[f\"{c}(N)\"] = o[\"chatgpt_label\"].apply(lambda x: float(str(x)[1:-1].split()[0]))\n",
      "/tmp/ipykernel_4082266/3455397725.py:7: PerformanceWarning: DataFrame is highly fragmented.  This is usually the result of calling `frame.insert` many times, which has poor performance.  Consider joining all columns at once using pd.concat(axis=1) instead. To get a de-fragmented frame, use `newframe = frame.copy()`\n",
      "  nllf[f\"{c}(Y)\"] = o[\"chatgpt_label\"].apply(lambda x: float(str(x)[1:-1].split()[1]))\n",
      "/tmp/ipykernel_4082266/3455397725.py:6: PerformanceWarning: DataFrame is highly fragmented.  This is usually the result of calling `frame.insert` many times, which has poor performance.  Consider joining all columns at once using pd.concat(axis=1) instead. To get a de-fragmented frame, use `newframe = frame.copy()`\n",
      "  nllf[f\"{c}(N)\"] = o[\"chatgpt_label\"].apply(lambda x: float(str(x)[1:-1].split()[0]))\n",
      "/tmp/ipykernel_4082266/3455397725.py:7: PerformanceWarning: DataFrame is highly fragmented.  This is usually the result of calling `frame.insert` many times, which has poor performance.  Consider joining all columns at once using pd.concat(axis=1) instead. To get a de-fragmented frame, use `newframe = frame.copy()`\n",
      "  nllf[f\"{c}(Y)\"] = o[\"chatgpt_label\"].apply(lambda x: float(str(x)[1:-1].split()[1]))\n"
     ]
    },
    {
     "name": "stdout",
     "output_type": "stream",
     "text": [
      "raw14\n",
      "exp10_v1\n"
     ]
    },
    {
     "name": "stderr",
     "output_type": "stream",
     "text": [
      "/tmp/ipykernel_4082266/3455397725.py:6: PerformanceWarning: DataFrame is highly fragmented.  This is usually the result of calling `frame.insert` many times, which has poor performance.  Consider joining all columns at once using pd.concat(axis=1) instead. To get a de-fragmented frame, use `newframe = frame.copy()`\n",
      "  nllf[f\"{c}(N)\"] = o[\"chatgpt_label\"].apply(lambda x: float(str(x)[1:-1].split()[0]))\n",
      "/tmp/ipykernel_4082266/3455397725.py:7: PerformanceWarning: DataFrame is highly fragmented.  This is usually the result of calling `frame.insert` many times, which has poor performance.  Consider joining all columns at once using pd.concat(axis=1) instead. To get a de-fragmented frame, use `newframe = frame.copy()`\n",
      "  nllf[f\"{c}(Y)\"] = o[\"chatgpt_label\"].apply(lambda x: float(str(x)[1:-1].split()[1]))\n",
      "/tmp/ipykernel_4082266/3455397725.py:6: PerformanceWarning: DataFrame is highly fragmented.  This is usually the result of calling `frame.insert` many times, which has poor performance.  Consider joining all columns at once using pd.concat(axis=1) instead. To get a de-fragmented frame, use `newframe = frame.copy()`\n",
      "  nllf[f\"{c}(N)\"] = o[\"chatgpt_label\"].apply(lambda x: float(str(x)[1:-1].split()[0]))\n",
      "/tmp/ipykernel_4082266/3455397725.py:7: PerformanceWarning: DataFrame is highly fragmented.  This is usually the result of calling `frame.insert` many times, which has poor performance.  Consider joining all columns at once using pd.concat(axis=1) instead. To get a de-fragmented frame, use `newframe = frame.copy()`\n",
      "  nllf[f\"{c}(Y)\"] = o[\"chatgpt_label\"].apply(lambda x: float(str(x)[1:-1].split()[1]))\n"
     ]
    },
    {
     "name": "stdout",
     "output_type": "stream",
     "text": [
      "exp5_v1\n",
      "b1\n"
     ]
    },
    {
     "name": "stderr",
     "output_type": "stream",
     "text": [
      "/tmp/ipykernel_4082266/3455397725.py:6: PerformanceWarning: DataFrame is highly fragmented.  This is usually the result of calling `frame.insert` many times, which has poor performance.  Consider joining all columns at once using pd.concat(axis=1) instead. To get a de-fragmented frame, use `newframe = frame.copy()`\n",
      "  nllf[f\"{c}(N)\"] = o[\"chatgpt_label\"].apply(lambda x: float(str(x)[1:-1].split()[0]))\n",
      "/tmp/ipykernel_4082266/3455397725.py:7: PerformanceWarning: DataFrame is highly fragmented.  This is usually the result of calling `frame.insert` many times, which has poor performance.  Consider joining all columns at once using pd.concat(axis=1) instead. To get a de-fragmented frame, use `newframe = frame.copy()`\n",
      "  nllf[f\"{c}(Y)\"] = o[\"chatgpt_label\"].apply(lambda x: float(str(x)[1:-1].split()[1]))\n",
      "/tmp/ipykernel_4082266/3455397725.py:6: PerformanceWarning: DataFrame is highly fragmented.  This is usually the result of calling `frame.insert` many times, which has poor performance.  Consider joining all columns at once using pd.concat(axis=1) instead. To get a de-fragmented frame, use `newframe = frame.copy()`\n",
      "  nllf[f\"{c}(N)\"] = o[\"chatgpt_label\"].apply(lambda x: float(str(x)[1:-1].split()[0]))\n",
      "/tmp/ipykernel_4082266/3455397725.py:7: PerformanceWarning: DataFrame is highly fragmented.  This is usually the result of calling `frame.insert` many times, which has poor performance.  Consider joining all columns at once using pd.concat(axis=1) instead. To get a de-fragmented frame, use `newframe = frame.copy()`\n",
      "  nllf[f\"{c}(Y)\"] = o[\"chatgpt_label\"].apply(lambda x: float(str(x)[1:-1].split()[1]))\n"
     ]
    },
    {
     "name": "stdout",
     "output_type": "stream",
     "text": [
      "b9_v3\n",
      "exp2_v3\n"
     ]
    },
    {
     "name": "stderr",
     "output_type": "stream",
     "text": [
      "/tmp/ipykernel_4082266/3455397725.py:6: PerformanceWarning: DataFrame is highly fragmented.  This is usually the result of calling `frame.insert` many times, which has poor performance.  Consider joining all columns at once using pd.concat(axis=1) instead. To get a de-fragmented frame, use `newframe = frame.copy()`\n",
      "  nllf[f\"{c}(N)\"] = o[\"chatgpt_label\"].apply(lambda x: float(str(x)[1:-1].split()[0]))\n",
      "/tmp/ipykernel_4082266/3455397725.py:7: PerformanceWarning: DataFrame is highly fragmented.  This is usually the result of calling `frame.insert` many times, which has poor performance.  Consider joining all columns at once using pd.concat(axis=1) instead. To get a de-fragmented frame, use `newframe = frame.copy()`\n",
      "  nllf[f\"{c}(Y)\"] = o[\"chatgpt_label\"].apply(lambda x: float(str(x)[1:-1].split()[1]))\n",
      "/tmp/ipykernel_4082266/3455397725.py:6: PerformanceWarning: DataFrame is highly fragmented.  This is usually the result of calling `frame.insert` many times, which has poor performance.  Consider joining all columns at once using pd.concat(axis=1) instead. To get a de-fragmented frame, use `newframe = frame.copy()`\n",
      "  nllf[f\"{c}(N)\"] = o[\"chatgpt_label\"].apply(lambda x: float(str(x)[1:-1].split()[0]))\n",
      "/tmp/ipykernel_4082266/3455397725.py:7: PerformanceWarning: DataFrame is highly fragmented.  This is usually the result of calling `frame.insert` many times, which has poor performance.  Consider joining all columns at once using pd.concat(axis=1) instead. To get a de-fragmented frame, use `newframe = frame.copy()`\n",
      "  nllf[f\"{c}(Y)\"] = o[\"chatgpt_label\"].apply(lambda x: float(str(x)[1:-1].split()[1]))\n"
     ]
    },
    {
     "name": "stdout",
     "output_type": "stream",
     "text": [
      "raw56\n",
      "raw73\n"
     ]
    },
    {
     "name": "stderr",
     "output_type": "stream",
     "text": [
      "/tmp/ipykernel_4082266/3455397725.py:6: PerformanceWarning: DataFrame is highly fragmented.  This is usually the result of calling `frame.insert` many times, which has poor performance.  Consider joining all columns at once using pd.concat(axis=1) instead. To get a de-fragmented frame, use `newframe = frame.copy()`\n",
      "  nllf[f\"{c}(N)\"] = o[\"chatgpt_label\"].apply(lambda x: float(str(x)[1:-1].split()[0]))\n",
      "/tmp/ipykernel_4082266/3455397725.py:7: PerformanceWarning: DataFrame is highly fragmented.  This is usually the result of calling `frame.insert` many times, which has poor performance.  Consider joining all columns at once using pd.concat(axis=1) instead. To get a de-fragmented frame, use `newframe = frame.copy()`\n",
      "  nllf[f\"{c}(Y)\"] = o[\"chatgpt_label\"].apply(lambda x: float(str(x)[1:-1].split()[1]))\n",
      "/tmp/ipykernel_4082266/3455397725.py:6: PerformanceWarning: DataFrame is highly fragmented.  This is usually the result of calling `frame.insert` many times, which has poor performance.  Consider joining all columns at once using pd.concat(axis=1) instead. To get a de-fragmented frame, use `newframe = frame.copy()`\n",
      "  nllf[f\"{c}(N)\"] = o[\"chatgpt_label\"].apply(lambda x: float(str(x)[1:-1].split()[0]))\n",
      "/tmp/ipykernel_4082266/3455397725.py:7: PerformanceWarning: DataFrame is highly fragmented.  This is usually the result of calling `frame.insert` many times, which has poor performance.  Consider joining all columns at once using pd.concat(axis=1) instead. To get a de-fragmented frame, use `newframe = frame.copy()`\n",
      "  nllf[f\"{c}(Y)\"] = o[\"chatgpt_label\"].apply(lambda x: float(str(x)[1:-1].split()[1]))\n"
     ]
    },
    {
     "name": "stdout",
     "output_type": "stream",
     "text": [
      "b13_v3\n",
      "exp2_v2\n"
     ]
    },
    {
     "name": "stderr",
     "output_type": "stream",
     "text": [
      "/tmp/ipykernel_4082266/3455397725.py:6: PerformanceWarning: DataFrame is highly fragmented.  This is usually the result of calling `frame.insert` many times, which has poor performance.  Consider joining all columns at once using pd.concat(axis=1) instead. To get a de-fragmented frame, use `newframe = frame.copy()`\n",
      "  nllf[f\"{c}(N)\"] = o[\"chatgpt_label\"].apply(lambda x: float(str(x)[1:-1].split()[0]))\n",
      "/tmp/ipykernel_4082266/3455397725.py:7: PerformanceWarning: DataFrame is highly fragmented.  This is usually the result of calling `frame.insert` many times, which has poor performance.  Consider joining all columns at once using pd.concat(axis=1) instead. To get a de-fragmented frame, use `newframe = frame.copy()`\n",
      "  nllf[f\"{c}(Y)\"] = o[\"chatgpt_label\"].apply(lambda x: float(str(x)[1:-1].split()[1]))\n",
      "/tmp/ipykernel_4082266/3455397725.py:6: PerformanceWarning: DataFrame is highly fragmented.  This is usually the result of calling `frame.insert` many times, which has poor performance.  Consider joining all columns at once using pd.concat(axis=1) instead. To get a de-fragmented frame, use `newframe = frame.copy()`\n",
      "  nllf[f\"{c}(N)\"] = o[\"chatgpt_label\"].apply(lambda x: float(str(x)[1:-1].split()[0]))\n",
      "/tmp/ipykernel_4082266/3455397725.py:7: PerformanceWarning: DataFrame is highly fragmented.  This is usually the result of calling `frame.insert` many times, which has poor performance.  Consider joining all columns at once using pd.concat(axis=1) instead. To get a de-fragmented frame, use `newframe = frame.copy()`\n",
      "  nllf[f\"{c}(Y)\"] = o[\"chatgpt_label\"].apply(lambda x: float(str(x)[1:-1].split()[1]))\n"
     ]
    },
    {
     "name": "stdout",
     "output_type": "stream",
     "text": [
      "exp17_v3\n",
      "exp12_v3\n"
     ]
    },
    {
     "name": "stderr",
     "output_type": "stream",
     "text": [
      "/tmp/ipykernel_4082266/3455397725.py:6: PerformanceWarning: DataFrame is highly fragmented.  This is usually the result of calling `frame.insert` many times, which has poor performance.  Consider joining all columns at once using pd.concat(axis=1) instead. To get a de-fragmented frame, use `newframe = frame.copy()`\n",
      "  nllf[f\"{c}(N)\"] = o[\"chatgpt_label\"].apply(lambda x: float(str(x)[1:-1].split()[0]))\n",
      "/tmp/ipykernel_4082266/3455397725.py:7: PerformanceWarning: DataFrame is highly fragmented.  This is usually the result of calling `frame.insert` many times, which has poor performance.  Consider joining all columns at once using pd.concat(axis=1) instead. To get a de-fragmented frame, use `newframe = frame.copy()`\n",
      "  nllf[f\"{c}(Y)\"] = o[\"chatgpt_label\"].apply(lambda x: float(str(x)[1:-1].split()[1]))\n",
      "/tmp/ipykernel_4082266/3455397725.py:6: PerformanceWarning: DataFrame is highly fragmented.  This is usually the result of calling `frame.insert` many times, which has poor performance.  Consider joining all columns at once using pd.concat(axis=1) instead. To get a de-fragmented frame, use `newframe = frame.copy()`\n",
      "  nllf[f\"{c}(N)\"] = o[\"chatgpt_label\"].apply(lambda x: float(str(x)[1:-1].split()[0]))\n",
      "/tmp/ipykernel_4082266/3455397725.py:7: PerformanceWarning: DataFrame is highly fragmented.  This is usually the result of calling `frame.insert` many times, which has poor performance.  Consider joining all columns at once using pd.concat(axis=1) instead. To get a de-fragmented frame, use `newframe = frame.copy()`\n",
      "  nllf[f\"{c}(Y)\"] = o[\"chatgpt_label\"].apply(lambda x: float(str(x)[1:-1].split()[1]))\n"
     ]
    },
    {
     "name": "stdout",
     "output_type": "stream",
     "text": [
      "raw76\n",
      "raw81\n"
     ]
    },
    {
     "name": "stderr",
     "output_type": "stream",
     "text": [
      "/tmp/ipykernel_4082266/3455397725.py:6: PerformanceWarning: DataFrame is highly fragmented.  This is usually the result of calling `frame.insert` many times, which has poor performance.  Consider joining all columns at once using pd.concat(axis=1) instead. To get a de-fragmented frame, use `newframe = frame.copy()`\n",
      "  nllf[f\"{c}(N)\"] = o[\"chatgpt_label\"].apply(lambda x: float(str(x)[1:-1].split()[0]))\n",
      "/tmp/ipykernel_4082266/3455397725.py:7: PerformanceWarning: DataFrame is highly fragmented.  This is usually the result of calling `frame.insert` many times, which has poor performance.  Consider joining all columns at once using pd.concat(axis=1) instead. To get a de-fragmented frame, use `newframe = frame.copy()`\n",
      "  nllf[f\"{c}(Y)\"] = o[\"chatgpt_label\"].apply(lambda x: float(str(x)[1:-1].split()[1]))\n",
      "/tmp/ipykernel_4082266/3455397725.py:6: PerformanceWarning: DataFrame is highly fragmented.  This is usually the result of calling `frame.insert` many times, which has poor performance.  Consider joining all columns at once using pd.concat(axis=1) instead. To get a de-fragmented frame, use `newframe = frame.copy()`\n",
      "  nllf[f\"{c}(N)\"] = o[\"chatgpt_label\"].apply(lambda x: float(str(x)[1:-1].split()[0]))\n",
      "/tmp/ipykernel_4082266/3455397725.py:7: PerformanceWarning: DataFrame is highly fragmented.  This is usually the result of calling `frame.insert` many times, which has poor performance.  Consider joining all columns at once using pd.concat(axis=1) instead. To get a de-fragmented frame, use `newframe = frame.copy()`\n",
      "  nllf[f\"{c}(Y)\"] = o[\"chatgpt_label\"].apply(lambda x: float(str(x)[1:-1].split()[1]))\n"
     ]
    },
    {
     "name": "stdout",
     "output_type": "stream",
     "text": [
      "exp22_v2_v1\n",
      "lf3\n"
     ]
    },
    {
     "name": "stderr",
     "output_type": "stream",
     "text": [
      "/tmp/ipykernel_4082266/3455397725.py:6: PerformanceWarning: DataFrame is highly fragmented.  This is usually the result of calling `frame.insert` many times, which has poor performance.  Consider joining all columns at once using pd.concat(axis=1) instead. To get a de-fragmented frame, use `newframe = frame.copy()`\n",
      "  nllf[f\"{c}(N)\"] = o[\"chatgpt_label\"].apply(lambda x: float(str(x)[1:-1].split()[0]))\n",
      "/tmp/ipykernel_4082266/3455397725.py:7: PerformanceWarning: DataFrame is highly fragmented.  This is usually the result of calling `frame.insert` many times, which has poor performance.  Consider joining all columns at once using pd.concat(axis=1) instead. To get a de-fragmented frame, use `newframe = frame.copy()`\n",
      "  nllf[f\"{c}(Y)\"] = o[\"chatgpt_label\"].apply(lambda x: float(str(x)[1:-1].split()[1]))\n",
      "/tmp/ipykernel_4082266/3455397725.py:6: PerformanceWarning: DataFrame is highly fragmented.  This is usually the result of calling `frame.insert` many times, which has poor performance.  Consider joining all columns at once using pd.concat(axis=1) instead. To get a de-fragmented frame, use `newframe = frame.copy()`\n",
      "  nllf[f\"{c}(N)\"] = o[\"chatgpt_label\"].apply(lambda x: float(str(x)[1:-1].split()[0]))\n",
      "/tmp/ipykernel_4082266/3455397725.py:7: PerformanceWarning: DataFrame is highly fragmented.  This is usually the result of calling `frame.insert` many times, which has poor performance.  Consider joining all columns at once using pd.concat(axis=1) instead. To get a de-fragmented frame, use `newframe = frame.copy()`\n",
      "  nllf[f\"{c}(Y)\"] = o[\"chatgpt_label\"].apply(lambda x: float(str(x)[1:-1].split()[1]))\n"
     ]
    },
    {
     "name": "stdout",
     "output_type": "stream",
     "text": [
      "exp35\n",
      "exp22_v2\n"
     ]
    },
    {
     "name": "stderr",
     "output_type": "stream",
     "text": [
      "/tmp/ipykernel_4082266/3455397725.py:6: PerformanceWarning: DataFrame is highly fragmented.  This is usually the result of calling `frame.insert` many times, which has poor performance.  Consider joining all columns at once using pd.concat(axis=1) instead. To get a de-fragmented frame, use `newframe = frame.copy()`\n",
      "  nllf[f\"{c}(N)\"] = o[\"chatgpt_label\"].apply(lambda x: float(str(x)[1:-1].split()[0]))\n",
      "/tmp/ipykernel_4082266/3455397725.py:7: PerformanceWarning: DataFrame is highly fragmented.  This is usually the result of calling `frame.insert` many times, which has poor performance.  Consider joining all columns at once using pd.concat(axis=1) instead. To get a de-fragmented frame, use `newframe = frame.copy()`\n",
      "  nllf[f\"{c}(Y)\"] = o[\"chatgpt_label\"].apply(lambda x: float(str(x)[1:-1].split()[1]))\n",
      "/tmp/ipykernel_4082266/3455397725.py:6: PerformanceWarning: DataFrame is highly fragmented.  This is usually the result of calling `frame.insert` many times, which has poor performance.  Consider joining all columns at once using pd.concat(axis=1) instead. To get a de-fragmented frame, use `newframe = frame.copy()`\n",
      "  nllf[f\"{c}(N)\"] = o[\"chatgpt_label\"].apply(lambda x: float(str(x)[1:-1].split()[0]))\n",
      "/tmp/ipykernel_4082266/3455397725.py:7: PerformanceWarning: DataFrame is highly fragmented.  This is usually the result of calling `frame.insert` many times, which has poor performance.  Consider joining all columns at once using pd.concat(axis=1) instead. To get a de-fragmented frame, use `newframe = frame.copy()`\n",
      "  nllf[f\"{c}(Y)\"] = o[\"chatgpt_label\"].apply(lambda x: float(str(x)[1:-1].split()[1]))\n"
     ]
    },
    {
     "name": "stdout",
     "output_type": "stream",
     "text": [
      "exp32\n",
      "raw47_v3\n"
     ]
    },
    {
     "name": "stderr",
     "output_type": "stream",
     "text": [
      "/tmp/ipykernel_4082266/3455397725.py:6: PerformanceWarning: DataFrame is highly fragmented.  This is usually the result of calling `frame.insert` many times, which has poor performance.  Consider joining all columns at once using pd.concat(axis=1) instead. To get a de-fragmented frame, use `newframe = frame.copy()`\n",
      "  nllf[f\"{c}(N)\"] = o[\"chatgpt_label\"].apply(lambda x: float(str(x)[1:-1].split()[0]))\n",
      "/tmp/ipykernel_4082266/3455397725.py:7: PerformanceWarning: DataFrame is highly fragmented.  This is usually the result of calling `frame.insert` many times, which has poor performance.  Consider joining all columns at once using pd.concat(axis=1) instead. To get a de-fragmented frame, use `newframe = frame.copy()`\n",
      "  nllf[f\"{c}(Y)\"] = o[\"chatgpt_label\"].apply(lambda x: float(str(x)[1:-1].split()[1]))\n",
      "/tmp/ipykernel_4082266/3455397725.py:6: PerformanceWarning: DataFrame is highly fragmented.  This is usually the result of calling `frame.insert` many times, which has poor performance.  Consider joining all columns at once using pd.concat(axis=1) instead. To get a de-fragmented frame, use `newframe = frame.copy()`\n",
      "  nllf[f\"{c}(N)\"] = o[\"chatgpt_label\"].apply(lambda x: float(str(x)[1:-1].split()[0]))\n",
      "/tmp/ipykernel_4082266/3455397725.py:7: PerformanceWarning: DataFrame is highly fragmented.  This is usually the result of calling `frame.insert` many times, which has poor performance.  Consider joining all columns at once using pd.concat(axis=1) instead. To get a de-fragmented frame, use `newframe = frame.copy()`\n",
      "  nllf[f\"{c}(Y)\"] = o[\"chatgpt_label\"].apply(lambda x: float(str(x)[1:-1].split()[1]))\n"
     ]
    },
    {
     "name": "stdout",
     "output_type": "stream",
     "text": [
      "raw69_v1\n",
      "exp33_v3\n"
     ]
    },
    {
     "name": "stderr",
     "output_type": "stream",
     "text": [
      "/tmp/ipykernel_4082266/3455397725.py:6: PerformanceWarning: DataFrame is highly fragmented.  This is usually the result of calling `frame.insert` many times, which has poor performance.  Consider joining all columns at once using pd.concat(axis=1) instead. To get a de-fragmented frame, use `newframe = frame.copy()`\n",
      "  nllf[f\"{c}(N)\"] = o[\"chatgpt_label\"].apply(lambda x: float(str(x)[1:-1].split()[0]))\n",
      "/tmp/ipykernel_4082266/3455397725.py:7: PerformanceWarning: DataFrame is highly fragmented.  This is usually the result of calling `frame.insert` many times, which has poor performance.  Consider joining all columns at once using pd.concat(axis=1) instead. To get a de-fragmented frame, use `newframe = frame.copy()`\n",
      "  nllf[f\"{c}(Y)\"] = o[\"chatgpt_label\"].apply(lambda x: float(str(x)[1:-1].split()[1]))\n",
      "/tmp/ipykernel_4082266/3455397725.py:6: PerformanceWarning: DataFrame is highly fragmented.  This is usually the result of calling `frame.insert` many times, which has poor performance.  Consider joining all columns at once using pd.concat(axis=1) instead. To get a de-fragmented frame, use `newframe = frame.copy()`\n",
      "  nllf[f\"{c}(N)\"] = o[\"chatgpt_label\"].apply(lambda x: float(str(x)[1:-1].split()[0]))\n",
      "/tmp/ipykernel_4082266/3455397725.py:7: PerformanceWarning: DataFrame is highly fragmented.  This is usually the result of calling `frame.insert` many times, which has poor performance.  Consider joining all columns at once using pd.concat(axis=1) instead. To get a de-fragmented frame, use `newframe = frame.copy()`\n",
      "  nllf[f\"{c}(Y)\"] = o[\"chatgpt_label\"].apply(lambda x: float(str(x)[1:-1].split()[1]))\n"
     ]
    },
    {
     "name": "stdout",
     "output_type": "stream",
     "text": [
      "raw44\n",
      "raw18\n"
     ]
    },
    {
     "name": "stderr",
     "output_type": "stream",
     "text": [
      "/tmp/ipykernel_4082266/3455397725.py:6: PerformanceWarning: DataFrame is highly fragmented.  This is usually the result of calling `frame.insert` many times, which has poor performance.  Consider joining all columns at once using pd.concat(axis=1) instead. To get a de-fragmented frame, use `newframe = frame.copy()`\n",
      "  nllf[f\"{c}(N)\"] = o[\"chatgpt_label\"].apply(lambda x: float(str(x)[1:-1].split()[0]))\n",
      "/tmp/ipykernel_4082266/3455397725.py:7: PerformanceWarning: DataFrame is highly fragmented.  This is usually the result of calling `frame.insert` many times, which has poor performance.  Consider joining all columns at once using pd.concat(axis=1) instead. To get a de-fragmented frame, use `newframe = frame.copy()`\n",
      "  nllf[f\"{c}(Y)\"] = o[\"chatgpt_label\"].apply(lambda x: float(str(x)[1:-1].split()[1]))\n",
      "/tmp/ipykernel_4082266/3455397725.py:6: PerformanceWarning: DataFrame is highly fragmented.  This is usually the result of calling `frame.insert` many times, which has poor performance.  Consider joining all columns at once using pd.concat(axis=1) instead. To get a de-fragmented frame, use `newframe = frame.copy()`\n",
      "  nllf[f\"{c}(N)\"] = o[\"chatgpt_label\"].apply(lambda x: float(str(x)[1:-1].split()[0]))\n",
      "/tmp/ipykernel_4082266/3455397725.py:7: PerformanceWarning: DataFrame is highly fragmented.  This is usually the result of calling `frame.insert` many times, which has poor performance.  Consider joining all columns at once using pd.concat(axis=1) instead. To get a de-fragmented frame, use `newframe = frame.copy()`\n",
      "  nllf[f\"{c}(Y)\"] = o[\"chatgpt_label\"].apply(lambda x: float(str(x)[1:-1].split()[1]))\n"
     ]
    },
    {
     "name": "stdout",
     "output_type": "stream",
     "text": [
      "raw60\n",
      "raw34\n"
     ]
    },
    {
     "name": "stderr",
     "output_type": "stream",
     "text": [
      "/tmp/ipykernel_4082266/3455397725.py:6: PerformanceWarning: DataFrame is highly fragmented.  This is usually the result of calling `frame.insert` many times, which has poor performance.  Consider joining all columns at once using pd.concat(axis=1) instead. To get a de-fragmented frame, use `newframe = frame.copy()`\n",
      "  nllf[f\"{c}(N)\"] = o[\"chatgpt_label\"].apply(lambda x: float(str(x)[1:-1].split()[0]))\n",
      "/tmp/ipykernel_4082266/3455397725.py:7: PerformanceWarning: DataFrame is highly fragmented.  This is usually the result of calling `frame.insert` many times, which has poor performance.  Consider joining all columns at once using pd.concat(axis=1) instead. To get a de-fragmented frame, use `newframe = frame.copy()`\n",
      "  nllf[f\"{c}(Y)\"] = o[\"chatgpt_label\"].apply(lambda x: float(str(x)[1:-1].split()[1]))\n",
      "/tmp/ipykernel_4082266/3455397725.py:6: PerformanceWarning: DataFrame is highly fragmented.  This is usually the result of calling `frame.insert` many times, which has poor performance.  Consider joining all columns at once using pd.concat(axis=1) instead. To get a de-fragmented frame, use `newframe = frame.copy()`\n",
      "  nllf[f\"{c}(N)\"] = o[\"chatgpt_label\"].apply(lambda x: float(str(x)[1:-1].split()[0]))\n",
      "/tmp/ipykernel_4082266/3455397725.py:7: PerformanceWarning: DataFrame is highly fragmented.  This is usually the result of calling `frame.insert` many times, which has poor performance.  Consider joining all columns at once using pd.concat(axis=1) instead. To get a de-fragmented frame, use `newframe = frame.copy()`\n",
      "  nllf[f\"{c}(Y)\"] = o[\"chatgpt_label\"].apply(lambda x: float(str(x)[1:-1].split()[1]))\n"
     ]
    },
    {
     "name": "stdout",
     "output_type": "stream",
     "text": [
      "raw52\n",
      "raw37\n"
     ]
    },
    {
     "name": "stderr",
     "output_type": "stream",
     "text": [
      "/tmp/ipykernel_4082266/3455397725.py:6: PerformanceWarning: DataFrame is highly fragmented.  This is usually the result of calling `frame.insert` many times, which has poor performance.  Consider joining all columns at once using pd.concat(axis=1) instead. To get a de-fragmented frame, use `newframe = frame.copy()`\n",
      "  nllf[f\"{c}(N)\"] = o[\"chatgpt_label\"].apply(lambda x: float(str(x)[1:-1].split()[0]))\n",
      "/tmp/ipykernel_4082266/3455397725.py:7: PerformanceWarning: DataFrame is highly fragmented.  This is usually the result of calling `frame.insert` many times, which has poor performance.  Consider joining all columns at once using pd.concat(axis=1) instead. To get a de-fragmented frame, use `newframe = frame.copy()`\n",
      "  nllf[f\"{c}(Y)\"] = o[\"chatgpt_label\"].apply(lambda x: float(str(x)[1:-1].split()[1]))\n",
      "/tmp/ipykernel_4082266/3455397725.py:6: PerformanceWarning: DataFrame is highly fragmented.  This is usually the result of calling `frame.insert` many times, which has poor performance.  Consider joining all columns at once using pd.concat(axis=1) instead. To get a de-fragmented frame, use `newframe = frame.copy()`\n",
      "  nllf[f\"{c}(N)\"] = o[\"chatgpt_label\"].apply(lambda x: float(str(x)[1:-1].split()[0]))\n",
      "/tmp/ipykernel_4082266/3455397725.py:7: PerformanceWarning: DataFrame is highly fragmented.  This is usually the result of calling `frame.insert` many times, which has poor performance.  Consider joining all columns at once using pd.concat(axis=1) instead. To get a de-fragmented frame, use `newframe = frame.copy()`\n",
      "  nllf[f\"{c}(Y)\"] = o[\"chatgpt_label\"].apply(lambda x: float(str(x)[1:-1].split()[1]))\n"
     ]
    },
    {
     "name": "stdout",
     "output_type": "stream",
     "text": [
      "b3\n",
      "exp14_v2\n"
     ]
    },
    {
     "name": "stderr",
     "output_type": "stream",
     "text": [
      "/tmp/ipykernel_4082266/3455397725.py:6: PerformanceWarning: DataFrame is highly fragmented.  This is usually the result of calling `frame.insert` many times, which has poor performance.  Consider joining all columns at once using pd.concat(axis=1) instead. To get a de-fragmented frame, use `newframe = frame.copy()`\n",
      "  nllf[f\"{c}(N)\"] = o[\"chatgpt_label\"].apply(lambda x: float(str(x)[1:-1].split()[0]))\n",
      "/tmp/ipykernel_4082266/3455397725.py:7: PerformanceWarning: DataFrame is highly fragmented.  This is usually the result of calling `frame.insert` many times, which has poor performance.  Consider joining all columns at once using pd.concat(axis=1) instead. To get a de-fragmented frame, use `newframe = frame.copy()`\n",
      "  nllf[f\"{c}(Y)\"] = o[\"chatgpt_label\"].apply(lambda x: float(str(x)[1:-1].split()[1]))\n",
      "/tmp/ipykernel_4082266/3455397725.py:6: PerformanceWarning: DataFrame is highly fragmented.  This is usually the result of calling `frame.insert` many times, which has poor performance.  Consider joining all columns at once using pd.concat(axis=1) instead. To get a de-fragmented frame, use `newframe = frame.copy()`\n",
      "  nllf[f\"{c}(N)\"] = o[\"chatgpt_label\"].apply(lambda x: float(str(x)[1:-1].split()[0]))\n",
      "/tmp/ipykernel_4082266/3455397725.py:7: PerformanceWarning: DataFrame is highly fragmented.  This is usually the result of calling `frame.insert` many times, which has poor performance.  Consider joining all columns at once using pd.concat(axis=1) instead. To get a de-fragmented frame, use `newframe = frame.copy()`\n",
      "  nllf[f\"{c}(Y)\"] = o[\"chatgpt_label\"].apply(lambda x: float(str(x)[1:-1].split()[1]))\n"
     ]
    },
    {
     "name": "stdout",
     "output_type": "stream",
     "text": [
      "raw72\n",
      "exp23\n"
     ]
    },
    {
     "name": "stderr",
     "output_type": "stream",
     "text": [
      "/tmp/ipykernel_4082266/3455397725.py:6: PerformanceWarning: DataFrame is highly fragmented.  This is usually the result of calling `frame.insert` many times, which has poor performance.  Consider joining all columns at once using pd.concat(axis=1) instead. To get a de-fragmented frame, use `newframe = frame.copy()`\n",
      "  nllf[f\"{c}(N)\"] = o[\"chatgpt_label\"].apply(lambda x: float(str(x)[1:-1].split()[0]))\n",
      "/tmp/ipykernel_4082266/3455397725.py:7: PerformanceWarning: DataFrame is highly fragmented.  This is usually the result of calling `frame.insert` many times, which has poor performance.  Consider joining all columns at once using pd.concat(axis=1) instead. To get a de-fragmented frame, use `newframe = frame.copy()`\n",
      "  nllf[f\"{c}(Y)\"] = o[\"chatgpt_label\"].apply(lambda x: float(str(x)[1:-1].split()[1]))\n",
      "/tmp/ipykernel_4082266/3455397725.py:6: PerformanceWarning: DataFrame is highly fragmented.  This is usually the result of calling `frame.insert` many times, which has poor performance.  Consider joining all columns at once using pd.concat(axis=1) instead. To get a de-fragmented frame, use `newframe = frame.copy()`\n",
      "  nllf[f\"{c}(N)\"] = o[\"chatgpt_label\"].apply(lambda x: float(str(x)[1:-1].split()[0]))\n",
      "/tmp/ipykernel_4082266/3455397725.py:7: PerformanceWarning: DataFrame is highly fragmented.  This is usually the result of calling `frame.insert` many times, which has poor performance.  Consider joining all columns at once using pd.concat(axis=1) instead. To get a de-fragmented frame, use `newframe = frame.copy()`\n",
      "  nllf[f\"{c}(Y)\"] = o[\"chatgpt_label\"].apply(lambda x: float(str(x)[1:-1].split()[1]))\n"
     ]
    },
    {
     "name": "stdout",
     "output_type": "stream",
     "text": [
      "b12\n",
      "exp27_v2\n"
     ]
    },
    {
     "name": "stderr",
     "output_type": "stream",
     "text": [
      "/tmp/ipykernel_4082266/3455397725.py:6: PerformanceWarning: DataFrame is highly fragmented.  This is usually the result of calling `frame.insert` many times, which has poor performance.  Consider joining all columns at once using pd.concat(axis=1) instead. To get a de-fragmented frame, use `newframe = frame.copy()`\n",
      "  nllf[f\"{c}(N)\"] = o[\"chatgpt_label\"].apply(lambda x: float(str(x)[1:-1].split()[0]))\n",
      "/tmp/ipykernel_4082266/3455397725.py:7: PerformanceWarning: DataFrame is highly fragmented.  This is usually the result of calling `frame.insert` many times, which has poor performance.  Consider joining all columns at once using pd.concat(axis=1) instead. To get a de-fragmented frame, use `newframe = frame.copy()`\n",
      "  nllf[f\"{c}(Y)\"] = o[\"chatgpt_label\"].apply(lambda x: float(str(x)[1:-1].split()[1]))\n",
      "/tmp/ipykernel_4082266/3455397725.py:6: PerformanceWarning: DataFrame is highly fragmented.  This is usually the result of calling `frame.insert` many times, which has poor performance.  Consider joining all columns at once using pd.concat(axis=1) instead. To get a de-fragmented frame, use `newframe = frame.copy()`\n",
      "  nllf[f\"{c}(N)\"] = o[\"chatgpt_label\"].apply(lambda x: float(str(x)[1:-1].split()[0]))\n",
      "/tmp/ipykernel_4082266/3455397725.py:7: PerformanceWarning: DataFrame is highly fragmented.  This is usually the result of calling `frame.insert` many times, which has poor performance.  Consider joining all columns at once using pd.concat(axis=1) instead. To get a de-fragmented frame, use `newframe = frame.copy()`\n",
      "  nllf[f\"{c}(Y)\"] = o[\"chatgpt_label\"].apply(lambda x: float(str(x)[1:-1].split()[1]))\n"
     ]
    },
    {
     "name": "stdout",
     "output_type": "stream",
     "text": [
      "raw9\n",
      "raw24\n"
     ]
    },
    {
     "name": "stderr",
     "output_type": "stream",
     "text": [
      "/tmp/ipykernel_4082266/3455397725.py:6: PerformanceWarning: DataFrame is highly fragmented.  This is usually the result of calling `frame.insert` many times, which has poor performance.  Consider joining all columns at once using pd.concat(axis=1) instead. To get a de-fragmented frame, use `newframe = frame.copy()`\n",
      "  nllf[f\"{c}(N)\"] = o[\"chatgpt_label\"].apply(lambda x: float(str(x)[1:-1].split()[0]))\n",
      "/tmp/ipykernel_4082266/3455397725.py:7: PerformanceWarning: DataFrame is highly fragmented.  This is usually the result of calling `frame.insert` many times, which has poor performance.  Consider joining all columns at once using pd.concat(axis=1) instead. To get a de-fragmented frame, use `newframe = frame.copy()`\n",
      "  nllf[f\"{c}(Y)\"] = o[\"chatgpt_label\"].apply(lambda x: float(str(x)[1:-1].split()[1]))\n",
      "/tmp/ipykernel_4082266/3455397725.py:6: PerformanceWarning: DataFrame is highly fragmented.  This is usually the result of calling `frame.insert` many times, which has poor performance.  Consider joining all columns at once using pd.concat(axis=1) instead. To get a de-fragmented frame, use `newframe = frame.copy()`\n",
      "  nllf[f\"{c}(N)\"] = o[\"chatgpt_label\"].apply(lambda x: float(str(x)[1:-1].split()[0]))\n",
      "/tmp/ipykernel_4082266/3455397725.py:7: PerformanceWarning: DataFrame is highly fragmented.  This is usually the result of calling `frame.insert` many times, which has poor performance.  Consider joining all columns at once using pd.concat(axis=1) instead. To get a de-fragmented frame, use `newframe = frame.copy()`\n",
      "  nllf[f\"{c}(Y)\"] = o[\"chatgpt_label\"].apply(lambda x: float(str(x)[1:-1].split()[1]))\n"
     ]
    },
    {
     "name": "stdout",
     "output_type": "stream",
     "text": [
      "raw33_v3\n",
      "lf19\n"
     ]
    },
    {
     "name": "stderr",
     "output_type": "stream",
     "text": [
      "/tmp/ipykernel_4082266/3455397725.py:6: PerformanceWarning: DataFrame is highly fragmented.  This is usually the result of calling `frame.insert` many times, which has poor performance.  Consider joining all columns at once using pd.concat(axis=1) instead. To get a de-fragmented frame, use `newframe = frame.copy()`\n",
      "  nllf[f\"{c}(N)\"] = o[\"chatgpt_label\"].apply(lambda x: float(str(x)[1:-1].split()[0]))\n",
      "/tmp/ipykernel_4082266/3455397725.py:7: PerformanceWarning: DataFrame is highly fragmented.  This is usually the result of calling `frame.insert` many times, which has poor performance.  Consider joining all columns at once using pd.concat(axis=1) instead. To get a de-fragmented frame, use `newframe = frame.copy()`\n",
      "  nllf[f\"{c}(Y)\"] = o[\"chatgpt_label\"].apply(lambda x: float(str(x)[1:-1].split()[1]))\n",
      "/tmp/ipykernel_4082266/3455397725.py:6: PerformanceWarning: DataFrame is highly fragmented.  This is usually the result of calling `frame.insert` many times, which has poor performance.  Consider joining all columns at once using pd.concat(axis=1) instead. To get a de-fragmented frame, use `newframe = frame.copy()`\n",
      "  nllf[f\"{c}(N)\"] = o[\"chatgpt_label\"].apply(lambda x: float(str(x)[1:-1].split()[0]))\n",
      "/tmp/ipykernel_4082266/3455397725.py:7: PerformanceWarning: DataFrame is highly fragmented.  This is usually the result of calling `frame.insert` many times, which has poor performance.  Consider joining all columns at once using pd.concat(axis=1) instead. To get a de-fragmented frame, use `newframe = frame.copy()`\n",
      "  nllf[f\"{c}(Y)\"] = o[\"chatgpt_label\"].apply(lambda x: float(str(x)[1:-1].split()[1]))\n"
     ]
    },
    {
     "name": "stdout",
     "output_type": "stream",
     "text": [
      "raw15\n",
      "b11\n"
     ]
    },
    {
     "name": "stderr",
     "output_type": "stream",
     "text": [
      "/tmp/ipykernel_4082266/3455397725.py:6: PerformanceWarning: DataFrame is highly fragmented.  This is usually the result of calling `frame.insert` many times, which has poor performance.  Consider joining all columns at once using pd.concat(axis=1) instead. To get a de-fragmented frame, use `newframe = frame.copy()`\n",
      "  nllf[f\"{c}(N)\"] = o[\"chatgpt_label\"].apply(lambda x: float(str(x)[1:-1].split()[0]))\n",
      "/tmp/ipykernel_4082266/3455397725.py:7: PerformanceWarning: DataFrame is highly fragmented.  This is usually the result of calling `frame.insert` many times, which has poor performance.  Consider joining all columns at once using pd.concat(axis=1) instead. To get a de-fragmented frame, use `newframe = frame.copy()`\n",
      "  nllf[f\"{c}(Y)\"] = o[\"chatgpt_label\"].apply(lambda x: float(str(x)[1:-1].split()[1]))\n",
      "/tmp/ipykernel_4082266/3455397725.py:6: PerformanceWarning: DataFrame is highly fragmented.  This is usually the result of calling `frame.insert` many times, which has poor performance.  Consider joining all columns at once using pd.concat(axis=1) instead. To get a de-fragmented frame, use `newframe = frame.copy()`\n",
      "  nllf[f\"{c}(N)\"] = o[\"chatgpt_label\"].apply(lambda x: float(str(x)[1:-1].split()[0]))\n",
      "/tmp/ipykernel_4082266/3455397725.py:7: PerformanceWarning: DataFrame is highly fragmented.  This is usually the result of calling `frame.insert` many times, which has poor performance.  Consider joining all columns at once using pd.concat(axis=1) instead. To get a de-fragmented frame, use `newframe = frame.copy()`\n",
      "  nllf[f\"{c}(Y)\"] = o[\"chatgpt_label\"].apply(lambda x: float(str(x)[1:-1].split()[1]))\n"
     ]
    },
    {
     "name": "stdout",
     "output_type": "stream",
     "text": [
      "lf17\n",
      "raw23\n"
     ]
    },
    {
     "name": "stderr",
     "output_type": "stream",
     "text": [
      "/tmp/ipykernel_4082266/3455397725.py:6: PerformanceWarning: DataFrame is highly fragmented.  This is usually the result of calling `frame.insert` many times, which has poor performance.  Consider joining all columns at once using pd.concat(axis=1) instead. To get a de-fragmented frame, use `newframe = frame.copy()`\n",
      "  nllf[f\"{c}(N)\"] = o[\"chatgpt_label\"].apply(lambda x: float(str(x)[1:-1].split()[0]))\n",
      "/tmp/ipykernel_4082266/3455397725.py:7: PerformanceWarning: DataFrame is highly fragmented.  This is usually the result of calling `frame.insert` many times, which has poor performance.  Consider joining all columns at once using pd.concat(axis=1) instead. To get a de-fragmented frame, use `newframe = frame.copy()`\n",
      "  nllf[f\"{c}(Y)\"] = o[\"chatgpt_label\"].apply(lambda x: float(str(x)[1:-1].split()[1]))\n",
      "/tmp/ipykernel_4082266/3455397725.py:6: PerformanceWarning: DataFrame is highly fragmented.  This is usually the result of calling `frame.insert` many times, which has poor performance.  Consider joining all columns at once using pd.concat(axis=1) instead. To get a de-fragmented frame, use `newframe = frame.copy()`\n",
      "  nllf[f\"{c}(N)\"] = o[\"chatgpt_label\"].apply(lambda x: float(str(x)[1:-1].split()[0]))\n",
      "/tmp/ipykernel_4082266/3455397725.py:7: PerformanceWarning: DataFrame is highly fragmented.  This is usually the result of calling `frame.insert` many times, which has poor performance.  Consider joining all columns at once using pd.concat(axis=1) instead. To get a de-fragmented frame, use `newframe = frame.copy()`\n",
      "  nllf[f\"{c}(Y)\"] = o[\"chatgpt_label\"].apply(lambda x: float(str(x)[1:-1].split()[1]))\n"
     ]
    },
    {
     "name": "stdout",
     "output_type": "stream",
     "text": [
      "exp14_v3\n",
      "lf9\n"
     ]
    },
    {
     "name": "stderr",
     "output_type": "stream",
     "text": [
      "/tmp/ipykernel_4082266/3455397725.py:6: PerformanceWarning: DataFrame is highly fragmented.  This is usually the result of calling `frame.insert` many times, which has poor performance.  Consider joining all columns at once using pd.concat(axis=1) instead. To get a de-fragmented frame, use `newframe = frame.copy()`\n",
      "  nllf[f\"{c}(N)\"] = o[\"chatgpt_label\"].apply(lambda x: float(str(x)[1:-1].split()[0]))\n",
      "/tmp/ipykernel_4082266/3455397725.py:7: PerformanceWarning: DataFrame is highly fragmented.  This is usually the result of calling `frame.insert` many times, which has poor performance.  Consider joining all columns at once using pd.concat(axis=1) instead. To get a de-fragmented frame, use `newframe = frame.copy()`\n",
      "  nllf[f\"{c}(Y)\"] = o[\"chatgpt_label\"].apply(lambda x: float(str(x)[1:-1].split()[1]))\n",
      "/tmp/ipykernel_4082266/3455397725.py:6: PerformanceWarning: DataFrame is highly fragmented.  This is usually the result of calling `frame.insert` many times, which has poor performance.  Consider joining all columns at once using pd.concat(axis=1) instead. To get a de-fragmented frame, use `newframe = frame.copy()`\n",
      "  nllf[f\"{c}(N)\"] = o[\"chatgpt_label\"].apply(lambda x: float(str(x)[1:-1].split()[0]))\n",
      "/tmp/ipykernel_4082266/3455397725.py:7: PerformanceWarning: DataFrame is highly fragmented.  This is usually the result of calling `frame.insert` many times, which has poor performance.  Consider joining all columns at once using pd.concat(axis=1) instead. To get a de-fragmented frame, use `newframe = frame.copy()`\n",
      "  nllf[f\"{c}(Y)\"] = o[\"chatgpt_label\"].apply(lambda x: float(str(x)[1:-1].split()[1]))\n"
     ]
    },
    {
     "name": "stdout",
     "output_type": "stream",
     "text": [
      "raw69_v3\n",
      "raw73_v1\n"
     ]
    },
    {
     "name": "stderr",
     "output_type": "stream",
     "text": [
      "/tmp/ipykernel_4082266/3455397725.py:6: PerformanceWarning: DataFrame is highly fragmented.  This is usually the result of calling `frame.insert` many times, which has poor performance.  Consider joining all columns at once using pd.concat(axis=1) instead. To get a de-fragmented frame, use `newframe = frame.copy()`\n",
      "  nllf[f\"{c}(N)\"] = o[\"chatgpt_label\"].apply(lambda x: float(str(x)[1:-1].split()[0]))\n",
      "/tmp/ipykernel_4082266/3455397725.py:7: PerformanceWarning: DataFrame is highly fragmented.  This is usually the result of calling `frame.insert` many times, which has poor performance.  Consider joining all columns at once using pd.concat(axis=1) instead. To get a de-fragmented frame, use `newframe = frame.copy()`\n",
      "  nllf[f\"{c}(Y)\"] = o[\"chatgpt_label\"].apply(lambda x: float(str(x)[1:-1].split()[1]))\n",
      "/tmp/ipykernel_4082266/3455397725.py:6: PerformanceWarning: DataFrame is highly fragmented.  This is usually the result of calling `frame.insert` many times, which has poor performance.  Consider joining all columns at once using pd.concat(axis=1) instead. To get a de-fragmented frame, use `newframe = frame.copy()`\n",
      "  nllf[f\"{c}(N)\"] = o[\"chatgpt_label\"].apply(lambda x: float(str(x)[1:-1].split()[0]))\n",
      "/tmp/ipykernel_4082266/3455397725.py:7: PerformanceWarning: DataFrame is highly fragmented.  This is usually the result of calling `frame.insert` many times, which has poor performance.  Consider joining all columns at once using pd.concat(axis=1) instead. To get a de-fragmented frame, use `newframe = frame.copy()`\n",
      "  nllf[f\"{c}(Y)\"] = o[\"chatgpt_label\"].apply(lambda x: float(str(x)[1:-1].split()[1]))\n"
     ]
    },
    {
     "name": "stdout",
     "output_type": "stream",
     "text": [
      "exp14\n",
      "exp19_v3\n"
     ]
    },
    {
     "name": "stderr",
     "output_type": "stream",
     "text": [
      "/tmp/ipykernel_4082266/3455397725.py:6: PerformanceWarning: DataFrame is highly fragmented.  This is usually the result of calling `frame.insert` many times, which has poor performance.  Consider joining all columns at once using pd.concat(axis=1) instead. To get a de-fragmented frame, use `newframe = frame.copy()`\n",
      "  nllf[f\"{c}(N)\"] = o[\"chatgpt_label\"].apply(lambda x: float(str(x)[1:-1].split()[0]))\n",
      "/tmp/ipykernel_4082266/3455397725.py:7: PerformanceWarning: DataFrame is highly fragmented.  This is usually the result of calling `frame.insert` many times, which has poor performance.  Consider joining all columns at once using pd.concat(axis=1) instead. To get a de-fragmented frame, use `newframe = frame.copy()`\n",
      "  nllf[f\"{c}(Y)\"] = o[\"chatgpt_label\"].apply(lambda x: float(str(x)[1:-1].split()[1]))\n",
      "/tmp/ipykernel_4082266/3455397725.py:6: PerformanceWarning: DataFrame is highly fragmented.  This is usually the result of calling `frame.insert` many times, which has poor performance.  Consider joining all columns at once using pd.concat(axis=1) instead. To get a de-fragmented frame, use `newframe = frame.copy()`\n",
      "  nllf[f\"{c}(N)\"] = o[\"chatgpt_label\"].apply(lambda x: float(str(x)[1:-1].split()[0]))\n",
      "/tmp/ipykernel_4082266/3455397725.py:7: PerformanceWarning: DataFrame is highly fragmented.  This is usually the result of calling `frame.insert` many times, which has poor performance.  Consider joining all columns at once using pd.concat(axis=1) instead. To get a de-fragmented frame, use `newframe = frame.copy()`\n",
      "  nllf[f\"{c}(Y)\"] = o[\"chatgpt_label\"].apply(lambda x: float(str(x)[1:-1].split()[1]))\n"
     ]
    },
    {
     "name": "stdout",
     "output_type": "stream",
     "text": [
      "raw66\n",
      "raw70\n"
     ]
    },
    {
     "name": "stderr",
     "output_type": "stream",
     "text": [
      "/tmp/ipykernel_4082266/3455397725.py:6: PerformanceWarning: DataFrame is highly fragmented.  This is usually the result of calling `frame.insert` many times, which has poor performance.  Consider joining all columns at once using pd.concat(axis=1) instead. To get a de-fragmented frame, use `newframe = frame.copy()`\n",
      "  nllf[f\"{c}(N)\"] = o[\"chatgpt_label\"].apply(lambda x: float(str(x)[1:-1].split()[0]))\n",
      "/tmp/ipykernel_4082266/3455397725.py:7: PerformanceWarning: DataFrame is highly fragmented.  This is usually the result of calling `frame.insert` many times, which has poor performance.  Consider joining all columns at once using pd.concat(axis=1) instead. To get a de-fragmented frame, use `newframe = frame.copy()`\n",
      "  nllf[f\"{c}(Y)\"] = o[\"chatgpt_label\"].apply(lambda x: float(str(x)[1:-1].split()[1]))\n",
      "/tmp/ipykernel_4082266/3455397725.py:6: PerformanceWarning: DataFrame is highly fragmented.  This is usually the result of calling `frame.insert` many times, which has poor performance.  Consider joining all columns at once using pd.concat(axis=1) instead. To get a de-fragmented frame, use `newframe = frame.copy()`\n",
      "  nllf[f\"{c}(N)\"] = o[\"chatgpt_label\"].apply(lambda x: float(str(x)[1:-1].split()[0]))\n",
      "/tmp/ipykernel_4082266/3455397725.py:7: PerformanceWarning: DataFrame is highly fragmented.  This is usually the result of calling `frame.insert` many times, which has poor performance.  Consider joining all columns at once using pd.concat(axis=1) instead. To get a de-fragmented frame, use `newframe = frame.copy()`\n",
      "  nllf[f\"{c}(Y)\"] = o[\"chatgpt_label\"].apply(lambda x: float(str(x)[1:-1].split()[1]))\n"
     ]
    },
    {
     "name": "stdout",
     "output_type": "stream",
     "text": [
      "raw42\n",
      "b2_v3\n"
     ]
    },
    {
     "name": "stderr",
     "output_type": "stream",
     "text": [
      "/tmp/ipykernel_4082266/3455397725.py:6: PerformanceWarning: DataFrame is highly fragmented.  This is usually the result of calling `frame.insert` many times, which has poor performance.  Consider joining all columns at once using pd.concat(axis=1) instead. To get a de-fragmented frame, use `newframe = frame.copy()`\n",
      "  nllf[f\"{c}(N)\"] = o[\"chatgpt_label\"].apply(lambda x: float(str(x)[1:-1].split()[0]))\n",
      "/tmp/ipykernel_4082266/3455397725.py:7: PerformanceWarning: DataFrame is highly fragmented.  This is usually the result of calling `frame.insert` many times, which has poor performance.  Consider joining all columns at once using pd.concat(axis=1) instead. To get a de-fragmented frame, use `newframe = frame.copy()`\n",
      "  nllf[f\"{c}(Y)\"] = o[\"chatgpt_label\"].apply(lambda x: float(str(x)[1:-1].split()[1]))\n",
      "/tmp/ipykernel_4082266/3455397725.py:6: PerformanceWarning: DataFrame is highly fragmented.  This is usually the result of calling `frame.insert` many times, which has poor performance.  Consider joining all columns at once using pd.concat(axis=1) instead. To get a de-fragmented frame, use `newframe = frame.copy()`\n",
      "  nllf[f\"{c}(N)\"] = o[\"chatgpt_label\"].apply(lambda x: float(str(x)[1:-1].split()[0]))\n",
      "/tmp/ipykernel_4082266/3455397725.py:7: PerformanceWarning: DataFrame is highly fragmented.  This is usually the result of calling `frame.insert` many times, which has poor performance.  Consider joining all columns at once using pd.concat(axis=1) instead. To get a de-fragmented frame, use `newframe = frame.copy()`\n",
      "  nllf[f\"{c}(Y)\"] = o[\"chatgpt_label\"].apply(lambda x: float(str(x)[1:-1].split()[1]))\n"
     ]
    },
    {
     "name": "stdout",
     "output_type": "stream",
     "text": [
      "raw76_v2\n",
      "exp17_v1\n"
     ]
    },
    {
     "name": "stderr",
     "output_type": "stream",
     "text": [
      "/tmp/ipykernel_4082266/3455397725.py:6: PerformanceWarning: DataFrame is highly fragmented.  This is usually the result of calling `frame.insert` many times, which has poor performance.  Consider joining all columns at once using pd.concat(axis=1) instead. To get a de-fragmented frame, use `newframe = frame.copy()`\n",
      "  nllf[f\"{c}(N)\"] = o[\"chatgpt_label\"].apply(lambda x: float(str(x)[1:-1].split()[0]))\n",
      "/tmp/ipykernel_4082266/3455397725.py:7: PerformanceWarning: DataFrame is highly fragmented.  This is usually the result of calling `frame.insert` many times, which has poor performance.  Consider joining all columns at once using pd.concat(axis=1) instead. To get a de-fragmented frame, use `newframe = frame.copy()`\n",
      "  nllf[f\"{c}(Y)\"] = o[\"chatgpt_label\"].apply(lambda x: float(str(x)[1:-1].split()[1]))\n",
      "/tmp/ipykernel_4082266/3455397725.py:6: PerformanceWarning: DataFrame is highly fragmented.  This is usually the result of calling `frame.insert` many times, which has poor performance.  Consider joining all columns at once using pd.concat(axis=1) instead. To get a de-fragmented frame, use `newframe = frame.copy()`\n",
      "  nllf[f\"{c}(N)\"] = o[\"chatgpt_label\"].apply(lambda x: float(str(x)[1:-1].split()[0]))\n",
      "/tmp/ipykernel_4082266/3455397725.py:7: PerformanceWarning: DataFrame is highly fragmented.  This is usually the result of calling `frame.insert` many times, which has poor performance.  Consider joining all columns at once using pd.concat(axis=1) instead. To get a de-fragmented frame, use `newframe = frame.copy()`\n",
      "  nllf[f\"{c}(Y)\"] = o[\"chatgpt_label\"].apply(lambda x: float(str(x)[1:-1].split()[1]))\n"
     ]
    },
    {
     "name": "stdout",
     "output_type": "stream",
     "text": [
      "raw65\n",
      "raw66_v2\n"
     ]
    },
    {
     "name": "stderr",
     "output_type": "stream",
     "text": [
      "/tmp/ipykernel_4082266/3455397725.py:6: PerformanceWarning: DataFrame is highly fragmented.  This is usually the result of calling `frame.insert` many times, which has poor performance.  Consider joining all columns at once using pd.concat(axis=1) instead. To get a de-fragmented frame, use `newframe = frame.copy()`\n",
      "  nllf[f\"{c}(N)\"] = o[\"chatgpt_label\"].apply(lambda x: float(str(x)[1:-1].split()[0]))\n",
      "/tmp/ipykernel_4082266/3455397725.py:7: PerformanceWarning: DataFrame is highly fragmented.  This is usually the result of calling `frame.insert` many times, which has poor performance.  Consider joining all columns at once using pd.concat(axis=1) instead. To get a de-fragmented frame, use `newframe = frame.copy()`\n",
      "  nllf[f\"{c}(Y)\"] = o[\"chatgpt_label\"].apply(lambda x: float(str(x)[1:-1].split()[1]))\n",
      "/tmp/ipykernel_4082266/3455397725.py:6: PerformanceWarning: DataFrame is highly fragmented.  This is usually the result of calling `frame.insert` many times, which has poor performance.  Consider joining all columns at once using pd.concat(axis=1) instead. To get a de-fragmented frame, use `newframe = frame.copy()`\n",
      "  nllf[f\"{c}(N)\"] = o[\"chatgpt_label\"].apply(lambda x: float(str(x)[1:-1].split()[0]))\n",
      "/tmp/ipykernel_4082266/3455397725.py:7: PerformanceWarning: DataFrame is highly fragmented.  This is usually the result of calling `frame.insert` many times, which has poor performance.  Consider joining all columns at once using pd.concat(axis=1) instead. To get a de-fragmented frame, use `newframe = frame.copy()`\n",
      "  nllf[f\"{c}(Y)\"] = o[\"chatgpt_label\"].apply(lambda x: float(str(x)[1:-1].split()[1]))\n"
     ]
    },
    {
     "name": "stdout",
     "output_type": "stream",
     "text": [
      "raw19\n",
      "raw73_v3\n"
     ]
    },
    {
     "name": "stderr",
     "output_type": "stream",
     "text": [
      "/tmp/ipykernel_4082266/3455397725.py:6: PerformanceWarning: DataFrame is highly fragmented.  This is usually the result of calling `frame.insert` many times, which has poor performance.  Consider joining all columns at once using pd.concat(axis=1) instead. To get a de-fragmented frame, use `newframe = frame.copy()`\n",
      "  nllf[f\"{c}(N)\"] = o[\"chatgpt_label\"].apply(lambda x: float(str(x)[1:-1].split()[0]))\n",
      "/tmp/ipykernel_4082266/3455397725.py:7: PerformanceWarning: DataFrame is highly fragmented.  This is usually the result of calling `frame.insert` many times, which has poor performance.  Consider joining all columns at once using pd.concat(axis=1) instead. To get a de-fragmented frame, use `newframe = frame.copy()`\n",
      "  nllf[f\"{c}(Y)\"] = o[\"chatgpt_label\"].apply(lambda x: float(str(x)[1:-1].split()[1]))\n",
      "/tmp/ipykernel_4082266/3455397725.py:6: PerformanceWarning: DataFrame is highly fragmented.  This is usually the result of calling `frame.insert` many times, which has poor performance.  Consider joining all columns at once using pd.concat(axis=1) instead. To get a de-fragmented frame, use `newframe = frame.copy()`\n",
      "  nllf[f\"{c}(N)\"] = o[\"chatgpt_label\"].apply(lambda x: float(str(x)[1:-1].split()[0]))\n",
      "/tmp/ipykernel_4082266/3455397725.py:7: PerformanceWarning: DataFrame is highly fragmented.  This is usually the result of calling `frame.insert` many times, which has poor performance.  Consider joining all columns at once using pd.concat(axis=1) instead. To get a de-fragmented frame, use `newframe = frame.copy()`\n",
      "  nllf[f\"{c}(Y)\"] = o[\"chatgpt_label\"].apply(lambda x: float(str(x)[1:-1].split()[1]))\n"
     ]
    },
    {
     "name": "stdout",
     "output_type": "stream",
     "text": [
      "exp20\n",
      "exp17_v2\n"
     ]
    },
    {
     "name": "stderr",
     "output_type": "stream",
     "text": [
      "/tmp/ipykernel_4082266/3455397725.py:6: PerformanceWarning: DataFrame is highly fragmented.  This is usually the result of calling `frame.insert` many times, which has poor performance.  Consider joining all columns at once using pd.concat(axis=1) instead. To get a de-fragmented frame, use `newframe = frame.copy()`\n",
      "  nllf[f\"{c}(N)\"] = o[\"chatgpt_label\"].apply(lambda x: float(str(x)[1:-1].split()[0]))\n",
      "/tmp/ipykernel_4082266/3455397725.py:7: PerformanceWarning: DataFrame is highly fragmented.  This is usually the result of calling `frame.insert` many times, which has poor performance.  Consider joining all columns at once using pd.concat(axis=1) instead. To get a de-fragmented frame, use `newframe = frame.copy()`\n",
      "  nllf[f\"{c}(Y)\"] = o[\"chatgpt_label\"].apply(lambda x: float(str(x)[1:-1].split()[1]))\n",
      "/tmp/ipykernel_4082266/3455397725.py:6: PerformanceWarning: DataFrame is highly fragmented.  This is usually the result of calling `frame.insert` many times, which has poor performance.  Consider joining all columns at once using pd.concat(axis=1) instead. To get a de-fragmented frame, use `newframe = frame.copy()`\n",
      "  nllf[f\"{c}(N)\"] = o[\"chatgpt_label\"].apply(lambda x: float(str(x)[1:-1].split()[0]))\n",
      "/tmp/ipykernel_4082266/3455397725.py:7: PerformanceWarning: DataFrame is highly fragmented.  This is usually the result of calling `frame.insert` many times, which has poor performance.  Consider joining all columns at once using pd.concat(axis=1) instead. To get a de-fragmented frame, use `newframe = frame.copy()`\n",
      "  nllf[f\"{c}(Y)\"] = o[\"chatgpt_label\"].apply(lambda x: float(str(x)[1:-1].split()[1]))\n"
     ]
    },
    {
     "name": "stdout",
     "output_type": "stream",
     "text": [
      "exp16_v2\n",
      "exp31\n"
     ]
    },
    {
     "name": "stderr",
     "output_type": "stream",
     "text": [
      "/tmp/ipykernel_4082266/3455397725.py:6: PerformanceWarning: DataFrame is highly fragmented.  This is usually the result of calling `frame.insert` many times, which has poor performance.  Consider joining all columns at once using pd.concat(axis=1) instead. To get a de-fragmented frame, use `newframe = frame.copy()`\n",
      "  nllf[f\"{c}(N)\"] = o[\"chatgpt_label\"].apply(lambda x: float(str(x)[1:-1].split()[0]))\n",
      "/tmp/ipykernel_4082266/3455397725.py:7: PerformanceWarning: DataFrame is highly fragmented.  This is usually the result of calling `frame.insert` many times, which has poor performance.  Consider joining all columns at once using pd.concat(axis=1) instead. To get a de-fragmented frame, use `newframe = frame.copy()`\n",
      "  nllf[f\"{c}(Y)\"] = o[\"chatgpt_label\"].apply(lambda x: float(str(x)[1:-1].split()[1]))\n",
      "/tmp/ipykernel_4082266/3455397725.py:6: PerformanceWarning: DataFrame is highly fragmented.  This is usually the result of calling `frame.insert` many times, which has poor performance.  Consider joining all columns at once using pd.concat(axis=1) instead. To get a de-fragmented frame, use `newframe = frame.copy()`\n",
      "  nllf[f\"{c}(N)\"] = o[\"chatgpt_label\"].apply(lambda x: float(str(x)[1:-1].split()[0]))\n",
      "/tmp/ipykernel_4082266/3455397725.py:7: PerformanceWarning: DataFrame is highly fragmented.  This is usually the result of calling `frame.insert` many times, which has poor performance.  Consider joining all columns at once using pd.concat(axis=1) instead. To get a de-fragmented frame, use `newframe = frame.copy()`\n",
      "  nllf[f\"{c}(Y)\"] = o[\"chatgpt_label\"].apply(lambda x: float(str(x)[1:-1].split()[1]))\n"
     ]
    },
    {
     "name": "stdout",
     "output_type": "stream",
     "text": [
      "raw49\n",
      "lf20\n"
     ]
    },
    {
     "name": "stderr",
     "output_type": "stream",
     "text": [
      "/tmp/ipykernel_4082266/3455397725.py:6: PerformanceWarning: DataFrame is highly fragmented.  This is usually the result of calling `frame.insert` many times, which has poor performance.  Consider joining all columns at once using pd.concat(axis=1) instead. To get a de-fragmented frame, use `newframe = frame.copy()`\n",
      "  nllf[f\"{c}(N)\"] = o[\"chatgpt_label\"].apply(lambda x: float(str(x)[1:-1].split()[0]))\n",
      "/tmp/ipykernel_4082266/3455397725.py:7: PerformanceWarning: DataFrame is highly fragmented.  This is usually the result of calling `frame.insert` many times, which has poor performance.  Consider joining all columns at once using pd.concat(axis=1) instead. To get a de-fragmented frame, use `newframe = frame.copy()`\n",
      "  nllf[f\"{c}(Y)\"] = o[\"chatgpt_label\"].apply(lambda x: float(str(x)[1:-1].split()[1]))\n",
      "/tmp/ipykernel_4082266/3455397725.py:6: PerformanceWarning: DataFrame is highly fragmented.  This is usually the result of calling `frame.insert` many times, which has poor performance.  Consider joining all columns at once using pd.concat(axis=1) instead. To get a de-fragmented frame, use `newframe = frame.copy()`\n",
      "  nllf[f\"{c}(N)\"] = o[\"chatgpt_label\"].apply(lambda x: float(str(x)[1:-1].split()[0]))\n",
      "/tmp/ipykernel_4082266/3455397725.py:7: PerformanceWarning: DataFrame is highly fragmented.  This is usually the result of calling `frame.insert` many times, which has poor performance.  Consider joining all columns at once using pd.concat(axis=1) instead. To get a de-fragmented frame, use `newframe = frame.copy()`\n",
      "  nllf[f\"{c}(Y)\"] = o[\"chatgpt_label\"].apply(lambda x: float(str(x)[1:-1].split()[1]))\n"
     ]
    },
    {
     "name": "stdout",
     "output_type": "stream",
     "text": [
      "raw55\n",
      "raw63\n"
     ]
    },
    {
     "name": "stderr",
     "output_type": "stream",
     "text": [
      "/tmp/ipykernel_4082266/3455397725.py:6: PerformanceWarning: DataFrame is highly fragmented.  This is usually the result of calling `frame.insert` many times, which has poor performance.  Consider joining all columns at once using pd.concat(axis=1) instead. To get a de-fragmented frame, use `newframe = frame.copy()`\n",
      "  nllf[f\"{c}(N)\"] = o[\"chatgpt_label\"].apply(lambda x: float(str(x)[1:-1].split()[0]))\n",
      "/tmp/ipykernel_4082266/3455397725.py:7: PerformanceWarning: DataFrame is highly fragmented.  This is usually the result of calling `frame.insert` many times, which has poor performance.  Consider joining all columns at once using pd.concat(axis=1) instead. To get a de-fragmented frame, use `newframe = frame.copy()`\n",
      "  nllf[f\"{c}(Y)\"] = o[\"chatgpt_label\"].apply(lambda x: float(str(x)[1:-1].split()[1]))\n",
      "/tmp/ipykernel_4082266/3455397725.py:6: PerformanceWarning: DataFrame is highly fragmented.  This is usually the result of calling `frame.insert` many times, which has poor performance.  Consider joining all columns at once using pd.concat(axis=1) instead. To get a de-fragmented frame, use `newframe = frame.copy()`\n",
      "  nllf[f\"{c}(N)\"] = o[\"chatgpt_label\"].apply(lambda x: float(str(x)[1:-1].split()[0]))\n",
      "/tmp/ipykernel_4082266/3455397725.py:7: PerformanceWarning: DataFrame is highly fragmented.  This is usually the result of calling `frame.insert` many times, which has poor performance.  Consider joining all columns at once using pd.concat(axis=1) instead. To get a de-fragmented frame, use `newframe = frame.copy()`\n",
      "  nllf[f\"{c}(Y)\"] = o[\"chatgpt_label\"].apply(lambda x: float(str(x)[1:-1].split()[1]))\n"
     ]
    },
    {
     "name": "stdout",
     "output_type": "stream",
     "text": [
      "exp4_v3\n",
      "b1_v2\n"
     ]
    },
    {
     "name": "stderr",
     "output_type": "stream",
     "text": [
      "/tmp/ipykernel_4082266/3455397725.py:6: PerformanceWarning: DataFrame is highly fragmented.  This is usually the result of calling `frame.insert` many times, which has poor performance.  Consider joining all columns at once using pd.concat(axis=1) instead. To get a de-fragmented frame, use `newframe = frame.copy()`\n",
      "  nllf[f\"{c}(N)\"] = o[\"chatgpt_label\"].apply(lambda x: float(str(x)[1:-1].split()[0]))\n",
      "/tmp/ipykernel_4082266/3455397725.py:7: PerformanceWarning: DataFrame is highly fragmented.  This is usually the result of calling `frame.insert` many times, which has poor performance.  Consider joining all columns at once using pd.concat(axis=1) instead. To get a de-fragmented frame, use `newframe = frame.copy()`\n",
      "  nllf[f\"{c}(Y)\"] = o[\"chatgpt_label\"].apply(lambda x: float(str(x)[1:-1].split()[1]))\n",
      "/tmp/ipykernel_4082266/3455397725.py:6: PerformanceWarning: DataFrame is highly fragmented.  This is usually the result of calling `frame.insert` many times, which has poor performance.  Consider joining all columns at once using pd.concat(axis=1) instead. To get a de-fragmented frame, use `newframe = frame.copy()`\n",
      "  nllf[f\"{c}(N)\"] = o[\"chatgpt_label\"].apply(lambda x: float(str(x)[1:-1].split()[0]))\n",
      "/tmp/ipykernel_4082266/3455397725.py:7: PerformanceWarning: DataFrame is highly fragmented.  This is usually the result of calling `frame.insert` many times, which has poor performance.  Consider joining all columns at once using pd.concat(axis=1) instead. To get a de-fragmented frame, use `newframe = frame.copy()`\n",
      "  nllf[f\"{c}(Y)\"] = o[\"chatgpt_label\"].apply(lambda x: float(str(x)[1:-1].split()[1]))\n"
     ]
    },
    {
     "name": "stdout",
     "output_type": "stream",
     "text": [
      "raw28\n",
      "raw26_v2\n"
     ]
    },
    {
     "name": "stderr",
     "output_type": "stream",
     "text": [
      "/tmp/ipykernel_4082266/3455397725.py:6: PerformanceWarning: DataFrame is highly fragmented.  This is usually the result of calling `frame.insert` many times, which has poor performance.  Consider joining all columns at once using pd.concat(axis=1) instead. To get a de-fragmented frame, use `newframe = frame.copy()`\n",
      "  nllf[f\"{c}(N)\"] = o[\"chatgpt_label\"].apply(lambda x: float(str(x)[1:-1].split()[0]))\n",
      "/tmp/ipykernel_4082266/3455397725.py:7: PerformanceWarning: DataFrame is highly fragmented.  This is usually the result of calling `frame.insert` many times, which has poor performance.  Consider joining all columns at once using pd.concat(axis=1) instead. To get a de-fragmented frame, use `newframe = frame.copy()`\n",
      "  nllf[f\"{c}(Y)\"] = o[\"chatgpt_label\"].apply(lambda x: float(str(x)[1:-1].split()[1]))\n",
      "/tmp/ipykernel_4082266/3455397725.py:6: PerformanceWarning: DataFrame is highly fragmented.  This is usually the result of calling `frame.insert` many times, which has poor performance.  Consider joining all columns at once using pd.concat(axis=1) instead. To get a de-fragmented frame, use `newframe = frame.copy()`\n",
      "  nllf[f\"{c}(N)\"] = o[\"chatgpt_label\"].apply(lambda x: float(str(x)[1:-1].split()[0]))\n",
      "/tmp/ipykernel_4082266/3455397725.py:7: PerformanceWarning: DataFrame is highly fragmented.  This is usually the result of calling `frame.insert` many times, which has poor performance.  Consider joining all columns at once using pd.concat(axis=1) instead. To get a de-fragmented frame, use `newframe = frame.copy()`\n",
      "  nllf[f\"{c}(Y)\"] = o[\"chatgpt_label\"].apply(lambda x: float(str(x)[1:-1].split()[1]))\n"
     ]
    },
    {
     "name": "stdout",
     "output_type": "stream",
     "text": [
      "b12_v1\n",
      "exp3\n"
     ]
    },
    {
     "name": "stderr",
     "output_type": "stream",
     "text": [
      "/tmp/ipykernel_4082266/3455397725.py:6: PerformanceWarning: DataFrame is highly fragmented.  This is usually the result of calling `frame.insert` many times, which has poor performance.  Consider joining all columns at once using pd.concat(axis=1) instead. To get a de-fragmented frame, use `newframe = frame.copy()`\n",
      "  nllf[f\"{c}(N)\"] = o[\"chatgpt_label\"].apply(lambda x: float(str(x)[1:-1].split()[0]))\n",
      "/tmp/ipykernel_4082266/3455397725.py:7: PerformanceWarning: DataFrame is highly fragmented.  This is usually the result of calling `frame.insert` many times, which has poor performance.  Consider joining all columns at once using pd.concat(axis=1) instead. To get a de-fragmented frame, use `newframe = frame.copy()`\n",
      "  nllf[f\"{c}(Y)\"] = o[\"chatgpt_label\"].apply(lambda x: float(str(x)[1:-1].split()[1]))\n",
      "/tmp/ipykernel_4082266/3455397725.py:6: PerformanceWarning: DataFrame is highly fragmented.  This is usually the result of calling `frame.insert` many times, which has poor performance.  Consider joining all columns at once using pd.concat(axis=1) instead. To get a de-fragmented frame, use `newframe = frame.copy()`\n",
      "  nllf[f\"{c}(N)\"] = o[\"chatgpt_label\"].apply(lambda x: float(str(x)[1:-1].split()[0]))\n",
      "/tmp/ipykernel_4082266/3455397725.py:7: PerformanceWarning: DataFrame is highly fragmented.  This is usually the result of calling `frame.insert` many times, which has poor performance.  Consider joining all columns at once using pd.concat(axis=1) instead. To get a de-fragmented frame, use `newframe = frame.copy()`\n",
      "  nllf[f\"{c}(Y)\"] = o[\"chatgpt_label\"].apply(lambda x: float(str(x)[1:-1].split()[1]))\n"
     ]
    },
    {
     "name": "stdout",
     "output_type": "stream",
     "text": [
      "raw20\n",
      "b4_v2\n"
     ]
    },
    {
     "name": "stderr",
     "output_type": "stream",
     "text": [
      "/tmp/ipykernel_4082266/3455397725.py:6: PerformanceWarning: DataFrame is highly fragmented.  This is usually the result of calling `frame.insert` many times, which has poor performance.  Consider joining all columns at once using pd.concat(axis=1) instead. To get a de-fragmented frame, use `newframe = frame.copy()`\n",
      "  nllf[f\"{c}(N)\"] = o[\"chatgpt_label\"].apply(lambda x: float(str(x)[1:-1].split()[0]))\n",
      "/tmp/ipykernel_4082266/3455397725.py:7: PerformanceWarning: DataFrame is highly fragmented.  This is usually the result of calling `frame.insert` many times, which has poor performance.  Consider joining all columns at once using pd.concat(axis=1) instead. To get a de-fragmented frame, use `newframe = frame.copy()`\n",
      "  nllf[f\"{c}(Y)\"] = o[\"chatgpt_label\"].apply(lambda x: float(str(x)[1:-1].split()[1]))\n",
      "/tmp/ipykernel_4082266/3455397725.py:6: PerformanceWarning: DataFrame is highly fragmented.  This is usually the result of calling `frame.insert` many times, which has poor performance.  Consider joining all columns at once using pd.concat(axis=1) instead. To get a de-fragmented frame, use `newframe = frame.copy()`\n",
      "  nllf[f\"{c}(N)\"] = o[\"chatgpt_label\"].apply(lambda x: float(str(x)[1:-1].split()[0]))\n",
      "/tmp/ipykernel_4082266/3455397725.py:7: PerformanceWarning: DataFrame is highly fragmented.  This is usually the result of calling `frame.insert` many times, which has poor performance.  Consider joining all columns at once using pd.concat(axis=1) instead. To get a de-fragmented frame, use `newframe = frame.copy()`\n",
      "  nllf[f\"{c}(Y)\"] = o[\"chatgpt_label\"].apply(lambda x: float(str(x)[1:-1].split()[1]))\n"
     ]
    },
    {
     "name": "stdout",
     "output_type": "stream",
     "text": [
      "raw8\n",
      "lf12\n"
     ]
    },
    {
     "name": "stderr",
     "output_type": "stream",
     "text": [
      "/tmp/ipykernel_4082266/3455397725.py:6: PerformanceWarning: DataFrame is highly fragmented.  This is usually the result of calling `frame.insert` many times, which has poor performance.  Consider joining all columns at once using pd.concat(axis=1) instead. To get a de-fragmented frame, use `newframe = frame.copy()`\n",
      "  nllf[f\"{c}(N)\"] = o[\"chatgpt_label\"].apply(lambda x: float(str(x)[1:-1].split()[0]))\n",
      "/tmp/ipykernel_4082266/3455397725.py:7: PerformanceWarning: DataFrame is highly fragmented.  This is usually the result of calling `frame.insert` many times, which has poor performance.  Consider joining all columns at once using pd.concat(axis=1) instead. To get a de-fragmented frame, use `newframe = frame.copy()`\n",
      "  nllf[f\"{c}(Y)\"] = o[\"chatgpt_label\"].apply(lambda x: float(str(x)[1:-1].split()[1]))\n",
      "/tmp/ipykernel_4082266/3455397725.py:6: PerformanceWarning: DataFrame is highly fragmented.  This is usually the result of calling `frame.insert` many times, which has poor performance.  Consider joining all columns at once using pd.concat(axis=1) instead. To get a de-fragmented frame, use `newframe = frame.copy()`\n",
      "  nllf[f\"{c}(N)\"] = o[\"chatgpt_label\"].apply(lambda x: float(str(x)[1:-1].split()[0]))\n",
      "/tmp/ipykernel_4082266/3455397725.py:7: PerformanceWarning: DataFrame is highly fragmented.  This is usually the result of calling `frame.insert` many times, which has poor performance.  Consider joining all columns at once using pd.concat(axis=1) instead. To get a de-fragmented frame, use `newframe = frame.copy()`\n",
      "  nllf[f\"{c}(Y)\"] = o[\"chatgpt_label\"].apply(lambda x: float(str(x)[1:-1].split()[1]))\n"
     ]
    },
    {
     "name": "stdout",
     "output_type": "stream",
     "text": [
      "raw69\n",
      "raw74_v1\n"
     ]
    },
    {
     "name": "stderr",
     "output_type": "stream",
     "text": [
      "/tmp/ipykernel_4082266/3455397725.py:6: PerformanceWarning: DataFrame is highly fragmented.  This is usually the result of calling `frame.insert` many times, which has poor performance.  Consider joining all columns at once using pd.concat(axis=1) instead. To get a de-fragmented frame, use `newframe = frame.copy()`\n",
      "  nllf[f\"{c}(N)\"] = o[\"chatgpt_label\"].apply(lambda x: float(str(x)[1:-1].split()[0]))\n",
      "/tmp/ipykernel_4082266/3455397725.py:7: PerformanceWarning: DataFrame is highly fragmented.  This is usually the result of calling `frame.insert` many times, which has poor performance.  Consider joining all columns at once using pd.concat(axis=1) instead. To get a de-fragmented frame, use `newframe = frame.copy()`\n",
      "  nllf[f\"{c}(Y)\"] = o[\"chatgpt_label\"].apply(lambda x: float(str(x)[1:-1].split()[1]))\n",
      "/tmp/ipykernel_4082266/3455397725.py:6: PerformanceWarning: DataFrame is highly fragmented.  This is usually the result of calling `frame.insert` many times, which has poor performance.  Consider joining all columns at once using pd.concat(axis=1) instead. To get a de-fragmented frame, use `newframe = frame.copy()`\n",
      "  nllf[f\"{c}(N)\"] = o[\"chatgpt_label\"].apply(lambda x: float(str(x)[1:-1].split()[0]))\n",
      "/tmp/ipykernel_4082266/3455397725.py:7: PerformanceWarning: DataFrame is highly fragmented.  This is usually the result of calling `frame.insert` many times, which has poor performance.  Consider joining all columns at once using pd.concat(axis=1) instead. To get a de-fragmented frame, use `newframe = frame.copy()`\n",
      "  nllf[f\"{c}(Y)\"] = o[\"chatgpt_label\"].apply(lambda x: float(str(x)[1:-1].split()[1]))\n"
     ]
    },
    {
     "name": "stdout",
     "output_type": "stream",
     "text": [
      "exp27\n",
      "b13_v1\n"
     ]
    },
    {
     "name": "stderr",
     "output_type": "stream",
     "text": [
      "/tmp/ipykernel_4082266/3455397725.py:6: PerformanceWarning: DataFrame is highly fragmented.  This is usually the result of calling `frame.insert` many times, which has poor performance.  Consider joining all columns at once using pd.concat(axis=1) instead. To get a de-fragmented frame, use `newframe = frame.copy()`\n",
      "  nllf[f\"{c}(N)\"] = o[\"chatgpt_label\"].apply(lambda x: float(str(x)[1:-1].split()[0]))\n",
      "/tmp/ipykernel_4082266/3455397725.py:7: PerformanceWarning: DataFrame is highly fragmented.  This is usually the result of calling `frame.insert` many times, which has poor performance.  Consider joining all columns at once using pd.concat(axis=1) instead. To get a de-fragmented frame, use `newframe = frame.copy()`\n",
      "  nllf[f\"{c}(Y)\"] = o[\"chatgpt_label\"].apply(lambda x: float(str(x)[1:-1].split()[1]))\n",
      "/tmp/ipykernel_4082266/3455397725.py:6: PerformanceWarning: DataFrame is highly fragmented.  This is usually the result of calling `frame.insert` many times, which has poor performance.  Consider joining all columns at once using pd.concat(axis=1) instead. To get a de-fragmented frame, use `newframe = frame.copy()`\n",
      "  nllf[f\"{c}(N)\"] = o[\"chatgpt_label\"].apply(lambda x: float(str(x)[1:-1].split()[0]))\n",
      "/tmp/ipykernel_4082266/3455397725.py:7: PerformanceWarning: DataFrame is highly fragmented.  This is usually the result of calling `frame.insert` many times, which has poor performance.  Consider joining all columns at once using pd.concat(axis=1) instead. To get a de-fragmented frame, use `newframe = frame.copy()`\n",
      "  nllf[f\"{c}(Y)\"] = o[\"chatgpt_label\"].apply(lambda x: float(str(x)[1:-1].split()[1]))\n"
     ]
    },
    {
     "name": "stdout",
     "output_type": "stream",
     "text": [
      "lf2\n",
      "b8_v1\n"
     ]
    },
    {
     "name": "stderr",
     "output_type": "stream",
     "text": [
      "/tmp/ipykernel_4082266/3455397725.py:6: PerformanceWarning: DataFrame is highly fragmented.  This is usually the result of calling `frame.insert` many times, which has poor performance.  Consider joining all columns at once using pd.concat(axis=1) instead. To get a de-fragmented frame, use `newframe = frame.copy()`\n",
      "  nllf[f\"{c}(N)\"] = o[\"chatgpt_label\"].apply(lambda x: float(str(x)[1:-1].split()[0]))\n",
      "/tmp/ipykernel_4082266/3455397725.py:7: PerformanceWarning: DataFrame is highly fragmented.  This is usually the result of calling `frame.insert` many times, which has poor performance.  Consider joining all columns at once using pd.concat(axis=1) instead. To get a de-fragmented frame, use `newframe = frame.copy()`\n",
      "  nllf[f\"{c}(Y)\"] = o[\"chatgpt_label\"].apply(lambda x: float(str(x)[1:-1].split()[1]))\n",
      "/tmp/ipykernel_4082266/3455397725.py:6: PerformanceWarning: DataFrame is highly fragmented.  This is usually the result of calling `frame.insert` many times, which has poor performance.  Consider joining all columns at once using pd.concat(axis=1) instead. To get a de-fragmented frame, use `newframe = frame.copy()`\n",
      "  nllf[f\"{c}(N)\"] = o[\"chatgpt_label\"].apply(lambda x: float(str(x)[1:-1].split()[0]))\n",
      "/tmp/ipykernel_4082266/3455397725.py:7: PerformanceWarning: DataFrame is highly fragmented.  This is usually the result of calling `frame.insert` many times, which has poor performance.  Consider joining all columns at once using pd.concat(axis=1) instead. To get a de-fragmented frame, use `newframe = frame.copy()`\n",
      "  nllf[f\"{c}(Y)\"] = o[\"chatgpt_label\"].apply(lambda x: float(str(x)[1:-1].split()[1]))\n"
     ]
    },
    {
     "name": "stdout",
     "output_type": "stream",
     "text": [
      "raw30_v1\n",
      "raw46\n"
     ]
    },
    {
     "name": "stderr",
     "output_type": "stream",
     "text": [
      "/tmp/ipykernel_4082266/3455397725.py:6: PerformanceWarning: DataFrame is highly fragmented.  This is usually the result of calling `frame.insert` many times, which has poor performance.  Consider joining all columns at once using pd.concat(axis=1) instead. To get a de-fragmented frame, use `newframe = frame.copy()`\n",
      "  nllf[f\"{c}(N)\"] = o[\"chatgpt_label\"].apply(lambda x: float(str(x)[1:-1].split()[0]))\n",
      "/tmp/ipykernel_4082266/3455397725.py:7: PerformanceWarning: DataFrame is highly fragmented.  This is usually the result of calling `frame.insert` many times, which has poor performance.  Consider joining all columns at once using pd.concat(axis=1) instead. To get a de-fragmented frame, use `newframe = frame.copy()`\n",
      "  nllf[f\"{c}(Y)\"] = o[\"chatgpt_label\"].apply(lambda x: float(str(x)[1:-1].split()[1]))\n",
      "/tmp/ipykernel_4082266/3455397725.py:6: PerformanceWarning: DataFrame is highly fragmented.  This is usually the result of calling `frame.insert` many times, which has poor performance.  Consider joining all columns at once using pd.concat(axis=1) instead. To get a de-fragmented frame, use `newframe = frame.copy()`\n",
      "  nllf[f\"{c}(N)\"] = o[\"chatgpt_label\"].apply(lambda x: float(str(x)[1:-1].split()[0]))\n",
      "/tmp/ipykernel_4082266/3455397725.py:7: PerformanceWarning: DataFrame is highly fragmented.  This is usually the result of calling `frame.insert` many times, which has poor performance.  Consider joining all columns at once using pd.concat(axis=1) instead. To get a de-fragmented frame, use `newframe = frame.copy()`\n",
      "  nllf[f\"{c}(Y)\"] = o[\"chatgpt_label\"].apply(lambda x: float(str(x)[1:-1].split()[1]))\n"
     ]
    },
    {
     "name": "stdout",
     "output_type": "stream",
     "text": [
      "exp10\n",
      "lf25\n"
     ]
    },
    {
     "name": "stderr",
     "output_type": "stream",
     "text": [
      "/tmp/ipykernel_4082266/3455397725.py:6: PerformanceWarning: DataFrame is highly fragmented.  This is usually the result of calling `frame.insert` many times, which has poor performance.  Consider joining all columns at once using pd.concat(axis=1) instead. To get a de-fragmented frame, use `newframe = frame.copy()`\n",
      "  nllf[f\"{c}(N)\"] = o[\"chatgpt_label\"].apply(lambda x: float(str(x)[1:-1].split()[0]))\n",
      "/tmp/ipykernel_4082266/3455397725.py:7: PerformanceWarning: DataFrame is highly fragmented.  This is usually the result of calling `frame.insert` many times, which has poor performance.  Consider joining all columns at once using pd.concat(axis=1) instead. To get a de-fragmented frame, use `newframe = frame.copy()`\n",
      "  nllf[f\"{c}(Y)\"] = o[\"chatgpt_label\"].apply(lambda x: float(str(x)[1:-1].split()[1]))\n",
      "/tmp/ipykernel_4082266/3455397725.py:6: PerformanceWarning: DataFrame is highly fragmented.  This is usually the result of calling `frame.insert` many times, which has poor performance.  Consider joining all columns at once using pd.concat(axis=1) instead. To get a de-fragmented frame, use `newframe = frame.copy()`\n",
      "  nllf[f\"{c}(N)\"] = o[\"chatgpt_label\"].apply(lambda x: float(str(x)[1:-1].split()[0]))\n",
      "/tmp/ipykernel_4082266/3455397725.py:7: PerformanceWarning: DataFrame is highly fragmented.  This is usually the result of calling `frame.insert` many times, which has poor performance.  Consider joining all columns at once using pd.concat(axis=1) instead. To get a de-fragmented frame, use `newframe = frame.copy()`\n",
      "  nllf[f\"{c}(Y)\"] = o[\"chatgpt_label\"].apply(lambda x: float(str(x)[1:-1].split()[1]))\n"
     ]
    },
    {
     "name": "stdout",
     "output_type": "stream",
     "text": [
      "raw16\n",
      "raw49_v1\n"
     ]
    },
    {
     "name": "stderr",
     "output_type": "stream",
     "text": [
      "/tmp/ipykernel_4082266/3455397725.py:6: PerformanceWarning: DataFrame is highly fragmented.  This is usually the result of calling `frame.insert` many times, which has poor performance.  Consider joining all columns at once using pd.concat(axis=1) instead. To get a de-fragmented frame, use `newframe = frame.copy()`\n",
      "  nllf[f\"{c}(N)\"] = o[\"chatgpt_label\"].apply(lambda x: float(str(x)[1:-1].split()[0]))\n",
      "/tmp/ipykernel_4082266/3455397725.py:7: PerformanceWarning: DataFrame is highly fragmented.  This is usually the result of calling `frame.insert` many times, which has poor performance.  Consider joining all columns at once using pd.concat(axis=1) instead. To get a de-fragmented frame, use `newframe = frame.copy()`\n",
      "  nllf[f\"{c}(Y)\"] = o[\"chatgpt_label\"].apply(lambda x: float(str(x)[1:-1].split()[1]))\n",
      "/tmp/ipykernel_4082266/3455397725.py:6: PerformanceWarning: DataFrame is highly fragmented.  This is usually the result of calling `frame.insert` many times, which has poor performance.  Consider joining all columns at once using pd.concat(axis=1) instead. To get a de-fragmented frame, use `newframe = frame.copy()`\n",
      "  nllf[f\"{c}(N)\"] = o[\"chatgpt_label\"].apply(lambda x: float(str(x)[1:-1].split()[0]))\n",
      "/tmp/ipykernel_4082266/3455397725.py:7: PerformanceWarning: DataFrame is highly fragmented.  This is usually the result of calling `frame.insert` many times, which has poor performance.  Consider joining all columns at once using pd.concat(axis=1) instead. To get a de-fragmented frame, use `newframe = frame.copy()`\n",
      "  nllf[f\"{c}(Y)\"] = o[\"chatgpt_label\"].apply(lambda x: float(str(x)[1:-1].split()[1]))\n"
     ]
    },
    {
     "name": "stdout",
     "output_type": "stream",
     "text": [
      "exp21\n",
      "exp22_v2_v2\n"
     ]
    },
    {
     "name": "stderr",
     "output_type": "stream",
     "text": [
      "/tmp/ipykernel_4082266/3455397725.py:6: PerformanceWarning: DataFrame is highly fragmented.  This is usually the result of calling `frame.insert` many times, which has poor performance.  Consider joining all columns at once using pd.concat(axis=1) instead. To get a de-fragmented frame, use `newframe = frame.copy()`\n",
      "  nllf[f\"{c}(N)\"] = o[\"chatgpt_label\"].apply(lambda x: float(str(x)[1:-1].split()[0]))\n",
      "/tmp/ipykernel_4082266/3455397725.py:7: PerformanceWarning: DataFrame is highly fragmented.  This is usually the result of calling `frame.insert` many times, which has poor performance.  Consider joining all columns at once using pd.concat(axis=1) instead. To get a de-fragmented frame, use `newframe = frame.copy()`\n",
      "  nllf[f\"{c}(Y)\"] = o[\"chatgpt_label\"].apply(lambda x: float(str(x)[1:-1].split()[1]))\n",
      "/tmp/ipykernel_4082266/3455397725.py:6: PerformanceWarning: DataFrame is highly fragmented.  This is usually the result of calling `frame.insert` many times, which has poor performance.  Consider joining all columns at once using pd.concat(axis=1) instead. To get a de-fragmented frame, use `newframe = frame.copy()`\n",
      "  nllf[f\"{c}(N)\"] = o[\"chatgpt_label\"].apply(lambda x: float(str(x)[1:-1].split()[0]))\n",
      "/tmp/ipykernel_4082266/3455397725.py:7: PerformanceWarning: DataFrame is highly fragmented.  This is usually the result of calling `frame.insert` many times, which has poor performance.  Consider joining all columns at once using pd.concat(axis=1) instead. To get a de-fragmented frame, use `newframe = frame.copy()`\n",
      "  nllf[f\"{c}(Y)\"] = o[\"chatgpt_label\"].apply(lambda x: float(str(x)[1:-1].split()[1]))\n"
     ]
    },
    {
     "name": "stdout",
     "output_type": "stream",
     "text": [
      "raw49_v3\n",
      "exp27_v3\n"
     ]
    },
    {
     "name": "stderr",
     "output_type": "stream",
     "text": [
      "/tmp/ipykernel_4082266/3455397725.py:6: PerformanceWarning: DataFrame is highly fragmented.  This is usually the result of calling `frame.insert` many times, which has poor performance.  Consider joining all columns at once using pd.concat(axis=1) instead. To get a de-fragmented frame, use `newframe = frame.copy()`\n",
      "  nllf[f\"{c}(N)\"] = o[\"chatgpt_label\"].apply(lambda x: float(str(x)[1:-1].split()[0]))\n",
      "/tmp/ipykernel_4082266/3455397725.py:7: PerformanceWarning: DataFrame is highly fragmented.  This is usually the result of calling `frame.insert` many times, which has poor performance.  Consider joining all columns at once using pd.concat(axis=1) instead. To get a de-fragmented frame, use `newframe = frame.copy()`\n",
      "  nllf[f\"{c}(Y)\"] = o[\"chatgpt_label\"].apply(lambda x: float(str(x)[1:-1].split()[1]))\n",
      "/tmp/ipykernel_4082266/3455397725.py:6: PerformanceWarning: DataFrame is highly fragmented.  This is usually the result of calling `frame.insert` many times, which has poor performance.  Consider joining all columns at once using pd.concat(axis=1) instead. To get a de-fragmented frame, use `newframe = frame.copy()`\n",
      "  nllf[f\"{c}(N)\"] = o[\"chatgpt_label\"].apply(lambda x: float(str(x)[1:-1].split()[0]))\n",
      "/tmp/ipykernel_4082266/3455397725.py:7: PerformanceWarning: DataFrame is highly fragmented.  This is usually the result of calling `frame.insert` many times, which has poor performance.  Consider joining all columns at once using pd.concat(axis=1) instead. To get a de-fragmented frame, use `newframe = frame.copy()`\n",
      "  nllf[f\"{c}(Y)\"] = o[\"chatgpt_label\"].apply(lambda x: float(str(x)[1:-1].split()[1]))\n"
     ]
    },
    {
     "name": "stdout",
     "output_type": "stream",
     "text": [
      "raw13\n",
      "exp18\n"
     ]
    },
    {
     "name": "stderr",
     "output_type": "stream",
     "text": [
      "/tmp/ipykernel_4082266/3455397725.py:6: PerformanceWarning: DataFrame is highly fragmented.  This is usually the result of calling `frame.insert` many times, which has poor performance.  Consider joining all columns at once using pd.concat(axis=1) instead. To get a de-fragmented frame, use `newframe = frame.copy()`\n",
      "  nllf[f\"{c}(N)\"] = o[\"chatgpt_label\"].apply(lambda x: float(str(x)[1:-1].split()[0]))\n",
      "/tmp/ipykernel_4082266/3455397725.py:7: PerformanceWarning: DataFrame is highly fragmented.  This is usually the result of calling `frame.insert` many times, which has poor performance.  Consider joining all columns at once using pd.concat(axis=1) instead. To get a de-fragmented frame, use `newframe = frame.copy()`\n",
      "  nllf[f\"{c}(Y)\"] = o[\"chatgpt_label\"].apply(lambda x: float(str(x)[1:-1].split()[1]))\n",
      "/tmp/ipykernel_4082266/3455397725.py:6: PerformanceWarning: DataFrame is highly fragmented.  This is usually the result of calling `frame.insert` many times, which has poor performance.  Consider joining all columns at once using pd.concat(axis=1) instead. To get a de-fragmented frame, use `newframe = frame.copy()`\n",
      "  nllf[f\"{c}(N)\"] = o[\"chatgpt_label\"].apply(lambda x: float(str(x)[1:-1].split()[0]))\n",
      "/tmp/ipykernel_4082266/3455397725.py:7: PerformanceWarning: DataFrame is highly fragmented.  This is usually the result of calling `frame.insert` many times, which has poor performance.  Consider joining all columns at once using pd.concat(axis=1) instead. To get a de-fragmented frame, use `newframe = frame.copy()`\n",
      "  nllf[f\"{c}(Y)\"] = o[\"chatgpt_label\"].apply(lambda x: float(str(x)[1:-1].split()[1]))\n"
     ]
    },
    {
     "name": "stdout",
     "output_type": "stream",
     "text": [
      "b13\n",
      "raw39\n"
     ]
    },
    {
     "name": "stderr",
     "output_type": "stream",
     "text": [
      "/tmp/ipykernel_4082266/3455397725.py:6: PerformanceWarning: DataFrame is highly fragmented.  This is usually the result of calling `frame.insert` many times, which has poor performance.  Consider joining all columns at once using pd.concat(axis=1) instead. To get a de-fragmented frame, use `newframe = frame.copy()`\n",
      "  nllf[f\"{c}(N)\"] = o[\"chatgpt_label\"].apply(lambda x: float(str(x)[1:-1].split()[0]))\n",
      "/tmp/ipykernel_4082266/3455397725.py:7: PerformanceWarning: DataFrame is highly fragmented.  This is usually the result of calling `frame.insert` many times, which has poor performance.  Consider joining all columns at once using pd.concat(axis=1) instead. To get a de-fragmented frame, use `newframe = frame.copy()`\n",
      "  nllf[f\"{c}(Y)\"] = o[\"chatgpt_label\"].apply(lambda x: float(str(x)[1:-1].split()[1]))\n",
      "/tmp/ipykernel_4082266/3455397725.py:6: PerformanceWarning: DataFrame is highly fragmented.  This is usually the result of calling `frame.insert` many times, which has poor performance.  Consider joining all columns at once using pd.concat(axis=1) instead. To get a de-fragmented frame, use `newframe = frame.copy()`\n",
      "  nllf[f\"{c}(N)\"] = o[\"chatgpt_label\"].apply(lambda x: float(str(x)[1:-1].split()[0]))\n",
      "/tmp/ipykernel_4082266/3455397725.py:7: PerformanceWarning: DataFrame is highly fragmented.  This is usually the result of calling `frame.insert` many times, which has poor performance.  Consider joining all columns at once using pd.concat(axis=1) instead. To get a de-fragmented frame, use `newframe = frame.copy()`\n",
      "  nllf[f\"{c}(Y)\"] = o[\"chatgpt_label\"].apply(lambda x: float(str(x)[1:-1].split()[1]))\n"
     ]
    },
    {
     "name": "stdout",
     "output_type": "stream",
     "text": [
      "exp21_v2\n"
     ]
    },
    {
     "name": "stderr",
     "output_type": "stream",
     "text": [
      "/tmp/ipykernel_4082266/3455397725.py:6: PerformanceWarning: DataFrame is highly fragmented.  This is usually the result of calling `frame.insert` many times, which has poor performance.  Consider joining all columns at once using pd.concat(axis=1) instead. To get a de-fragmented frame, use `newframe = frame.copy()`\n",
      "  nllf[f\"{c}(N)\"] = o[\"chatgpt_label\"].apply(lambda x: float(str(x)[1:-1].split()[0]))\n",
      "/tmp/ipykernel_4082266/3455397725.py:7: PerformanceWarning: DataFrame is highly fragmented.  This is usually the result of calling `frame.insert` many times, which has poor performance.  Consider joining all columns at once using pd.concat(axis=1) instead. To get a de-fragmented frame, use `newframe = frame.copy()`\n",
      "  nllf[f\"{c}(Y)\"] = o[\"chatgpt_label\"].apply(lambda x: float(str(x)[1:-1].split()[1]))\n"
     ]
    }
   ],
   "source": [
    "nllf = data[\"Article Title  Abstract (AB)  Final decision\".split(\"  \")].copy()\n",
    "for file_name in file_names:\n",
    "    c = \"_\".join(file_name.split(\"_\")[2:]).split(\".\")[0]\n",
    "    o = pd.read_excel(file_name)\n",
    "    print(c)\n",
    "    nllf[f\"{c}(N)\"] = o[\"chatgpt_label\"].apply(lambda x: float(str(x)[1:-1].split()[0]))\n",
    "    nllf[f\"{c}(Y)\"] = o[\"chatgpt_label\"].apply(lambda x: float(str(x)[1:-1].split()[1]))\n",
    "    nllf"
   ]
  },
  {
   "cell_type": "code",
   "execution_count": 7,
   "id": "f865348f",
   "metadata": {},
   "outputs": [],
   "source": [
    "nllf.to_excel(\"NLLF_v2.xlsx\")"
   ]
  }
 ],
 "metadata": {
  "kernelspec": {
   "display_name": "Python 3 (ipykernel)",
   "language": "python",
   "name": "python3"
  },
  "language_info": {
   "codemirror_mode": {
    "name": "ipython",
    "version": 3
   },
   "file_extension": ".py",
   "mimetype": "text/x-python",
   "name": "python",
   "nbconvert_exporter": "python",
   "pygments_lexer": "ipython3",
   "version": "3.10.8"
  }
 },
 "nbformat": 4,
 "nbformat_minor": 5
}
