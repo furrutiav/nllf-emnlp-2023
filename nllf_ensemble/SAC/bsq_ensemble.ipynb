{
 "cells": [
  {
   "cell_type": "code",
   "execution_count": 17,
   "id": "23214572",
   "metadata": {},
   "outputs": [],
   "source": [
    "import pandas as pd\n",
    "from sklearn.metrics import classification_report"
   ]
  },
  {
   "cell_type": "code",
   "execution_count": 148,
   "id": "49149033",
   "metadata": {},
   "outputs": [
    {
     "data": {
      "text/plain": [
       "13"
      ]
     },
     "execution_count": 148,
     "metadata": {},
     "output_type": "execute_result"
    }
   ],
   "source": [
    "bsq = [\n",
    "    \"Does the article discuss agroecological practices?\",\n",
    "    \"Does the article cover climate change mitigation?\",\n",
    "    \"Does the article cover climate change adaptation?\",\n",
    "    \"Does the article comprehensively cover climate change and environmental aspects?\",\n",
    "    \"Does the article address greenhouse gas emissions?\",\n",
    "    \"Does the article assess agroecological practices' impact on climate change?\",\n",
    "    \"Does the article provide relevance to stakeholders and farmers in the agricultural sector?\",\n",
    "    \"Does the article address limitations, challenges, and potential risks?\",\n",
    "    \"Does the article address policy implications?\",\n",
    "    \"Does the article have a specific geographic focus?\",\n",
    "    \"Does the article discuss the role of agroecology in enhancing climate resilience in agricultural systems?\",\n",
    "    \"Does the article assess the impact of agroecology on nitrogen dynamics?\",\n",
    "    \"Does the article discuss the impact of methane (CH4) emissions?\"\n",
    "]\n",
    "len(bsq)"
   ]
  },
  {
   "cell_type": "code",
   "execution_count": 1,
   "id": "5398ce8d",
   "metadata": {},
   "outputs": [],
   "source": [
    "chatgpt_responses_b = []\n",
    "for i in range(len(bsq)):\n",
    "    chatgpt_responses_b.append(pd.read_excel(f\"chatgpt_responses_b{i+1}.xlsx\", index_col=0))\n",
    "    print(i+1, bsq[i])\n",
    "    print(classification_report(chatgpt_responses_b[-1][\"Final decision\"] == \"INCLUDE\", chatgpt_responses_b[-1][\"chatgpt\"].apply(lambda x: int(\"Yes\" in x)), digits=4))\n",
    "    print(chatgpt_responses_b[-1][\"chatgpt\"].apply(lambda x: int(\"Yes\" in x)).value_counts().to_dict())"
   ]
  },
  {
   "cell_type": "code",
   "execution_count": 155,
   "id": "8c6f120e",
   "metadata": {},
   "outputs": [],
   "source": [
    "to_pred = chatgpt_responses_b[0].copy()\n",
    "to_pred[\"b1\"] = chatgpt_responses_b[0][\"chatgpt\"].apply(lambda x: int(\"Yes\" in x))\n",
    "for i in range(0, len(bsq)):\n",
    "    to_pred[f\"b{i+1}\"] = chatgpt_responses_b[i][\"chatgpt\"].apply(lambda x: int(\"Yes\" in x))"
   ]
  },
  {
   "cell_type": "code",
   "execution_count": 156,
   "id": "e011c639",
   "metadata": {},
   "outputs": [],
   "source": [
    "X = to_pred[[f\"b{i+1}\" for i in range(len(bsq))]]\n",
    "y = (to_pred[\"Final decision\"] == \"INCLUDE\").apply(int)"
   ]
  },
  {
   "cell_type": "code",
   "execution_count": 162,
   "id": "5f357260",
   "metadata": {},
   "outputs": [],
   "source": [
    "from sklearn.tree import DecisionTreeClassifier\n",
    "clf = DecisionTreeClassifier(random_state=0)"
   ]
  },
  {
   "cell_type": "code",
   "execution_count": 163,
   "id": "696fd887",
   "metadata": {},
   "outputs": [
    {
     "data": {
      "text/plain": [
       "0.83"
      ]
     },
     "execution_count": 163,
     "metadata": {},
     "output_type": "execute_result"
    }
   ],
   "source": [
    "clf.fit(X, y)\n",
    "clf.score(X, y)"
   ]
  },
  {
   "cell_type": "code",
   "execution_count": 164,
   "id": "3bdd3a77",
   "metadata": {},
   "outputs": [
    {
     "name": "stdout",
     "output_type": "stream",
     "text": [
      "              precision    recall  f1-score   support\n",
      "\n",
      "           0     0.8167    0.8909    0.8522        55\n",
      "           1     0.8500    0.7556    0.8000        45\n",
      "\n",
      "    accuracy                         0.8300       100\n",
      "   macro avg     0.8333    0.8232    0.8261       100\n",
      "weighted avg     0.8317    0.8300    0.8287       100\n",
      "\n"
     ]
    }
   ],
   "source": [
    "print(classification_report(y, clf.predict(X), digits=4))"
   ]
  },
  {
   "cell_type": "code",
   "execution_count": 165,
   "id": "29ca897f",
   "metadata": {},
   "outputs": [
    {
     "data": {
      "text/plain": [
       "Publication Type                                                    J\n",
       "Authors                         Rong, YP; Ma, L; Johnson, DA; Yuan, F\n",
       "Article Title       Soil respiration patterns for four major land-...\n",
       "Abstract (AB)       Land-use types and management practices are cr...\n",
       "Publication Year                                               2015.0\n",
       "DOI                                        10.1016/j.agee.2015.08.002\n",
       "Researcher1                                                   INCLUDE\n",
       "Researcher2                                                       NaN\n",
       "Researcher3                                                   INCLUDE\n",
       "Final decision                                                INCLUDE\n",
       "Review studies                                                    NaN\n",
       "Duplicates                                                        NaN\n",
       "chatgpt                                                           No.\n",
       "b1                                                                  0\n",
       "b2                                                                  1\n",
       "b3                                                                  0\n",
       "b4                                                                  1\n",
       "b5                                                                  1\n",
       "b6                                                                  1\n",
       "b7                                                                  1\n",
       "b8                                                                  0\n",
       "b9                                                                  0\n",
       "b10                                                                 1\n",
       "b11                                                                 0\n",
       "b12                                                                 0\n",
       "Name: 1871, dtype: object"
      ]
     },
     "execution_count": 165,
     "metadata": {},
     "output_type": "execute_result"
    }
   ],
   "source": [
    "row"
   ]
  },
  {
   "cell_type": "code",
   "execution_count": 283,
   "id": "3d8bd54d",
   "metadata": {},
   "outputs": [
    {
     "name": "stdout",
     "output_type": "stream",
     "text": [
      "Title: Nitrogen-fixing trees increase soil nitrous oxide emissions: a meta-analysis\n",
      "Abstract: Nitrogen-fixing trees are an important nitrogen source to terrestrial ecosystems. While they can fuel primary production and drive carbon dioxide sequestration, they can also potentially stimulate soil emissions of nitrous oxide, a potent greenhouse gas. However, studies on the influence of nitrogen-fixing trees on soil nitrous oxide emissions have not been quantitatively synthesized. Here, we show in a meta-analysis that nitrogen-fixing trees more than double soil nitrous oxide emissions relative to non-fixing trees and soils. If planted in reforestation projects at the global scale, nitrogen-fixing trees could increase global soil nitrous oxide emissions from natural terrestrial ecosystems by up to 4.1%, offsetting climate change mitigation via reforestation by up to 4.4%.\n",
      "Label: INCLUDE\n"
     ]
    }
   ],
   "source": [
    "row = to_pred[y != clf.predict(X)].sample(1).iloc[0]\n",
    "print(f\"\"\"Title: {row[\"Article Title\"]}\\nAbstract: {row[\"Abstract (AB)\"]}\\nLabel: {row[\"Final decision\"]}\"\"\")"
   ]
  },
  {
   "cell_type": "code",
   "execution_count": 308,
   "id": "0b44dcce",
   "metadata": {},
   "outputs": [
    {
     "data": {
      "text/html": [
       "<div>\n",
       "<style scoped>\n",
       "    .dataframe tbody tr th:only-of-type {\n",
       "        vertical-align: middle;\n",
       "    }\n",
       "\n",
       "    .dataframe tbody tr th {\n",
       "        vertical-align: top;\n",
       "    }\n",
       "\n",
       "    .dataframe thead th {\n",
       "        text-align: right;\n",
       "    }\n",
       "</style>\n",
       "<table border=\"1\" class=\"dataframe\">\n",
       "  <thead>\n",
       "    <tr style=\"text-align: right;\">\n",
       "      <th></th>\n",
       "      <th>t</th>\n",
       "      <th>ab</th>\n",
       "      <th>q</th>\n",
       "      <th>label</th>\n",
       "    </tr>\n",
       "  </thead>\n",
       "  <tbody>\n",
       "    <tr>\n",
       "      <th>0</th>\n",
       "      <td>Does carbon farming provide a cost-effective o...</td>\n",
       "      <td>In this study, we apply a whole farm bioeconom...</td>\n",
       "      <td>Does the article discuss agroecological practi...</td>\n",
       "      <td>1</td>\n",
       "    </tr>\n",
       "    <tr>\n",
       "      <th>1</th>\n",
       "      <td>Influence of Organic and Mineral Fertilizers o...</td>\n",
       "      <td>The intensive use of mineral (M) fertilizers m...</td>\n",
       "      <td>Does the article discuss agroecological practi...</td>\n",
       "      <td>1</td>\n",
       "    </tr>\n",
       "    <tr>\n",
       "      <th>2</th>\n",
       "      <td>Climate Change Mitigation Options in the Fores...</td>\n",
       "      <td>The Intergovernmental Panel on Climate Change ...</td>\n",
       "      <td>Does the article discuss agroecological practi...</td>\n",
       "      <td>1</td>\n",
       "    </tr>\n",
       "    <tr>\n",
       "      <th>3</th>\n",
       "      <td>Rye cover crop incorporation and high watertab...</td>\n",
       "      <td>Drainage and cultivation of peat soils almost ...</td>\n",
       "      <td>Does the article discuss agroecological practi...</td>\n",
       "      <td>1</td>\n",
       "    </tr>\n",
       "    <tr>\n",
       "      <th>4</th>\n",
       "      <td>Emerging Issues and Potential Opportunities in...</td>\n",
       "      <td>The rice-wheat cropping system (RWCS) is the b...</td>\n",
       "      <td>Does the article discuss agroecological practi...</td>\n",
       "      <td>1</td>\n",
       "    </tr>\n",
       "    <tr>\n",
       "      <th>...</th>\n",
       "      <td>...</td>\n",
       "      <td>...</td>\n",
       "      <td>...</td>\n",
       "      <td>...</td>\n",
       "    </tr>\n",
       "    <tr>\n",
       "      <th>995</th>\n",
       "      <td>Consequences of field N2O emissions for the en...</td>\n",
       "      <td>One way of reducing the emissions of fossil fu...</td>\n",
       "      <td>Does the article discuss the impact of methane...</td>\n",
       "      <td>0</td>\n",
       "    </tr>\n",
       "    <tr>\n",
       "      <th>996</th>\n",
       "      <td>Estimation of net greenhouse gas balance using...</td>\n",
       "      <td>The net greenhouse gas balance (NGHGB), estima...</td>\n",
       "      <td>Does the article discuss the impact of methane...</td>\n",
       "      <td>0</td>\n",
       "    </tr>\n",
       "    <tr>\n",
       "      <th>997</th>\n",
       "      <td>Farmers' adaptation to climate-smart agricultu...</td>\n",
       "      <td>Some of the measures to be taken to reduce gre...</td>\n",
       "      <td>Does the article discuss the impact of methane...</td>\n",
       "      <td>0</td>\n",
       "    </tr>\n",
       "    <tr>\n",
       "      <th>998</th>\n",
       "      <td>Valorization Methodology for Agriculture Secto...</td>\n",
       "      <td>Agriculture sector holds an essential role in ...</td>\n",
       "      <td>Does the article discuss the impact of methane...</td>\n",
       "      <td>1</td>\n",
       "    </tr>\n",
       "    <tr>\n",
       "      <th>999</th>\n",
       "      <td>Maintaining rice production while mitigating m...</td>\n",
       "      <td>China is the largest rice producing and consum...</td>\n",
       "      <td>Does the article discuss the impact of methane...</td>\n",
       "      <td>1</td>\n",
       "    </tr>\n",
       "  </tbody>\n",
       "</table>\n",
       "<p>1000 rows × 4 columns</p>\n",
       "</div>"
      ],
      "text/plain": [
       "                                                     t  \\\n",
       "0    Does carbon farming provide a cost-effective o...   \n",
       "1    Influence of Organic and Mineral Fertilizers o...   \n",
       "2    Climate Change Mitigation Options in the Fores...   \n",
       "3    Rye cover crop incorporation and high watertab...   \n",
       "4    Emerging Issues and Potential Opportunities in...   \n",
       "..                                                 ...   \n",
       "995  Consequences of field N2O emissions for the en...   \n",
       "996  Estimation of net greenhouse gas balance using...   \n",
       "997  Farmers' adaptation to climate-smart agricultu...   \n",
       "998  Valorization Methodology for Agriculture Secto...   \n",
       "999  Maintaining rice production while mitigating m...   \n",
       "\n",
       "                                                    ab  \\\n",
       "0    In this study, we apply a whole farm bioeconom...   \n",
       "1    The intensive use of mineral (M) fertilizers m...   \n",
       "2    The Intergovernmental Panel on Climate Change ...   \n",
       "3    Drainage and cultivation of peat soils almost ...   \n",
       "4    The rice-wheat cropping system (RWCS) is the b...   \n",
       "..                                                 ...   \n",
       "995  One way of reducing the emissions of fossil fu...   \n",
       "996  The net greenhouse gas balance (NGHGB), estima...   \n",
       "997  Some of the measures to be taken to reduce gre...   \n",
       "998  Agriculture sector holds an essential role in ...   \n",
       "999  China is the largest rice producing and consum...   \n",
       "\n",
       "                                                     q  label  \n",
       "0    Does the article discuss agroecological practi...      1  \n",
       "1    Does the article discuss agroecological practi...      1  \n",
       "2    Does the article discuss agroecological practi...      1  \n",
       "3    Does the article discuss agroecological practi...      1  \n",
       "4    Does the article discuss agroecological practi...      1  \n",
       "..                                                 ...    ...  \n",
       "995  Does the article discuss the impact of methane...      0  \n",
       "996  Does the article discuss the impact of methane...      0  \n",
       "997  Does the article discuss the impact of methane...      0  \n",
       "998  Does the article discuss the impact of methane...      1  \n",
       "999  Does the article discuss the impact of methane...      1  \n",
       "\n",
       "[1000 rows x 4 columns]"
      ]
     },
     "execution_count": 308,
     "metadata": {},
     "output_type": "execute_result"
    }
   ],
   "source": [
    "columns = \"Article Title  Abstract (AB)\".split(\"  \")\n",
    "recols = {\"Article Title\": \"t\", \"Abstract (AB)\": \"ab\"}\n",
    "i = 0\n",
    "o = chatgpt_responses_b[i][columns].rename(columns = recols)\n",
    "o[\"q\"] = bsq[i]\n",
    "o[\"label\"] = to_pred[f\"b{i+1}\"]\n",
    "o = o.reset_index().drop(columns=\"index\")\n",
    "for i in range(1, len(bsq)):\n",
    "    if i not in [6, 4, 1]:\n",
    "        oi = chatgpt_responses_b[i][columns].rename(columns = recols)\n",
    "        oi[\"q\"] = bsq[i]\n",
    "        oi[\"label\"] = to_pred[f\"b{i+1}\"]\n",
    "        oi = oi.reset_index().drop(columns=\"index\")\n",
    "        o = pd.concat([o, oi], ignore_index=True)\n",
    "o"
   ]
  },
  {
   "cell_type": "code",
   "execution_count": 309,
   "id": "5542eeed",
   "metadata": {},
   "outputs": [
    {
     "data": {
      "text/plain": [
       "1    629\n",
       "0    371\n",
       "Name: label, dtype: int64"
      ]
     },
     "execution_count": 309,
     "metadata": {},
     "output_type": "execute_result"
    }
   ],
   "source": [
    "o[\"label\"].value_counts()"
   ]
  },
  {
   "cell_type": "code",
   "execution_count": 310,
   "id": "79815af6",
   "metadata": {},
   "outputs": [],
   "source": [
    "o.to_excel(\"train_bsq_abstract_chatgpt.xlsx\")"
   ]
  }
 ],
 "metadata": {
  "kernelspec": {
   "display_name": "Python 3 (ipykernel)",
   "language": "python",
   "name": "python3"
  },
  "language_info": {
   "codemirror_mode": {
    "name": "ipython",
    "version": 3
   },
   "file_extension": ".py",
   "mimetype": "text/x-python",
   "name": "python",
   "nbconvert_exporter": "python",
   "pygments_lexer": "ipython3",
   "version": "3.8.5"
  }
 },
 "nbformat": 4,
 "nbformat_minor": 5
}
