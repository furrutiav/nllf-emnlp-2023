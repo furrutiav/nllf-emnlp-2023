{
 "cells": [
  {
   "cell_type": "code",
   "execution_count": null,
   "metadata": {
    "id": "KbwImUv5_vXz"
   },
   "outputs": [],
   "source": [
    "import pandas as pd\n",
    "import numpy as np\n",
    "import pickle"
   ]
  },
  {
   "cell_type": "code",
   "execution_count": null,
   "metadata": {
    "id": "3I7DQM5AAP7z"
   },
   "outputs": [],
   "source": [
    "file_names = {\n",
    "    \"train\": \"/content/drive/MyDrive/MA5811-1 - Primavera 2021: X/train_task_chatgpt.xlsx\",\n",
    "    \"test\": \"/content/drive/MyDrive/MA5811-1 - Primavera 2021: X/test_task_chatgpt.xlsx\",\n",
    "    \"val\": \"/content/drive/MyDrive/MA5811-1 - Primavera 2021: X/val_task_chatgpt.xlsx\",\n",
    "}"
   ]
  },
  {
   "cell_type": "code",
   "execution_count": null,
   "metadata": {
    "id": "yOktsovKAUhz"
   },
   "outputs": [],
   "source": [
    "A_train = pd.read_excel(file_names[\"train\"], index_col=\"id\").sample(frac = 1, random_state=2023).reset_index()\n",
    "A_val = pd.read_excel(file_names[\"val\"])\n",
    "A_test = pd.read_excel(file_names[\"test\"])"
   ]
  },
  {
   "cell_type": "code",
   "execution_count": null,
   "metadata": {
    "colab": {
     "base_uri": "https://localhost:8080/",
     "height": 1000
    },
    "id": "9SK-gWiunpv2",
    "outputId": "34810c9a-7c8c-4966-ae50-706467819fc5"
   },
   "outputs": [
    {
     "data": {
      "text/html": [
       "\n",
       "  <div id=\"df-b6c8f12d-5661-4a33-a403-a1509dd3ba4c\">\n",
       "    <div class=\"colab-df-container\">\n",
       "      <div>\n",
       "<style scoped>\n",
       "    .dataframe tbody tr th:only-of-type {\n",
       "        vertical-align: middle;\n",
       "    }\n",
       "\n",
       "    .dataframe tbody tr th {\n",
       "        vertical-align: top;\n",
       "    }\n",
       "\n",
       "    .dataframe thead th {\n",
       "        text-align: right;\n",
       "    }\n",
       "</style>\n",
       "<table border=\"1\" class=\"dataframe\">\n",
       "  <thead>\n",
       "    <tr style=\"text-align: right;\">\n",
       "      <th></th>\n",
       "      <th>id</th>\n",
       "      <th>Unnamed: 0</th>\n",
       "      <th>Q_id</th>\n",
       "      <th>Q</th>\n",
       "      <th>A</th>\n",
       "      <th>label_Q</th>\n",
       "      <th>label</th>\n",
       "      <th>label_C1</th>\n",
       "      <th>sample_Q</th>\n",
       "      <th>sample_C</th>\n",
       "      <th>sample_C1</th>\n",
       "      <th>sample</th>\n",
       "      <th>chatgpt</th>\n",
       "      <th>chatgpt_label</th>\n",
       "      <th>chatgpt_question</th>\n",
       "    </tr>\n",
       "  </thead>\n",
       "  <tbody>\n",
       "    <tr>\n",
       "      <th>0</th>\n",
       "      <td>128496</td>\n",
       "      <td>853</td>\n",
       "      <td>7016</td>\n",
       "      <td>Juan tiene 250 autitos de carrera. Su hermano...</td>\n",
       "      <td>juanito se quedo con 210 autitos de carrera yt...</td>\n",
       "      <td>2</td>\n",
       "      <td>0</td>\n",
       "      <td>0</td>\n",
       "      <td>0</td>\n",
       "      <td>1</td>\n",
       "      <td>0</td>\n",
       "      <td>1</td>\n",
       "      <td>Sí, la</td>\n",
       "      <td>0</td>\n",
       "      <td>¿La respuesta muestra comprensión de la pregun...</td>\n",
       "    </tr>\n",
       "    <tr>\n",
       "      <th>1</th>\n",
       "      <td>146920</td>\n",
       "      <td>5573</td>\n",
       "      <td>8903</td>\n",
       "      <td>Manuel compró 5 chicles y pagó en total $ 500....</td>\n",
       "      <td>manuel es ta en lo corecto por que cada uno ba...</td>\n",
       "      <td>3</td>\n",
       "      <td>0</td>\n",
       "      <td>0</td>\n",
       "      <td>0</td>\n",
       "      <td>1</td>\n",
       "      <td>0</td>\n",
       "      <td>1</td>\n",
       "      <td>La respuesta muestra comp</td>\n",
       "      <td>0</td>\n",
       "      <td>¿La respuesta muestra comprensión de la pregun...</td>\n",
       "    </tr>\n",
       "    <tr>\n",
       "      <th>2</th>\n",
       "      <td>139255</td>\n",
       "      <td>5938</td>\n",
       "      <td>8391</td>\n",
       "      <td>Camilo tiene que juntar 60 balones. Lleva junt...</td>\n",
       "      <td>esta bien porque y  operacion inversa</td>\n",
       "      <td>3</td>\n",
       "      <td>0</td>\n",
       "      <td>0</td>\n",
       "      <td>0</td>\n",
       "      <td>1</td>\n",
       "      <td>0</td>\n",
       "      <td>1</td>\n",
       "      <td>Sí, la</td>\n",
       "      <td>0</td>\n",
       "      <td>¿La respuesta es lógica y consistente con la p...</td>\n",
       "    </tr>\n",
       "    <tr>\n",
       "      <th>3</th>\n",
       "      <td>134357</td>\n",
       "      <td>6704</td>\n",
       "      <td>7404</td>\n",
       "      <td>El lunes José  se compra 3 figuritas de Avenge...</td>\n",
       "      <td>nj444</td>\n",
       "      <td>3</td>\n",
       "      <td>1</td>\n",
       "      <td>0</td>\n",
       "      <td>0</td>\n",
       "      <td>1</td>\n",
       "      <td>0</td>\n",
       "      <td>1</td>\n",
       "      <td>No, la respuesta</td>\n",
       "      <td>1</td>\n",
       "      <td>¿La respuesta brinda una respuesta directa y r...</td>\n",
       "    </tr>\n",
       "    <tr>\n",
       "      <th>4</th>\n",
       "      <td>135681</td>\n",
       "      <td>4583</td>\n",
       "      <td>8970</td>\n",
       "      <td>Lorena recibió un chocolate de regalo, ella co...</td>\n",
       "      <td>no porque lorena no le repartio el chocolate e...</td>\n",
       "      <td>3</td>\n",
       "      <td>0</td>\n",
       "      <td>0</td>\n",
       "      <td>1</td>\n",
       "      <td>0</td>\n",
       "      <td>0</td>\n",
       "      <td>1</td>\n",
       "      <td>No, la respuesta</td>\n",
       "      <td>1</td>\n",
       "      <td>¿La respuesta muestra los cálculos o procesos ...</td>\n",
       "    </tr>\n",
       "    <tr>\n",
       "      <th>...</th>\n",
       "      <td>...</td>\n",
       "      <td>...</td>\n",
       "      <td>...</td>\n",
       "      <td>...</td>\n",
       "      <td>...</td>\n",
       "      <td>...</td>\n",
       "      <td>...</td>\n",
       "      <td>...</td>\n",
       "      <td>...</td>\n",
       "      <td>...</td>\n",
       "      <td>...</td>\n",
       "      <td>...</td>\n",
       "      <td>...</td>\n",
       "      <td>...</td>\n",
       "      <td>...</td>\n",
       "    </tr>\n",
       "    <tr>\n",
       "      <th>865</th>\n",
       "      <td>132077</td>\n",
       "      <td>6610</td>\n",
       "      <td>7250</td>\n",
       "      <td>Amanda compró 2 chocolates a $135 cada uno y u...</td>\n",
       "      <td>Entotal SERIA 520 POR QUE 135 + 135+250=520</td>\n",
       "      <td>3</td>\n",
       "      <td>1</td>\n",
       "      <td>0</td>\n",
       "      <td>1</td>\n",
       "      <td>0</td>\n",
       "      <td>0</td>\n",
       "      <td>1</td>\n",
       "      <td>La respuesta muestra comp</td>\n",
       "      <td>0</td>\n",
       "      <td>¿La respuesta muestra comprensión de la pregun...</td>\n",
       "    </tr>\n",
       "    <tr>\n",
       "      <th>866</th>\n",
       "      <td>146339</td>\n",
       "      <td>11547</td>\n",
       "      <td>8867</td>\n",
       "      <td>Escribe una historia para que el duende Pepo p...</td>\n",
       "      <td>el duende Pepo  estaba en un pantano embrujand...</td>\n",
       "      <td>0</td>\n",
       "      <td>1</td>\n",
       "      <td>1</td>\n",
       "      <td>0</td>\n",
       "      <td>0</td>\n",
       "      <td>1</td>\n",
       "      <td>1</td>\n",
       "      <td>No, la respuesta</td>\n",
       "      <td>1</td>\n",
       "      <td>¿La respuesta demuestra conocimiento y compren...</td>\n",
       "    </tr>\n",
       "    <tr>\n",
       "      <th>867</th>\n",
       "      <td>147338</td>\n",
       "      <td>4489</td>\n",
       "      <td>8871</td>\n",
       "      <td>Para formar una figura de 7/10, Andrea dice qu...</td>\n",
       "      <td>esta incorrecto por que si quiere formar una f...</td>\n",
       "      <td>3</td>\n",
       "      <td>0</td>\n",
       "      <td>0</td>\n",
       "      <td>1</td>\n",
       "      <td>0</td>\n",
       "      <td>0</td>\n",
       "      <td>1</td>\n",
       "      <td>Sí, la</td>\n",
       "      <td>0</td>\n",
       "      <td>¿La respuesta es clara y utiliza un idioma y o...</td>\n",
       "    </tr>\n",
       "    <tr>\n",
       "      <th>868</th>\n",
       "      <td>150359</td>\n",
       "      <td>3660</td>\n",
       "      <td>9099</td>\n",
       "      <td>Sofía tenía 5 000 pesos para gastar en un supe...</td>\n",
       "      <td>aguante el FORTNITE</td>\n",
       "      <td>2</td>\n",
       "      <td>1</td>\n",
       "      <td>0</td>\n",
       "      <td>0</td>\n",
       "      <td>0</td>\n",
       "      <td>1</td>\n",
       "      <td>1</td>\n",
       "      <td>No, la respuesta</td>\n",
       "      <td>1</td>\n",
       "      <td>¿La respuesta muestra los cálculos o procesos ...</td>\n",
       "    </tr>\n",
       "    <tr>\n",
       "      <th>869</th>\n",
       "      <td>146390</td>\n",
       "      <td>10682</td>\n",
       "      <td>8866</td>\n",
       "      <td>Dos granjas compiten para ver quién produce má...</td>\n",
       "      <td>la granja v tienemas porque 8</td>\n",
       "      <td>4</td>\n",
       "      <td>0</td>\n",
       "      <td>0</td>\n",
       "      <td>0</td>\n",
       "      <td>1</td>\n",
       "      <td>0</td>\n",
       "      <td>1</td>\n",
       "      <td>Sí, la</td>\n",
       "      <td>0</td>\n",
       "      <td>¿La respuesta ofrece argumentos o ejemplos par...</td>\n",
       "    </tr>\n",
       "  </tbody>\n",
       "</table>\n",
       "<p>870 rows × 15 columns</p>\n",
       "</div>\n",
       "      <button class=\"colab-df-convert\" onclick=\"convertToInteractive('df-b6c8f12d-5661-4a33-a403-a1509dd3ba4c')\"\n",
       "              title=\"Convert this dataframe to an interactive table.\"\n",
       "              style=\"display:none;\">\n",
       "        \n",
       "  <svg xmlns=\"http://www.w3.org/2000/svg\" height=\"24px\"viewBox=\"0 0 24 24\"\n",
       "       width=\"24px\">\n",
       "    <path d=\"M0 0h24v24H0V0z\" fill=\"none\"/>\n",
       "    <path d=\"M18.56 5.44l.94 2.06.94-2.06 2.06-.94-2.06-.94-.94-2.06-.94 2.06-2.06.94zm-11 1L8.5 8.5l.94-2.06 2.06-.94-2.06-.94L8.5 2.5l-.94 2.06-2.06.94zm10 10l.94 2.06.94-2.06 2.06-.94-2.06-.94-.94-2.06-.94 2.06-2.06.94z\"/><path d=\"M17.41 7.96l-1.37-1.37c-.4-.4-.92-.59-1.43-.59-.52 0-1.04.2-1.43.59L10.3 9.45l-7.72 7.72c-.78.78-.78 2.05 0 2.83L4 21.41c.39.39.9.59 1.41.59.51 0 1.02-.2 1.41-.59l7.78-7.78 2.81-2.81c.8-.78.8-2.07 0-2.86zM5.41 20L4 18.59l7.72-7.72 1.47 1.35L5.41 20z\"/>\n",
       "  </svg>\n",
       "      </button>\n",
       "      \n",
       "  <style>\n",
       "    .colab-df-container {\n",
       "      display:flex;\n",
       "      flex-wrap:wrap;\n",
       "      gap: 12px;\n",
       "    }\n",
       "\n",
       "    .colab-df-convert {\n",
       "      background-color: #E8F0FE;\n",
       "      border: none;\n",
       "      border-radius: 50%;\n",
       "      cursor: pointer;\n",
       "      display: none;\n",
       "      fill: #1967D2;\n",
       "      height: 32px;\n",
       "      padding: 0 0 0 0;\n",
       "      width: 32px;\n",
       "    }\n",
       "\n",
       "    .colab-df-convert:hover {\n",
       "      background-color: #E2EBFA;\n",
       "      box-shadow: 0px 1px 2px rgba(60, 64, 67, 0.3), 0px 1px 3px 1px rgba(60, 64, 67, 0.15);\n",
       "      fill: #174EA6;\n",
       "    }\n",
       "\n",
       "    [theme=dark] .colab-df-convert {\n",
       "      background-color: #3B4455;\n",
       "      fill: #D2E3FC;\n",
       "    }\n",
       "\n",
       "    [theme=dark] .colab-df-convert:hover {\n",
       "      background-color: #434B5C;\n",
       "      box-shadow: 0px 1px 3px 1px rgba(0, 0, 0, 0.15);\n",
       "      filter: drop-shadow(0px 1px 2px rgba(0, 0, 0, 0.3));\n",
       "      fill: #FFFFFF;\n",
       "    }\n",
       "  </style>\n",
       "\n",
       "      <script>\n",
       "        const buttonEl =\n",
       "          document.querySelector('#df-b6c8f12d-5661-4a33-a403-a1509dd3ba4c button.colab-df-convert');\n",
       "        buttonEl.style.display =\n",
       "          google.colab.kernel.accessAllowed ? 'block' : 'none';\n",
       "\n",
       "        async function convertToInteractive(key) {\n",
       "          const element = document.querySelector('#df-b6c8f12d-5661-4a33-a403-a1509dd3ba4c');\n",
       "          const dataTable =\n",
       "            await google.colab.kernel.invokeFunction('convertToInteractive',\n",
       "                                                     [key], {});\n",
       "          if (!dataTable) return;\n",
       "\n",
       "          const docLinkHtml = 'Like what you see? Visit the ' +\n",
       "            '<a target=\"_blank\" href=https://colab.research.google.com/notebooks/data_table.ipynb>data table notebook</a>'\n",
       "            + ' to learn more about interactive tables.';\n",
       "          element.innerHTML = '';\n",
       "          dataTable['output_type'] = 'display_data';\n",
       "          await google.colab.output.renderOutput(dataTable, element);\n",
       "          const docLink = document.createElement('div');\n",
       "          docLink.innerHTML = docLinkHtml;\n",
       "          element.appendChild(docLink);\n",
       "        }\n",
       "      </script>\n",
       "    </div>\n",
       "  </div>\n",
       "  "
      ],
      "text/plain": [
       "         id  Unnamed: 0  Q_id  \\\n",
       "0    128496         853  7016   \n",
       "1    146920        5573  8903   \n",
       "2    139255        5938  8391   \n",
       "3    134357        6704  7404   \n",
       "4    135681        4583  8970   \n",
       "..      ...         ...   ...   \n",
       "865  132077        6610  7250   \n",
       "866  146339       11547  8867   \n",
       "867  147338        4489  8871   \n",
       "868  150359        3660  9099   \n",
       "869  146390       10682  8866   \n",
       "\n",
       "                                                     Q  \\\n",
       "0     Juan tiene 250 autitos de carrera. Su hermano...   \n",
       "1    Manuel compró 5 chicles y pagó en total $ 500....   \n",
       "2    Camilo tiene que juntar 60 balones. Lleva junt...   \n",
       "3    El lunes José  se compra 3 figuritas de Avenge...   \n",
       "4    Lorena recibió un chocolate de regalo, ella co...   \n",
       "..                                                 ...   \n",
       "865  Amanda compró 2 chocolates a $135 cada uno y u...   \n",
       "866  Escribe una historia para que el duende Pepo p...   \n",
       "867  Para formar una figura de 7/10, Andrea dice qu...   \n",
       "868  Sofía tenía 5 000 pesos para gastar en un supe...   \n",
       "869  Dos granjas compiten para ver quién produce má...   \n",
       "\n",
       "                                                     A  label_Q  label  \\\n",
       "0    juanito se quedo con 210 autitos de carrera yt...        2      0   \n",
       "1    manuel es ta en lo corecto por que cada uno ba...        3      0   \n",
       "2               esta bien porque y  operacion inversa         3      0   \n",
       "3                                                nj444        3      1   \n",
       "4    no porque lorena no le repartio el chocolate e...        3      0   \n",
       "..                                                 ...      ...    ...   \n",
       "865       Entotal SERIA 520 POR QUE 135 + 135+250=520         3      1   \n",
       "866  el duende Pepo  estaba en un pantano embrujand...        0      1   \n",
       "867  esta incorrecto por que si quiere formar una f...        3      0   \n",
       "868                                aguante el FORTNITE        2      1   \n",
       "869                      la granja v tienemas porque 8        4      0   \n",
       "\n",
       "     label_C1  sample_Q  sample_C  sample_C1  sample  \\\n",
       "0           0         0         1          0       1   \n",
       "1           0         0         1          0       1   \n",
       "2           0         0         1          0       1   \n",
       "3           0         0         1          0       1   \n",
       "4           0         1         0          0       1   \n",
       "..        ...       ...       ...        ...     ...   \n",
       "865         0         1         0          0       1   \n",
       "866         1         0         0          1       1   \n",
       "867         0         1         0          0       1   \n",
       "868         0         0         0          1       1   \n",
       "869         0         0         1          0       1   \n",
       "\n",
       "                       chatgpt  chatgpt_label  \\\n",
       "0                       Sí, la              0   \n",
       "1    La respuesta muestra comp              0   \n",
       "2                       Sí, la              0   \n",
       "3             No, la respuesta              1   \n",
       "4             No, la respuesta              1   \n",
       "..                         ...            ...   \n",
       "865  La respuesta muestra comp              0   \n",
       "866           No, la respuesta              1   \n",
       "867                     Sí, la              0   \n",
       "868           No, la respuesta              1   \n",
       "869                     Sí, la              0   \n",
       "\n",
       "                                      chatgpt_question  \n",
       "0    ¿La respuesta muestra comprensión de la pregun...  \n",
       "1    ¿La respuesta muestra comprensión de la pregun...  \n",
       "2    ¿La respuesta es lógica y consistente con la p...  \n",
       "3    ¿La respuesta brinda una respuesta directa y r...  \n",
       "4    ¿La respuesta muestra los cálculos o procesos ...  \n",
       "..                                                 ...  \n",
       "865  ¿La respuesta muestra comprensión de la pregun...  \n",
       "866  ¿La respuesta demuestra conocimiento y compren...  \n",
       "867  ¿La respuesta es clara y utiliza un idioma y o...  \n",
       "868  ¿La respuesta muestra los cálculos o procesos ...  \n",
       "869  ¿La respuesta ofrece argumentos o ejemplos par...  \n",
       "\n",
       "[870 rows x 15 columns]"
      ]
     },
     "execution_count": 10,
     "metadata": {},
     "output_type": "execute_result"
    }
   ],
   "source": [
    "A_train"
   ]
  },
  {
   "cell_type": "code",
   "execution_count": null,
   "metadata": {
    "colab": {
     "base_uri": "https://localhost:8080/"
    },
    "id": "pRHD2PXTnaZ6",
    "outputId": "b9330dde-cbcb-4d42-f225-818e14ea978e"
   },
   "outputs": [
    {
     "data": {
      "text/plain": [
       "109.0"
      ]
     },
     "execution_count": 9,
     "metadata": {},
     "output_type": "execute_result"
    }
   ],
   "source": [
    "(A_train.shape[0]+A_val.shape[0])/10"
   ]
  },
  {
   "cell_type": "code",
   "execution_count": null,
   "metadata": {
    "colab": {
     "base_uri": "https://localhost:8080/"
    },
    "id": "BYi3Td78LNjB",
    "outputId": "fdfac20b-a259-4af4-8379-4e20a5d01b58"
   },
   "outputs": [
    {
     "name": "stdout",
     "output_type": "stream",
     "text": [
      "<class 'pandas.core.frame.DataFrame'>\n",
      "RangeIndex: 870 entries, 0 to 869\n",
      "Data columns (total 15 columns):\n",
      " #   Column            Non-Null Count  Dtype \n",
      "---  ------            --------------  ----- \n",
      " 0   id                870 non-null    int64 \n",
      " 1   Unnamed: 0        870 non-null    int64 \n",
      " 2   Q_id              870 non-null    int64 \n",
      " 3   Q                 870 non-null    object\n",
      " 4   A                 870 non-null    object\n",
      " 5   label_Q           870 non-null    int64 \n",
      " 6   label             870 non-null    int64 \n",
      " 7   label_C1          870 non-null    int64 \n",
      " 8   sample_Q          870 non-null    int64 \n",
      " 9   sample_C          870 non-null    int64 \n",
      " 10  sample_C1         870 non-null    int64 \n",
      " 11  sample            870 non-null    int64 \n",
      " 12  chatgpt           870 non-null    object\n",
      " 13  chatgpt_label     870 non-null    int64 \n",
      " 14  chatgpt_question  870 non-null    object\n",
      "dtypes: int64(11), object(4)\n",
      "memory usage: 102.1+ KB\n",
      "<class 'pandas.core.frame.DataFrame'>\n",
      "RangeIndex: 220 entries, 0 to 219\n",
      "Data columns (total 15 columns):\n",
      " #   Column            Non-Null Count  Dtype \n",
      "---  ------            --------------  ----- \n",
      " 0   Unnamed: 0        220 non-null    int64 \n",
      " 1   id                220 non-null    int64 \n",
      " 2   Q_id              220 non-null    int64 \n",
      " 3   Q                 220 non-null    object\n",
      " 4   A                 220 non-null    object\n",
      " 5   label_Q           220 non-null    int64 \n",
      " 6   label             220 non-null    int64 \n",
      " 7   label_C1          220 non-null    int64 \n",
      " 8   sample_Q          220 non-null    int64 \n",
      " 9   sample_C          220 non-null    int64 \n",
      " 10  sample_C1         220 non-null    int64 \n",
      " 11  sample            220 non-null    int64 \n",
      " 12  chatgpt           220 non-null    object\n",
      " 13  chatgpt_label     220 non-null    int64 \n",
      " 14  chatgpt_question  220 non-null    object\n",
      "dtypes: int64(11), object(4)\n",
      "memory usage: 25.9+ KB\n",
      "<class 'pandas.core.frame.DataFrame'>\n",
      "RangeIndex: 6770 entries, 0 to 6769\n",
      "Data columns (total 9 columns):\n",
      " #   Column            Non-Null Count  Dtype \n",
      "---  ------            --------------  ----- \n",
      " 0   Unnamed: 0        6770 non-null   int64 \n",
      " 1   id                6770 non-null   int64 \n",
      " 2   Q_id              6770 non-null   int64 \n",
      " 3   Q                 6770 non-null   object\n",
      " 4   A                 6770 non-null   object\n",
      " 5   label             6770 non-null   int64 \n",
      " 6   chatgpt           6770 non-null   object\n",
      " 7   chatgpt_label     6770 non-null   int64 \n",
      " 8   chatgpt_question  6770 non-null   object\n",
      "dtypes: int64(5), object(4)\n",
      "memory usage: 476.1+ KB\n"
     ]
    },
    {
     "data": {
      "text/plain": [
       "(None, None, None)"
      ]
     },
     "execution_count": 6,
     "metadata": {},
     "output_type": "execute_result"
    }
   ],
   "source": [
    "A_train.info(), A_val.info(), A_test.info()"
   ]
  },
  {
   "cell_type": "code",
   "execution_count": null,
   "metadata": {
    "colab": {
     "base_uri": "https://localhost:8080/",
     "height": 282
    },
    "id": "n87XVXF2AWAR",
    "outputId": "bb9fda81-8a1a-4a16-8836-58a19f4921d5"
   },
   "outputs": [
    {
     "data": {
      "text/plain": [
       "<Axes: >"
      ]
     },
     "execution_count": 5,
     "metadata": {},
     "output_type": "execute_result"
    },
    {
     "data": {
      "image/png": "[encoded data removed]",
      "text/plain": [
       "<Figure size 432x288 with 1 Axes>"
      ]
     },
     "metadata": {
      "needs_background": "light"
     },
     "output_type": "display_data"
    }
   ],
   "source": [
    "A_train[\"chatgpt_label\"].plot()"
   ]
  },
  {
   "cell_type": "code",
   "execution_count": null,
   "metadata": {
    "id": "J867CB-nEQHz"
   },
   "outputs": [],
   "source": [
    "%%capture\n",
    "!pip install transformers\n",
    "!pip install datasets\n",
    "!pip install torch"
   ]
  },
  {
   "cell_type": "code",
   "execution_count": null,
   "metadata": {
    "id": "mQ3Di_IPEVZK"
   },
   "outputs": [],
   "source": [
    "from transformers import BertTokenizer, BertModel\n",
    "import torch"
   ]
  },
  {
   "cell_type": "code",
   "execution_count": null,
   "metadata": {
    "colab": {
     "base_uri": "https://localhost:8080/",
     "height": 223
    },
    "id": "oVffJ0UyEWtt",
    "outputId": "0834b2e0-ea60-4e09-d285-b548f3b8c005"
   },
   "outputs": [
    {
     "ename": "NameError",
     "evalue": "ignored",
     "output_type": "error",
     "traceback": [
      "\u001b[0;31m---------------------------------------------------------------------------\u001b[0m",
      "\u001b[0;31mNameError\u001b[0m                                 Traceback (most recent call last)",
      "\u001b[0;32m<ipython-input-1-7b868ec5ff9d>\u001b[0m in \u001b[0;36m<cell line: 2>\u001b[0;34m()\u001b[0m\n\u001b[1;32m      1\u001b[0m \u001b[0mmodel_name\u001b[0m \u001b[0;34m=\u001b[0m \u001b[0;34m\"dccuchile/bert-base-spanish-wwm-cased\"\u001b[0m\u001b[0;34m\u001b[0m\u001b[0;34m\u001b[0m\u001b[0m\n\u001b[0;32m----> 2\u001b[0;31m \u001b[0mbeto_model\u001b[0m \u001b[0;34m=\u001b[0m \u001b[0mBertModel\u001b[0m\u001b[0;34m.\u001b[0m\u001b[0mfrom_pretrained\u001b[0m\u001b[0;34m(\u001b[0m\u001b[0mmodel_name\u001b[0m\u001b[0;34m)\u001b[0m\u001b[0;34m\u001b[0m\u001b[0;34m\u001b[0m\u001b[0m\n\u001b[0m\u001b[1;32m      3\u001b[0m \u001b[0mbeto_tokenizer\u001b[0m \u001b[0;34m=\u001b[0m \u001b[0mBertTokenizer\u001b[0m\u001b[0;34m.\u001b[0m\u001b[0mfrom_pretrained\u001b[0m\u001b[0;34m(\u001b[0m\u001b[0mmodel_name\u001b[0m\u001b[0;34m,\u001b[0m \u001b[0mdo_lower_case\u001b[0m\u001b[0;34m=\u001b[0m\u001b[0;32mFalse\u001b[0m\u001b[0;34m)\u001b[0m\u001b[0;34m\u001b[0m\u001b[0;34m\u001b[0m\u001b[0m\n\u001b[1;32m      4\u001b[0m \u001b[0me\u001b[0m \u001b[0;34m=\u001b[0m \u001b[0mbeto_model\u001b[0m\u001b[0;34m.\u001b[0m\u001b[0meval\u001b[0m\u001b[0;34m(\u001b[0m\u001b[0;34m)\u001b[0m\u001b[0;34m\u001b[0m\u001b[0;34m\u001b[0m\u001b[0m\n",
      "\u001b[0;31mNameError\u001b[0m: name 'BertModel' is not defined"
     ]
    }
   ],
   "source": [
    "model_name = \"dccuchile/bert-base-spanish-wwm-cased\"\n",
    "beto_model = BertModel.from_pretrained(model_name)\n",
    "beto_tokenizer = BertTokenizer.from_pretrained(model_name, do_lower_case=False)\n",
    "e = beto_model.eval()"
   ]
  },
  {
   "cell_type": "code",
   "execution_count": null,
   "metadata": {
    "colab": {
     "base_uri": "https://localhost:8080/"
    },
    "id": "SFOym8JPEYz0",
    "outputId": "bd9c69b9-8fae-4338-cb98-93d528bb23d7"
   },
   "outputs": [
    {
     "data": {
      "text/plain": [
       "(['[UNK]', '[SEP]', '[PAD]', '[CLS]', '[MASK]'], [3, 5, 1, 4, 0])"
      ]
     },
     "execution_count": 10,
     "metadata": {},
     "output_type": "execute_result"
    }
   ],
   "source": [
    "beto_tokenizer.all_special_tokens, beto_tokenizer.all_special_ids"
   ]
  },
  {
   "cell_type": "code",
   "execution_count": null,
   "metadata": {
    "id": "kWS-Bw8DEaZo"
   },
   "outputs": [],
   "source": [
    "from torch.utils.data import Dataset\n",
    "class DatasetTaskChatGPT(Dataset):\n",
    "    def __init__(self, df, maxlen):\n",
    "        self.df = df\n",
    "        self.tokenizer = beto_tokenizer\n",
    "        self.maxlen = maxlen\n",
    "\n",
    "    def __len__(self):\n",
    "        return len(self.df)\n",
    "\n",
    "    def __getitem__(self, index):\n",
    "        sentence1 = str(self.df.loc[index, 'Q'])\n",
    "        sentence2 = str(self.df.loc[index, 'A'])\n",
    "        sentence3 = str(self.df.loc[index, 'chatgpt_question'])\n",
    "\n",
    "        sentence1 = \" \".join(str(sentence1).replace(\"\\n\", \" \").split())\n",
    "        sentence2 = \" \".join(str(sentence2).replace(\"\\n\", \" \").split())\n",
    "\n",
    "        label = int(self.df.loc[index, \"chatgpt_label\"])\n",
    "\n",
    "        tokens1 = self.tokenizer.tokenize(sentence1) if len(sentence1)>0 else [\"[UNK]\"]\n",
    "        tokens2 = self.tokenizer.tokenize(sentence2) if len(sentence2)>0 else [\"[UNK]\"]\n",
    "        tokens3 = self.tokenizer.tokenize(sentence3) if len(sentence3)>0 else [\"[UNK]\"]\n",
    "\n",
    "        if len(tokens1) < self.maxlen:\n",
    "            tokens1 = tokens1 + ['[PAD]' for _ in range(self.maxlen - len(tokens1))]\n",
    "        else:\n",
    "            tokens1 = tokens1[:self.maxlen]\n",
    "\n",
    "        if len(tokens2) < self.maxlen:\n",
    "            tokens2 = tokens2 + ['[PAD]' for _ in range(self.maxlen - len(tokens2))]\n",
    "        else:\n",
    "            tokens2 = tokens2[:self.maxlen]\n",
    "\n",
    "        if len(tokens3) < self.maxlen:\n",
    "            tokens3 = tokens3 + ['[PAD]' for _ in range(self.maxlen - len(tokens3))]\n",
    "        else:\n",
    "            tokens3 = tokens3[:self.maxlen]\n",
    "\n",
    "        tokens = [\"[CLS]\"]+tokens1+[\"[SEP]\"]+tokens2+[\"[SEP]\"]+tokens3+[\"[SEP]\"]\n",
    "        tokens_ids = self.tokenizer.convert_tokens_to_ids(tokens)\n",
    "        tokens_ids_tensor = torch.tensor(tokens_ids)\n",
    "        attn_mask = (tokens_ids_tensor != 1).long() # [PAD] => 1\n",
    "\n",
    "        return tokens_ids_tensor, attn_mask, label"
   ]
  },
  {
   "cell_type": "code",
   "execution_count": null,
   "metadata": {
    "id": "mkBCMw22F8kH"
   },
   "outputs": [],
   "source": [
    "from torch.utils.data import DataLoader\n",
    "\n",
    "train_set = DatasetTaskChatGPT(df = A_train, maxlen = 60)\n",
    "val_set = DatasetTaskChatGPT(df = A_val, maxlen = 60)\n",
    "\n",
    "train_loader = DataLoader(train_set, batch_size = 16, num_workers = 2, shuffle=False)\n",
    "val_loader = DataLoader(val_set, batch_size =   16, num_workers = 2, shuffle=False)\n",
    "\n",
    "test_set = DatasetTaskChatGPT(df = A_test, maxlen = 60)\n",
    "\n",
    "test_loader = DataLoader(test_set, batch_size = 16, num_workers = 2, shuffle=False)"
   ]
  },
  {
   "cell_type": "code",
   "execution_count": null,
   "metadata": {
    "id": "_eMTng0EG_yG"
   },
   "outputs": [],
   "source": [
    "import torch.nn as nn\n",
    "class Classifier(nn.Module):\n",
    "    def __init__(self):\n",
    "        super(Classifier, self).__init__()\n",
    "        torch.manual_seed(2022)\n",
    "\n",
    "        self.bert_layer = BertModel.from_pretrained(model_name).cuda()\n",
    "        self.cls_layer = nn.Linear(768, 2).cuda()\n",
    "\n",
    "    def forward(self, seq, attn_masks):\n",
    "\n",
    "        cont_reps = self.bert_layer(seq, attention_mask=attn_masks)\n",
    "        cls_rep = cont_reps.last_hidden_state[:, 0]\n",
    "        logits = self.cls_layer(cls_rep)\n",
    "\n",
    "        return logits"
   ]
  },
  {
   "cell_type": "code",
   "execution_count": null,
   "metadata": {
    "colab": {
     "base_uri": "https://localhost:8080/"
    },
    "id": "Q6QtI28QHEtw",
    "outputId": "56e8b491-45d3-4684-e0f7-08b446561c50"
   },
   "outputs": [
    {
     "name": "stderr",
     "output_type": "stream",
     "text": [
      "Some weights of the model checkpoint at dccuchile/bert-base-spanish-wwm-cased were not used when initializing BertModel: ['cls.predictions.transform.LayerNorm.bias', 'cls.predictions.decoder.bias', 'cls.predictions.bias', 'cls.predictions.decoder.weight', 'cls.predictions.transform.dense.bias', 'cls.predictions.transform.LayerNorm.weight', 'cls.predictions.transform.dense.weight']\n",
      "- This IS expected if you are initializing BertModel from the checkpoint of a model trained on another task or with another architecture (e.g. initializing a BertForSequenceClassification model from a BertForPreTraining model).\n",
      "- This IS NOT expected if you are initializing BertModel from the checkpoint of a model that you expect to be exactly identical (initializing a BertForSequenceClassification model from a BertForSequenceClassification model).\n",
      "Some weights of BertModel were not initialized from the model checkpoint at dccuchile/bert-base-spanish-wwm-cased and are newly initialized: ['bert.pooler.dense.bias', 'bert.pooler.dense.weight']\n",
      "You should probably TRAIN this model on a down-stream task to be able to use it for predictions and inference.\n"
     ]
    }
   ],
   "source": [
    "import torch.optim as optim\n",
    "\n",
    "net = Classifier()\n",
    "\n",
    "weights = torch.tensor([1, 1.])#torch.tensor([1., 2.188])\n",
    "criterion = nn.CrossEntropyLoss(weight=weights, reduction='mean').cuda()\n",
    "\n",
    "opti = optim.Adam(net.parameters(), lr = 8e-5)"
   ]
  },
  {
   "cell_type": "code",
   "execution_count": null,
   "metadata": {
    "id": "DYxExKSgHO-O"
   },
   "outputs": [],
   "source": [
    "def get_accuracy_from_logits(logits, labels):\n",
    "    probs = torch.sigmoid(logits)\n",
    "    soft_probs = probs.argmax(1)\n",
    "    acc = (soft_probs.squeeze() == labels).float().mean()\n",
    "    return acc\n",
    "\n",
    "def evaluate(net, criterion, dataloader):\n",
    "    net.eval()\n",
    "    mean_acc, mean_loss = 0, 0\n",
    "    count = 0\n",
    "    with torch.no_grad():\n",
    "        for seq, attn_masks, labels in dataloader:\n",
    "            seq, attn_masks, labels = seq.cuda(), attn_masks.cuda(), labels.cuda()\n",
    "            logits = net(seq, attn_masks)\n",
    "            mean_loss += criterion(logits, labels).item()\n",
    "            mean_acc += get_accuracy_from_logits(logits, labels)\n",
    "            count += 1\n",
    "\n",
    "    return mean_acc / count, mean_loss / count\n",
    "\n",
    "from sklearn.metrics import precision_recall_fscore_support\n",
    "from sklearn.metrics import classification_report\n",
    "\n",
    "def evaluate_precision_recall_fscore_support(net, dataloader):\n",
    "    net.eval()\n",
    "    preds = []\n",
    "    tests = []\n",
    "    with torch.no_grad():\n",
    "        for seq, attn_masks, labels in dataloader:\n",
    "            seq, attn_masks, labels = seq.cuda(), attn_masks.cuda(), labels.cuda()\n",
    "            logits = net(seq, attn_masks)\n",
    "            probs = torch.sigmoid(logits)\n",
    "            soft_probs = probs.argmax(1)\n",
    "            preds += soft_probs.squeeze().tolist()\n",
    "            tests += labels.tolist()\n",
    "    return tests, preds"
   ]
  },
  {
   "cell_type": "code",
   "execution_count": null,
   "metadata": {
    "id": "QJZcaS9qHSxb"
   },
   "outputs": [],
   "source": [
    "def train(net, criterion, opti, train_loader, val_loader, test_loader, epochs):\n",
    "    for ep in range(epochs):\n",
    "        for it, (seq, attn_masks, labels) in enumerate(train_loader):\n",
    "            opti.zero_grad()\n",
    "\n",
    "            seq, attn_masks, labels = seq.cuda(), attn_masks.cuda(), labels.cuda()\n",
    "\n",
    "            logits = net(seq, attn_masks)\n",
    "\n",
    "            loss = criterion(logits, labels)\n",
    "\n",
    "            loss.backward()\n",
    "\n",
    "            opti.step()\n",
    "\n",
    "            if (it + 1) % 10 == 0:\n",
    "                acc = get_accuracy_from_logits(logits, labels)\n",
    "                # tests, preds = evaluate_precision_recall_fscore_support(net, train_loader)\n",
    "                # print(classification_report(tests, preds))\n",
    "                print(\"Iteration {} of epoch {} complete. Loss : {} Train Accuracy : {}\".format(it+1, ep+1, loss.item(), acc))\n",
    "        val_acc, val_loss = evaluate(net, criterion, val_loader)\n",
    "        tests, preds = evaluate_precision_recall_fscore_support(net, val_loader)\n",
    "        print(classification_report(tests, preds))\n",
    "        print(\"Epoch {} complete! Validation Accuracy : {}, Validation Loss : {}\".format(ep+1, val_acc, val_loss))\n",
    "\n",
    "        test_acc,  test_loss = evaluate(net, criterion,  test_loader)\n",
    "        tests, preds = evaluate_precision_recall_fscore_support(net, test_loader)\n",
    "        print(classification_report(tests, preds))\n",
    "        print(\"Epoch {} complete! Test Accuracy : {}, Test Loss : {}\".format(ep+1, test_acc, test_loss))"
   ]
  },
  {
   "cell_type": "code",
   "execution_count": null,
   "metadata": {
    "colab": {
     "base_uri": "https://localhost:8080/"
    },
    "id": "ILzOkcV2HUmu",
    "outputId": "f480731d-d33b-40cd-ab9d-a807a60a2b75"
   },
   "outputs": [
    {
     "name": "stdout",
     "output_type": "stream",
     "text": [
      "Iteration 10 of epoch 1 complete. Loss : 0.6800748109817505 Train Accuracy : 0.5\n",
      "Iteration 20 of epoch 1 complete. Loss : 0.5709652900695801 Train Accuracy : 0.75\n",
      "Iteration 30 of epoch 1 complete. Loss : 0.5008130669593811 Train Accuracy : 0.875\n",
      "Iteration 40 of epoch 1 complete. Loss : 0.7803674340248108 Train Accuracy : 0.75\n",
      "Iteration 50 of epoch 1 complete. Loss : 0.4910718500614166 Train Accuracy : 0.875\n",
      "              precision    recall  f1-score   support\n",
      "\n",
      "           0       0.90      0.74      0.81       151\n",
      "           1       0.59      0.83      0.69        69\n",
      "\n",
      "    accuracy                           0.77       220\n",
      "   macro avg       0.75      0.78      0.75       220\n",
      "weighted avg       0.81      0.77      0.78       220\n",
      "\n",
      "Epoch 1 complete! Validation Accuracy : 0.766369104385376, Validation Loss : 0.521848093186106\n",
      "              precision    recall  f1-score   support\n",
      "\n",
      "           0       0.85      0.60      0.70      4485\n",
      "           1       0.50      0.78      0.61      2285\n",
      "\n",
      "    accuracy                           0.66      6770\n",
      "   macro avg       0.67      0.69      0.66      6770\n",
      "weighted avg       0.73      0.66      0.67      6770\n",
      "\n",
      "Epoch 1 complete! Test Accuracy : 0.6645047068595886, Test Loss : 0.5974590433629686\n",
      "Iteration 10 of epoch 2 complete. Loss : 0.22214634716510773 Train Accuracy : 0.9375\n",
      "Iteration 20 of epoch 2 complete. Loss : 0.2688223421573639 Train Accuracy : 0.875\n",
      "Iteration 30 of epoch 2 complete. Loss : 0.4400286078453064 Train Accuracy : 0.75\n",
      "Iteration 40 of epoch 2 complete. Loss : 0.5421732068061829 Train Accuracy : 0.75\n",
      "Iteration 50 of epoch 2 complete. Loss : 0.15584810078144073 Train Accuracy : 1.0\n",
      "              precision    recall  f1-score   support\n",
      "\n",
      "           0       0.84      0.93      0.88       151\n",
      "           1       0.80      0.62      0.70        69\n",
      "\n",
      "    accuracy                           0.83       220\n",
      "   macro avg       0.82      0.78      0.79       220\n",
      "weighted avg       0.83      0.83      0.83       220\n",
      "\n",
      "Epoch 2 complete! Validation Accuracy : 0.8273809552192688, Validation Loss : 0.39459596680743353\n",
      "              precision    recall  f1-score   support\n",
      "\n",
      "           0       0.79      0.90      0.84      4485\n",
      "           1       0.72      0.53      0.61      2285\n",
      "\n",
      "    accuracy                           0.77      6770\n",
      "   macro avg       0.76      0.71      0.72      6770\n",
      "weighted avg       0.77      0.77      0.76      6770\n",
      "\n",
      "Epoch 2 complete! Test Accuracy : 0.7710790038108826, Test Loss : 0.5128808763264766\n",
      "Iteration 10 of epoch 3 complete. Loss : 0.25556477904319763 Train Accuracy : 0.875\n",
      "Iteration 20 of epoch 3 complete. Loss : 0.2979692816734314 Train Accuracy : 0.875\n",
      "Iteration 30 of epoch 3 complete. Loss : 0.33583298325538635 Train Accuracy : 0.875\n",
      "Iteration 40 of epoch 3 complete. Loss : 0.37207815051078796 Train Accuracy : 0.8125\n",
      "Iteration 50 of epoch 3 complete. Loss : 0.08093611896038055 Train Accuracy : 1.0\n",
      "              precision    recall  f1-score   support\n",
      "\n",
      "           0       0.85      0.95      0.89       151\n",
      "           1       0.84      0.62      0.72        69\n",
      "\n",
      "    accuracy                           0.85       220\n",
      "   macro avg       0.84      0.79      0.81       220\n",
      "weighted avg       0.85      0.85      0.84       220\n",
      "\n",
      "Epoch 3 complete! Validation Accuracy : 0.8422619700431824, Validation Loss : 0.4058677458337375\n",
      "              precision    recall  f1-score   support\n",
      "\n",
      "           0       0.80      0.79      0.80      4485\n",
      "           1       0.60      0.62      0.61      2285\n",
      "\n",
      "    accuracy                           0.73      6770\n",
      "   macro avg       0.70      0.71      0.70      6770\n",
      "weighted avg       0.74      0.73      0.73      6770\n",
      "\n",
      "Epoch 3 complete! Test Accuracy : 0.7324587106704712, Test Loss : 0.5715477712834606\n",
      "Iteration 10 of epoch 4 complete. Loss : 0.1365949958562851 Train Accuracy : 1.0\n",
      "Iteration 20 of epoch 4 complete. Loss : 0.23559194803237915 Train Accuracy : 0.875\n",
      "Iteration 30 of epoch 4 complete. Loss : 0.30692604184150696 Train Accuracy : 0.8125\n",
      "Iteration 40 of epoch 4 complete. Loss : 0.19416365027427673 Train Accuracy : 0.9375\n",
      "Iteration 50 of epoch 4 complete. Loss : 0.1055629551410675 Train Accuracy : 1.0\n",
      "              precision    recall  f1-score   support\n",
      "\n",
      "           0       0.82      0.90      0.86       151\n",
      "           1       0.72      0.57      0.63        69\n",
      "\n",
      "    accuracy                           0.80       220\n",
      "   macro avg       0.77      0.73      0.75       220\n",
      "weighted avg       0.79      0.80      0.79       220\n",
      "\n",
      "Epoch 4 complete! Validation Accuracy : 0.7946428656578064, Validation Loss : 0.4680275299719402\n",
      "              precision    recall  f1-score   support\n",
      "\n",
      "           0       0.79      0.88      0.83      4485\n",
      "           1       0.69      0.53      0.60      2285\n",
      "\n",
      "    accuracy                           0.76      6770\n",
      "   macro avg       0.74      0.70      0.71      6770\n",
      "weighted avg       0.75      0.76      0.75      6770\n",
      "\n",
      "Epoch 4 complete! Test Accuracy : 0.7601709961891174, Test Loss : 0.6503703648000428\n",
      "Iteration 10 of epoch 5 complete. Loss : 0.23030753433704376 Train Accuracy : 0.9375\n",
      "Iteration 20 of epoch 5 complete. Loss : 0.1680345982313156 Train Accuracy : 0.9375\n",
      "Iteration 30 of epoch 5 complete. Loss : 0.2518693506717682 Train Accuracy : 0.875\n",
      "Iteration 40 of epoch 5 complete. Loss : 0.14078526198863983 Train Accuracy : 0.9375\n",
      "Iteration 50 of epoch 5 complete. Loss : 0.08456212282180786 Train Accuracy : 1.0\n",
      "              precision    recall  f1-score   support\n",
      "\n",
      "           0       0.81      0.96      0.88       151\n",
      "           1       0.85      0.51      0.64        69\n",
      "\n",
      "    accuracy                           0.82       220\n",
      "   macro avg       0.83      0.73      0.76       220\n",
      "weighted avg       0.82      0.82      0.80       220\n",
      "\n",
      "Epoch 5 complete! Validation Accuracy : 0.8184524178504944, Validation Loss : 0.6187104540211814\n",
      "              precision    recall  f1-score   support\n",
      "\n",
      "           0       0.76      0.95      0.85      4485\n",
      "           1       0.82      0.42      0.56      2285\n",
      "\n",
      "    accuracy                           0.77      6770\n",
      "   macro avg       0.79      0.69      0.70      6770\n",
      "weighted avg       0.78      0.77      0.75      6770\n",
      "\n",
      "Epoch 5 complete! Test Accuracy : 0.7746167778968811, Test Loss : 0.8311092955574287\n",
      "Iteration 10 of epoch 6 complete. Loss : 0.10085169970989227 Train Accuracy : 1.0\n",
      "Iteration 20 of epoch 6 complete. Loss : 0.17063350975513458 Train Accuracy : 0.875\n",
      "Iteration 30 of epoch 6 complete. Loss : 0.2754405438899994 Train Accuracy : 0.875\n",
      "Iteration 40 of epoch 6 complete. Loss : 0.10082288831472397 Train Accuracy : 0.9375\n",
      "Iteration 50 of epoch 6 complete. Loss : 0.06519654393196106 Train Accuracy : 1.0\n",
      "              precision    recall  f1-score   support\n",
      "\n",
      "           0       0.80      0.95      0.87       151\n",
      "           1       0.82      0.48      0.61        69\n",
      "\n",
      "    accuracy                           0.80       220\n",
      "   macro avg       0.81      0.72      0.74       220\n",
      "weighted avg       0.81      0.80      0.79       220\n",
      "\n",
      "Epoch 6 complete! Validation Accuracy : 0.8020833730697632, Validation Loss : 0.5759102031588554\n",
      "              precision    recall  f1-score   support\n",
      "\n",
      "           0       0.78      0.96      0.86      4485\n",
      "           1       0.86      0.46      0.60      2285\n",
      "\n",
      "    accuracy                           0.79      6770\n",
      "   macro avg       0.82      0.71      0.73      6770\n",
      "weighted avg       0.80      0.79      0.77      6770\n",
      "\n",
      "Epoch 6 complete! Test Accuracy : 0.7926002740859985, Test Loss : 0.7099191330456754\n",
      "Iteration 10 of epoch 7 complete. Loss : 0.11354748904705048 Train Accuracy : 0.9375\n",
      "Iteration 20 of epoch 7 complete. Loss : 0.24320442974567413 Train Accuracy : 0.875\n",
      "Iteration 30 of epoch 7 complete. Loss : 0.2957693934440613 Train Accuracy : 0.875\n",
      "Iteration 40 of epoch 7 complete. Loss : 0.105931356549263 Train Accuracy : 1.0\n",
      "Iteration 50 of epoch 7 complete. Loss : 0.0770813524723053 Train Accuracy : 1.0\n",
      "              precision    recall  f1-score   support\n",
      "\n",
      "           0       0.79      0.95      0.86       151\n",
      "           1       0.79      0.45      0.57        69\n",
      "\n",
      "    accuracy                           0.79       220\n",
      "   macro avg       0.79      0.70      0.72       220\n",
      "weighted avg       0.79      0.79      0.77       220\n",
      "\n",
      "Epoch 7 complete! Validation Accuracy : 0.7872024178504944, Validation Loss : 0.5592396078365189\n",
      "              precision    recall  f1-score   support\n",
      "\n",
      "           0       0.78      0.90      0.84      4485\n",
      "           1       0.73      0.50      0.59      2285\n",
      "\n",
      "    accuracy                           0.77      6770\n",
      "   macro avg       0.75      0.70      0.72      6770\n",
      "weighted avg       0.76      0.77      0.75      6770\n",
      "\n",
      "Epoch 7 complete! Test Accuracy : 0.768130898475647, Test Loss : 0.7349733496260531\n"
     ]
    }
   ],
   "source": [
    "epochs = 7\n",
    "train(net, criterion, opti, train_loader, val_loader, test_loader, epochs)"
   ]
  },
  {
   "cell_type": "code",
   "execution_count": null,
   "metadata": {
    "id": "9HLO9EF_0orp"
   },
   "outputs": [],
   "source": []
  },
  {
   "cell_type": "code",
   "execution_count": null,
   "metadata": {
    "id": "-nzT421gHXWs"
   },
   "outputs": [],
   "source": [
    "from huggingface_hub import notebook_login"
   ]
  },
  {
   "cell_type": "code",
   "execution_count": null,
   "metadata": {
    "colab": {
     "base_uri": "https://localhost:8080/",
     "height": 359
    },
    "id": "sET-VBouvZXt",
    "outputId": "af6d0549-6805-4114-e377-1916ed6d28c9"
   },
   "outputs": [
    {
     "name": "stdout",
     "output_type": "stream",
     "text": [
      "Token is valid.\n",
      "Your token has been saved in your configured git credential helpers (store).\n",
      "Your token has been saved to /root/.cache/huggingface/token\n",
      "Login successful\n"
     ]
    }
   ],
   "source": [
    "notebook_login()"
   ]
  },
  {
   "cell_type": "code",
   "execution_count": null,
   "metadata": {
    "id": "gQvDq7SHvbkz"
   },
   "outputs": [],
   "source": [
    "!git config --global credential.helper store"
   ]
  },
  {
   "cell_type": "code",
   "execution_count": 2,
   "metadata": {
    "id": "uVO_nZatvccn"
   },
   "outputs": [],
   "source": [
    "repo_name = \"beto_ft_binary_chatgpt\"\n",
    "net.bert_layer.push_to_hub(repo_name)"
   ]
  },
  {
   "cell_type": "code",
   "execution_count": 3,
   "metadata": {
    "id": "VNFEKW3jvs2O"
   },
   "outputs": [],
   "source": [
    "val_set.tokenizer.push_to_hub(repo_name)"
   ]
  },
  {
   "cell_type": "code",
   "execution_count": null,
   "metadata": {
    "id": "J9FFM4vxwnnG"
   },
   "outputs": [],
   "source": [
    "torch.save(net.cls_layer, \"cls_layer.torch\")"
   ]
  },
  {
   "cell_type": "code",
   "execution_count": null,
   "metadata": {
    "id": "I2k7cKuvtaXm"
   },
   "outputs": [],
   "source": [
    "import pandas as pd\n",
    "import numpy as np\n",
    "import pickle"
   ]
  },
  {
   "cell_type": "code",
   "execution_count": null,
   "metadata": {
    "id": "99uEwnECtXlv"
   },
   "outputs": [],
   "source": [
    "\n",
    "%%capture\n",
    "!pip install transformers\n",
    "!pip install datasets\n",
    "!pip install torch\n",
    "\n",
    "from transformers import BertTokenizer, BertModel\n",
    "import torch"
   ]
  },
  {
   "cell_type": "code",
   "execution_count": null,
   "metadata": {
    "id": "vjJLdILcwqAr"
   },
   "outputs": [],
   "source": [
    "from huggingface_hub import hf_hub_url, cached_download"
   ]
  },
  {
   "cell_type": "code",
   "execution_count": 4,
   "metadata": {
    "colab": {
     "base_uri": "https://localhost:8080/",
     "height": 233
    },
    "id": "dj16tUJ4w1z4",
    "outputId": "dcb6df27-8ad7-490b-bf25-f2c77f705e56"
   },
   "outputs": [
    {
     "ename": "NameError",
     "evalue": "ignored",
     "output_type": "error",
     "traceback": [
      "\u001b[0;31m---------------------------------------------------------------------------\u001b[0m",
      "\u001b[0;31mNameError\u001b[0m                                 Traceback (most recent call last)",
      "\u001b[0;32m<ipython-input-4-2dc62e6975e6>\u001b[0m in \u001b[0;36m<cell line: 2>\u001b[0;34m()\u001b[0m\n\u001b[1;32m      1\u001b[0m \u001b[0mrepo_name\u001b[0m \u001b[0;34m=\u001b[0m \u001b[0;34m\"beto_ft_binary_chatgpt\"\u001b[0m\u001b[0;34m\u001b[0m\u001b[0;34m\u001b[0m\u001b[0m\n\u001b[0;32m----> 2\u001b[0;31m \u001b[0mconfig_file_url\u001b[0m \u001b[0;34m=\u001b[0m \u001b[0mhf_hub_url\u001b[0m\u001b[0;34m(\u001b[0m\u001b[0;34m\"X/\"\u001b[0m\u001b[0;34m+\u001b[0m\u001b[0mrepo_name\u001b[0m\u001b[0;34m,\u001b[0m \u001b[0mfilename\u001b[0m\u001b[0;34m=\u001b[0m\u001b[0;34m\"cls_layer.torch\"\u001b[0m\u001b[0;34m)\u001b[0m\u001b[0;34m\u001b[0m\u001b[0;34m\u001b[0m\u001b[0m\n\u001b[0m\u001b[1;32m      3\u001b[0m \u001b[0mvalue\u001b[0m \u001b[0;34m=\u001b[0m \u001b[0mcached_download\u001b[0m\u001b[0;34m(\u001b[0m\u001b[0mconfig_file_url\u001b[0m\u001b[0;34m)\u001b[0m\u001b[0;34m\u001b[0m\u001b[0;34m\u001b[0m\u001b[0m\n\u001b[1;32m      4\u001b[0m \u001b[0mcls_layer\u001b[0m \u001b[0;34m=\u001b[0m \u001b[0mtorch\u001b[0m\u001b[0;34m.\u001b[0m\u001b[0mload\u001b[0m\u001b[0;34m(\u001b[0m\u001b[0mvalue\u001b[0m\u001b[0;34m)\u001b[0m\u001b[0;34m\u001b[0m\u001b[0;34m\u001b[0m\u001b[0m\n",
      "\u001b[0;31mNameError\u001b[0m: name 'hf_hub_url' is not defined"
     ]
    }
   ],
   "source": [
    "repo_name = \"beto_ft_binary_chatgpt\"\n",
    "config_file_url = hf_hub_url(\"X/\"+repo_name, filename=\"cls_layer.torch\")\n",
    "value = cached_download(config_file_url)\n",
    "cls_layer = torch.load(value)"
   ]
  },
  {
   "cell_type": "code",
   "execution_count": null,
   "metadata": {
    "colab": {
     "base_uri": "https://localhost:8080/",
     "height": 177,
     "referenced_widgets": [
      "f9ce670c324c4beaba1da70392a650cd",
      "187efcf51a1e4f97ab67eb255e9c6c88",
      "f60fc24efd3841e880688d7a825311f3",
      "5222ac3e33084ef9bb0bcd272d59b0b0",
      "07b664de8dea4c43bfb81c3e2d52da96",
      "811f7cfd42964afe91fc2eccae09d237",
      "382f8ef97c284cd0a6997b767294367a",
      "529e6e8321bf4b4a87c48958a97b71f3",
      "802de959ff8e4a3882af82f09910d1ce",
      "c72a076ad5bb4037ba43da57d0436609",
      "081f23338b5047bb8ee377173fe76635",
      "5e51e82ae7af424ba81fca05f19b127c",
      "8db4a3b72bb148f5a05df6766b33e44f",
      "523e9d04fac64198a7ddddcc06022188",
      "6f3327d7d72b458798740399342c5264",
      "8f39ea21aa0945f282b01ebb07928cd7",
      "3a69694531eb4cf9becf7ab762ea9546",
      "33e9d7724136424b9138bafa84ec2037",
      "90e57eabcce84a8faeea94e7529d416a",
      "deb9674bc49e40c1ac43674f35a24c20",
      "d2491c84ab4b43159a0cc8e6cdfa57d2",
      "744667ecd68e42ef8364b6df355cdad6",
      "a513daf678d14f4fb4680c33f1a6116b",
      "d4cfce970bb545b5a7607975aa697483",
      "5cd90c2963784118842bb30d07b7d9dd",
      "2a62728d027942b5acc7e33818715b73",
      "a92af0ac3cd94d84a267a41024154dd0",
      "d5ad24f828b04b0baa9d79c84d1f40ab",
      "f0ba91edb0dc4998a0917fd314b0bdff",
      "5dfcb1e101f74e04a812bb85ac80dff8",
      "6cce45074b9a43a4b2af306015bf34d8",
      "1ec5d12d6a364f778e29f291f68dd800",
      "fe44014f79044197917ea29381a526ff",
      "6cafa6a9a1b347739b443ebfef2c2338",
      "b50df4f08c9d4da5acb37bf77f3c0b6e",
      "b6d7bcd8bdfa4469b1c64ada7ba9cb25",
      "cad0f00fde4c423fbd163bdf0262ead8",
      "bbbc78f397bf408fa008d439bb440eb4",
      "d7c251330ca94cadb23ca3487b688afa",
      "4a597359eadc4582916723112033fec5",
      "e580e3b0851a4445aa011fdde903c5f3",
      "7b92b37d69a5450a8a1ec250e9d6a46f",
      "bd3a5998a8714526a9328879115c433b",
      "12b82fa5de4a4a1aadf69c89dd27611e",
      "3eed36deef4d4a08b8a53738dea8a02a",
      "b8545bd04e3e48949e98ce509a996b30",
      "44a83b94a9ff410dbdf627fe498ebec4",
      "9a838f40c537499bb2ef97ab0803f20d",
      "facaec09f9f94389a9750d9582230e36",
      "2accce86bb494b81b37adb23a487dc58",
      "3e538c3f5488427399790ffa12f6d5f2",
      "f9478ea45c06404589001e51d67469dd",
      "9943604fe3594d66bd7e3eb335a9c52d",
      "03232f65928a425ea4e00373b162429f",
      "d464b7f4cfb048b48406b92fb5fc3d4c"
     ]
    },
    "id": "SGkvmMDGw4T9",
    "outputId": "813bfa2a-38e4-433f-c832-57759b4d695a"
   },
   "outputs": [
    {
     "data": {
      "application/vnd.jupyter.widget-view+json": {
       "model_id": "f9ce670c324c4beaba1da70392a650cd",
       "version_major": 2,
       "version_minor": 0
      },
      "text/plain": [
       "Downloading (…)lve/main/config.json:   0%|          | 0.00/701 [00:00<?, ?B/s]"
      ]
     },
     "metadata": {},
     "output_type": "display_data"
    },
    {
     "data": {
      "application/vnd.jupyter.widget-view+json": {
       "model_id": "5e51e82ae7af424ba81fca05f19b127c",
       "version_major": 2,
       "version_minor": 0
      },
      "text/plain": [
       "Downloading pytorch_model.bin:   0%|          | 0.00/439M [00:00<?, ?B/s]"
      ]
     },
     "metadata": {},
     "output_type": "display_data"
    },
    {
     "data": {
      "application/vnd.jupyter.widget-view+json": {
       "model_id": "a513daf678d14f4fb4680c33f1a6116b",
       "version_major": 2,
       "version_minor": 0
      },
      "text/plain": [
       "Downloading (…)solve/main/vocab.txt:   0%|          | 0.00/242k [00:00<?, ?B/s]"
      ]
     },
     "metadata": {},
     "output_type": "display_data"
    },
    {
     "data": {
      "application/vnd.jupyter.widget-view+json": {
       "model_id": "6cafa6a9a1b347739b443ebfef2c2338",
       "version_major": 2,
       "version_minor": 0
      },
      "text/plain": [
       "Downloading (…)cial_tokens_map.json:   0%|          | 0.00/125 [00:00<?, ?B/s]"
      ]
     },
     "metadata": {},
     "output_type": "display_data"
    },
    {
     "data": {
      "application/vnd.jupyter.widget-view+json": {
       "model_id": "3eed36deef4d4a08b8a53738dea8a02a",
       "version_major": 2,
       "version_minor": 0
      },
      "text/plain": [
       "Downloading (…)okenizer_config.json:   0%|          | 0.00/511 [00:00<?, ?B/s]"
      ]
     },
     "metadata": {},
     "output_type": "display_data"
    }
   ],
   "source": [
    "beto_model = BertModel.from_pretrained(\"X/\"+repo_name).cuda()\n",
    "beto_tokenizer = BertTokenizer.from_pretrained(\"X/\"+repo_name, do_lower_case=False)\n",
    "e = beto_model.eval()"
   ]
  },
  {
   "cell_type": "code",
   "execution_count": null,
   "metadata": {
    "id": "0jx1NIeKw55s"
   },
   "outputs": [],
   "source": [
    " def preproccesing(Q, A, question, maxlen=60):\n",
    "        sentence1 = str(Q)\n",
    "        sentence2 = str(A)\n",
    "        sentence3 = str(question)\n",
    "\n",
    "        sentence1 = \" \".join(str(sentence1).replace(\"\\n\", \" \").split())\n",
    "        sentence2 = \" \".join(str(sentence2).replace(\"\\n\", \" \").split())\n",
    "\n",
    "        tokens1 = beto_tokenizer\n",
    "        tokens1 = beto_tokenizer.tokenize(sentence1) if len(sentence1)>0 else [\"[UNK]\"]\n",
    "        tokens2 = beto_tokenizer.tokenize(sentence2) if len(sentence2)>0 else [\"[UNK]\"]\n",
    "        tokens3 = beto_tokenizer.tokenize(sentence3) if len(sentence3)>0 else [\"[UNK]\"]\n",
    "\n",
    "        if len(tokens1) < maxlen:\n",
    "            tokens1 = tokens1 + ['[PAD]' for _ in range(maxlen - len(tokens1))]\n",
    "        else:\n",
    "            tokens1 = tokens1[:maxlen]\n",
    "\n",
    "        if len(tokens2) < maxlen:\n",
    "            tokens2 = tokens2 + ['[PAD]' for _ in range(maxlen - len(tokens2))]\n",
    "        else:\n",
    "            tokens2 = tokens2[:maxlen]\n",
    "\n",
    "        if len(tokens3) < maxlen:\n",
    "            tokens3 = tokens3 + ['[PAD]' for _ in range(maxlen - len(tokens3))]\n",
    "        else:\n",
    "            tokens3 = tokens3[:maxlen]\n",
    "\n",
    "        tokens = [\"[CLS]\"]+tokens1+[\"[SEP]\"]+tokens2+[\"[SEP]\"]+tokens3+[\"[SEP]\"]\n",
    "        tokens_ids = beto_tokenizer.convert_tokens_to_ids(tokens)\n",
    "        tokens_ids_tensor = torch.tensor(tokens_ids)\n",
    "        attn_mask = (tokens_ids_tensor != 1).long() # [PAD] => 1\n",
    "\n",
    "        return tokens_ids_tensor.cuda(), attn_mask.cuda()"
   ]
  },
  {
   "cell_type": "code",
   "execution_count": null,
   "metadata": {
    "id": "2Zt9mQ0bxNTw"
   },
   "outputs": [],
   "source": [
    "def ChatGPTClassifier(Q, A, question):\n",
    "    tokens_ids_tensor, attn_mask = preproccesing(Q, A, question)\n",
    "    cont_reps = beto_model(tokens_ids_tensor.unsqueeze(0), attention_mask = attn_mask.unsqueeze(0))\n",
    "    cls_rep = cont_reps.last_hidden_state[:, 0]\n",
    "    logits = cls_layer(cls_rep)\n",
    "    probs = torch.sigmoid(logits)\n",
    "    return probs.detach().cpu().numpy()[0]"
   ]
  },
  {
   "cell_type": "code",
   "execution_count": null,
   "metadata": {
    "colab": {
     "base_uri": "https://localhost:8080/"
    },
    "id": "Z6wwzfiYxUY2",
    "outputId": "2119dd6a-9cec-4d25-941e-02f141e487a5"
   },
   "outputs": [
    {
     "data": {
      "text/plain": [
       "array([0.8589865 , 0.10380306], dtype=float32)"
      ]
     },
     "execution_count": 8,
     "metadata": {},
     "output_type": "execute_result"
    }
   ],
   "source": [
    "Q = \"Julieta tiene 20 láminas y le regaló 12 a Daniela ¿Cuántas láminas tiene ahora Julieta? Explica con tus palabras.\"\n",
    "A1 = \"son 8 \"\n",
    "question = \"¿La respuesta proporciona información relevante y precisa relacionada con la pregunta planteada?\"\n",
    "ChatGPTClassifier(Q, A1, question)"
   ]
  },
  {
   "cell_type": "code",
   "execution_count": null,
   "metadata": {
    "id": "QV79oS_ixgc_"
   },
   "outputs": [],
   "source": [
    "from sklearn.metrics import classification_report"
   ]
  },
  {
   "cell_type": "code",
   "execution_count": null,
   "metadata": {
    "id": "H4YQBGEezDJ7"
   },
   "outputs": [],
   "source": [
    "%%time\n",
    "y_pred = A_train.apply(lambda x: int(np.argmax(ChatGPTClassifier(x[\"Q\"], x[\"A\"], x[\"chatgpt_question\"]))), axis=1)\n",
    "report = classification_report(A_train[\"chatgpt_label\"], y_pred, output_dict=True)\n",
    "train_report = pd.DataFrame(report)\n",
    "train_report"
   ]
  },
  {
   "cell_type": "markdown",
   "metadata": {
    "id": "unHYSwyICOGS"
   },
   "source": [
    " \t0 \t1 \taccuracy \tmacro avg \tweighted avg\n",
    "precision \t0.954874 \t0.968553 \t0.959862 \t0.961714 \t0.960098\n",
    "recall \t0.981447 \t0.924925 \t0.959862 \t0.953186 \t0.959862\n",
    "f1-score \t0.967978 \t0.946237 \t0.959862 \t0.957107 \t0.959675\n",
    "support \t539.000000 \t333.000000 \t0.959862 \t872.000000 \t872.000000"
   ]
  },
  {
   "cell_type": "code",
   "execution_count": null,
   "metadata": {
    "colab": {
     "base_uri": "https://localhost:8080/",
     "height": 210
    },
    "id": "MASOmD5B2OhX",
    "outputId": "f0b648be-00a2-43b0-967a-618fd84a271d"
   },
   "outputs": [
    {
     "name": "stdout",
     "output_type": "stream",
     "text": [
      "CPU times: user 4.56 s, sys: 8.13 ms, total: 4.57 s\n",
      "Wall time: 4.69 s\n"
     ]
    },
    {
     "data": {
      "text/html": [
       "\n",
       "  <div id=\"df-583c519b-8451-4161-bb2b-7f081e26918a\">\n",
       "    <div class=\"colab-df-container\">\n",
       "      <div>\n",
       "<style scoped>\n",
       "    .dataframe tbody tr th:only-of-type {\n",
       "        vertical-align: middle;\n",
       "    }\n",
       "\n",
       "    .dataframe tbody tr th {\n",
       "        vertical-align: top;\n",
       "    }\n",
       "\n",
       "    .dataframe thead th {\n",
       "        text-align: right;\n",
       "    }\n",
       "</style>\n",
       "<table border=\"1\" class=\"dataframe\">\n",
       "  <thead>\n",
       "    <tr style=\"text-align: right;\">\n",
       "      <th></th>\n",
       "      <th>0</th>\n",
       "      <th>1</th>\n",
       "      <th>accuracy</th>\n",
       "      <th>macro avg</th>\n",
       "      <th>weighted avg</th>\n",
       "    </tr>\n",
       "  </thead>\n",
       "  <tbody>\n",
       "    <tr>\n",
       "      <th>precision</th>\n",
       "      <td>0.973333</td>\n",
       "      <td>0.928571</td>\n",
       "      <td>0.959091</td>\n",
       "      <td>0.950952</td>\n",
       "      <td>0.959294</td>\n",
       "    </tr>\n",
       "    <tr>\n",
       "      <th>recall</th>\n",
       "      <td>0.966887</td>\n",
       "      <td>0.942029</td>\n",
       "      <td>0.959091</td>\n",
       "      <td>0.954458</td>\n",
       "      <td>0.959091</td>\n",
       "    </tr>\n",
       "    <tr>\n",
       "      <th>f1-score</th>\n",
       "      <td>0.970100</td>\n",
       "      <td>0.935252</td>\n",
       "      <td>0.959091</td>\n",
       "      <td>0.952676</td>\n",
       "      <td>0.959170</td>\n",
       "    </tr>\n",
       "    <tr>\n",
       "      <th>support</th>\n",
       "      <td>151.000000</td>\n",
       "      <td>69.000000</td>\n",
       "      <td>0.959091</td>\n",
       "      <td>220.000000</td>\n",
       "      <td>220.000000</td>\n",
       "    </tr>\n",
       "  </tbody>\n",
       "</table>\n",
       "</div>\n",
       "      <button class=\"colab-df-convert\" onclick=\"convertToInteractive('df-583c519b-8451-4161-bb2b-7f081e26918a')\"\n",
       "              title=\"Convert this dataframe to an interactive table.\"\n",
       "              style=\"display:none;\">\n",
       "        \n",
       "  <svg xmlns=\"http://www.w3.org/2000/svg\" height=\"24px\"viewBox=\"0 0 24 24\"\n",
       "       width=\"24px\">\n",
       "    <path d=\"M0 0h24v24H0V0z\" fill=\"none\"/>\n",
       "    <path d=\"M18.56 5.44l.94 2.06.94-2.06 2.06-.94-2.06-.94-.94-2.06-.94 2.06-2.06.94zm-11 1L8.5 8.5l.94-2.06 2.06-.94-2.06-.94L8.5 2.5l-.94 2.06-2.06.94zm10 10l.94 2.06.94-2.06 2.06-.94-2.06-.94-.94-2.06-.94 2.06-2.06.94z\"/><path d=\"M17.41 7.96l-1.37-1.37c-.4-.4-.92-.59-1.43-.59-.52 0-1.04.2-1.43.59L10.3 9.45l-7.72 7.72c-.78.78-.78 2.05 0 2.83L4 21.41c.39.39.9.59 1.41.59.51 0 1.02-.2 1.41-.59l7.78-7.78 2.81-2.81c.8-.78.8-2.07 0-2.86zM5.41 20L4 18.59l7.72-7.72 1.47 1.35L5.41 20z\"/>\n",
       "  </svg>\n",
       "      </button>\n",
       "      \n",
       "  <style>\n",
       "    .colab-df-container {\n",
       "      display:flex;\n",
       "      flex-wrap:wrap;\n",
       "      gap: 12px;\n",
       "    }\n",
       "\n",
       "    .colab-df-convert {\n",
       "      background-color: #E8F0FE;\n",
       "      border: none;\n",
       "      border-radius: 50%;\n",
       "      cursor: pointer;\n",
       "      display: none;\n",
       "      fill: #1967D2;\n",
       "      height: 32px;\n",
       "      padding: 0 0 0 0;\n",
       "      width: 32px;\n",
       "    }\n",
       "\n",
       "    .colab-df-convert:hover {\n",
       "      background-color: #E2EBFA;\n",
       "      box-shadow: 0px 1px 2px rgba(60, 64, 67, 0.3), 0px 1px 3px 1px rgba(60, 64, 67, 0.15);\n",
       "      fill: #174EA6;\n",
       "    }\n",
       "\n",
       "    [theme=dark] .colab-df-convert {\n",
       "      background-color: #3B4455;\n",
       "      fill: #D2E3FC;\n",
       "    }\n",
       "\n",
       "    [theme=dark] .colab-df-convert:hover {\n",
       "      background-color: #434B5C;\n",
       "      box-shadow: 0px 1px 3px 1px rgba(0, 0, 0, 0.15);\n",
       "      filter: drop-shadow(0px 1px 2px rgba(0, 0, 0, 0.3));\n",
       "      fill: #FFFFFF;\n",
       "    }\n",
       "  </style>\n",
       "\n",
       "      <script>\n",
       "        const buttonEl =\n",
       "          document.querySelector('#df-583c519b-8451-4161-bb2b-7f081e26918a button.colab-df-convert');\n",
       "        buttonEl.style.display =\n",
       "          google.colab.kernel.accessAllowed ? 'block' : 'none';\n",
       "\n",
       "        async function convertToInteractive(key) {\n",
       "          const element = document.querySelector('#df-583c519b-8451-4161-bb2b-7f081e26918a');\n",
       "          const dataTable =\n",
       "            await google.colab.kernel.invokeFunction('convertToInteractive',\n",
       "                                                     [key], {});\n",
       "          if (!dataTable) return;\n",
       "\n",
       "          const docLinkHtml = 'Like what you see? Visit the ' +\n",
       "            '<a target=\"_blank\" href=https://colab.research.google.com/notebooks/data_table.ipynb>data table notebook</a>'\n",
       "            + ' to learn more about interactive tables.';\n",
       "          element.innerHTML = '';\n",
       "          dataTable['output_type'] = 'display_data';\n",
       "          await google.colab.output.renderOutput(dataTable, element);\n",
       "          const docLink = document.createElement('div');\n",
       "          docLink.innerHTML = docLinkHtml;\n",
       "          element.appendChild(docLink);\n",
       "        }\n",
       "      </script>\n",
       "    </div>\n",
       "  </div>\n",
       "  "
      ],
      "text/plain": [
       "                    0          1  accuracy   macro avg  weighted avg\n",
       "precision    0.973333   0.928571  0.959091    0.950952      0.959294\n",
       "recall       0.966887   0.942029  0.959091    0.954458      0.959091\n",
       "f1-score     0.970100   0.935252  0.959091    0.952676      0.959170\n",
       "support    151.000000  69.000000  0.959091  220.000000    220.000000"
      ]
     },
     "execution_count": 60,
     "metadata": {},
     "output_type": "execute_result"
    }
   ],
   "source": [
    "%%time\n",
    "y_pred = A_val.apply(lambda x: int(np.argmax(ChatGPTClassifier(x[\"Q\"], x[\"A\"], x[\"chatgpt_question\"]))), axis=1)\n",
    "report = classification_report(A_val[\"chatgpt_label\"], y_pred, output_dict=True)\n",
    "val_report = pd.DataFrame(report)\n",
    "val_report"
   ]
  },
  {
   "cell_type": "markdown",
   "metadata": {
    "id": "tl_RDKvnCQUN"
   },
   "source": [
    " \t0 \t1 \taccuracy \tmacro avg \tweighted avg\n",
    "precision \t0.942446 \t0.898734 \t0.926606 \t0.92059 \t0.926606\n",
    "recall \t0.942446 \t0.898734 \t0.926606 \t0.92059 \t0.926606\n",
    "f1-score \t0.942446 \t0.898734 \t0.926606 \t0.92059 \t0.926606\n",
    "support \t139.000000 \t79.000000 \t0.926606 \t218.00000 \t218.000000"
   ]
  },
  {
   "cell_type": "code",
   "execution_count": null,
   "metadata": {
    "colab": {
     "base_uri": "https://localhost:8080/",
     "height": 210
    },
    "id": "VIfZykNmzaJE",
    "outputId": "87214c96-dbe6-471f-e5f2-d6889e693d56"
   },
   "outputs": [
    {
     "name": "stdout",
     "output_type": "stream",
     "text": [
      "CPU times: user 1min 51s, sys: 275 ms, total: 1min 51s\n",
      "Wall time: 1min 52s\n"
     ]
    },
    {
     "data": {
      "text/html": [
       "\n",
       "  <div id=\"df-74556055-9297-4bc8-ae92-9f46b3a187c3\">\n",
       "    <div class=\"colab-df-container\">\n",
       "      <div>\n",
       "<style scoped>\n",
       "    .dataframe tbody tr th:only-of-type {\n",
       "        vertical-align: middle;\n",
       "    }\n",
       "\n",
       "    .dataframe tbody tr th {\n",
       "        vertical-align: top;\n",
       "    }\n",
       "\n",
       "    .dataframe thead th {\n",
       "        text-align: right;\n",
       "    }\n",
       "</style>\n",
       "<table border=\"1\" class=\"dataframe\">\n",
       "  <thead>\n",
       "    <tr style=\"text-align: right;\">\n",
       "      <th></th>\n",
       "      <th>0</th>\n",
       "      <th>1</th>\n",
       "      <th>accuracy</th>\n",
       "      <th>macro avg</th>\n",
       "      <th>weighted avg</th>\n",
       "    </tr>\n",
       "  </thead>\n",
       "  <tbody>\n",
       "    <tr>\n",
       "      <th>precision</th>\n",
       "      <td>0.791111</td>\n",
       "      <td>0.754859</td>\n",
       "      <td>0.78257</td>\n",
       "      <td>0.772985</td>\n",
       "      <td>0.778875</td>\n",
       "    </tr>\n",
       "    <tr>\n",
       "      <th>recall</th>\n",
       "      <td>0.912821</td>\n",
       "      <td>0.526915</td>\n",
       "      <td>0.78257</td>\n",
       "      <td>0.719868</td>\n",
       "      <td>0.782570</td>\n",
       "    </tr>\n",
       "    <tr>\n",
       "      <th>f1-score</th>\n",
       "      <td>0.847619</td>\n",
       "      <td>0.620619</td>\n",
       "      <td>0.78257</td>\n",
       "      <td>0.734119</td>\n",
       "      <td>0.771002</td>\n",
       "    </tr>\n",
       "    <tr>\n",
       "      <th>support</th>\n",
       "      <td>4485.000000</td>\n",
       "      <td>2285.000000</td>\n",
       "      <td>0.78257</td>\n",
       "      <td>6770.000000</td>\n",
       "      <td>6770.000000</td>\n",
       "    </tr>\n",
       "  </tbody>\n",
       "</table>\n",
       "</div>\n",
       "      <button class=\"colab-df-convert\" onclick=\"convertToInteractive('df-74556055-9297-4bc8-ae92-9f46b3a187c3')\"\n",
       "              title=\"Convert this dataframe to an interactive table.\"\n",
       "              style=\"display:none;\">\n",
       "        \n",
       "  <svg xmlns=\"http://www.w3.org/2000/svg\" height=\"24px\"viewBox=\"0 0 24 24\"\n",
       "       width=\"24px\">\n",
       "    <path d=\"M0 0h24v24H0V0z\" fill=\"none\"/>\n",
       "    <path d=\"M18.56 5.44l.94 2.06.94-2.06 2.06-.94-2.06-.94-.94-2.06-.94 2.06-2.06.94zm-11 1L8.5 8.5l.94-2.06 2.06-.94-2.06-.94L8.5 2.5l-.94 2.06-2.06.94zm10 10l.94 2.06.94-2.06 2.06-.94-2.06-.94-.94-2.06-.94 2.06-2.06.94z\"/><path d=\"M17.41 7.96l-1.37-1.37c-.4-.4-.92-.59-1.43-.59-.52 0-1.04.2-1.43.59L10.3 9.45l-7.72 7.72c-.78.78-.78 2.05 0 2.83L4 21.41c.39.39.9.59 1.41.59.51 0 1.02-.2 1.41-.59l7.78-7.78 2.81-2.81c.8-.78.8-2.07 0-2.86zM5.41 20L4 18.59l7.72-7.72 1.47 1.35L5.41 20z\"/>\n",
       "  </svg>\n",
       "      </button>\n",
       "      \n",
       "  <style>\n",
       "    .colab-df-container {\n",
       "      display:flex;\n",
       "      flex-wrap:wrap;\n",
       "      gap: 12px;\n",
       "    }\n",
       "\n",
       "    .colab-df-convert {\n",
       "      background-color: #E8F0FE;\n",
       "      border: none;\n",
       "      border-radius: 50%;\n",
       "      cursor: pointer;\n",
       "      display: none;\n",
       "      fill: #1967D2;\n",
       "      height: 32px;\n",
       "      padding: 0 0 0 0;\n",
       "      width: 32px;\n",
       "    }\n",
       "\n",
       "    .colab-df-convert:hover {\n",
       "      background-color: #E2EBFA;\n",
       "      box-shadow: 0px 1px 2px rgba(60, 64, 67, 0.3), 0px 1px 3px 1px rgba(60, 64, 67, 0.15);\n",
       "      fill: #174EA6;\n",
       "    }\n",
       "\n",
       "    [theme=dark] .colab-df-convert {\n",
       "      background-color: #3B4455;\n",
       "      fill: #D2E3FC;\n",
       "    }\n",
       "\n",
       "    [theme=dark] .colab-df-convert:hover {\n",
       "      background-color: #434B5C;\n",
       "      box-shadow: 0px 1px 3px 1px rgba(0, 0, 0, 0.15);\n",
       "      filter: drop-shadow(0px 1px 2px rgba(0, 0, 0, 0.3));\n",
       "      fill: #FFFFFF;\n",
       "    }\n",
       "  </style>\n",
       "\n",
       "      <script>\n",
       "        const buttonEl =\n",
       "          document.querySelector('#df-74556055-9297-4bc8-ae92-9f46b3a187c3 button.colab-df-convert');\n",
       "        buttonEl.style.display =\n",
       "          google.colab.kernel.accessAllowed ? 'block' : 'none';\n",
       "\n",
       "        async function convertToInteractive(key) {\n",
       "          const element = document.querySelector('#df-74556055-9297-4bc8-ae92-9f46b3a187c3');\n",
       "          const dataTable =\n",
       "            await google.colab.kernel.invokeFunction('convertToInteractive',\n",
       "                                                     [key], {});\n",
       "          if (!dataTable) return;\n",
       "\n",
       "          const docLinkHtml = 'Like what you see? Visit the ' +\n",
       "            '<a target=\"_blank\" href=https://colab.research.google.com/notebooks/data_table.ipynb>data table notebook</a>'\n",
       "            + ' to learn more about interactive tables.';\n",
       "          element.innerHTML = '';\n",
       "          dataTable['output_type'] = 'display_data';\n",
       "          await google.colab.output.renderOutput(dataTable, element);\n",
       "          const docLink = document.createElement('div');\n",
       "          docLink.innerHTML = docLinkHtml;\n",
       "          element.appendChild(docLink);\n",
       "        }\n",
       "      </script>\n",
       "    </div>\n",
       "  </div>\n",
       "  "
      ],
      "text/plain": [
       "                     0            1  accuracy    macro avg  weighted avg\n",
       "precision     0.791111     0.754859   0.78257     0.772985      0.778875\n",
       "recall        0.912821     0.526915   0.78257     0.719868      0.782570\n",
       "f1-score      0.847619     0.620619   0.78257     0.734119      0.771002\n",
       "support    4485.000000  2285.000000   0.78257  6770.000000   6770.000000"
      ]
     },
     "execution_count": 61,
     "metadata": {},
     "output_type": "execute_result"
    }
   ],
   "source": [
    "%%time\n",
    "y_pred = A_test.apply(lambda x: int(np.argmax(ChatGPTClassifier(x[\"Q\"], x[\"A\"], x[\"chatgpt_question\"]))), axis=1)\n",
    "report = classification_report(A_test[\"chatgpt_label\"], y_pred, output_dict=True)\n",
    "test_report = pd.DataFrame(report)\n",
    "test_report"
   ]
  },
  {
   "cell_type": "markdown",
   "metadata": {
    "id": "oMpWepJvCSJv"
   },
   "source": [
    " \t0 \t1 \taccuracy \tmacro avg \tweighted avg\n",
    "precision \t0.791111 \t0.754859 \t0.78257 \t0.772985 \t0.778875\n",
    "recall \t0.912821 \t0.526915 \t0.78257 \t0.719868 \t0.782570\n",
    "f1-score \t0.847619 \t0.620619 \t0.78257 \t0.734119 \t0.771002\n",
    "support \t4485.000000 \t2285.000000 \t0.78257 \t6770.000000 \t6770.000000"
   ]
  },
  {
   "cell_type": "code",
   "execution_count": null,
   "metadata": {
    "id": "jEKBbYo8DFhi"
   },
   "outputs": [],
   "source": [
    "chatgpt_questions = [\n",
    "    '¿La respuesta brinda una respuesta directa y relacionada con la pregunta planteada?',\n",
    "    '¿La respuesta es clara, concisa y utiliza un lenguaje fácil de entender y preciso?',\n",
    "    '¿La respuesta proporciona información relevante y precisa relacionada con la pregunta planteada?',\n",
    "    '¿La respuesta es lógica y consistente con la pregunta y las matemáticas básicas?',\n",
    "    '¿La respuesta proporciona información útil y sin tonos jocosos, sarcásticos o ambigüedades?',\n",
    "    '¿La respuesta es clara y utiliza un idioma y ortografía adecuados a la pregunta planteada?',\n",
    "    '¿La respuesta muestra los cálculos o procesos para llegar a un valor numérico?',\n",
    "    '¿La respuesta demuestra conocimiento y comprensión adecuados del tema planteado en la pregunta?',\n",
    "    '¿La respuesta muestra comprensión de la pregunta y evidencia algún intento de resolver el problema matemático planteado?',\n",
    "    '¿La respuesta ofrece argumentos o ejemplos para respaldar su afirmación?'\n",
    "]"
   ]
  },
  {
   "cell_type": "code",
   "execution_count": null,
   "metadata": {
    "colab": {
     "base_uri": "https://localhost:8080/"
    },
    "id": "AO70RIno8EX2",
    "outputId": "2de28687-660f-4274-d9a9-826a73ab7d79"
   },
   "outputs": [
    {
     "name": "stdout",
     "output_type": "stream",
     "text": [
      "Drive already mounted at /content/drive; to attempt to forcibly remount, call drive.mount(\"/content/drive\", force_remount=True).\n"
     ]
    }
   ],
   "source": [
    "from google.colab import drive\n",
    "drive.mount('/content/drive')"
   ]
  },
  {
   "cell_type": "code",
   "execution_count": null,
   "metadata": {
    "id": "ddUGUY6H3uZT"
   },
   "outputs": [],
   "source": [
    "all_file_names = {\n",
    "    \"train\": \"/content/drive/MyDrive/MA5811-1 - Primavera 2021: X/train_task_C1.xlsx\",\n",
    "    \"test\": \"/content/drive/MyDrive/MA5811-1 - Primavera 2021: X/test_task_C1.xlsx\",\n",
    "    \"val\": \"/content/drive/MyDrive/MA5811-1 - Primavera 2021: X/val_task_C1.xlsx\",\n",
    "}"
   ]
  },
  {
   "cell_type": "code",
   "execution_count": null,
   "metadata": {
    "id": "_RYbF5O8DDrI"
   },
   "outputs": [],
   "source": [
    "all_A_train = pd.read_excel(all_file_names[\"train\"])\n",
    "all_A_val = pd.read_excel(all_file_names[\"val\"])\n",
    "all_A_test = pd.read_excel(all_file_names[\"test\"])"
   ]
  },
  {
   "cell_type": "code",
   "execution_count": null,
   "metadata": {
    "colab": {
     "base_uri": "https://localhost:8080/"
    },
    "id": "jn_Ce0GUDcJ3",
    "outputId": "fd3e25bb-83ff-4ca6-a181-d1a7b3d9295f"
   },
   "outputs": [
    {
     "name": "stdout",
     "output_type": "stream",
     "text": [
      "ChatGPT question: v1\n",
      "ChatGPT question: v2\n",
      "ChatGPT question: v3\n",
      "ChatGPT question: v4\n",
      "ChatGPT question: v5\n",
      "ChatGPT question: v6\n",
      "ChatGPT question: v7\n",
      "ChatGPT question: v8\n",
      "ChatGPT question: v9\n",
      "ChatGPT question: v10\n"
     ]
    }
   ],
   "source": [
    "for i, qq in enumerate(chatgpt_questions):\n",
    "  print(\"ChatGPT question:\", f\"v{i+1}\")\n",
    "  new_A_train = all_A_train.copy()\n",
    "  y_pred = new_A_train.apply(lambda x: ChatGPTClassifier(x[\"Q\"], x[\"A\"], qq), axis=1)\n",
    "  new_A_train[\"chatgpt_label\"] = y_pred\n",
    "  new_A_train.to_excel(f\"/content/drive/MyDrive/MA5811-1 - Primavera 2021: X/train_task_C1_beto_ft_chatgpt_v{i+1}.xlsx\")"
   ]
  },
  {
   "cell_type": "code",
   "execution_count": null,
   "metadata": {
    "colab": {
     "base_uri": "https://localhost:8080/"
    },
    "id": "xSkZ3W90EMKw",
    "outputId": "78a05cc4-ed6b-4db7-c8d1-5ca9d57683ec"
   },
   "outputs": [
    {
     "name": "stdout",
     "output_type": "stream",
     "text": [
      "ChatGPT question: v1\n",
      "ChatGPT question: v2\n",
      "ChatGPT question: v3\n",
      "ChatGPT question: v4\n",
      "ChatGPT question: v5\n",
      "ChatGPT question: v6\n",
      "ChatGPT question: v7\n",
      "ChatGPT question: v8\n",
      "ChatGPT question: v9\n",
      "ChatGPT question: v10\n"
     ]
    }
   ],
   "source": [
    "for i, qq in enumerate(chatgpt_questions):\n",
    "  print(\"ChatGPT question:\", f\"v{i+1}\")\n",
    "  new_A_test = all_A_test.copy()\n",
    "  y_pred = new_A_test.apply(lambda x: ChatGPTClassifier(x[\"Q\"], x[\"A\"], qq), axis=1)\n",
    "  new_A_test[\"chatgpt_label\"] = y_pred\n",
    "  new_A_test.to_excel(f\"/content/drive/MyDrive/MA5811-1 - Primavera 2021: X/test_task_C1_beto_ft_chatgpt_v{i+1}.xlsx\")"
   ]
  },
  {
   "cell_type": "code",
   "execution_count": null,
   "metadata": {
    "colab": {
     "base_uri": "https://localhost:8080/"
    },
    "id": "_idvbb4IEhV8",
    "outputId": "7e5c7a22-839f-4410-e120-0f7519277e80"
   },
   "outputs": [
    {
     "name": "stdout",
     "output_type": "stream",
     "text": [
      "ChatGPT question: v1\n",
      "ChatGPT question: v2\n",
      "ChatGPT question: v3\n",
      "ChatGPT question: v4\n",
      "ChatGPT question: v5\n",
      "ChatGPT question: v6\n",
      "ChatGPT question: v7\n",
      "ChatGPT question: v8\n",
      "ChatGPT question: v9\n",
      "ChatGPT question: v10\n"
     ]
    }
   ],
   "source": [
    "for i, qq in enumerate(chatgpt_questions):\n",
    "  print(\"ChatGPT question:\", f\"v{i+1}\")\n",
    "  new_A_val = all_A_val.copy()\n",
    "  y_pred = new_A_val.apply(lambda x: ChatGPTClassifier(x[\"Q\"], x[\"A\"], qq), axis=1)\n",
    "  new_A_val[\"chatgpt_label\"] = y_pred\n",
    "  new_A_val.to_excel(f\"/content/drive/MyDrive/MA5811-1 - Primavera 2021: X/val_task_C1_beto_ft_chatgpt_v{i+1}.xlsx\")"
   ]
  },
  {
   "cell_type": "code",
   "execution_count": null,
   "metadata": {
    "id": "zeszb0oDPfS6"
   },
   "outputs": [],
   "source": [
    "other_chatgpt_questions = {\n",
    "    \"v5\": [\n",
    "      \"¿La respuesta tiene un tono jocoso o inapropiado para la pregunta?\",\n",
    "      \"¿La respuesta parece ser una broma o una respuesta humorística?\",\n",
    "      \"¿La respuesta se limita a un comentario sarcástico en lugar de proporcionar una respuesta útil y coherente?\",\n",
    "      \"¿La respuesta no presenta contradicciones o ambigüedades con la pregunta planteada?\",\n",
    "      \"¿La respuesta es breve y poco elaborada?\"\n",
    "    ]\n",
    "}"
   ]
  },
  {
   "cell_type": "code",
   "execution_count": 1,
   "metadata": {
    "colab": {
     "base_uri": "https://localhost:8080/",
     "height": 251
    },
    "id": "wxjv4ydSR4eD",
    "outputId": "aa8ef851-56d9-4568-84dd-674610bf9b3d"
   },
   "outputs": [
    {
     "ename": "NameError",
     "evalue": "ignored",
     "output_type": "error",
     "traceback": [
      "\u001b[0;31m---------------------------------------------------------------------------\u001b[0m",
      "\u001b[0;31mNameError\u001b[0m                                 Traceback (most recent call last)",
      "\u001b[0;32m<ipython-input-1-97184cbf056e>\u001b[0m in \u001b[0;36m<cell line: 2>\u001b[0;34m()\u001b[0m\n\u001b[1;32m      1\u001b[0m \u001b[0mvi\u001b[0m \u001b[0;34m=\u001b[0m \u001b[0;34m\"v5\"\u001b[0m\u001b[0;34m\u001b[0m\u001b[0;34m\u001b[0m\u001b[0m\n\u001b[0;32m----> 2\u001b[0;31m \u001b[0;32mfor\u001b[0m \u001b[0mi\u001b[0m\u001b[0;34m,\u001b[0m \u001b[0mqq\u001b[0m \u001b[0;32min\u001b[0m \u001b[0menumerate\u001b[0m\u001b[0;34m(\u001b[0m\u001b[0mother_chatgpt_questions\u001b[0m\u001b[0;34m[\u001b[0m\u001b[0mvi\u001b[0m\u001b[0;34m]\u001b[0m\u001b[0;34m)\u001b[0m\u001b[0;34m:\u001b[0m\u001b[0;34m\u001b[0m\u001b[0;34m\u001b[0m\u001b[0m\n\u001b[0m\u001b[1;32m      3\u001b[0m   \u001b[0mprint\u001b[0m\u001b[0;34m(\u001b[0m\u001b[0;34m\"ChatGPT question:\"\u001b[0m\u001b[0;34m,\u001b[0m \u001b[0;34mf\"{vi}_{i+1}\"\u001b[0m\u001b[0;34m)\u001b[0m\u001b[0;34m\u001b[0m\u001b[0;34m\u001b[0m\u001b[0m\n\u001b[1;32m      4\u001b[0m   \u001b[0mnew_A_train\u001b[0m \u001b[0;34m=\u001b[0m \u001b[0mall_A_train\u001b[0m\u001b[0;34m.\u001b[0m\u001b[0mcopy\u001b[0m\u001b[0;34m(\u001b[0m\u001b[0;34m)\u001b[0m\u001b[0;34m\u001b[0m\u001b[0;34m\u001b[0m\u001b[0m\n\u001b[1;32m      5\u001b[0m   \u001b[0my_pred\u001b[0m \u001b[0;34m=\u001b[0m \u001b[0mnew_A_train\u001b[0m\u001b[0;34m.\u001b[0m\u001b[0mapply\u001b[0m\u001b[0;34m(\u001b[0m\u001b[0;32mlambda\u001b[0m \u001b[0mx\u001b[0m\u001b[0;34m:\u001b[0m \u001b[0mChatGPTClassifier\u001b[0m\u001b[0;34m(\u001b[0m\u001b[0mx\u001b[0m\u001b[0;34m[\u001b[0m\u001b[0;34m\"Q\"\u001b[0m\u001b[0;34m]\u001b[0m\u001b[0;34m,\u001b[0m \u001b[0mx\u001b[0m\u001b[0;34m[\u001b[0m\u001b[0;34m\"A\"\u001b[0m\u001b[0;34m]\u001b[0m\u001b[0;34m,\u001b[0m \u001b[0mqq\u001b[0m\u001b[0;34m)\u001b[0m\u001b[0;34m,\u001b[0m \u001b[0maxis\u001b[0m\u001b[0;34m=\u001b[0m\u001b[0;36m1\u001b[0m\u001b[0;34m)\u001b[0m\u001b[0;34m\u001b[0m\u001b[0;34m\u001b[0m\u001b[0m\n",
      "\u001b[0;31mNameError\u001b[0m: name 'other_chatgpt_questions' is not defined"
     ]
    }
   ],
   "source": [
    "vi = \"v5\"\n",
    "for i, qq in enumerate(other_chatgpt_questions[vi]):\n",
    "  print(\"ChatGPT question:\", f\"{vi}_{i+1}\")\n",
    "  new_A_train = all_A_train.copy()\n",
    "  y_pred = new_A_train.apply(lambda x: ChatGPTClassifier(x[\"Q\"], x[\"A\"], qq), axis=1)\n",
    "  new_A_train[\"chatgpt_label\"] = y_pred\n",
    "  new_A_train.to_excel(f\"/content/drive/MyDrive/MA5811-1 - Primavera 2021: X/train_task_C1_beto_ft_chatgpt_{vi}_{i+1}.xlsx\")"
   ]
  },
  {
   "cell_type": "code",
   "execution_count": null,
   "metadata": {
    "colab": {
     "base_uri": "https://localhost:8080/"
    },
    "id": "ylELQQhdSKw1",
    "outputId": "9a30fd08-e474-454f-df60-d72098b6ce53"
   },
   "outputs": [
    {
     "name": "stdout",
     "output_type": "stream",
     "text": [
      "ChatGPT question: v5_1\n",
      "ChatGPT question: v5_2\n",
      "ChatGPT question: v5_3\n",
      "ChatGPT question: v5_4\n",
      "ChatGPT question: v5_5\n"
     ]
    }
   ],
   "source": [
    "vi = \"v5\"\n",
    "for i, qq in enumerate(other_chatgpt_questions[vi]):\n",
    "  print(\"ChatGPT question:\", f\"{vi}_{i+1}\")\n",
    "  new_A_test = all_A_test.copy()\n",
    "  y_pred = new_A_test.apply(lambda x: ChatGPTClassifier(x[\"Q\"], x[\"A\"], qq), axis=1)\n",
    "  new_A_test[\"chatgpt_label\"] = y_pred\n",
    "  new_A_test.to_excel(f\"/content/drive/MyDrive/MA5811-1 - Primavera 2021: X/test_task_C1_beto_ft_chatgpt_{vi}_{i+1}.xlsx\")"
   ]
  },
  {
   "cell_type": "code",
   "execution_count": null,
   "metadata": {
    "colab": {
     "base_uri": "https://localhost:8080/"
    },
    "id": "RlBNSD07SQYt",
    "outputId": "e8e41635-cb4e-4176-dbec-2fe8a97684e0"
   },
   "outputs": [
    {
     "name": "stdout",
     "output_type": "stream",
     "text": [
      "ChatGPT question: v5_1\n",
      "ChatGPT question: v5_2\n",
      "ChatGPT question: v5_3\n",
      "ChatGPT question: v5_4\n",
      "ChatGPT question: v5_5\n"
     ]
    }
   ],
   "source": [
    "vi = \"v5\"\n",
    "for i, qq in enumerate(other_chatgpt_questions[vi]):\n",
    "  print(\"ChatGPT question:\", f\"{vi}_{i+1}\")\n",
    "  new_A_val = all_A_val.copy()\n",
    "  y_pred = new_A_val.apply(lambda x: ChatGPTClassifier(x[\"Q\"], x[\"A\"], qq), axis=1)\n",
    "  new_A_val[\"chatgpt_label\"] = y_pred\n",
    "  new_A_val.to_excel(f\"/content/drive/MyDrive/MA5811-1 - Primavera 2021: X/val_task_C1_beto_ft_chatgpt_{vi}_{i+1}.xlsx\")"
   ]
  },
  {
   "cell_type": "code",
   "execution_count": null,
   "metadata": {
    "id": "ZhHBqA6dZTW5"
   },
   "outputs": [],
   "source": [
    "other_chatgpt_questions[\"v6\"] = [\n",
    "  \"¿La respuesta contiene errores ortográficos o gramaticales?\",\n",
    "  \"¿La respuesta utiliza un idioma y ortografía coherentes con la pregunta?\",\n",
    "  \"¿Es la respuesta una palabra o frase aleatoria sin relación con la pregunta?\",\n",
    "  \"¿La respuesta es coherente con el idioma en el que se hizo la pregunta?\"\n",
    "]"
   ]
  },
  {
   "cell_type": "code",
   "execution_count": null,
   "metadata": {
    "id": "U7cPyAl2Zff9"
   },
   "outputs": [],
   "source": [
    "vi = \"v6\"\n",
    "for i, qq in enumerate(other_chatgpt_questions[vi]):\n",
    "  print(\"ChatGPT question:\", f\"{vi}_{i+1}\")\n",
    "  new_A_train = all_A_train.copy()\n",
    "  y_pred = new_A_train.apply(lambda x: ChatGPTClassifier(x[\"Q\"], x[\"A\"], qq), axis=1)\n",
    "  new_A_train[\"chatgpt_label\"] = y_pred\n",
    "  new_A_train.to_excel(f\"/content/drive/MyDrive/MA5811-1 - Primavera 2021: X/train_task_C1_beto_ft_chatgpt_{vi}_{i+1}.xlsx\")"
   ]
  },
  {
   "cell_type": "code",
   "execution_count": null,
   "metadata": {
    "id": "jxvQSWRrZl82"
   },
   "outputs": [],
   "source": [
    "vi = \"v6\"\n",
    "for i, qq in enumerate(other_chatgpt_questions[vi]):\n",
    "  print(\"ChatGPT question:\", f\"{vi}_{i+1}\")\n",
    "  new_A_test = all_A_test.copy()\n",
    "  y_pred = new_A_test.apply(lambda x: ChatGPTClassifier(x[\"Q\"], x[\"A\"], qq), axis=1)\n",
    "  new_A_test[\"chatgpt_label\"] = y_pred\n",
    "  new_A_test.to_excel(f\"/content/drive/MyDrive/MA5811-1 - Primavera 2021: X/test_task_C1_beto_ft_chatgpt_{vi}_{i+1}.xlsx\")"
   ]
  },
  {
   "cell_type": "code",
   "execution_count": null,
   "metadata": {
    "id": "fanUs92AZopU"
   },
   "outputs": [],
   "source": [
    "vi = \"v6\"\n",
    "for i, qq in enumerate(other_chatgpt_questions[vi]):\n",
    "  print(\"ChatGPT question:\", f\"{vi}_{i+1}\")\n",
    "  new_A_val = all_A_val.copy()\n",
    "  y_pred = new_A_val.apply(lambda x: ChatGPTClassifier(x[\"Q\"], x[\"A\"], qq), axis=1)\n",
    "  new_A_val[\"chatgpt_label\"] = y_pred\n",
    "  new_A_val.to_excel(f\"/content/drive/MyDrive/MA5811-1 - Primavera 2021: X/val_task_C1_beto_ft_chatgpt_{vi}_{i+1}.xlsx\")"
   ]
  },
  {
   "cell_type": "code",
   "execution_count": null,
   "metadata": {
    "id": "hf1C7uPNGxoX"
   },
   "outputs": [],
   "source": [
    "other_chatgpt_questions[\"Q3\"] = [\n",
    "  \"¿La respuesta indica claramente si la afirmación del personaje es correcta o no?\",\n",
    "  \"¿La respuesta utiliza ejemplos específicos para respaldar la elección del personaje correcto?\",\n",
    "  \"¿La respuesta muestra una comprensión clara de los conceptos matemáticos involucrados en la pregunta?\",\n",
    "  \"¿La respuesta indica si el personaje seleccionado tiene más o menos conocimientos matemáticos que otros personajes mencionados en la pregunta?\",\n",
    "  \"¿La respuesta demuestra la capacidad del alumno para razonar lógicamente y seguir un proceso de pensamiento coherente?\",\n",
    "  \"¿La respuesta hace referencia a otras fuentes de información relevantes que puedan respaldar la elección del personaje correcto?\",\n",
    "  \"¿La respuesta considera todas las posibles opciones y proporciona una justificación para descartar las opciones incorrectas?\",\n",
    "  \"¿La respuesta refleja una comprensión clara del contexto y las situaciones descritas en la pregunta?\",\n",
    "  \"¿La respuesta a la pregunta implica decidir si una afirmación es correcta o incorrecta?\",\n",
    "  \"¿Se pide una justificación para la respuesta a la pregunta?\",\n",
    "  \"¿La pregunta presenta un personaje que debe tomar una decisión matemática?\",\n",
    "  \"¿La respuesta a la pregunta implica verificar si una operación matemática fue realizada correctamente?\",\n",
    "  \"¿La respuesta a la pregunta debe proporcionar una explicación clara de por qué es correcta o incorrecta?\",\n",
    "  \"¿La pregunta implica que el alumno debe evaluar la lógica y coherencia de la respuesta del personaje de la historia?\",\n",
    "  '¿La respuesta a la pregunta es \"sí\" o \"no\"?',\n",
    "  \"¿La respuesta proporciona una justificación para la elección del personaje correcto?\"\n",
    "]"
   ]
  },
  {
   "cell_type": "markdown",
   "metadata": {
    "id": "EoDTvWzu-JhP"
   },
   "source": []
  },
  {
   "cell_type": "code",
   "execution_count": null,
   "metadata": {
    "colab": {
     "base_uri": "https://localhost:8080/"
    },
    "id": "3LtyoskuWVc8",
    "outputId": "cbbb2080-618d-4d0f-82fd-41388a254ab1"
   },
   "outputs": [
    {
     "data": {
      "text/plain": [
       "16"
      ]
     },
     "execution_count": 25,
     "metadata": {},
     "output_type": "execute_result"
    }
   ],
   "source": [
    "len(other_chatgpt_questions[\"Q3\"])"
   ]
  },
  {
   "cell_type": "code",
   "execution_count": null,
   "metadata": {
    "colab": {
     "base_uri": "https://localhost:8080/"
    },
    "id": "XVwx9_458Z2M",
    "outputId": "8094347a-d07c-4c12-c00e-041fc274ce9c"
   },
   "outputs": [
    {
     "name": "stdout",
     "output_type": "stream",
     "text": [
      "ChatGPT question: Q3_16\n"
     ]
    }
   ],
   "source": [
    "vi = \"Q3\"\n",
    "for i, qq in enumerate(other_chatgpt_questions[vi]):\n",
    "  if i == 15:\n",
    "    print(\"ChatGPT question:\", f\"{vi}_{i+1}\")\n",
    "    new_A_train = all_A_train.copy()\n",
    "    y_pred = new_A_train.apply(lambda x: ChatGPTClassifier(x[\"Q\"], x[\"A\"], qq), axis=1)\n",
    "    new_A_train[\"chatgpt_label\"] = y_pred\n",
    "    new_A_train.to_excel(f\"/content/drive/MyDrive/MA5811-1 - Primavera 2021: X/train_task_C1_beto_ft_chatgpt_{vi}_{i+1}.xlsx\")"
   ]
  },
  {
   "cell_type": "code",
   "execution_count": null,
   "metadata": {
    "colab": {
     "base_uri": "https://localhost:8080/"
    },
    "id": "TJ-OJJEW-QPH",
    "outputId": "2615450d-59f6-4a0b-9b5c-d1d51939116f"
   },
   "outputs": [
    {
     "name": "stdout",
     "output_type": "stream",
     "text": [
      "ChatGPT question: Q3_16\n"
     ]
    }
   ],
   "source": [
    "vi = \"Q3\"\n",
    "for i, qq in enumerate(other_chatgpt_questions[vi]):\n",
    "  if i == 15:\n",
    "    print(\"ChatGPT question:\", f\"{vi}_{i+1}\")\n",
    "    new_A_test = all_A_test.copy()\n",
    "    y_pred = new_A_test.apply(lambda x: ChatGPTClassifier(x[\"Q\"], x[\"A\"], qq), axis=1)\n",
    "    new_A_test[\"chatgpt_label\"] = y_pred\n",
    "    new_A_test.to_excel(f\"/content/drive/MyDrive/MA5811-1 - Primavera 2021: X/test_task_C1_beto_ft_chatgpt_{vi}_{i+1}.xlsx\")"
   ]
  },
  {
   "cell_type": "code",
   "execution_count": null,
   "metadata": {
    "colab": {
     "base_uri": "https://localhost:8080/"
    },
    "id": "MErhMGQP-SjL",
    "outputId": "7372d460-334a-4331-bb97-4df6c857f9f7"
   },
   "outputs": [
    {
     "name": "stdout",
     "output_type": "stream",
     "text": [
      "ChatGPT question: Q3_16\n"
     ]
    }
   ],
   "source": [
    "vi = \"Q3\"\n",
    "for i, qq in enumerate(other_chatgpt_questions[vi]):\n",
    "  if i == 15:\n",
    "    print(\"ChatGPT question:\", f\"{vi}_{i+1}\")\n",
    "    new_A_val = all_A_val.copy()\n",
    "    y_pred = new_A_val.apply(lambda x: ChatGPTClassifier(x[\"Q\"], x[\"A\"], qq), axis=1)\n",
    "    new_A_val[\"chatgpt_label\"] = y_pred\n",
    "    new_A_val.to_excel(f\"/content/drive/MyDrive/MA5811-1 - Primavera 2021: X/val_task_C1_beto_ft_chatgpt_{vi}_{i+1}.xlsx\")"
   ]
  },
  {
   "cell_type": "code",
   "execution_count": null,
   "metadata": {
    "id": "dii3U0sXk5ZW"
   },
   "outputs": [],
   "source": [
    "other_chatgpt_questions = {\n",
    "    \"Q3_7\": [\n",
    "        \"¿La respuesta contempla todas las opciones y descarta las incorrectas?\",\n",
    "        \"¿La respuesta proporciona justificación para descartar opciones incorrectas?\",\n",
    "        \"¿La respuesta considera todas las opciones posibles?\",\n",
    "        \"¿La respuesta descarta opciones incorrectas con justificación?\",\n",
    "        \"¿La respuesta contempla todas las opciones y justifica descartes?\"\n",
    "      ],\n",
    "      \"10\": [\n",
    "        \"¿La respuesta incluye evidencia o justificación?\",\n",
    "        \"¿La respuesta presenta pruebas o razones?\",\n",
    "        \"¿La respuesta sustenta su afirmación con datos?\",\n",
    "        \"¿La respuesta respalda su posición con hechos?\",\n",
    "        \"¿La respuesta defiende su afirmación con argumentos sólidos?\"\n",
    "      ],\n",
    "      \"5\": [\n",
    "        \"¿La respuesta es seria y útil?\",\n",
    "        \"¿La respuesta es clara y útil?\",\n",
    "        \"¿La respuesta evita ambigüedades?\",\n",
    "        \"¿La respuesta es informativa y directa?\",\n",
    "        \"¿La respuesta es precisa y sin tono jocoso?\"\n",
    "      ],\n",
    "      \"Q3_15\":[\n",
    "        \"¿La respuesta es afirmativa?\",\n",
    "        \"¿Es la respuesta negativa?\",\n",
    "        \"¿La respuesta es sí o no?\",\n",
    "        \"\"\"¿Se puede responder con \"sí\" o \"no\"?\"\"\",\n",
    "        \"¿La respuesta es binaria?\"\n",
    "      ],\n",
    "      \"Q3_4\": [\n",
    "        \"¿La respuesta indica superioridad matemática del personaje?\",\n",
    "        \"¿El personaje seleccionado sabe más matemáticas que otros mencionados?\",\n",
    "        \"¿El personaje elegido tiene más habilidades matemáticas que los demás?\",\n",
    "        \"¿La respuesta indica si el personaje es más matemático que otros?\",\n",
    "        \"¿El personaje seleccionado es el más habilidoso en matemáticas?\"\n",
    "      ],\n",
    "      \"7\": [\n",
    "        \"¿La respuesta incluye cálculos o procesos?\",\n",
    "        \"¿Se muestran los procesos para obtener el valor?\",\n",
    "        \"¿La respuesta proporciona los cálculos realizados?\",\n",
    "        \"¿Está presente la metodología de cálculo en la respuesta?\",\n",
    "        \"¿La respuesta da a conocer el proceso de cálculo?\"\n",
    "      ],\n",
    "      \"Q3_5\": [\n",
    "        \"¿La respuesta indica habilidades lógicas y coherencia?\",\n",
    "        \"¿La respuesta muestra razonamiento y cohesión?\",\n",
    "        \"¿La respuesta revela habilidades de pensamiento coherente?\",\n",
    "        \"¿La respuesta demuestra una mente lógica y coherente?\",\n",
    "        \"¿La respuesta refleja la capacidad de razonamiento y cohesión?\"\n",
    "      ]\n",
    "}"
   ]
  },
  {
   "cell_type": "code",
   "execution_count": null,
   "metadata": {
    "id": "8U8jopD2Mdpp"
   },
   "outputs": [],
   "source": [
    "other_chatgpt_questions = {\n",
    "    \"HF\":[\"¿La respuesta tiene un número razonable de tokens?\",\n",
    "      \"¿La respuesta tiene una longitud máxima razonable de caracteres repetidos?\",\n",
    "      \"¿La respuesta tiene una proporción razonable de vocales?\",\n",
    "      \"¿La respuesta tiene una proporción razonable de caracteres que no son números?\",\n",
    "      \"¿La pregunta incluye un nombre propio y en la respuesta?\",\n",
    "      \"¿La pregunta sugiere que algo es correcto o que alguien tiene razón?\"\n",
    "    ]\n",
    "  }"
   ]
  },
  {
   "cell_type": "code",
   "execution_count": null,
   "metadata": {
    "id": "KOXfDWdpAiMd"
   },
   "outputs": [],
   "source": [
    "other_chatgpt_questions = {\n",
    "    \"SP\":[\"¿La respuesta implica el uso de números o cifras?\",\n",
    "          \"¿La respuesta contradice la pregunta?\",\n",
    "          \"¿La respuesta describe el proceso utilizado para obtener el resultado o llegar a la conclusión?\",\n",
    "          \"¿La respuesta contiene alguna de las palabras 'sí' o 'no'?\",\n",
    "\n",
    "          \"¿La respuesta es una opinión personal?\",\n",
    "          \"¿La respuesta tiene sentido?\"\n",
    "\n",
    "    ]\n",
    "  }"
   ]
  },
  {
   "cell_type": "code",
   "execution_count": null,
   "metadata": {
    "colab": {
     "base_uri": "https://localhost:8080/"
    },
    "id": "pFynDAyvmLQg",
    "outputId": "47e307f4-b4f1-4043-a554-2d4b9167f77d"
   },
   "outputs": [
    {
     "name": "stdout",
     "output_type": "stream",
     "text": [
      "ChatGPT question: SP_e5\n",
      "ChatGPT question: SP_e6\n"
     ]
    }
   ],
   "source": [
    "vi = \"SP\"\n",
    "for i, qq in enumerate(other_chatgpt_questions[vi]):\n",
    "  if i>=4:\n",
    "    print(\"ChatGPT question:\", f\"{vi}_e{i+1}\")\n",
    "    new_A_train = all_A_train.copy()\n",
    "    y_pred = new_A_train.apply(lambda x: ChatGPTClassifier(x[\"Q\"], x[\"A\"], qq), axis=1)\n",
    "    new_A_train[\"chatgpt_label\"] = y_pred\n",
    "    new_A_train.to_excel(f\"/content/drive/MyDrive/MA5811-1 - Primavera 2021: X/train_task_C1_beto_ft_chatgpt_{vi}_{i+1}.xlsx\")"
   ]
  },
  {
   "cell_type": "code",
   "execution_count": null,
   "metadata": {
    "colab": {
     "base_uri": "https://localhost:8080/"
    },
    "id": "vXD5NgKPmLQh",
    "outputId": "40950989-fd6c-45ff-8b57-d6e470f757b1"
   },
   "outputs": [
    {
     "name": "stdout",
     "output_type": "stream",
     "text": [
      "ChatGPT question: SP_e5\n",
      "ChatGPT question: SP_e6\n"
     ]
    }
   ],
   "source": [
    "for i, qq in enumerate(other_chatgpt_questions[vi]):\n",
    "  if i>=4:\n",
    "    print(\"ChatGPT question:\", f\"{vi}_e{i+1}\")\n",
    "    new_A_test = all_A_test.copy()\n",
    "    y_pred = new_A_test.apply(lambda x: ChatGPTClassifier(x[\"Q\"], x[\"A\"], qq), axis=1)\n",
    "    new_A_test[\"chatgpt_label\"] = y_pred\n",
    "    new_A_test.to_excel(f\"/content/drive/MyDrive/MA5811-1 - Primavera 2021: X/test_task_C1_beto_ft_chatgpt_{vi}_{i+1}.xlsx\")"
   ]
  },
  {
   "cell_type": "code",
   "execution_count": null,
   "metadata": {
    "colab": {
     "base_uri": "https://localhost:8080/"
    },
    "id": "DTttDVh0mLQi",
    "outputId": "4b4056a2-8e78-4862-cc9e-51595fe56fc8"
   },
   "outputs": [
    {
     "name": "stdout",
     "output_type": "stream",
     "text": [
      "ChatGPT question: SP_e5\n",
      "ChatGPT question: SP_e6\n"
     ]
    }
   ],
   "source": [
    "for i, qq in enumerate(other_chatgpt_questions[vi]):\n",
    "  if i>=4:\n",
    "    print(\"ChatGPT question:\", f\"{vi}_e{i+1}\")\n",
    "    new_A_val = all_A_val.copy()\n",
    "    y_pred = new_A_val.apply(lambda x: ChatGPTClassifier(x[\"Q\"], x[\"A\"], qq), axis=1)\n",
    "    new_A_val[\"chatgpt_label\"] = y_pred\n",
    "    new_A_val.to_excel(f\"/content/drive/MyDrive/MA5811-1 - Primavera 2021: X/val_task_C1_beto_ft_chatgpt_{vi}_{i+1}.xlsx\")"
   ]
  }
 ],
 "metadata": {
  "colab": {
   "provenance": []
  },
  "kernelspec": {
   "display_name": "Python 3 (ipykernel)",
   "language": "python",
   "name": "python3"
  },
  "language_info": {
   "codemirror_mode": {
    "name": "ipython",
    "version": 3
   },
   "file_extension": ".py",
   "mimetype": "text/x-python",
   "name": "python",
   "nbconvert_exporter": "python",
   "pygments_lexer": "ipython3",
   "version": "3.8.5"
  },
  "widgets": {
   "application/vnd.jupyter.widget-state+json": {
    "03232f65928a425ea4e00373b162429f": {
     "model_module": "@jupyter-widgets/base",
     "model_module_version": "1.2.0",
     "model_name": "LayoutModel",
     "state": {
      "_model_module": "@jupyter-widgets/base",
      "_model_module_version": "1.2.0",
      "_model_name": "LayoutModel",
      "_view_count": null,
      "_view_module": "@jupyter-widgets/base",
      "_view_module_version": "1.2.0",
      "_view_name": "LayoutView",
      "align_content": null,
      "align_items": null,
      "align_self": null,
      "border": null,
      "bottom": null,
      "display": null,
      "flex": null,
      "flex_flow": null,
      "grid_area": null,
      "grid_auto_columns": null,
      "grid_auto_flow": null,
      "grid_auto_rows": null,
      "grid_column": null,
      "grid_gap": null,
      "grid_row": null,
      "grid_template_areas": null,
      "grid_template_columns": null,
      "grid_template_rows": null,
      "height": null,
      "justify_content": null,
      "justify_items": null,
      "left": null,
      "margin": null,
      "max_height": null,
      "max_width": null,
      "min_height": null,
      "min_width": null,
      "object_fit": null,
      "object_position": null,
      "order": null,
      "overflow": null,
      "overflow_x": null,
      "overflow_y": null,
      "padding": null,
      "right": null,
      "top": null,
      "visibility": null,
      "width": null
     }
    },
    "07b664de8dea4c43bfb81c3e2d52da96": {
     "model_module": "@jupyter-widgets/base",
     "model_module_version": "1.2.0",
     "model_name": "LayoutModel",
     "state": {
      "_model_module": "@jupyter-widgets/base",
      "_model_module_version": "1.2.0",
      "_model_name": "LayoutModel",
      "_view_count": null,
      "_view_module": "@jupyter-widgets/base",
      "_view_module_version": "1.2.0",
      "_view_name": "LayoutView",
      "align_content": null,
      "align_items": null,
      "align_self": null,
      "border": null,
      "bottom": null,
      "display": null,
      "flex": null,
      "flex_flow": null,
      "grid_area": null,
      "grid_auto_columns": null,
      "grid_auto_flow": null,
      "grid_auto_rows": null,
      "grid_column": null,
      "grid_gap": null,
      "grid_row": null,
      "grid_template_areas": null,
      "grid_template_columns": null,
      "grid_template_rows": null,
      "height": null,
      "justify_content": null,
      "justify_items": null,
      "left": null,
      "margin": null,
      "max_height": null,
      "max_width": null,
      "min_height": null,
      "min_width": null,
      "object_fit": null,
      "object_position": null,
      "order": null,
      "overflow": null,
      "overflow_x": null,
      "overflow_y": null,
      "padding": null,
      "right": null,
      "top": null,
      "visibility": null,
      "width": null
     }
    },
    "081f23338b5047bb8ee377173fe76635": {
     "model_module": "@jupyter-widgets/controls",
     "model_module_version": "1.5.0",
     "model_name": "DescriptionStyleModel",
     "state": {
      "_model_module": "@jupyter-widgets/controls",
      "_model_module_version": "1.5.0",
      "_model_name": "DescriptionStyleModel",
      "_view_count": null,
      "_view_module": "@jupyter-widgets/base",
      "_view_module_version": "1.2.0",
      "_view_name": "StyleView",
      "description_width": ""
     }
    },
    "12b82fa5de4a4a1aadf69c89dd27611e": {
     "model_module": "@jupyter-widgets/controls",
     "model_module_version": "1.5.0",
     "model_name": "DescriptionStyleModel",
     "state": {
      "_model_module": "@jupyter-widgets/controls",
      "_model_module_version": "1.5.0",
      "_model_name": "DescriptionStyleModel",
      "_view_count": null,
      "_view_module": "@jupyter-widgets/base",
      "_view_module_version": "1.2.0",
      "_view_name": "StyleView",
      "description_width": ""
     }
    },
    "187efcf51a1e4f97ab67eb255e9c6c88": {
     "model_module": "@jupyter-widgets/controls",
     "model_module_version": "1.5.0",
     "model_name": "HTMLModel",
     "state": {
      "_dom_classes": [],
      "_model_module": "@jupyter-widgets/controls",
      "_model_module_version": "1.5.0",
      "_model_name": "HTMLModel",
      "_view_count": null,
      "_view_module": "@jupyter-widgets/controls",
      "_view_module_version": "1.5.0",
      "_view_name": "HTMLView",
      "description": "",
      "description_tooltip": null,
      "layout": "IPY_MODEL_811f7cfd42964afe91fc2eccae09d237",
      "placeholder": "​",
      "style": "IPY_MODEL_382f8ef97c284cd0a6997b767294367a",
      "value": "Downloading (…)lve/main/config.json: 100%"
     }
    },
    "1ec5d12d6a364f778e29f291f68dd800": {
     "model_module": "@jupyter-widgets/base",
     "model_module_version": "1.2.0",
     "model_name": "LayoutModel",
     "state": {
      "_model_module": "@jupyter-widgets/base",
      "_model_module_version": "1.2.0",
      "_model_name": "LayoutModel",
      "_view_count": null,
      "_view_module": "@jupyter-widgets/base",
      "_view_module_version": "1.2.0",
      "_view_name": "LayoutView",
      "align_content": null,
      "align_items": null,
      "align_self": null,
      "border": null,
      "bottom": null,
      "display": null,
      "flex": null,
      "flex_flow": null,
      "grid_area": null,
      "grid_auto_columns": null,
      "grid_auto_flow": null,
      "grid_auto_rows": null,
      "grid_column": null,
      "grid_gap": null,
      "grid_row": null,
      "grid_template_areas": null,
      "grid_template_columns": null,
      "grid_template_rows": null,
      "height": null,
      "justify_content": null,
      "justify_items": null,
      "left": null,
      "margin": null,
      "max_height": null,
      "max_width": null,
      "min_height": null,
      "min_width": null,
      "object_fit": null,
      "object_position": null,
      "order": null,
      "overflow": null,
      "overflow_x": null,
      "overflow_y": null,
      "padding": null,
      "right": null,
      "top": null,
      "visibility": null,
      "width": null
     }
    },
    "2a62728d027942b5acc7e33818715b73": {
     "model_module": "@jupyter-widgets/controls",
     "model_module_version": "1.5.0",
     "model_name": "HTMLModel",
     "state": {
      "_dom_classes": [],
      "_model_module": "@jupyter-widgets/controls",
      "_model_module_version": "1.5.0",
      "_model_name": "HTMLModel",
      "_view_count": null,
      "_view_module": "@jupyter-widgets/controls",
      "_view_module_version": "1.5.0",
      "_view_name": "HTMLView",
      "description": "",
      "description_tooltip": null,
      "layout": "IPY_MODEL_1ec5d12d6a364f778e29f291f68dd800",
      "placeholder": "​",
      "style": "IPY_MODEL_fe44014f79044197917ea29381a526ff",
      "value": " 242k/242k [00:00&lt;00:00, 571kB/s]"
     }
    },
    "2accce86bb494b81b37adb23a487dc58": {
     "model_module": "@jupyter-widgets/base",
     "model_module_version": "1.2.0",
     "model_name": "LayoutModel",
     "state": {
      "_model_module": "@jupyter-widgets/base",
      "_model_module_version": "1.2.0",
      "_model_name": "LayoutModel",
      "_view_count": null,
      "_view_module": "@jupyter-widgets/base",
      "_view_module_version": "1.2.0",
      "_view_name": "LayoutView",
      "align_content": null,
      "align_items": null,
      "align_self": null,
      "border": null,
      "bottom": null,
      "display": null,
      "flex": null,
      "flex_flow": null,
      "grid_area": null,
      "grid_auto_columns": null,
      "grid_auto_flow": null,
      "grid_auto_rows": null,
      "grid_column": null,
      "grid_gap": null,
      "grid_row": null,
      "grid_template_areas": null,
      "grid_template_columns": null,
      "grid_template_rows": null,
      "height": null,
      "justify_content": null,
      "justify_items": null,
      "left": null,
      "margin": null,
      "max_height": null,
      "max_width": null,
      "min_height": null,
      "min_width": null,
      "object_fit": null,
      "object_position": null,
      "order": null,
      "overflow": null,
      "overflow_x": null,
      "overflow_y": null,
      "padding": null,
      "right": null,
      "top": null,
      "visibility": null,
      "width": null
     }
    },
    "33e9d7724136424b9138bafa84ec2037": {
     "model_module": "@jupyter-widgets/controls",
     "model_module_version": "1.5.0",
     "model_name": "DescriptionStyleModel",
     "state": {
      "_model_module": "@jupyter-widgets/controls",
      "_model_module_version": "1.5.0",
      "_model_name": "DescriptionStyleModel",
      "_view_count": null,
      "_view_module": "@jupyter-widgets/base",
      "_view_module_version": "1.2.0",
      "_view_name": "StyleView",
      "description_width": ""
     }
    },
    "382f8ef97c284cd0a6997b767294367a": {
     "model_module": "@jupyter-widgets/controls",
     "model_module_version": "1.5.0",
     "model_name": "DescriptionStyleModel",
     "state": {
      "_model_module": "@jupyter-widgets/controls",
      "_model_module_version": "1.5.0",
      "_model_name": "DescriptionStyleModel",
      "_view_count": null,
      "_view_module": "@jupyter-widgets/base",
      "_view_module_version": "1.2.0",
      "_view_name": "StyleView",
      "description_width": ""
     }
    },
    "3a69694531eb4cf9becf7ab762ea9546": {
     "model_module": "@jupyter-widgets/base",
     "model_module_version": "1.2.0",
     "model_name": "LayoutModel",
     "state": {
      "_model_module": "@jupyter-widgets/base",
      "_model_module_version": "1.2.0",
      "_model_name": "LayoutModel",
      "_view_count": null,
      "_view_module": "@jupyter-widgets/base",
      "_view_module_version": "1.2.0",
      "_view_name": "LayoutView",
      "align_content": null,
      "align_items": null,
      "align_self": null,
      "border": null,
      "bottom": null,
      "display": null,
      "flex": null,
      "flex_flow": null,
      "grid_area": null,
      "grid_auto_columns": null,
      "grid_auto_flow": null,
      "grid_auto_rows": null,
      "grid_column": null,
      "grid_gap": null,
      "grid_row": null,
      "grid_template_areas": null,
      "grid_template_columns": null,
      "grid_template_rows": null,
      "height": null,
      "justify_content": null,
      "justify_items": null,
      "left": null,
      "margin": null,
      "max_height": null,
      "max_width": null,
      "min_height": null,
      "min_width": null,
      "object_fit": null,
      "object_position": null,
      "order": null,
      "overflow": null,
      "overflow_x": null,
      "overflow_y": null,
      "padding": null,
      "right": null,
      "top": null,
      "visibility": null,
      "width": null
     }
    },
    "3e538c3f5488427399790ffa12f6d5f2": {
     "model_module": "@jupyter-widgets/controls",
     "model_module_version": "1.5.0",
     "model_name": "DescriptionStyleModel",
     "state": {
      "_model_module": "@jupyter-widgets/controls",
      "_model_module_version": "1.5.0",
      "_model_name": "DescriptionStyleModel",
      "_view_count": null,
      "_view_module": "@jupyter-widgets/base",
      "_view_module_version": "1.2.0",
      "_view_name": "StyleView",
      "description_width": ""
     }
    },
    "3eed36deef4d4a08b8a53738dea8a02a": {
     "model_module": "@jupyter-widgets/controls",
     "model_module_version": "1.5.0",
     "model_name": "HBoxModel",
     "state": {
      "_dom_classes": [],
      "_model_module": "@jupyter-widgets/controls",
      "_model_module_version": "1.5.0",
      "_model_name": "HBoxModel",
      "_view_count": null,
      "_view_module": "@jupyter-widgets/controls",
      "_view_module_version": "1.5.0",
      "_view_name": "HBoxView",
      "box_style": "",
      "children": [
       "IPY_MODEL_b8545bd04e3e48949e98ce509a996b30",
       "IPY_MODEL_44a83b94a9ff410dbdf627fe498ebec4",
       "IPY_MODEL_9a838f40c537499bb2ef97ab0803f20d"
      ],
      "layout": "IPY_MODEL_facaec09f9f94389a9750d9582230e36"
     }
    },
    "44a83b94a9ff410dbdf627fe498ebec4": {
     "model_module": "@jupyter-widgets/controls",
     "model_module_version": "1.5.0",
     "model_name": "FloatProgressModel",
     "state": {
      "_dom_classes": [],
      "_model_module": "@jupyter-widgets/controls",
      "_model_module_version": "1.5.0",
      "_model_name": "FloatProgressModel",
      "_view_count": null,
      "_view_module": "@jupyter-widgets/controls",
      "_view_module_version": "1.5.0",
      "_view_name": "ProgressView",
      "bar_style": "success",
      "description": "",
      "description_tooltip": null,
      "layout": "IPY_MODEL_f9478ea45c06404589001e51d67469dd",
      "max": 511,
      "min": 0,
      "orientation": "horizontal",
      "style": "IPY_MODEL_9943604fe3594d66bd7e3eb335a9c52d",
      "value": 511
     }
    },
    "4a597359eadc4582916723112033fec5": {
     "model_module": "@jupyter-widgets/controls",
     "model_module_version": "1.5.0",
     "model_name": "DescriptionStyleModel",
     "state": {
      "_model_module": "@jupyter-widgets/controls",
      "_model_module_version": "1.5.0",
      "_model_name": "DescriptionStyleModel",
      "_view_count": null,
      "_view_module": "@jupyter-widgets/base",
      "_view_module_version": "1.2.0",
      "_view_name": "StyleView",
      "description_width": ""
     }
    },
    "5222ac3e33084ef9bb0bcd272d59b0b0": {
     "model_module": "@jupyter-widgets/controls",
     "model_module_version": "1.5.0",
     "model_name": "HTMLModel",
     "state": {
      "_dom_classes": [],
      "_model_module": "@jupyter-widgets/controls",
      "_model_module_version": "1.5.0",
      "_model_name": "HTMLModel",
      "_view_count": null,
      "_view_module": "@jupyter-widgets/controls",
      "_view_module_version": "1.5.0",
      "_view_name": "HTMLView",
      "description": "",
      "description_tooltip": null,
      "layout": "IPY_MODEL_c72a076ad5bb4037ba43da57d0436609",
      "placeholder": "​",
      "style": "IPY_MODEL_081f23338b5047bb8ee377173fe76635",
      "value": " 701/701 [00:00&lt;00:00, 33.8kB/s]"
     }
    },
    "523e9d04fac64198a7ddddcc06022188": {
     "model_module": "@jupyter-widgets/controls",
     "model_module_version": "1.5.0",
     "model_name": "FloatProgressModel",
     "state": {
      "_dom_classes": [],
      "_model_module": "@jupyter-widgets/controls",
      "_model_module_version": "1.5.0",
      "_model_name": "FloatProgressModel",
      "_view_count": null,
      "_view_module": "@jupyter-widgets/controls",
      "_view_module_version": "1.5.0",
      "_view_name": "ProgressView",
      "bar_style": "success",
      "description": "",
      "description_tooltip": null,
      "layout": "IPY_MODEL_90e57eabcce84a8faeea94e7529d416a",
      "max": 439474733,
      "min": 0,
      "orientation": "horizontal",
      "style": "IPY_MODEL_deb9674bc49e40c1ac43674f35a24c20",
      "value": 439474733
     }
    },
    "529e6e8321bf4b4a87c48958a97b71f3": {
     "model_module": "@jupyter-widgets/base",
     "model_module_version": "1.2.0",
     "model_name": "LayoutModel",
     "state": {
      "_model_module": "@jupyter-widgets/base",
      "_model_module_version": "1.2.0",
      "_model_name": "LayoutModel",
      "_view_count": null,
      "_view_module": "@jupyter-widgets/base",
      "_view_module_version": "1.2.0",
      "_view_name": "LayoutView",
      "align_content": null,
      "align_items": null,
      "align_self": null,
      "border": null,
      "bottom": null,
      "display": null,
      "flex": null,
      "flex_flow": null,
      "grid_area": null,
      "grid_auto_columns": null,
      "grid_auto_flow": null,
      "grid_auto_rows": null,
      "grid_column": null,
      "grid_gap": null,
      "grid_row": null,
      "grid_template_areas": null,
      "grid_template_columns": null,
      "grid_template_rows": null,
      "height": null,
      "justify_content": null,
      "justify_items": null,
      "left": null,
      "margin": null,
      "max_height": null,
      "max_width": null,
      "min_height": null,
      "min_width": null,
      "object_fit": null,
      "object_position": null,
      "order": null,
      "overflow": null,
      "overflow_x": null,
      "overflow_y": null,
      "padding": null,
      "right": null,
      "top": null,
      "visibility": null,
      "width": null
     }
    },
    "5cd90c2963784118842bb30d07b7d9dd": {
     "model_module": "@jupyter-widgets/controls",
     "model_module_version": "1.5.0",
     "model_name": "FloatProgressModel",
     "state": {
      "_dom_classes": [],
      "_model_module": "@jupyter-widgets/controls",
      "_model_module_version": "1.5.0",
      "_model_name": "FloatProgressModel",
      "_view_count": null,
      "_view_module": "@jupyter-widgets/controls",
      "_view_module_version": "1.5.0",
      "_view_name": "ProgressView",
      "bar_style": "success",
      "description": "",
      "description_tooltip": null,
      "layout": "IPY_MODEL_5dfcb1e101f74e04a812bb85ac80dff8",
      "max": 241796,
      "min": 0,
      "orientation": "horizontal",
      "style": "IPY_MODEL_6cce45074b9a43a4b2af306015bf34d8",
      "value": 241796
     }
    },
    "5dfcb1e101f74e04a812bb85ac80dff8": {
     "model_module": "@jupyter-widgets/base",
     "model_module_version": "1.2.0",
     "model_name": "LayoutModel",
     "state": {
      "_model_module": "@jupyter-widgets/base",
      "_model_module_version": "1.2.0",
      "_model_name": "LayoutModel",
      "_view_count": null,
      "_view_module": "@jupyter-widgets/base",
      "_view_module_version": "1.2.0",
      "_view_name": "LayoutView",
      "align_content": null,
      "align_items": null,
      "align_self": null,
      "border": null,
      "bottom": null,
      "display": null,
      "flex": null,
      "flex_flow": null,
      "grid_area": null,
      "grid_auto_columns": null,
      "grid_auto_flow": null,
      "grid_auto_rows": null,
      "grid_column": null,
      "grid_gap": null,
      "grid_row": null,
      "grid_template_areas": null,
      "grid_template_columns": null,
      "grid_template_rows": null,
      "height": null,
      "justify_content": null,
      "justify_items": null,
      "left": null,
      "margin": null,
      "max_height": null,
      "max_width": null,
      "min_height": null,
      "min_width": null,
      "object_fit": null,
      "object_position": null,
      "order": null,
      "overflow": null,
      "overflow_x": null,
      "overflow_y": null,
      "padding": null,
      "right": null,
      "top": null,
      "visibility": null,
      "width": null
     }
    },
    "5e51e82ae7af424ba81fca05f19b127c": {
     "model_module": "@jupyter-widgets/controls",
     "model_module_version": "1.5.0",
     "model_name": "HBoxModel",
     "state": {
      "_dom_classes": [],
      "_model_module": "@jupyter-widgets/controls",
      "_model_module_version": "1.5.0",
      "_model_name": "HBoxModel",
      "_view_count": null,
      "_view_module": "@jupyter-widgets/controls",
      "_view_module_version": "1.5.0",
      "_view_name": "HBoxView",
      "box_style": "",
      "children": [
       "IPY_MODEL_8db4a3b72bb148f5a05df6766b33e44f",
       "IPY_MODEL_523e9d04fac64198a7ddddcc06022188",
       "IPY_MODEL_6f3327d7d72b458798740399342c5264"
      ],
      "layout": "IPY_MODEL_8f39ea21aa0945f282b01ebb07928cd7"
     }
    },
    "6cafa6a9a1b347739b443ebfef2c2338": {
     "model_module": "@jupyter-widgets/controls",
     "model_module_version": "1.5.0",
     "model_name": "HBoxModel",
     "state": {
      "_dom_classes": [],
      "_model_module": "@jupyter-widgets/controls",
      "_model_module_version": "1.5.0",
      "_model_name": "HBoxModel",
      "_view_count": null,
      "_view_module": "@jupyter-widgets/controls",
      "_view_module_version": "1.5.0",
      "_view_name": "HBoxView",
      "box_style": "",
      "children": [
       "IPY_MODEL_b50df4f08c9d4da5acb37bf77f3c0b6e",
       "IPY_MODEL_b6d7bcd8bdfa4469b1c64ada7ba9cb25",
       "IPY_MODEL_cad0f00fde4c423fbd163bdf0262ead8"
      ],
      "layout": "IPY_MODEL_bbbc78f397bf408fa008d439bb440eb4"
     }
    },
    "6cce45074b9a43a4b2af306015bf34d8": {
     "model_module": "@jupyter-widgets/controls",
     "model_module_version": "1.5.0",
     "model_name": "ProgressStyleModel",
     "state": {
      "_model_module": "@jupyter-widgets/controls",
      "_model_module_version": "1.5.0",
      "_model_name": "ProgressStyleModel",
      "_view_count": null,
      "_view_module": "@jupyter-widgets/base",
      "_view_module_version": "1.2.0",
      "_view_name": "StyleView",
      "bar_color": null,
      "description_width": ""
     }
    },
    "6f3327d7d72b458798740399342c5264": {
     "model_module": "@jupyter-widgets/controls",
     "model_module_version": "1.5.0",
     "model_name": "HTMLModel",
     "state": {
      "_dom_classes": [],
      "_model_module": "@jupyter-widgets/controls",
      "_model_module_version": "1.5.0",
      "_model_name": "HTMLModel",
      "_view_count": null,
      "_view_module": "@jupyter-widgets/controls",
      "_view_module_version": "1.5.0",
      "_view_name": "HTMLView",
      "description": "",
      "description_tooltip": null,
      "layout": "IPY_MODEL_d2491c84ab4b43159a0cc8e6cdfa57d2",
      "placeholder": "​",
      "style": "IPY_MODEL_744667ecd68e42ef8364b6df355cdad6",
      "value": " 439M/439M [00:34&lt;00:00, 15.8MB/s]"
     }
    },
    "744667ecd68e42ef8364b6df355cdad6": {
     "model_module": "@jupyter-widgets/controls",
     "model_module_version": "1.5.0",
     "model_name": "DescriptionStyleModel",
     "state": {
      "_model_module": "@jupyter-widgets/controls",
      "_model_module_version": "1.5.0",
      "_model_name": "DescriptionStyleModel",
      "_view_count": null,
      "_view_module": "@jupyter-widgets/base",
      "_view_module_version": "1.2.0",
      "_view_name": "StyleView",
      "description_width": ""
     }
    },
    "7b92b37d69a5450a8a1ec250e9d6a46f": {
     "model_module": "@jupyter-widgets/controls",
     "model_module_version": "1.5.0",
     "model_name": "ProgressStyleModel",
     "state": {
      "_model_module": "@jupyter-widgets/controls",
      "_model_module_version": "1.5.0",
      "_model_name": "ProgressStyleModel",
      "_view_count": null,
      "_view_module": "@jupyter-widgets/base",
      "_view_module_version": "1.2.0",
      "_view_name": "StyleView",
      "bar_color": null,
      "description_width": ""
     }
    },
    "802de959ff8e4a3882af82f09910d1ce": {
     "model_module": "@jupyter-widgets/controls",
     "model_module_version": "1.5.0",
     "model_name": "ProgressStyleModel",
     "state": {
      "_model_module": "@jupyter-widgets/controls",
      "_model_module_version": "1.5.0",
      "_model_name": "ProgressStyleModel",
      "_view_count": null,
      "_view_module": "@jupyter-widgets/base",
      "_view_module_version": "1.2.0",
      "_view_name": "StyleView",
      "bar_color": null,
      "description_width": ""
     }
    },
    "811f7cfd42964afe91fc2eccae09d237": {
     "model_module": "@jupyter-widgets/base",
     "model_module_version": "1.2.0",
     "model_name": "LayoutModel",
     "state": {
      "_model_module": "@jupyter-widgets/base",
      "_model_module_version": "1.2.0",
      "_model_name": "LayoutModel",
      "_view_count": null,
      "_view_module": "@jupyter-widgets/base",
      "_view_module_version": "1.2.0",
      "_view_name": "LayoutView",
      "align_content": null,
      "align_items": null,
      "align_self": null,
      "border": null,
      "bottom": null,
      "display": null,
      "flex": null,
      "flex_flow": null,
      "grid_area": null,
      "grid_auto_columns": null,
      "grid_auto_flow": null,
      "grid_auto_rows": null,
      "grid_column": null,
      "grid_gap": null,
      "grid_row": null,
      "grid_template_areas": null,
      "grid_template_columns": null,
      "grid_template_rows": null,
      "height": null,
      "justify_content": null,
      "justify_items": null,
      "left": null,
      "margin": null,
      "max_height": null,
      "max_width": null,
      "min_height": null,
      "min_width": null,
      "object_fit": null,
      "object_position": null,
      "order": null,
      "overflow": null,
      "overflow_x": null,
      "overflow_y": null,
      "padding": null,
      "right": null,
      "top": null,
      "visibility": null,
      "width": null
     }
    },
    "8db4a3b72bb148f5a05df6766b33e44f": {
     "model_module": "@jupyter-widgets/controls",
     "model_module_version": "1.5.0",
     "model_name": "HTMLModel",
     "state": {
      "_dom_classes": [],
      "_model_module": "@jupyter-widgets/controls",
      "_model_module_version": "1.5.0",
      "_model_name": "HTMLModel",
      "_view_count": null,
      "_view_module": "@jupyter-widgets/controls",
      "_view_module_version": "1.5.0",
      "_view_name": "HTMLView",
      "description": "",
      "description_tooltip": null,
      "layout": "IPY_MODEL_3a69694531eb4cf9becf7ab762ea9546",
      "placeholder": "​",
      "style": "IPY_MODEL_33e9d7724136424b9138bafa84ec2037",
      "value": "Downloading pytorch_model.bin: 100%"
     }
    },
    "8f39ea21aa0945f282b01ebb07928cd7": {
     "model_module": "@jupyter-widgets/base",
     "model_module_version": "1.2.0",
     "model_name": "LayoutModel",
     "state": {
      "_model_module": "@jupyter-widgets/base",
      "_model_module_version": "1.2.0",
      "_model_name": "LayoutModel",
      "_view_count": null,
      "_view_module": "@jupyter-widgets/base",
      "_view_module_version": "1.2.0",
      "_view_name": "LayoutView",
      "align_content": null,
      "align_items": null,
      "align_self": null,
      "border": null,
      "bottom": null,
      "display": null,
      "flex": null,
      "flex_flow": null,
      "grid_area": null,
      "grid_auto_columns": null,
      "grid_auto_flow": null,
      "grid_auto_rows": null,
      "grid_column": null,
      "grid_gap": null,
      "grid_row": null,
      "grid_template_areas": null,
      "grid_template_columns": null,
      "grid_template_rows": null,
      "height": null,
      "justify_content": null,
      "justify_items": null,
      "left": null,
      "margin": null,
      "max_height": null,
      "max_width": null,
      "min_height": null,
      "min_width": null,
      "object_fit": null,
      "object_position": null,
      "order": null,
      "overflow": null,
      "overflow_x": null,
      "overflow_y": null,
      "padding": null,
      "right": null,
      "top": null,
      "visibility": null,
      "width": null
     }
    },
    "90e57eabcce84a8faeea94e7529d416a": {
     "model_module": "@jupyter-widgets/base",
     "model_module_version": "1.2.0",
     "model_name": "LayoutModel",
     "state": {
      "_model_module": "@jupyter-widgets/base",
      "_model_module_version": "1.2.0",
      "_model_name": "LayoutModel",
      "_view_count": null,
      "_view_module": "@jupyter-widgets/base",
      "_view_module_version": "1.2.0",
      "_view_name": "LayoutView",
      "align_content": null,
      "align_items": null,
      "align_self": null,
      "border": null,
      "bottom": null,
      "display": null,
      "flex": null,
      "flex_flow": null,
      "grid_area": null,
      "grid_auto_columns": null,
      "grid_auto_flow": null,
      "grid_auto_rows": null,
      "grid_column": null,
      "grid_gap": null,
      "grid_row": null,
      "grid_template_areas": null,
      "grid_template_columns": null,
      "grid_template_rows": null,
      "height": null,
      "justify_content": null,
      "justify_items": null,
      "left": null,
      "margin": null,
      "max_height": null,
      "max_width": null,
      "min_height": null,
      "min_width": null,
      "object_fit": null,
      "object_position": null,
      "order": null,
      "overflow": null,
      "overflow_x": null,
      "overflow_y": null,
      "padding": null,
      "right": null,
      "top": null,
      "visibility": null,
      "width": null
     }
    },
    "9943604fe3594d66bd7e3eb335a9c52d": {
     "model_module": "@jupyter-widgets/controls",
     "model_module_version": "1.5.0",
     "model_name": "ProgressStyleModel",
     "state": {
      "_model_module": "@jupyter-widgets/controls",
      "_model_module_version": "1.5.0",
      "_model_name": "ProgressStyleModel",
      "_view_count": null,
      "_view_module": "@jupyter-widgets/base",
      "_view_module_version": "1.2.0",
      "_view_name": "StyleView",
      "bar_color": null,
      "description_width": ""
     }
    },
    "9a838f40c537499bb2ef97ab0803f20d": {
     "model_module": "@jupyter-widgets/controls",
     "model_module_version": "1.5.0",
     "model_name": "HTMLModel",
     "state": {
      "_dom_classes": [],
      "_model_module": "@jupyter-widgets/controls",
      "_model_module_version": "1.5.0",
      "_model_name": "HTMLModel",
      "_view_count": null,
      "_view_module": "@jupyter-widgets/controls",
      "_view_module_version": "1.5.0",
      "_view_name": "HTMLView",
      "description": "",
      "description_tooltip": null,
      "layout": "IPY_MODEL_03232f65928a425ea4e00373b162429f",
      "placeholder": "​",
      "style": "IPY_MODEL_d464b7f4cfb048b48406b92fb5fc3d4c",
      "value": " 511/511 [00:00&lt;00:00, 20.1kB/s]"
     }
    },
    "a513daf678d14f4fb4680c33f1a6116b": {
     "model_module": "@jupyter-widgets/controls",
     "model_module_version": "1.5.0",
     "model_name": "HBoxModel",
     "state": {
      "_dom_classes": [],
      "_model_module": "@jupyter-widgets/controls",
      "_model_module_version": "1.5.0",
      "_model_name": "HBoxModel",
      "_view_count": null,
      "_view_module": "@jupyter-widgets/controls",
      "_view_module_version": "1.5.0",
      "_view_name": "HBoxView",
      "box_style": "",
      "children": [
       "IPY_MODEL_d4cfce970bb545b5a7607975aa697483",
       "IPY_MODEL_5cd90c2963784118842bb30d07b7d9dd",
       "IPY_MODEL_2a62728d027942b5acc7e33818715b73"
      ],
      "layout": "IPY_MODEL_a92af0ac3cd94d84a267a41024154dd0"
     }
    },
    "a92af0ac3cd94d84a267a41024154dd0": {
     "model_module": "@jupyter-widgets/base",
     "model_module_version": "1.2.0",
     "model_name": "LayoutModel",
     "state": {
      "_model_module": "@jupyter-widgets/base",
      "_model_module_version": "1.2.0",
      "_model_name": "LayoutModel",
      "_view_count": null,
      "_view_module": "@jupyter-widgets/base",
      "_view_module_version": "1.2.0",
      "_view_name": "LayoutView",
      "align_content": null,
      "align_items": null,
      "align_self": null,
      "border": null,
      "bottom": null,
      "display": null,
      "flex": null,
      "flex_flow": null,
      "grid_area": null,
      "grid_auto_columns": null,
      "grid_auto_flow": null,
      "grid_auto_rows": null,
      "grid_column": null,
      "grid_gap": null,
      "grid_row": null,
      "grid_template_areas": null,
      "grid_template_columns": null,
      "grid_template_rows": null,
      "height": null,
      "justify_content": null,
      "justify_items": null,
      "left": null,
      "margin": null,
      "max_height": null,
      "max_width": null,
      "min_height": null,
      "min_width": null,
      "object_fit": null,
      "object_position": null,
      "order": null,
      "overflow": null,
      "overflow_x": null,
      "overflow_y": null,
      "padding": null,
      "right": null,
      "top": null,
      "visibility": null,
      "width": null
     }
    },
    "b50df4f08c9d4da5acb37bf77f3c0b6e": {
     "model_module": "@jupyter-widgets/controls",
     "model_module_version": "1.5.0",
     "model_name": "HTMLModel",
     "state": {
      "_dom_classes": [],
      "_model_module": "@jupyter-widgets/controls",
      "_model_module_version": "1.5.0",
      "_model_name": "HTMLModel",
      "_view_count": null,
      "_view_module": "@jupyter-widgets/controls",
      "_view_module_version": "1.5.0",
      "_view_name": "HTMLView",
      "description": "",
      "description_tooltip": null,
      "layout": "IPY_MODEL_d7c251330ca94cadb23ca3487b688afa",
      "placeholder": "​",
      "style": "IPY_MODEL_4a597359eadc4582916723112033fec5",
      "value": "Downloading (…)cial_tokens_map.json: 100%"
     }
    },
    "b6d7bcd8bdfa4469b1c64ada7ba9cb25": {
     "model_module": "@jupyter-widgets/controls",
     "model_module_version": "1.5.0",
     "model_name": "FloatProgressModel",
     "state": {
      "_dom_classes": [],
      "_model_module": "@jupyter-widgets/controls",
      "_model_module_version": "1.5.0",
      "_model_name": "FloatProgressModel",
      "_view_count": null,
      "_view_module": "@jupyter-widgets/controls",
      "_view_module_version": "1.5.0",
      "_view_name": "ProgressView",
      "bar_style": "success",
      "description": "",
      "description_tooltip": null,
      "layout": "IPY_MODEL_e580e3b0851a4445aa011fdde903c5f3",
      "max": 125,
      "min": 0,
      "orientation": "horizontal",
      "style": "IPY_MODEL_7b92b37d69a5450a8a1ec250e9d6a46f",
      "value": 125
     }
    },
    "b8545bd04e3e48949e98ce509a996b30": {
     "model_module": "@jupyter-widgets/controls",
     "model_module_version": "1.5.0",
     "model_name": "HTMLModel",
     "state": {
      "_dom_classes": [],
      "_model_module": "@jupyter-widgets/controls",
      "_model_module_version": "1.5.0",
      "_model_name": "HTMLModel",
      "_view_count": null,
      "_view_module": "@jupyter-widgets/controls",
      "_view_module_version": "1.5.0",
      "_view_name": "HTMLView",
      "description": "",
      "description_tooltip": null,
      "layout": "IPY_MODEL_2accce86bb494b81b37adb23a487dc58",
      "placeholder": "​",
      "style": "IPY_MODEL_3e538c3f5488427399790ffa12f6d5f2",
      "value": "Downloading (…)okenizer_config.json: 100%"
     }
    },
    "bbbc78f397bf408fa008d439bb440eb4": {
     "model_module": "@jupyter-widgets/base",
     "model_module_version": "1.2.0",
     "model_name": "LayoutModel",
     "state": {
      "_model_module": "@jupyter-widgets/base",
      "_model_module_version": "1.2.0",
      "_model_name": "LayoutModel",
      "_view_count": null,
      "_view_module": "@jupyter-widgets/base",
      "_view_module_version": "1.2.0",
      "_view_name": "LayoutView",
      "align_content": null,
      "align_items": null,
      "align_self": null,
      "border": null,
      "bottom": null,
      "display": null,
      "flex": null,
      "flex_flow": null,
      "grid_area": null,
      "grid_auto_columns": null,
      "grid_auto_flow": null,
      "grid_auto_rows": null,
      "grid_column": null,
      "grid_gap": null,
      "grid_row": null,
      "grid_template_areas": null,
      "grid_template_columns": null,
      "grid_template_rows": null,
      "height": null,
      "justify_content": null,
      "justify_items": null,
      "left": null,
      "margin": null,
      "max_height": null,
      "max_width": null,
      "min_height": null,
      "min_width": null,
      "object_fit": null,
      "object_position": null,
      "order": null,
      "overflow": null,
      "overflow_x": null,
      "overflow_y": null,
      "padding": null,
      "right": null,
      "top": null,
      "visibility": null,
      "width": null
     }
    },
    "bd3a5998a8714526a9328879115c433b": {
     "model_module": "@jupyter-widgets/base",
     "model_module_version": "1.2.0",
     "model_name": "LayoutModel",
     "state": {
      "_model_module": "@jupyter-widgets/base",
      "_model_module_version": "1.2.0",
      "_model_name": "LayoutModel",
      "_view_count": null,
      "_view_module": "@jupyter-widgets/base",
      "_view_module_version": "1.2.0",
      "_view_name": "LayoutView",
      "align_content": null,
      "align_items": null,
      "align_self": null,
      "border": null,
      "bottom": null,
      "display": null,
      "flex": null,
      "flex_flow": null,
      "grid_area": null,
      "grid_auto_columns": null,
      "grid_auto_flow": null,
      "grid_auto_rows": null,
      "grid_column": null,
      "grid_gap": null,
      "grid_row": null,
      "grid_template_areas": null,
      "grid_template_columns": null,
      "grid_template_rows": null,
      "height": null,
      "justify_content": null,
      "justify_items": null,
      "left": null,
      "margin": null,
      "max_height": null,
      "max_width": null,
      "min_height": null,
      "min_width": null,
      "object_fit": null,
      "object_position": null,
      "order": null,
      "overflow": null,
      "overflow_x": null,
      "overflow_y": null,
      "padding": null,
      "right": null,
      "top": null,
      "visibility": null,
      "width": null
     }
    },
    "c72a076ad5bb4037ba43da57d0436609": {
     "model_module": "@jupyter-widgets/base",
     "model_module_version": "1.2.0",
     "model_name": "LayoutModel",
     "state": {
      "_model_module": "@jupyter-widgets/base",
      "_model_module_version": "1.2.0",
      "_model_name": "LayoutModel",
      "_view_count": null,
      "_view_module": "@jupyter-widgets/base",
      "_view_module_version": "1.2.0",
      "_view_name": "LayoutView",
      "align_content": null,
      "align_items": null,
      "align_self": null,
      "border": null,
      "bottom": null,
      "display": null,
      "flex": null,
      "flex_flow": null,
      "grid_area": null,
      "grid_auto_columns": null,
      "grid_auto_flow": null,
      "grid_auto_rows": null,
      "grid_column": null,
      "grid_gap": null,
      "grid_row": null,
      "grid_template_areas": null,
      "grid_template_columns": null,
      "grid_template_rows": null,
      "height": null,
      "justify_content": null,
      "justify_items": null,
      "left": null,
      "margin": null,
      "max_height": null,
      "max_width": null,
      "min_height": null,
      "min_width": null,
      "object_fit": null,
      "object_position": null,
      "order": null,
      "overflow": null,
      "overflow_x": null,
      "overflow_y": null,
      "padding": null,
      "right": null,
      "top": null,
      "visibility": null,
      "width": null
     }
    },
    "cad0f00fde4c423fbd163bdf0262ead8": {
     "model_module": "@jupyter-widgets/controls",
     "model_module_version": "1.5.0",
     "model_name": "HTMLModel",
     "state": {
      "_dom_classes": [],
      "_model_module": "@jupyter-widgets/controls",
      "_model_module_version": "1.5.0",
      "_model_name": "HTMLModel",
      "_view_count": null,
      "_view_module": "@jupyter-widgets/controls",
      "_view_module_version": "1.5.0",
      "_view_name": "HTMLView",
      "description": "",
      "description_tooltip": null,
      "layout": "IPY_MODEL_bd3a5998a8714526a9328879115c433b",
      "placeholder": "​",
      "style": "IPY_MODEL_12b82fa5de4a4a1aadf69c89dd27611e",
      "value": " 125/125 [00:00&lt;00:00, 6.98kB/s]"
     }
    },
    "d2491c84ab4b43159a0cc8e6cdfa57d2": {
     "model_module": "@jupyter-widgets/base",
     "model_module_version": "1.2.0",
     "model_name": "LayoutModel",
     "state": {
      "_model_module": "@jupyter-widgets/base",
      "_model_module_version": "1.2.0",
      "_model_name": "LayoutModel",
      "_view_count": null,
      "_view_module": "@jupyter-widgets/base",
      "_view_module_version": "1.2.0",
      "_view_name": "LayoutView",
      "align_content": null,
      "align_items": null,
      "align_self": null,
      "border": null,
      "bottom": null,
      "display": null,
      "flex": null,
      "flex_flow": null,
      "grid_area": null,
      "grid_auto_columns": null,
      "grid_auto_flow": null,
      "grid_auto_rows": null,
      "grid_column": null,
      "grid_gap": null,
      "grid_row": null,
      "grid_template_areas": null,
      "grid_template_columns": null,
      "grid_template_rows": null,
      "height": null,
      "justify_content": null,
      "justify_items": null,
      "left": null,
      "margin": null,
      "max_height": null,
      "max_width": null,
      "min_height": null,
      "min_width": null,
      "object_fit": null,
      "object_position": null,
      "order": null,
      "overflow": null,
      "overflow_x": null,
      "overflow_y": null,
      "padding": null,
      "right": null,
      "top": null,
      "visibility": null,
      "width": null
     }
    },
    "d464b7f4cfb048b48406b92fb5fc3d4c": {
     "model_module": "@jupyter-widgets/controls",
     "model_module_version": "1.5.0",
     "model_name": "DescriptionStyleModel",
     "state": {
      "_model_module": "@jupyter-widgets/controls",
      "_model_module_version": "1.5.0",
      "_model_name": "DescriptionStyleModel",
      "_view_count": null,
      "_view_module": "@jupyter-widgets/base",
      "_view_module_version": "1.2.0",
      "_view_name": "StyleView",
      "description_width": ""
     }
    },
    "d4cfce970bb545b5a7607975aa697483": {
     "model_module": "@jupyter-widgets/controls",
     "model_module_version": "1.5.0",
     "model_name": "HTMLModel",
     "state": {
      "_dom_classes": [],
      "_model_module": "@jupyter-widgets/controls",
      "_model_module_version": "1.5.0",
      "_model_name": "HTMLModel",
      "_view_count": null,
      "_view_module": "@jupyter-widgets/controls",
      "_view_module_version": "1.5.0",
      "_view_name": "HTMLView",
      "description": "",
      "description_tooltip": null,
      "layout": "IPY_MODEL_d5ad24f828b04b0baa9d79c84d1f40ab",
      "placeholder": "​",
      "style": "IPY_MODEL_f0ba91edb0dc4998a0917fd314b0bdff",
      "value": "Downloading (…)solve/main/vocab.txt: 100%"
     }
    },
    "d5ad24f828b04b0baa9d79c84d1f40ab": {
     "model_module": "@jupyter-widgets/base",
     "model_module_version": "1.2.0",
     "model_name": "LayoutModel",
     "state": {
      "_model_module": "@jupyter-widgets/base",
      "_model_module_version": "1.2.0",
      "_model_name": "LayoutModel",
      "_view_count": null,
      "_view_module": "@jupyter-widgets/base",
      "_view_module_version": "1.2.0",
      "_view_name": "LayoutView",
      "align_content": null,
      "align_items": null,
      "align_self": null,
      "border": null,
      "bottom": null,
      "display": null,
      "flex": null,
      "flex_flow": null,
      "grid_area": null,
      "grid_auto_columns": null,
      "grid_auto_flow": null,
      "grid_auto_rows": null,
      "grid_column": null,
      "grid_gap": null,
      "grid_row": null,
      "grid_template_areas": null,
      "grid_template_columns": null,
      "grid_template_rows": null,
      "height": null,
      "justify_content": null,
      "justify_items": null,
      "left": null,
      "margin": null,
      "max_height": null,
      "max_width": null,
      "min_height": null,
      "min_width": null,
      "object_fit": null,
      "object_position": null,
      "order": null,
      "overflow": null,
      "overflow_x": null,
      "overflow_y": null,
      "padding": null,
      "right": null,
      "top": null,
      "visibility": null,
      "width": null
     }
    },
    "d7c251330ca94cadb23ca3487b688afa": {
     "model_module": "@jupyter-widgets/base",
     "model_module_version": "1.2.0",
     "model_name": "LayoutModel",
     "state": {
      "_model_module": "@jupyter-widgets/base",
      "_model_module_version": "1.2.0",
      "_model_name": "LayoutModel",
      "_view_count": null,
      "_view_module": "@jupyter-widgets/base",
      "_view_module_version": "1.2.0",
      "_view_name": "LayoutView",
      "align_content": null,
      "align_items": null,
      "align_self": null,
      "border": null,
      "bottom": null,
      "display": null,
      "flex": null,
      "flex_flow": null,
      "grid_area": null,
      "grid_auto_columns": null,
      "grid_auto_flow": null,
      "grid_auto_rows": null,
      "grid_column": null,
      "grid_gap": null,
      "grid_row": null,
      "grid_template_areas": null,
      "grid_template_columns": null,
      "grid_template_rows": null,
      "height": null,
      "justify_content": null,
      "justify_items": null,
      "left": null,
      "margin": null,
      "max_height": null,
      "max_width": null,
      "min_height": null,
      "min_width": null,
      "object_fit": null,
      "object_position": null,
      "order": null,
      "overflow": null,
      "overflow_x": null,
      "overflow_y": null,
      "padding": null,
      "right": null,
      "top": null,
      "visibility": null,
      "width": null
     }
    },
    "deb9674bc49e40c1ac43674f35a24c20": {
     "model_module": "@jupyter-widgets/controls",
     "model_module_version": "1.5.0",
     "model_name": "ProgressStyleModel",
     "state": {
      "_model_module": "@jupyter-widgets/controls",
      "_model_module_version": "1.5.0",
      "_model_name": "ProgressStyleModel",
      "_view_count": null,
      "_view_module": "@jupyter-widgets/base",
      "_view_module_version": "1.2.0",
      "_view_name": "StyleView",
      "bar_color": null,
      "description_width": ""
     }
    },
    "e580e3b0851a4445aa011fdde903c5f3": {
     "model_module": "@jupyter-widgets/base",
     "model_module_version": "1.2.0",
     "model_name": "LayoutModel",
     "state": {
      "_model_module": "@jupyter-widgets/base",
      "_model_module_version": "1.2.0",
      "_model_name": "LayoutModel",
      "_view_count": null,
      "_view_module": "@jupyter-widgets/base",
      "_view_module_version": "1.2.0",
      "_view_name": "LayoutView",
      "align_content": null,
      "align_items": null,
      "align_self": null,
      "border": null,
      "bottom": null,
      "display": null,
      "flex": null,
      "flex_flow": null,
      "grid_area": null,
      "grid_auto_columns": null,
      "grid_auto_flow": null,
      "grid_auto_rows": null,
      "grid_column": null,
      "grid_gap": null,
      "grid_row": null,
      "grid_template_areas": null,
      "grid_template_columns": null,
      "grid_template_rows": null,
      "height": null,
      "justify_content": null,
      "justify_items": null,
      "left": null,
      "margin": null,
      "max_height": null,
      "max_width": null,
      "min_height": null,
      "min_width": null,
      "object_fit": null,
      "object_position": null,
      "order": null,
      "overflow": null,
      "overflow_x": null,
      "overflow_y": null,
      "padding": null,
      "right": null,
      "top": null,
      "visibility": null,
      "width": null
     }
    },
    "f0ba91edb0dc4998a0917fd314b0bdff": {
     "model_module": "@jupyter-widgets/controls",
     "model_module_version": "1.5.0",
     "model_name": "DescriptionStyleModel",
     "state": {
      "_model_module": "@jupyter-widgets/controls",
      "_model_module_version": "1.5.0",
      "_model_name": "DescriptionStyleModel",
      "_view_count": null,
      "_view_module": "@jupyter-widgets/base",
      "_view_module_version": "1.2.0",
      "_view_name": "StyleView",
      "description_width": ""
     }
    },
    "f60fc24efd3841e880688d7a825311f3": {
     "model_module": "@jupyter-widgets/controls",
     "model_module_version": "1.5.0",
     "model_name": "FloatProgressModel",
     "state": {
      "_dom_classes": [],
      "_model_module": "@jupyter-widgets/controls",
      "_model_module_version": "1.5.0",
      "_model_name": "FloatProgressModel",
      "_view_count": null,
      "_view_module": "@jupyter-widgets/controls",
      "_view_module_version": "1.5.0",
      "_view_name": "ProgressView",
      "bar_style": "success",
      "description": "",
      "description_tooltip": null,
      "layout": "IPY_MODEL_529e6e8321bf4b4a87c48958a97b71f3",
      "max": 701,
      "min": 0,
      "orientation": "horizontal",
      "style": "IPY_MODEL_802de959ff8e4a3882af82f09910d1ce",
      "value": 701
     }
    },
    "f9478ea45c06404589001e51d67469dd": {
     "model_module": "@jupyter-widgets/base",
     "model_module_version": "1.2.0",
     "model_name": "LayoutModel",
     "state": {
      "_model_module": "@jupyter-widgets/base",
      "_model_module_version": "1.2.0",
      "_model_name": "LayoutModel",
      "_view_count": null,
      "_view_module": "@jupyter-widgets/base",
      "_view_module_version": "1.2.0",
      "_view_name": "LayoutView",
      "align_content": null,
      "align_items": null,
      "align_self": null,
      "border": null,
      "bottom": null,
      "display": null,
      "flex": null,
      "flex_flow": null,
      "grid_area": null,
      "grid_auto_columns": null,
      "grid_auto_flow": null,
      "grid_auto_rows": null,
      "grid_column": null,
      "grid_gap": null,
      "grid_row": null,
      "grid_template_areas": null,
      "grid_template_columns": null,
      "grid_template_rows": null,
      "height": null,
      "justify_content": null,
      "justify_items": null,
      "left": null,
      "margin": null,
      "max_height": null,
      "max_width": null,
      "min_height": null,
      "min_width": null,
      "object_fit": null,
      "object_position": null,
      "order": null,
      "overflow": null,
      "overflow_x": null,
      "overflow_y": null,
      "padding": null,
      "right": null,
      "top": null,
      "visibility": null,
      "width": null
     }
    },
    "f9ce670c324c4beaba1da70392a650cd": {
     "model_module": "@jupyter-widgets/controls",
     "model_module_version": "1.5.0",
     "model_name": "HBoxModel",
     "state": {
      "_dom_classes": [],
      "_model_module": "@jupyter-widgets/controls",
      "_model_module_version": "1.5.0",
      "_model_name": "HBoxModel",
      "_view_count": null,
      "_view_module": "@jupyter-widgets/controls",
      "_view_module_version": "1.5.0",
      "_view_name": "HBoxView",
      "box_style": "",
      "children": [
       "IPY_MODEL_187efcf51a1e4f97ab67eb255e9c6c88",
       "IPY_MODEL_f60fc24efd3841e880688d7a825311f3",
       "IPY_MODEL_5222ac3e33084ef9bb0bcd272d59b0b0"
      ],
      "layout": "IPY_MODEL_07b664de8dea4c43bfb81c3e2d52da96"
     }
    },
    "facaec09f9f94389a9750d9582230e36": {
     "model_module": "@jupyter-widgets/base",
     "model_module_version": "1.2.0",
     "model_name": "LayoutModel",
     "state": {
      "_model_module": "@jupyter-widgets/base",
      "_model_module_version": "1.2.0",
      "_model_name": "LayoutModel",
      "_view_count": null,
      "_view_module": "@jupyter-widgets/base",
      "_view_module_version": "1.2.0",
      "_view_name": "LayoutView",
      "align_content": null,
      "align_items": null,
      "align_self": null,
      "border": null,
      "bottom": null,
      "display": null,
      "flex": null,
      "flex_flow": null,
      "grid_area": null,
      "grid_auto_columns": null,
      "grid_auto_flow": null,
      "grid_auto_rows": null,
      "grid_column": null,
      "grid_gap": null,
      "grid_row": null,
      "grid_template_areas": null,
      "grid_template_columns": null,
      "grid_template_rows": null,
      "height": null,
      "justify_content": null,
      "justify_items": null,
      "left": null,
      "margin": null,
      "max_height": null,
      "max_width": null,
      "min_height": null,
      "min_width": null,
      "object_fit": null,
      "object_position": null,
      "order": null,
      "overflow": null,
      "overflow_x": null,
      "overflow_y": null,
      "padding": null,
      "right": null,
      "top": null,
      "visibility": null,
      "width": null
     }
    },
    "fe44014f79044197917ea29381a526ff": {
     "model_module": "@jupyter-widgets/controls",
     "model_module_version": "1.5.0",
     "model_name": "DescriptionStyleModel",
     "state": {
      "_model_module": "@jupyter-widgets/controls",
      "_model_module_version": "1.5.0",
      "_model_name": "DescriptionStyleModel",
      "_view_count": null,
      "_view_module": "@jupyter-widgets/base",
      "_view_module_version": "1.2.0",
      "_view_name": "StyleView",
      "description_width": ""
     }
    }
   }
  }
 },
 "nbformat": 4,
 "nbformat_minor": 1
}
