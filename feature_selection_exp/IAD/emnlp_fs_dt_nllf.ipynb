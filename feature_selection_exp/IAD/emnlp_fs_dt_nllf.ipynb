{
 "cells": [
  {
   "cell_type": "code",
   "execution_count": 1,
   "metadata": {},
   "outputs": [],
   "source": [
    "import pandas as pd\n",
    "import numpy as np\n",
    "import pickle\n",
    "root=\"data/\""
   ]
  },
  {
   "cell_type": "code",
   "execution_count": 2,
   "metadata": {},
   "outputs": [],
   "source": [
    "df = {}\n",
    "for k in [\"train\", \"val\", \"test\"]:\n",
    "    df[k] = {}\n",
    "    for c in [\"nlfl\"]:\n",
    "        df[k][c] = pd.read_excel(root+f\"{c}_{k}_sample_v3.xlsx\", index_col=0)"
   ]
  },
  {
   "cell_type": "code",
   "execution_count": 3,
   "metadata": {},
   "outputs": [],
   "source": [
    "from sklearn.metrics import classification_report\n",
    "from sklearn.tree import DecisionTreeClassifier"
   ]
  },
  {
   "cell_type": "code",
   "execution_count": 4,
   "metadata": {},
   "outputs": [],
   "source": [
    "cols_nlfl = [c for c in df[\"train\"][\"nlfl\"].columns if \"chatgpt_\" in c and \"(\" in c]\n",
    "\n",
    "X_train = df[\"train\"][\"nlfl\"][cols_nlfl]\n",
    "X_val = df[\"val\"][\"nlfl\"][cols_nlfl]\n",
    "X_test = df[\"test\"][\"nlfl\"][cols_nlfl]\n",
    "\n",
    "X_train = X_train.loc[:, ~X_train.columns.duplicated()]\n",
    "X_val = X_val.loc[:, ~X_val.columns.duplicated()]\n",
    "X_test = X_test.loc[:, ~X_test.columns.duplicated()]\n",
    "\n",
    "y_train = (df[\"train\"][\"nlfl\"][\"label\"]).apply(int)\n",
    "y_val = (df[\"val\"][\"nlfl\"][\"label\"]).apply(int)\n",
    "y_test = (df[\"test\"][\"nlfl\"][\"label\"]).apply(int)"
   ]
  },
  {
   "cell_type": "code",
   "execution_count": 5,
   "metadata": {},
   "outputs": [
    {
     "name": "stderr",
     "output_type": "stream",
     "text": [
      "2023-10-21 17:24:15.580820: I tensorflow/core/platform/cpu_feature_guard.cc:182] This TensorFlow binary is optimized to use available CPU instructions in performance-critical operations.\n",
      "To enable the following instructions: SSE4.1 SSE4.2 AVX AVX2 FMA, in other operations, rebuild TensorFlow with the appropriate compiler flags.\n"
     ]
    }
   ],
   "source": [
    "from sklearn_genetic import GAFeatureSelectionCV\n",
    "import random"
   ]
  },
  {
   "cell_type": "code",
   "execution_count": 6,
   "metadata": {},
   "outputs": [],
   "source": [
    "from sklearn.model_selection import KFold"
   ]
  },
  {
   "cell_type": "code",
   "execution_count": 7,
   "metadata": {},
   "outputs": [
    {
     "name": "stdout",
     "output_type": "stream",
     "text": [
      "Fold 0:\n"
     ]
    },
    {
     "name": "stdout",
     "output_type": "stream",
     "text": [
      "gen\tnevals\tfitness\tfitness_std\tfitness_max\tfitness_min\n",
      "0  \t30    \t0.70583\t0.0187928  \t0.750106   \t0.676524   \n",
      "1  \t60    \t0.725547\t0.017481   \t0.765382   \t0.701475   \n",
      "2  \t60    \t0.729666\t0.0188883  \t0.765382   \t0.699979   \n",
      "3  \t60    \t0.7401  \t0.0146738  \t0.765382   \t0.708022   \n",
      "4  \t60    \t0.743044\t0.0171708  \t0.765382   \t0.693534   \n",
      "5  \t60    \t0.748809\t0.0149853  \t0.765382   \t0.699979   \n",
      "Fold 1:\n",
      "gen\tnevals\tfitness \tfitness_std\tfitness_max\tfitness_min\n",
      "0  \t30    \t0.676148\t0.0267245  \t0.75037    \t0.619495   \n",
      "1  \t60    \t0.700496\t0.019825   \t0.75037    \t0.664016   \n",
      "2  \t60    \t0.713459\t0.0191016  \t0.75037    \t0.672934   \n",
      "3  \t60    \t0.717005\t0.0171201  \t0.75037    \t0.690554   \n",
      "4  \t60    \t0.719619\t0.0188449  \t0.75037    \t0.677609   \n",
      "5  \t60    \t0.719643\t0.016588   \t0.753276   \t0.685691   \n",
      "Fold 2:\n",
      "gen\tnevals\tfitness \tfitness_std\tfitness_max\tfitness_min\n",
      "0  \t30    \t0.719078\t0.0280757  \t0.757545   \t0.666778   \n",
      "1  \t60    \t0.742236\t0.0150137  \t0.776264   \t0.689006   \n",
      "2  \t60    \t0.749553\t0.0127119  \t0.769702   \t0.72293    \n",
      "3  \t60    \t0.753468\t0.0108218  \t0.769702   \t0.737341   \n",
      "4  \t60    \t0.757939\t0.00956476 \t0.769702   \t0.740493   \n",
      "5  \t60    \t0.757357\t0.0159852  \t0.769702   \t0.704329   \n",
      "Fold 3:\n",
      "gen\tnevals\tfitness \tfitness_std\tfitness_max\tfitness_min\n",
      "0  \t30    \t0.727649\t0.023515   \t0.767262   \t0.679893   \n",
      "1  \t60    \t0.748601\t0.0148209  \t0.7714     \t0.721709   \n",
      "2  \t60    \t0.755148\t0.0120427  \t0.769433   \t0.721956   \n",
      "3  \t60    \t0.756897\t0.0118719  \t0.77775    \t0.720907   \n",
      "4  \t60    \t0.756987\t0.0146197  \t0.77775    \t0.70197    \n",
      "5  \t60    \t0.761313\t0.011572   \t0.77775    \t0.724349   \n",
      "Fold 4:\n",
      "gen\tnevals\tfitness \tfitness_std\tfitness_max\tfitness_min\n",
      "0  \t30    \t0.717865\t0.0196062  \t0.770746   \t0.684499   \n",
      "1  \t60    \t0.731337\t0.0138044  \t0.75306    \t0.701825   \n",
      "2  \t60    \t0.737013\t0.010027   \t0.75306    \t0.719795   \n",
      "3  \t60    \t0.738634\t0.01134    \t0.756149   \t0.715724   \n",
      "4  \t60    \t0.742089\t0.00890674 \t0.76062    \t0.721477   \n",
      "5  \t60    \t0.741297\t0.0132024  \t0.76062    \t0.710448   \n",
      "Fold 5:\n",
      "gen\tnevals\tfitness \tfitness_std\tfitness_max\tfitness_min\n",
      "0  \t30    \t0.722165\t0.0206893  \t0.755965   \t0.667699   \n",
      "1  \t60    \t0.741414\t0.0121673  \t0.764802   \t0.717136   \n",
      "2  \t60    \t0.74356 \t0.0111666  \t0.77228    \t0.72593    \n",
      "3  \t60    \t0.7433  \t0.0119398  \t0.77228    \t0.707316   \n",
      "4  \t60    \t0.752201\t0.00888132 \t0.77228    \t0.730627   \n",
      "5  \t60    \t0.751388\t0.0117614  \t0.77228    \t0.721956   \n",
      "Fold 6:\n",
      "gen\tnevals\tfitness \tfitness_std\tfitness_max\tfitness_min\n",
      "0  \t30    \t0.686764\t0.023213   \t0.730623   \t0.641369   \n",
      "1  \t60    \t0.708429\t0.0154415  \t0.730623   \t0.644202   \n",
      "2  \t60    \t0.714013\t0.00907573 \t0.730623   \t0.69829    \n",
      "3  \t60    \t0.717913\t0.00942568 \t0.730623   \t0.70248    \n",
      "4  \t60    \t0.717489\t0.0166676  \t0.736358   \t0.658667   \n",
      "5  \t60    \t0.718115\t0.0114395  \t0.736358   \t0.693618   \n",
      "Fold 7:\n",
      "gen\tnevals\tfitness \tfitness_std\tfitness_max\tfitness_min\n",
      "0  \t30    \t0.671439\t0.0180058  \t0.705199   \t0.628636   \n",
      "1  \t60    \t0.68736 \t0.0097399  \t0.705199   \t0.667391   \n",
      "2  \t60    \t0.691467\t0.00938561 \t0.705199   \t0.667391   \n",
      "3  \t60    \t0.693225\t0.00854381 \t0.707316   \t0.675081   \n",
      "4  \t60    \t0.692216\t0.0138766  \t0.711245   \t0.661365   \n",
      "5  \t60    \t0.698343\t0.01185    \t0.723641   \t0.680447   \n",
      "Fold 8:\n",
      "gen\tnevals\tfitness \tfitness_std\tfitness_max\tfitness_min\n",
      "0  \t30    \t0.666583\t0.0232077  \t0.702852   \t0.604797   \n",
      "1  \t60    \t0.689159\t0.0119658  \t0.704643   \t0.64926    \n",
      "2  \t60    \t0.691769\t0.0109399  \t0.704643   \t0.666302   \n",
      "3  \t60    \t0.694834\t0.011264   \t0.704643   \t0.66298    \n",
      "4  \t60    \t0.697621\t0.00831104 \t0.704643   \t0.673042   \n",
      "5  \t60    \t0.698054\t0.00842173 \t0.707075   \t0.670528   \n",
      "Fold 9:\n",
      "gen\tnevals\tfitness \tfitness_std\tfitness_max\tfitness_min\n",
      "0  \t30    \t0.713542\t0.0244464  \t0.758846   \t0.653917   \n",
      "1  \t60    \t0.73472 \t0.0166912  \t0.758846   \t0.687593   \n",
      "2  \t60    \t0.737819\t0.0121503  \t0.761867   \t0.72293    \n",
      "3  \t60    \t0.737329\t0.012324   \t0.757491   \t0.704997   \n",
      "4  \t60    \t0.740071\t0.0113891  \t0.757491   \t0.717024   \n",
      "5  \t60    \t0.74093 \t0.0110325  \t0.757491   \t0.708406   \n",
      "Fold 10:\n",
      "gen\tnevals\tfitness\tfitness_std\tfitness_max\tfitness_min\n",
      "0  \t30    \t0.68573\t0.0223329  \t0.723641   \t0.641468   \n",
      "1  \t60    \t0.707549\t0.015185   \t0.750913   \t0.66925    \n",
      "2  \t60    \t0.709897\t0.018316   \t0.750913   \t0.660965   \n",
      "3  \t60    \t0.716408\t0.0120097  \t0.750913   \t0.689095   \n",
      "4  \t60    \t0.717663\t0.0121017  \t0.750913   \t0.687644   \n",
      "5  \t60    \t0.714213\t0.019071   \t0.750913   \t0.667204   \n",
      "Fold 11:\n",
      "gen\tnevals\tfitness \tfitness_std\tfitness_max\tfitness_min\n",
      "0  \t30    \t0.688697\t0.026188   \t0.737341   \t0.634581   \n",
      "1  \t60    \t0.706682\t0.0179068  \t0.733782   \t0.676075   \n",
      "2  \t60    \t0.715933\t0.0166172  \t0.744475   \t0.677799   \n",
      "3  \t60    \t0.724335\t0.014345   \t0.745008   \t0.697057   \n",
      "4  \t60    \t0.725244\t0.0150651  \t0.745008   \t0.693756   \n",
      "5  \t60    \t0.732132\t0.0172935  \t0.768356   \t0.693756   \n",
      "Fold 12:\n",
      "gen\tnevals\tfitness \tfitness_std\tfitness_max\tfitness_min\n",
      "0  \t30    \t0.705632\t0.024623   \t0.739805   \t0.655473   \n",
      "1  \t60    \t0.729518\t0.0117624  \t0.749214   \t0.699598   \n",
      "2  \t60    \t0.727115\t0.0131275  \t0.749214   \t0.697262   \n",
      "3  \t60    \t0.730279\t0.00994031 \t0.749214   \t0.710861   \n",
      "4  \t60    \t0.72998 \t0.013936   \t0.757666   \t0.69156    \n",
      "5  \t60    \t0.733019\t0.00987704 \t0.759333   \t0.718421   \n",
      "Fold 13:\n",
      "gen\tnevals\tfitness\tfitness_std\tfitness_max\tfitness_min\n",
      "0  \t30    \t0.71082\t0.0340964  \t0.764586   \t0.64168    \n",
      "1  \t60    \t0.737305\t0.0181733  \t0.764768   \t0.698453   \n",
      "2  \t60    \t0.734608\t0.0231897  \t0.764768   \t0.688773   \n",
      "3  \t60    \t0.745886\t0.0196004  \t0.769883   \t0.674651   \n",
      "4  \t60    \t0.754193\t0.0165513  \t0.774757   \t0.704605   \n",
      "5  \t60    \t0.761269\t0.011426   \t0.770048   \t0.724747   \n",
      "Fold 14:\n",
      "gen\tnevals\tfitness \tfitness_std\tfitness_max\tfitness_min\n",
      "0  \t30    \t0.727101\t0.0179137  \t0.76143    \t0.687596   \n",
      "1  \t60    \t0.74136 \t0.00991903 \t0.759104   \t0.716416   \n",
      "2  \t60    \t0.749415\t0.0121944  \t0.770048   \t0.719732   \n",
      "3  \t60    \t0.752661\t0.0111493  \t0.770048   \t0.729679   \n",
      "4  \t60    \t0.753437\t0.0125516  \t0.770048   \t0.703935   \n",
      "5  \t60    \t0.749694\t0.0136531  \t0.770048   \t0.719078   \n"
     ]
    }
   ],
   "source": [
    "random_seed = 54\n",
    "\n",
    "np.random.seed(random_seed)\n",
    "random.seed(random_seed)\n",
    "\n",
    "train_test_sample = pd.concat([\n",
    "    pd.concat([X_train, y_train], axis=1), \n",
    "    pd.concat([X_val, y_val], axis=1)\n",
    "    ], ignore_index=True)\n",
    "train_test_sample\n",
    "\n",
    "kf = KFold(n_splits=15, random_state=42, shuffle=True)\n",
    "F_features = []\n",
    "for i, (train_index, test_index) in enumerate(kf.split(train_test_sample)):\n",
    "    print(f\"Fold {i}:\")\n",
    "\n",
    "    evolved_estimator = GAFeatureSelectionCV(\n",
    "        estimator=DecisionTreeClassifier(\n",
    "            random_state=42, \n",
    "            max_depth=5, \n",
    "            criterion=\"gini\", \n",
    "        ),\n",
    "        cv=[(train_index, test_index)],\n",
    "        scoring=\"f1_macro\",\n",
    "        population_size=30,\n",
    "        generations=5,\n",
    "        n_jobs=-1,\n",
    "        verbose=True,\n",
    "        keep_top_k=2,\n",
    "        elitism=True,\n",
    "    )\n",
    "\n",
    "    support = [x for x in train_test_sample.columns if x not in [\"label\"] and (\"chatgpt_v\" in x or \"Q3\" in x)]\n",
    "\n",
    "    evolved_estimator.fit(pd.DataFrame(train_test_sample.drop(columns=\"label\")[support].values), train_test_sample[\"label\"])\n",
    "\n",
    "    best_features = [x for i, x in enumerate(train_test_sample.drop(columns=\"label\")[support].columns) if vars(evolved_estimator)[\"best_features_\"][i]]\n",
    "    F_features += best_features"
   ]
  },
  {
   "cell_type": "code",
   "execution_count": 8,
   "metadata": {},
   "outputs": [],
   "source": [
    "with open(f'output/nllf_features.npy', 'wb') as f:\n",
    "    o = np.array(F_features)\n",
    "    np.save(f, o)"
   ]
  }
 ],
 "metadata": {
  "kernelspec": {
   "display_name": "net",
   "language": "python",
   "name": "python3"
  },
  "language_info": {
   "codemirror_mode": {
    "name": "ipython",
    "version": 3
   },
   "file_extension": ".py",
   "mimetype": "text/x-python",
   "name": "python",
   "nbconvert_exporter": "python",
   "pygments_lexer": "ipython3",
   "version": "3.11.4"
  },
  "orig_nbformat": 4
 },
 "nbformat": 4,
 "nbformat_minor": 2
}
