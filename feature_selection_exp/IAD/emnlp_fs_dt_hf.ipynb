{
 "cells": [
  {
   "cell_type": "code",
   "execution_count": 1,
   "metadata": {},
   "outputs": [],
   "source": [
    "import pandas as pd\n",
    "import numpy as np\n",
    "import pickle\n",
    "root=\"data/\""
   ]
  },
  {
   "cell_type": "code",
   "execution_count": 2,
   "metadata": {},
   "outputs": [],
   "source": [
    "df = {}\n",
    "for k in [\"train\", \"val\", \"test\"]:\n",
    "    df[k] = {}\n",
    "    for c in [\"nlfl\", \"mf\"]:\n",
    "        df[k][c] = pd.read_excel(root+f\"{c}_{k}_sample_v3.xlsx\", index_col=0) if c == \"nlfl\" else pd.read_excel(root+f\"{c}_features_{k}_task_C1.xlsx\", index_col=0)"
   ]
  },
  {
   "cell_type": "code",
   "execution_count": 3,
   "metadata": {},
   "outputs": [],
   "source": [
    "from sklearn.metrics import classification_report\n",
    "from sklearn.tree import DecisionTreeClassifier"
   ]
  },
  {
   "cell_type": "code",
   "execution_count": 4,
   "metadata": {},
   "outputs": [],
   "source": [
    "cols_mf = [c for c in df[\"train\"][\"mf\"].columns if \"linguistic\" not in c]\n",
    "\n",
    "X_train = df[\"train\"][\"mf\"][cols_mf]\n",
    "X_val = df[\"val\"][\"mf\"][cols_mf]\n",
    "X_test = df[\"test\"][\"mf\"][cols_mf]\n",
    "\n",
    "X_train = X_train.loc[:, ~X_train.columns.duplicated()]\n",
    "X_val = X_val.loc[:, ~X_val.columns.duplicated()]\n",
    "X_test = X_test.loc[:, ~X_test.columns.duplicated()]\n",
    "\n",
    "y_train = (df[\"train\"][\"nlfl\"].set_index(\"id\").loc[X_train.index][\"label\"]).apply(int)\n",
    "y_val = (df[\"val\"][\"nlfl\"].set_index(\"id\").loc[X_val.index][\"label\"]).apply(int)\n",
    "y_test = (df[\"test\"][\"nlfl\"].set_index(\"id\").loc[X_test.index][\"label\"]).apply(int)"
   ]
  },
  {
   "cell_type": "code",
   "execution_count": 5,
   "metadata": {},
   "outputs": [
    {
     "name": "stderr",
     "output_type": "stream",
     "text": [
      "2023-10-21 17:25:08.646143: I tensorflow/core/platform/cpu_feature_guard.cc:182] This TensorFlow binary is optimized to use available CPU instructions in performance-critical operations.\n",
      "To enable the following instructions: SSE4.1 SSE4.2 AVX AVX2 FMA, in other operations, rebuild TensorFlow with the appropriate compiler flags.\n"
     ]
    }
   ],
   "source": [
    "from sklearn_genetic import GAFeatureSelectionCV\n",
    "import random"
   ]
  },
  {
   "cell_type": "code",
   "execution_count": 6,
   "metadata": {},
   "outputs": [],
   "source": [
    "from sklearn.model_selection import KFold"
   ]
  },
  {
   "cell_type": "code",
   "execution_count": 7,
   "metadata": {},
   "outputs": [
    {
     "name": "stdout",
     "output_type": "stream",
     "text": [
      "Fold 0:\n"
     ]
    },
    {
     "name": "stdout",
     "output_type": "stream",
     "text": [
      "gen\tnevals\tfitness \tfitness_std\tfitness_max\tfitness_min\n",
      "0  \t30    \t0.804092\t0.0187542  \t0.838976   \t0.76822    \n",
      "1  \t60    \t0.822216\t0.0140232  \t0.841706   \t0.795395   \n",
      "2  \t60    \t0.827483\t0.0120324  \t0.841706   \t0.804337   \n",
      "3  \t60    \t0.831584\t0.0113229  \t0.845759   \t0.8069     \n",
      "4  \t60    \t0.829977\t0.0139064  \t0.845759   \t0.801359   \n",
      "5  \t60    \t0.832758\t0.0140049  \t0.845759   \t0.799167   \n",
      "Fold 1:\n",
      "gen\tnevals\tfitness \tfitness_std\tfitness_max\tfitness_min\n",
      "0  \t30    \t0.851175\t0.0126742  \t0.884377   \t0.82071    \n",
      "1  \t60    \t0.860346\t0.00809068 \t0.884377   \t0.84148    \n",
      "2  \t60    \t0.865444\t0.00811309 \t0.884377   \t0.845766   \n",
      "3  \t60    \t0.865436\t0.00792519 \t0.889151   \t0.846848   \n",
      "4  \t60    \t0.870126\t0.0120527  \t0.896206   \t0.850952   \n",
      "5  \t60    \t0.870859\t0.0108485  \t0.896206   \t0.855272   \n",
      "Fold 2:\n",
      "gen\tnevals\tfitness \tfitness_std\tfitness_max\tfitness_min\n",
      "0  \t30    \t0.814973\t0.0129222  \t0.842311   \t0.7906     \n",
      "1  \t60    \t0.826755\t0.0101236  \t0.858771   \t0.814806   \n",
      "2  \t60    \t0.831902\t0.0108503  \t0.858771   \t0.815669   \n",
      "3  \t60    \t0.830194\t0.00881493 \t0.851873   \t0.818175   \n",
      "4  \t60    \t0.830383\t0.00842987 \t0.843985   \t0.81128    \n",
      "5  \t60    \t0.834647\t0.01061    \t0.856321   \t0.813282   \n",
      "Fold 3:\n",
      "gen\tnevals\tfitness\tfitness_std\tfitness_max\tfitness_min\n",
      "0  \t30    \t0.85074\t0.0124285  \t0.874706   \t0.824576   \n",
      "1  \t60    \t0.862917\t0.00738119 \t0.874706   \t0.841818   \n",
      "2  \t60    \t0.863735\t0.00648536 \t0.872514   \t0.849221   \n",
      "3  \t60    \t0.867529\t0.00555905 \t0.882136   \t0.856198   \n",
      "4  \t60    \t0.866461\t0.0089409  \t0.882136   \t0.838839   \n",
      "5  \t60    \t0.866535\t0.012386   \t0.891175   \t0.838301   \n",
      "Fold 4:\n",
      "gen\tnevals\tfitness \tfitness_std\tfitness_max\tfitness_min\n",
      "0  \t30    \t0.838844\t0.0158189  \t0.880836   \t0.80617    \n",
      "1  \t60    \t0.851198\t0.0114828  \t0.880836   \t0.829093   \n",
      "2  \t60    \t0.854582\t0.00836544 \t0.871727   \t0.834104   \n",
      "3  \t60    \t0.856533\t0.00891852 \t0.874788   \t0.838976   \n",
      "4  \t60    \t0.85824 \t0.00721209 \t0.874692   \t0.844519   \n",
      "5  \t60    \t0.861528\t0.00732167 \t0.874692   \t0.845904   \n",
      "Fold 5:\n",
      "gen\tnevals\tfitness \tfitness_std\tfitness_max\tfitness_min\n",
      "0  \t30    \t0.837996\t0.0126008  \t0.862161   \t0.812839   \n",
      "1  \t60    \t0.849482\t0.00981324 \t0.870337   \t0.824331   \n",
      "2  \t60    \t0.858011\t0.0115921  \t0.881501   \t0.835774   \n",
      "3  \t60    \t0.860659\t0.0121794  \t0.881501   \t0.835663   \n",
      "4  \t60    \t0.862513\t0.0133589  \t0.881501   \t0.838258   \n",
      "5  \t60    \t0.863694\t0.0121418  \t0.881501   \t0.844063   \n",
      "Fold 6:\n",
      "gen\tnevals\tfitness \tfitness_std\tfitness_max\tfitness_min\n",
      "0  \t30    \t0.819673\t0.0139408  \t0.853187   \t0.785889   \n",
      "1  \t60    \t0.826822\t0.00895576 \t0.850013   \t0.811684   \n",
      "2  \t60    \t0.831509\t0.00993362 \t0.851608   \t0.811684   \n",
      "3  \t60    \t0.836014\t0.0124045  \t0.855482   \t0.815657   \n",
      "4  \t60    \t0.838407\t0.0122948  \t0.855482   \t0.8164     \n",
      "5  \t60    \t0.840953\t0.0115892  \t0.855482   \t0.819395   \n",
      "Fold 7:\n",
      "gen\tnevals\tfitness \tfitness_std\tfitness_max\tfitness_min\n",
      "0  \t30    \t0.821784\t0.00995797 \t0.839013   \t0.78252    \n",
      "1  \t60    \t0.826959\t0.00749885 \t0.840826   \t0.816345   \n",
      "2  \t60    \t0.832572\t0.00635583 \t0.841503   \t0.820417   \n",
      "3  \t60    \t0.833192\t0.0131848  \t0.883511   \t0.806555   \n",
      "4  \t60    \t0.836726\t0.00860436 \t0.8458     \t0.803466   \n",
      "5  \t60    \t0.839217\t0.00941771 \t0.867704   \t0.812756   \n",
      "Fold 8:\n",
      "gen\tnevals\tfitness \tfitness_std\tfitness_max\tfitness_min\n",
      "0  \t30    \t0.806045\t0.0139423  \t0.83967    \t0.780194   \n",
      "1  \t60    \t0.809768\t0.00900233 \t0.839013   \t0.796522   \n",
      "2  \t60    \t0.813286\t0.00774316 \t0.839013   \t0.802078   \n",
      "3  \t60    \t0.812344\t0.00936129 \t0.844123   \t0.796664   \n",
      "4  \t60    \t0.814872\t0.00834031 \t0.837733   \t0.802078   \n",
      "5  \t60    \t0.817835\t0.0116105  \t0.839013   \t0.787985   \n",
      "Fold 9:\n",
      "gen\tnevals\tfitness \tfitness_std\tfitness_max\tfitness_min\n",
      "0  \t30    \t0.826788\t0.0166418  \t0.876091   \t0.789826   \n",
      "1  \t60    \t0.838227\t0.0169357  \t0.878851   \t0.809532   \n",
      "2  \t60    \t0.842861\t0.0165109  \t0.883511   \t0.798294   \n",
      "3  \t60    \t0.850278\t0.0187912  \t0.878851   \t0.822601   \n",
      "4  \t60    \t0.857371\t0.0208153  \t0.882403   \t0.824111   \n",
      "5  \t60    \t0.855893\t0.0201658  \t0.880767   \t0.825548   \n",
      "Fold 10:\n",
      "gen\tnevals\tfitness \tfitness_std\tfitness_max\tfitness_min\n",
      "0  \t30    \t0.842586\t0.00866569 \t0.856834   \t0.825591   \n",
      "1  \t60    \t0.855069\t0.00949467 \t0.876747   \t0.837659   \n",
      "2  \t60    \t0.859548\t0.00863848 \t0.876747   \t0.846223   \n",
      "3  \t60    \t0.859887\t0.0095516  \t0.876747   \t0.838364   \n",
      "4  \t60    \t0.864515\t0.00983903 \t0.877791   \t0.848101   \n",
      "5  \t60    \t0.866039\t0.00985199 \t0.877791   \t0.843201   \n",
      "Fold 11:\n",
      "gen\tnevals\tfitness \tfitness_std\tfitness_max\tfitness_min\n",
      "0  \t30    \t0.833863\t0.0143699  \t0.859344   \t0.804878   \n",
      "1  \t60    \t0.845527\t0.00785634 \t0.855861   \t0.825354   \n",
      "2  \t60    \t0.848823\t0.00601791 \t0.864845   \t0.836762   \n",
      "3  \t60    \t0.848382\t0.00865999 \t0.864845   \t0.82567    \n",
      "4  \t60    \t0.850221\t0.00724164 \t0.864845   \t0.840228   \n",
      "5  \t60    \t0.850205\t0.00819854 \t0.864806   \t0.832228   \n",
      "Fold 12:\n",
      "gen\tnevals\tfitness \tfitness_std\tfitness_max\tfitness_min\n",
      "0  \t30    \t0.839897\t0.0149959  \t0.863841   \t0.803709   \n",
      "1  \t60    \t0.854869\t0.00999918 \t0.871568   \t0.827708   \n",
      "2  \t60    \t0.857826\t0.00848447 \t0.871568   \t0.839117   \n",
      "3  \t60    \t0.859389\t0.010658   \t0.884411   \t0.835637   \n",
      "4  \t60    \t0.864897\t0.00975911 \t0.884411   \t0.83954    \n",
      "5  \t60    \t0.865518\t0.00919992 \t0.884411   \t0.840961   \n",
      "Fold 13:\n",
      "gen\tnevals\tfitness \tfitness_std\tfitness_max\tfitness_min\n",
      "0  \t30    \t0.814888\t0.0143364  \t0.86305    \t0.789666   \n",
      "1  \t60    \t0.826156\t0.00946411 \t0.86305    \t0.812023   \n",
      "2  \t60    \t0.828714\t0.00711986 \t0.846605   \t0.818146   \n",
      "3  \t60    \t0.829309\t0.0100725  \t0.859482   \t0.812419   \n",
      "4  \t60    \t0.826723\t0.008034   \t0.83689    \t0.802062   \n",
      "5  \t60    \t0.826851\t0.00787486 \t0.83689    \t0.800053   \n",
      "Fold 14:\n",
      "gen\tnevals\tfitness \tfitness_std\tfitness_max\tfitness_min\n",
      "0  \t30    \t0.820976\t0.00838938 \t0.837001   \t0.805304   \n",
      "1  \t60    \t0.830721\t0.0101384  \t0.864823   \t0.812284   \n",
      "2  \t60    \t0.832503\t0.00598816 \t0.846944   \t0.818688   \n",
      "3  \t60    \t0.83155 \t0.00691809 \t0.846944   \t0.817824   \n",
      "4  \t60    \t0.834127\t0.00792741 \t0.846944   \t0.812284   \n",
      "5  \t60    \t0.83459 \t0.00722354 \t0.846944   \t0.817375   \n"
     ]
    }
   ],
   "source": [
    "random_seed = 54\n",
    "\n",
    "np.random.seed(random_seed)\n",
    "random.seed(random_seed)\n",
    "\n",
    "train_test_sample = pd.concat([\n",
    "    pd.concat([X_train, y_train], axis=1), \n",
    "    pd.concat([X_val, y_val], axis=1)\n",
    "    ], ignore_index=True)\n",
    "train_test_sample\n",
    "\n",
    "kf = KFold(n_splits=15, random_state=42, shuffle=True)\n",
    "F_features = []\n",
    "for i, (train_index, test_index) in enumerate(kf.split(train_test_sample)):\n",
    "    print(f\"Fold {i}:\")\n",
    "\n",
    "    evolved_estimator = GAFeatureSelectionCV(\n",
    "        estimator=DecisionTreeClassifier(\n",
    "            random_state=42, \n",
    "            max_depth=5, \n",
    "            criterion=\"gini\", \n",
    "        ),\n",
    "        cv=[(train_index, test_index)],\n",
    "        scoring=\"f1_macro\",\n",
    "        population_size=30,\n",
    "        generations=5,\n",
    "        n_jobs=-1,\n",
    "        verbose=True,\n",
    "        keep_top_k=2,\n",
    "        elitism=True,\n",
    "    )\n",
    "\n",
    "    support = [x for x in train_test_sample.columns if x not in [\"label\"]]\n",
    "\n",
    "    evolved_estimator.fit(pd.DataFrame(train_test_sample.drop(columns=\"label\")[support].values), train_test_sample[\"label\"])\n",
    "\n",
    "    best_features = [x for i, x in enumerate(train_test_sample.drop(columns=\"label\")[support].columns) if vars(evolved_estimator)[\"best_features_\"][i]]\n",
    "    F_features += best_features"
   ]
  },
  {
   "cell_type": "code",
   "execution_count": 8,
   "metadata": {},
   "outputs": [],
   "source": [
    "with open(f'output/mf_features.npy', 'wb') as f:\n",
    "    o = np.array(F_features)\n",
    "    np.save(f, o)"
   ]
  }
 ],
 "metadata": {
  "kernelspec": {
   "display_name": "net",
   "language": "python",
   "name": "python3"
  },
  "language_info": {
   "codemirror_mode": {
    "name": "ipython",
    "version": 3
   },
   "file_extension": ".py",
   "mimetype": "text/x-python",
   "name": "python",
   "nbconvert_exporter": "python",
   "pygments_lexer": "ipython3",
   "version": "3.11.4"
  },
  "orig_nbformat": 4
 },
 "nbformat": 4,
 "nbformat_minor": 2
}
