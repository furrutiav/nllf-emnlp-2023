{
 "cells": [
  {
   "cell_type": "code",
   "execution_count": 1,
   "id": "b3fff90a",
   "metadata": {},
   "outputs": [],
   "source": [
    "import pandas as pd\n",
    "import pickle"
   ]
  },
  {
   "cell_type": "code",
   "execution_count": 2,
   "id": "57279bf8",
   "metadata": {},
   "outputs": [],
   "source": [
    "data = pd.read_excel(\"First_2000_abstract_clean.xlsx\", index_col=0).reset_index().drop(columns=\"index\")\n",
    "nllf = pd.read_excel(\"NLLF_v2.xlsx\", index_col=0).drop(columns=\"Article Title  Abstract (AB)  Final decision\".split(\"  \")).reset_index().drop(columns=\"index\")\n",
    "raw_lf = pickle.load(open(\"LF.pkl\", \"rb\"))\n",
    "lf = pd.DataFrame(raw_lf[\"matrix_LF\"], columns=raw_lf[\"col_name\"]).reset_index().drop(columns=\"index\")\n",
    "bong = pd.read_excel(\"bong.xlsx\", index_col=0).reset_index().drop(columns=\"index\")"
   ]
  },
  {
   "cell_type": "code",
   "execution_count": 3,
   "id": "5bf7a729",
   "metadata": {},
   "outputs": [
    {
     "name": "stdout",
     "output_type": "stream",
     "text": [
      "setting: 0.7 0.1 0.2\n"
     ]
    }
   ],
   "source": [
    "df_train = data.sample(frac=0.7, random_state=2023)\n",
    "df_val_test = data.loc[[ix for ix in data.index if ix not in df_train.index]]\n",
    "df_val = df_val_test.sample(frac=1/3, random_state=2023)\n",
    "df_test = df_val_test.loc[[ix for ix in df_val_test.index if ix not in df_val.index]]\n",
    "print(\"setting:\", df_train.shape[0]/data.shape[0], df_val.shape[0]/data.shape[0], df_test.shape[0]/data.shape[0])"
   ]
  },
  {
   "cell_type": "code",
   "execution_count": 4,
   "id": "d71692ee",
   "metadata": {},
   "outputs": [],
   "source": [
    "indexs = {\n",
    "    \"index_train\": df_train.index.values,\n",
    "    \"index_val\": df_val.index.values,\n",
    "    \"index_test\": df_test.index.values\n",
    "}\n",
    "pickle.dump(indexs, open(\"setting/indexs_v2.pkl\", \"wb\"))"
   ]
  },
  {
   "cell_type": "code",
   "execution_count": 5,
   "id": "5a99c90b",
   "metadata": {},
   "outputs": [
    {
     "name": "stdout",
     "output_type": "stream",
     "text": [
      "index_train\n",
      "index_val\n",
      "index_test\n"
     ]
    }
   ],
   "source": [
    "for k, v in indexs.items():\n",
    "    print(k)\n",
    "    nllf.iloc[v].to_excel(\"setting/nllf_v2_\"+k.split(\"_\")[1]+\".xlsx\")\n",
    "    lf.iloc[v].to_excel(\"setting/lf_v2_\"+k.split(\"_\")[1]+\".xlsx\")\n",
    "    data.iloc[v].to_excel(\"setting/data_v2_\"+k.split(\"_\")[1]+\".xlsx\")"
   ]
  },
  {
   "cell_type": "code",
   "execution_count": 3,
   "id": "41135c3e",
   "metadata": {},
   "outputs": [
    {
     "name": "stdout",
     "output_type": "stream",
     "text": [
      "index_train\n",
      "index_val\n",
      "index_test\n"
     ]
    }
   ],
   "source": [
    "indexs = pickle.load(open(\"setting/indexs_v2.pkl\", \"rb\"))\n",
    "for k, v in indexs.items():\n",
    "    print(k)\n",
    "    bong.iloc[v].to_excel(\"setting/bong_v2_\"+k.split(\"_\")[1]+\".xlsx\")"
   ]
  }
 ],
 "metadata": {
  "kernelspec": {
   "display_name": "Python 3 (ipykernel)",
   "language": "python",
   "name": "python3"
  },
  "language_info": {
   "codemirror_mode": {
    "name": "ipython",
    "version": 3
   },
   "file_extension": ".py",
   "mimetype": "text/x-python",
   "name": "python",
   "nbconvert_exporter": "python",
   "pygments_lexer": "ipython3",
   "version": "3.8.5"
  }
 },
 "nbformat": 4,
 "nbformat_minor": 5
}
