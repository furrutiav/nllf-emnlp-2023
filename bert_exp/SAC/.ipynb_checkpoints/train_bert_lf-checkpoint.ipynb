{
 "cells": [
  {
   "cell_type": "code",
   "execution_count": 1,
   "metadata": {},
   "outputs": [],
   "source": [
    "import pandas as pd\n",
    "import numpy as np\n",
    "import pickle"
   ]
  },
  {
   "cell_type": "code",
   "execution_count": 2,
   "metadata": {},
   "outputs": [],
   "source": [
    "file_names = {\n",
    "    \"train\": \"setting/data_train.xlsx\",\n",
    "    \"test\": \"setting/data_test.xlsx\",\n",
    "    \"val\": \"setting/data_val.xlsx\",\n",
    "    \n",
    "    \"lf_train\": \"setting/lf_train.xlsx\",\n",
    "    \"lf_test\": \"setting/lf_test.xlsx\",\n",
    "    \"lf_val\": \"setting/lf_val.xlsx\",    \n",
    "}"
   ]
  },
  {
   "cell_type": "code",
   "execution_count": 3,
   "metadata": {},
   "outputs": [],
   "source": [
    "data_train = pd.read_excel(file_names[\"train\"], index_col=0).sample(frac=1, random_state=2023).reset_index()\n",
    "data_val = pd.read_excel(file_names[\"val\"], index_col=0).reset_index()\n",
    "data_test = pd.read_excel(file_names[\"test\"], index_col=0).reset_index()\n",
    "\n",
    "data_train[\"label\"] = data_train[\"Final decision\"].apply(lambda x: int(\"include\" in x.lower()))\n",
    "data_val[\"label\"] = data_val[\"Final decision\"].apply(lambda x: int(\"include\" in x.lower()))\n",
    "data_test[\"label\"] = data_test[\"Final decision\"].apply(lambda x: int(\"include\" in x.lower()))"
   ]
  },
  {
   "cell_type": "code",
   "execution_count": 4,
   "metadata": {},
   "outputs": [
    {
     "data": {
      "text/plain": [
       "<AxesSubplot: >"
      ]
     },
     "execution_count": 4,
     "metadata": {},
     "output_type": "execute_result"
    },
    {
     "data": {
      "image/png": "[encoded data removed]",
      "text/plain": [
       "<Figure size 640x480 with 1 Axes>"
      ]
     },
     "metadata": {},
     "output_type": "display_data"
    }
   ],
   "source": [
    "data_train[\"label\"].plot()"
   ]
  },
  {
   "cell_type": "code",
   "execution_count": 5,
   "metadata": {},
   "outputs": [],
   "source": [
    "lf_train = pd.read_excel(file_names[\"lf_train\"], index_col=0).reset_index()\n",
    "lf_val = pd.read_excel(file_names[\"lf_val\"], index_col=0).reset_index()\n",
    "lf_test = pd.read_excel(file_names[\"lf_test\"], index_col=0).reset_index()"
   ]
  },
  {
   "cell_type": "code",
   "execution_count": 6,
   "metadata": {},
   "outputs": [],
   "source": [
    "lf_train = lf_train.set_index(\"index\").loc[data_train[\"index\"]].reset_index()\n",
    "lf_test = lf_test.set_index(\"index\").loc[data_test[\"index\"]].reset_index()\n",
    "lf_val = lf_val.set_index(\"index\").loc[data_val[\"index\"]].reset_index()"
   ]
  },
  {
   "cell_type": "code",
   "execution_count": 7,
   "metadata": {},
   "outputs": [],
   "source": [
    "rel_cols = ['CH4',\n",
    " 'GHG',\n",
    " 'N2O',\n",
    " 'agricultural',\n",
    " 'agriculture',\n",
    " 'agroforestry',\n",
    " 'agroforestry systems',\n",
    " 'bio*',\n",
    " 'carbon',\n",
    " 'change',\n",
    " 'climate',\n",
    " 'conservation',\n",
    " 'conventional',\n",
    " 'cover',\n",
    " 'crop',\n",
    " 'economy',\n",
    " 'emission',\n",
    " 'emission*',\n",
    " 'emissions',\n",
    " 'experiment',\n",
    " 'fallow',\n",
    " 'farm',\n",
    " 'farms',\n",
    " 'gas',\n",
    " 'global warm*',\n",
    " 'greenhouse',\n",
    " 'higher',\n",
    " 'impact',\n",
    " 'impact of',\n",
    " 'increas*',\n",
    " 'integrate*',\n",
    " 'intensification',\n",
    " 'intercropping',\n",
    " 'intercropping systems',\n",
    " 'livestock',\n",
    " 'lower',\n",
    " 'methane',\n",
    " 'mitig*',\n",
    " 'model',\n",
    " 'net',\n",
    " 'nitr*',\n",
    " 'organic',\n",
    " 'potential',\n",
    " 'practices',\n",
    " 'productivity',\n",
    " 'rainfed',\n",
    " 'reduc*',\n",
    " 'rice',\n",
    " 'scenario',\n",
    " 'seasonal',\n",
    " 'significantly',\n",
    " 'social',\n",
    " 'soil',\n",
    " 'soils',\n",
    " 'soybean',\n",
    " 'storage',\n",
    " 'synthetic',\n",
    " 'system',\n",
    " 'systems',\n",
    " 'till',\n",
    " 'tillage',\n",
    " 'water']"
   ]
  },
  {
   "cell_type": "code",
   "execution_count": 8,
   "metadata": {},
   "outputs": [],
   "source": [
    "%%capture\n",
    "!pip install transformers\n",
    "!pip install datasets\n",
    "!pip install torch"
   ]
  },
  {
   "cell_type": "code",
   "execution_count": 9,
   "metadata": {},
   "outputs": [],
   "source": [
    "from transformers import BertTokenizer, BertModel\n",
    "import torch"
   ]
  },
  {
   "cell_type": "code",
   "execution_count": 10,
   "metadata": {},
   "outputs": [
    {
     "name": "stderr",
     "output_type": "stream",
     "text": [
      "Some weights of the model checkpoint at bert-base-cased were not used when initializing BertModel: ['cls.predictions.decoder.weight', 'cls.seq_relationship.bias', 'cls.predictions.bias', 'cls.seq_relationship.weight', 'cls.predictions.transform.LayerNorm.bias', 'cls.predictions.transform.dense.bias', 'cls.predictions.transform.LayerNorm.weight', 'cls.predictions.transform.dense.weight']\n",
      "- This IS expected if you are initializing BertModel from the checkpoint of a model trained on another task or with another architecture (e.g. initializing a BertForSequenceClassification model from a BertForPreTraining model).\n",
      "- This IS NOT expected if you are initializing BertModel from the checkpoint of a model that you expect to be exactly identical (initializing a BertForSequenceClassification model from a BertForSequenceClassification model).\n"
     ]
    }
   ],
   "source": [
    "model_name = \"bert-base-cased\"\n",
    "bert_model = BertModel.from_pretrained(model_name)\n",
    "bert_tokenizer = BertTokenizer.from_pretrained(model_name, do_lower_case=False)\n",
    "e = bert_model.eval()"
   ]
  },
  {
   "cell_type": "code",
   "execution_count": 11,
   "metadata": {},
   "outputs": [
    {
     "data": {
      "text/plain": [
       "(['[UNK]', '[SEP]', '[PAD]', '[CLS]', '[MASK]'], [100, 102, 0, 101, 103])"
      ]
     },
     "execution_count": 11,
     "metadata": {},
     "output_type": "execute_result"
    }
   ],
   "source": [
    "bert_tokenizer.all_special_tokens, bert_tokenizer.all_special_ids"
   ]
  },
  {
   "cell_type": "code",
   "execution_count": 12,
   "metadata": {},
   "outputs": [],
   "source": [
    "from torch.utils.data import Dataset\n",
    "class DatasetTaskDecision(Dataset):\n",
    "    def __init__(self, df, df_lf, maxlen_ab=510):\n",
    "        self.df = df\n",
    "        self.df_lf = df_lf\n",
    "        self.tokenizer = bert_tokenizer\n",
    "        self.maxlen_ab = maxlen_ab\n",
    "\n",
    "    def __len__(self):\n",
    "        return len(self.df)\n",
    "\n",
    "    def __getitem__(self, index):\n",
    "        sentence2 = str(self.df.loc[index, 'Abstract (AB)'])\n",
    "\n",
    "        label = int(self.df.loc[index, \"label\"])\n",
    "        \n",
    "        tokens2 = self.tokenizer.tokenize(sentence2) if len(sentence2)>0 else [\"[UNK]\"]\n",
    "\n",
    "        if len(tokens2) <= self.maxlen_ab:\n",
    "            tokens2 = tokens2 + ['[PAD]' for _ in range(self.maxlen_ab - len(tokens2))]\n",
    "        else:\n",
    "            tokens2 = tokens2[:self.maxlen_ab]\n",
    "    \n",
    "          \n",
    "        tokens = [\"[CLS]\"]+tokens2+[\"[SEP]\"]\n",
    "        tokens_ids = self.tokenizer.convert_tokens_to_ids(tokens)\n",
    "        tokens_ids_tensor = torch.tensor(tokens_ids)\n",
    "        attn_mask = (tokens_ids_tensor != 0).long() # [PAD] => 0\n",
    "        \n",
    "        lf_tensor = torch.tensor(self.df_lf.loc[index, :].values)\n",
    "\n",
    "        return lf_tensor, tokens_ids_tensor, attn_mask, label"
   ]
  },
  {
   "cell_type": "code",
   "execution_count": 13,
   "metadata": {},
   "outputs": [],
   "source": [
    "from torch.utils.data import DataLoader\n",
    "\n",
    "train_set = DatasetTaskDecision(df = data_train, df_lf = lf_train[rel_cols])\n",
    "val_set = DatasetTaskDecision(df = data_test, df_lf = lf_test[rel_cols])\n",
    "\n",
    "train_loader = DataLoader(train_set, batch_size = 16, num_workers = 2, shuffle=False)\n",
    "val_loader = DataLoader(val_set, batch_size = 16, num_workers = 2, shuffle=False)"
   ]
  },
  {
   "cell_type": "code",
   "execution_count": 15,
   "metadata": {},
   "outputs": [
    {
     "data": {
      "text/plain": [
       "62"
      ]
     },
     "execution_count": 15,
     "metadata": {},
     "output_type": "execute_result"
    }
   ],
   "source": [
    "len(rel_cols)"
   ]
  },
  {
   "cell_type": "code",
   "execution_count": 16,
   "metadata": {},
   "outputs": [],
   "source": [
    "import torch.nn as nn\n",
    "class DecisionClassifier(nn.Module):\n",
    "    def __init__(self):\n",
    "        super(DecisionClassifier, self).__init__()\n",
    "        torch.manual_seed(2023)\n",
    "        \n",
    "        self.bert_layer = BertModel.from_pretrained(model_name).cuda()\n",
    "        self.cls_layer = nn.Linear(768+62, 2).cuda()\n",
    "\n",
    "    def forward(self, lfs, seq, attn_masks):\n",
    "\n",
    "        cont_reps = self.bert_layer(seq, attention_mask=attn_masks)\n",
    "        \n",
    "        cls_rep = cont_reps.last_hidden_state[:, 0]\n",
    "        lfs = lfs.to(cls_rep.dtype)\n",
    "        cls_rep = torch.cat((lfs,cls_rep), 1)\n",
    "\n",
    "        logits = self.cls_layer(cls_rep)\n",
    "\n",
    "        return logits"
   ]
  },
  {
   "cell_type": "code",
   "execution_count": 17,
   "metadata": {},
   "outputs": [
    {
     "name": "stderr",
     "output_type": "stream",
     "text": [
      "Some weights of the model checkpoint at bert-base-cased were not used when initializing BertModel: ['cls.predictions.decoder.weight', 'cls.seq_relationship.bias', 'cls.predictions.bias', 'cls.seq_relationship.weight', 'cls.predictions.transform.LayerNorm.bias', 'cls.predictions.transform.dense.bias', 'cls.predictions.transform.LayerNorm.weight', 'cls.predictions.transform.dense.weight']\n",
      "- This IS expected if you are initializing BertModel from the checkpoint of a model trained on another task or with another architecture (e.g. initializing a BertForSequenceClassification model from a BertForPreTraining model).\n",
      "- This IS NOT expected if you are initializing BertModel from the checkpoint of a model that you expect to be exactly identical (initializing a BertForSequenceClassification model from a BertForSequenceClassification model).\n"
     ]
    }
   ],
   "source": [
    "import torch.optim as optim\n",
    "\n",
    "net = DecisionClassifier()\n",
    "\n",
    "weights = torch.tensor([1., 1.0114]) # 6.5])\n",
    "criterion = nn.CrossEntropyLoss(weight=weights, reduction='mean').cuda()\n",
    "\n",
    "opti = optim.Adam(net.parameters(), lr = 2e-5)"
   ]
  },
  {
   "cell_type": "code",
   "execution_count": 18,
   "metadata": {},
   "outputs": [],
   "source": [
    "def get_accuracy_from_logits(logits, labels):\n",
    "    probs = torch.sigmoid(logits)\n",
    "    soft_probs = probs.argmax(1)\n",
    "    acc = (soft_probs.squeeze() == labels).float().mean()\n",
    "    return acc\n",
    "    \n",
    "def evaluate(net, criterion, dataloader):\n",
    "    net.eval()\n",
    "    mean_acc, mean_loss = 0, 0\n",
    "    count = 0\n",
    "    with torch.no_grad():\n",
    "        for lfs, seq, attn_masks, labels in dataloader:\n",
    "            lfs, seq, attn_masks, labels = lfs.cuda(), seq.cuda(), attn_masks.cuda(), labels.cuda()\n",
    "            logits = net(lfs, seq, attn_masks)\n",
    "            mean_loss += criterion(logits, labels).item()\n",
    "            mean_acc += get_accuracy_from_logits(logits, labels)\n",
    "            count += 1\n",
    "\n",
    "    return mean_acc / count, mean_loss / count\n",
    "\n",
    "from sklearn.metrics import precision_recall_fscore_support\n",
    "from sklearn.metrics import classification_report\n",
    "\n",
    "def evaluate_precision_recall_fscore_support(net, dataloader):\n",
    "    net.eval()\n",
    "    preds = []\n",
    "    tests = []\n",
    "    with torch.no_grad():\n",
    "        for lfs, seq, attn_masks, labels in dataloader:\n",
    "            lfs, seq, attn_masks, labels = lfs.cuda(), seq.cuda(), attn_masks.cuda(), labels.cuda()\n",
    "            logits = net(lfs, seq, attn_masks)\n",
    "            probs = torch.sigmoid(logits)\n",
    "            # soft_probs = probs.argmax(1)\n",
    "            soft_probs = probs[:, 0] <0.5\n",
    "            preds += soft_probs.squeeze().tolist()\n",
    "            tests += labels.tolist()\n",
    "    return tests, preds"
   ]
  },
  {
   "cell_type": "code",
   "execution_count": 19,
   "metadata": {},
   "outputs": [],
   "source": [
    "def train(net, criterion, opti, train_loader, val_loader, epochs):\n",
    "    for ep in range(epochs):\n",
    "        for it, (lfs, seq, attn_masks, labels) in enumerate(train_loader):\n",
    "            opti.zero_grad()  \n",
    "\n",
    "            lfs, seq, attn_masks, labels = lfs.cuda(), seq.cuda(), attn_masks.cuda(), labels.cuda()\n",
    "\n",
    "            logits = net(lfs, seq, attn_masks)\n",
    "\n",
    "            loss = criterion(logits, labels)\n",
    "\n",
    "            loss.backward()\n",
    "\n",
    "            opti.step()\n",
    "\n",
    "            if (it + 1) % 100 == 0:\n",
    "                acc = get_accuracy_from_logits(logits, labels)\n",
    "                # tests, preds = evaluate_precision_recall_fscore_support(net, train_loader)\n",
    "                # print(classification_report(tests, preds))\n",
    "                print(\"Iteration {} of epoch {} complete. Loss : {} Train Accuracy : {}\".format(it+1, ep+1, loss.item(), acc))\n",
    "        val_acc, val_loss = evaluate(net, criterion, val_loader)\n",
    "        tests, preds = evaluate_precision_recall_fscore_support(net, val_loader)\n",
    "        print(classification_report(tests, preds, digits=4))\n",
    "        print(\"Epoch {} complete! Validation Accuracy : {}, Validation Loss : {}\".format(ep+1, val_acc, val_loss))"
   ]
  },
  {
   "cell_type": "code",
   "execution_count": 25,
   "metadata": {},
   "outputs": [
    {
     "name": "stdout",
     "output_type": "stream",
     "text": [
      "              precision    recall  f1-score   support\n",
      "\n",
      "           0     0.8636    0.5053    0.6376       188\n",
      "           1     0.6793    0.9292    0.7849       212\n",
      "\n",
      "    accuracy                         0.7300       400\n",
      "   macro avg     0.7715    0.7173    0.7112       400\n",
      "weighted avg     0.7659    0.7300    0.7156       400\n",
      "\n",
      "Epoch 1 complete! Validation Accuracy : 0.7224999666213989, Validation Loss : 1.1114261376857757\n"
     ]
    }
   ],
   "source": [
    "epochs = 5\n",
    "train(net, criterion, opti, train_loader, val_loader, epochs)"
   ]
  },
  {
   "cell_type": "code",
   "execution_count": 26,
   "metadata": {},
   "outputs": [],
   "source": [
    "from huggingface_hub import notebook_login"
   ]
  },
  {
   "cell_type": "code",
   "execution_count": 1,
   "metadata": {},
   "outputs": [],
   "source": [
    "notebook_login()"
   ]
  },
  {
   "cell_type": "code",
   "execution_count": 28,
   "metadata": {},
   "outputs": [],
   "source": [
    "!git config --global credential.helper store"
   ]
  },
  {
   "cell_type": "code",
   "execution_count": 1,
   "metadata": {},
   "outputs": [],
   "source": [
    "repo_name = \"bert_lf_abstract\"\n",
    "net.bert_layer.push_to_hub(repo_name)"
   ]
  },
  {
   "cell_type": "code",
   "execution_count": 2,
   "metadata": {},
   "outputs": [],
   "source": [
    "val_set.tokenizer.push_to_hub(repo_name)"
   ]
  },
  {
   "cell_type": "code",
   "execution_count": 32,
   "metadata": {},
   "outputs": [],
   "source": [
    "torch.save(net.cls_layer, \"cls_layer.torch\")"
   ]
  },
  {
   "cell_type": "code",
   "execution_count": 33,
   "metadata": {},
   "outputs": [],
   "source": [
    "from huggingface_hub import hf_hub_url, cached_download"
   ]
  },
  {
   "cell_type": "code",
   "execution_count": 3,
   "metadata": {},
   "outputs": [],
   "source": [
    "repo_name = \"bert_lf_abstract\"\n",
    "config_file_url = hf_hub_url(\"X/\"+repo_name, filename=\"cls_layer.torch\")\n",
    "value = cached_download(config_file_url)\n",
    "cls_layer = torch.load(value)"
   ]
  },
  {
   "cell_type": "code",
   "execution_count": 35,
   "metadata": {},
   "outputs": [
    {
     "data": {
      "application/vnd.jupyter.widget-view+json": {
       "model_id": "237d5a248af64b9ab7c4c2066634c2b0",
       "version_major": 2,
       "version_minor": 0
      },
      "text/plain": [
       "Downloading pytorch_model.bin:   0%|          | 0.00/433M [00:00<?, ?B/s]"
      ]
     },
     "metadata": {},
     "output_type": "display_data"
    }
   ],
   "source": [
    "bert_model = BertModel.from_pretrained(\"X/\"+repo_name).cuda()\n",
    "bert_tokenizer = BertTokenizer.from_pretrained(\"X/\"+repo_name, do_lower_case=False)\n",
    "e = bert_model.eval()"
   ]
  },
  {
   "cell_type": "code",
   "execution_count": 36,
   "metadata": {},
   "outputs": [],
   "source": [
    "def preproccesing(ab, maxlen=510):\n",
    "        sentence2 = str(ab)\n",
    "        tokens2 = bert_tokenizer.tokenize(sentence2) if len(sentence2)>0 else [\"[UNK]\"]\n",
    "\n",
    "        if len(tokens2) < maxlen:\n",
    "            tokens2 = tokens2 + ['[PAD]' for _ in range(maxlen - len(tokens2))]\n",
    "        else:\n",
    "            tokens2 = tokens2[:maxlen]\n",
    "          \n",
    "        tokens = [\"[CLS]\"]+tokens2+[\"[SEP]\"]\n",
    "        # tokens = [x for x in tokens if x!=\"[PAD]\"]\n",
    "        tokens_ids = bert_tokenizer.convert_tokens_to_ids(tokens)\n",
    "        tokens_ids_tensor = torch.tensor(tokens_ids)\n",
    "        attn_mask = (tokens_ids_tensor != 0).long() # [PAD] => 0\n",
    "\n",
    "        return tokens_ids_tensor.cuda(), attn_mask.cuda()"
   ]
  },
  {
   "cell_type": "code",
   "execution_count": 37,
   "metadata": {},
   "outputs": [],
   "source": [
    "def DecisionClassifier(lfs, ab):\n",
    "    tokens_ids_tensor, attn_mask = preproccesing(ab)\n",
    "    cont_reps = bert_model(tokens_ids_tensor.unsqueeze(0), attention_mask = attn_mask.unsqueeze(0))\n",
    "    cls_rep = cont_reps.last_hidden_state[:, 0]\n",
    "    lfs = torch.tensor(lfs).cuda()\n",
    "    lfs = lfs.to(cls_rep.dtype).unsqueeze(0)\n",
    "    cls_rep = torch.cat((lfs,cls_rep), 1)\n",
    "    logits = cls_layer(cls_rep)\n",
    "    probs = torch.sigmoid(logits)\n",
    "    return probs.detach().cpu().numpy()[0]"
   ]
  },
  {
   "cell_type": "code",
   "execution_count": 38,
   "metadata": {},
   "outputs": [
    {
     "name": "stdout",
     "output_type": "stream",
     "text": [
      "EXCLUDE Rising global energy needs and limited fossil fuel reserves have led to increased use of renewable energies. In Germany, this has entailed massive exploitation of agricultural biomass for biogas generation, associated with unsustainable farming practices. Organic agriculture not only reduces negative environmental impacts, organic farmers were also prime movers in anaerobic digestion (AD) in Germany. This study's aim was to identify the structure, development, and characteristics of biogas production associated with organic farming systems in order to estimate further development, as well as energetic and associated agronomic potentials. Surveys were conducted among organic farms with AD technology. 144 biogas plants could be included in the analysis. Total installed electrical capacity was 30.8 MWel, accounting for only 0.8% of the total installed electrical capacity in the German biogas sector. Recently, larger plant types (>250 kW(el)) with increased use of (also purchased) energy crops have emerged. Farmers noticed increases in yields (22% on average) and quality of cash crops in arable farming through integrated biogas production. In conclusion, although the share of AD in organic farming is relatively small it can provide various complementary socio-ecological benefits such as the enhancement of food output through digestate fertilization without additional need for land, while simultaneously reducing greenhouse gas emissions from livestock manures and soils. However, to achieve this eco-functional intensification, AD systems and their management have to be well adapted to farm size and production focus and based primarily on residue biomass.\n"
     ]
    },
    {
     "data": {
      "text/plain": [
       "array([0.97568226, 0.034503  ], dtype=float32)"
      ]
     },
     "execution_count": 38,
     "metadata": {},
     "output_type": "execute_result"
    }
   ],
   "source": [
    "i = 0\n",
    "ab = data_train.iloc[i][\"Abstract (AB)\"]\n",
    "lfs = lf_train.iloc[i][rel_cols]\n",
    "print(data_train.iloc[i][\"Final decision\"], ab)\n",
    "DecisionClassifier(lfs, ab)"
   ]
  },
  {
   "cell_type": "code",
   "execution_count": 39,
   "metadata": {},
   "outputs": [],
   "source": [
    "from sklearn.metrics import classification_report"
   ]
  },
  {
   "cell_type": "code",
   "execution_count": 36,
   "metadata": {},
   "outputs": [],
   "source": [
    "# %%time\n",
    "# y_pred = [ int(\n",
    "#     DecisionClassifier(\n",
    "#         ab=data_train.iloc[i][\"Abstract (AB)\"]\n",
    "#         )[0]<0.5) \n",
    "#     for i in range(data_train.shape[0])\n",
    "# ]\n",
    "# report = classification_report(data_train[\"label\"], y_pred, output_dict=True)\n",
    "# train_report = pd.DataFrame(report)\n",
    "# train_report"
   ]
  },
  {
   "cell_type": "code",
   "execution_count": 37,
   "metadata": {},
   "outputs": [],
   "source": [
    "# pickle.dump(y_pred, open(\"y_pred_train_beto_vanilla_abstract.pickle\", \"wb\"))"
   ]
  },
  {
   "cell_type": "code",
   "execution_count": 38,
   "metadata": {},
   "outputs": [],
   "source": [
    "# %%time\n",
    "# y_pred = [ int(\n",
    "#     DecisionClassifier(\n",
    "#         ab=data_val.iloc[i][\"Abstract (AB)\"]\n",
    "#         )[0]<0.5) \n",
    "#     for i in range(data_val.shape[0])\n",
    "# ]\n",
    "# report = classification_report(data_val[\"label\"], y_pred, output_dict=True)\n",
    "# val_report = pd.DataFrame(report)\n",
    "# val_report"
   ]
  },
  {
   "cell_type": "code",
   "execution_count": 39,
   "metadata": {},
   "outputs": [],
   "source": [
    "# pickle.dump(y_pred, open(\"y_pred_val_beto_vanilla_abstract.pickle\", \"wb\"))"
   ]
  },
  {
   "cell_type": "code",
   "execution_count": 40,
   "metadata": {},
   "outputs": [
    {
     "name": "stdout",
     "output_type": "stream",
     "text": [
      "CPU times: user 5.2 s, sys: 3.93 ms, total: 5.2 s\n",
      "Wall time: 5.2 s\n"
     ]
    },
    {
     "data": {
      "text/html": [
       "<div>\n",
       "<style scoped>\n",
       "    .dataframe tbody tr th:only-of-type {\n",
       "        vertical-align: middle;\n",
       "    }\n",
       "\n",
       "    .dataframe tbody tr th {\n",
       "        vertical-align: top;\n",
       "    }\n",
       "\n",
       "    .dataframe thead th {\n",
       "        text-align: right;\n",
       "    }\n",
       "</style>\n",
       "<table border=\"1\" class=\"dataframe\">\n",
       "  <thead>\n",
       "    <tr style=\"text-align: right;\">\n",
       "      <th></th>\n",
       "      <th>0</th>\n",
       "      <th>1</th>\n",
       "      <th>accuracy</th>\n",
       "      <th>macro avg</th>\n",
       "      <th>weighted avg</th>\n",
       "    </tr>\n",
       "  </thead>\n",
       "  <tbody>\n",
       "    <tr>\n",
       "      <th>precision</th>\n",
       "      <td>0.863636</td>\n",
       "      <td>0.679310</td>\n",
       "      <td>0.73</td>\n",
       "      <td>0.771473</td>\n",
       "      <td>0.765944</td>\n",
       "    </tr>\n",
       "    <tr>\n",
       "      <th>recall</th>\n",
       "      <td>0.505319</td>\n",
       "      <td>0.929245</td>\n",
       "      <td>0.73</td>\n",
       "      <td>0.717282</td>\n",
       "      <td>0.730000</td>\n",
       "    </tr>\n",
       "    <tr>\n",
       "      <th>f1-score</th>\n",
       "      <td>0.637584</td>\n",
       "      <td>0.784861</td>\n",
       "      <td>0.73</td>\n",
       "      <td>0.711222</td>\n",
       "      <td>0.715641</td>\n",
       "    </tr>\n",
       "    <tr>\n",
       "      <th>support</th>\n",
       "      <td>188.000000</td>\n",
       "      <td>212.000000</td>\n",
       "      <td>0.73</td>\n",
       "      <td>400.000000</td>\n",
       "      <td>400.000000</td>\n",
       "    </tr>\n",
       "  </tbody>\n",
       "</table>\n",
       "</div>"
      ],
      "text/plain": [
       "                    0           1  accuracy   macro avg  weighted avg\n",
       "precision    0.863636    0.679310      0.73    0.771473      0.765944\n",
       "recall       0.505319    0.929245      0.73    0.717282      0.730000\n",
       "f1-score     0.637584    0.784861      0.73    0.711222      0.715641\n",
       "support    188.000000  212.000000      0.73  400.000000    400.000000"
      ]
     },
     "execution_count": 40,
     "metadata": {},
     "output_type": "execute_result"
    }
   ],
   "source": [
    "%%time\n",
    "y_pred = [ int(\n",
    "    DecisionClassifier(\n",
    "        ab=data_test.iloc[i][\"Abstract (AB)\"],\n",
    "        lfs=lf_test.iloc[i][rel_cols]\n",
    "        )[0]<0.5) \n",
    "    for i in range(data_test.shape[0])\n",
    "]\n",
    "report = classification_report(data_test[\"label\"], y_pred, output_dict=True)\n",
    "test_report = pd.DataFrame(report)\n",
    "test_report"
   ]
  },
  {
   "cell_type": "code",
   "execution_count": 41,
   "metadata": {},
   "outputs": [
    {
     "name": "stdout",
     "output_type": "stream",
     "text": [
      "              precision    recall  f1-score   support\n",
      "\n",
      "           0     0.8636    0.5053    0.6376       188\n",
      "           1     0.6793    0.9292    0.7849       212\n",
      "\n",
      "    accuracy                         0.7300       400\n",
      "   macro avg     0.7715    0.7173    0.7112       400\n",
      "weighted avg     0.7659    0.7300    0.7156       400\n",
      "\n"
     ]
    }
   ],
   "source": [
    "print(classification_report(data_test[\"label\"], y_pred, digits=4))"
   ]
  },
  {
   "cell_type": "code",
   "execution_count": 42,
   "metadata": {},
   "outputs": [],
   "source": [
    "pickle.dump(y_pred, open(\"y_pred_test_beto_lf_abstract.pickle\", \"wb\"))"
   ]
  }
 ],
 "metadata": {
  "kernelspec": {
   "display_name": "Python 3 (ipykernel)",
   "language": "python",
   "name": "python3"
  },
  "language_info": {
   "codemirror_mode": {
    "name": "ipython",
    "version": 3
   },
   "file_extension": ".py",
   "mimetype": "text/x-python",
   "name": "python",
   "nbconvert_exporter": "python",
   "pygments_lexer": "ipython3",
   "version": "3.8.5"
  }
 },
 "nbformat": 4,
 "nbformat_minor": 2
}
