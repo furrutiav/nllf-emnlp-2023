{
 "cells": [
  {
   "cell_type": "code",
   "execution_count": 1,
   "metadata": {},
   "outputs": [],
   "source": [
    "%%capture\n",
    "from class_nllf_generation import NLLFGeneratorInAction"
   ]
  },
  {
   "cell_type": "markdown",
   "metadata": {},
   "source": [
    "# Plug and play"
   ]
  },
  {
   "cell_type": "markdown",
   "metadata": {},
   "source": [
    "Prepare generator"
   ]
  },
  {
   "cell_type": "code",
   "execution_count": 2,
   "metadata": {},
   "outputs": [],
   "source": [
    "%%capture\n",
    "generator = NLLFGeneratorInAction(\n",
    "    file_name_new_dict_bsqs = \"data/new_dict_bsqs.json\",    # File name of your JSON with new BSQs\n",
    "    maxlen_s = 489,                                         # Max. number of tokens for your tokenize text-to-classify\n",
    "    maxlen_bsq = 20,                                        # Max. number of tokens for your tokenize BSQs\n",
    "    username = \"<HF-USERNAME>\",                             # Hugging Face Username\n",
    "    repo_name = \"example_juke\",                             # Repo. name for your NLLF generator\n",
    "    file_name_data_train = \"data/data_train.xlsx\",          # File name of your .xlsx Training Dataset\n",
    "    file_name_data_val = \"data/data_val.xlsx\",              # File name of your .xlsx Validation Dataset\n",
    "    file_name_data_test = \"data/data_test.xlsx\",            # File name of your .xlsx Testing Dataset\n",
    "    sentence_col_name = \"abstract\"                          # Column name of your text-to-classify\n",
    ")"
   ]
  },
  {
   "cell_type": "markdown",
   "metadata": {},
   "source": [
    "Apply generator"
   ]
  },
  {
   "cell_type": "code",
   "execution_count": null,
   "metadata": {},
   "outputs": [],
   "source": [
    "%%capture\n",
    "generator.apply(\n",
    "    root_labels=\"02_labels\",    # Root folder to save the NLL (Natural Language Learned) features\n",
    "    verbose=True                # Print status\n",
    ")"
   ]
  },
  {
   "cell_type": "markdown",
   "metadata": {},
   "source": [
    "# Explore"
   ]
  },
  {
   "cell_type": "markdown",
   "metadata": {},
   "source": [
    "Show *.json of new binary-subtask-questions (bsqs)"
   ]
  },
  {
   "cell_type": "code",
   "execution_count": 5,
   "metadata": {},
   "outputs": [
    {
     "data": {
      "text/plain": [
       "{'q0': 'Does the article discuss agroecological practices?',\n",
       " 'q1': 'Does the article cover climate change mitigation?',\n",
       " 'q2': 'Does the article cover climate change adaptation?',\n",
       " 'q3': 'Does the article comprehensively cover climate change and environmental aspects?',\n",
       " 'q4': 'Does the article address greenhouse gas emissions?',\n",
       " 'q5': \"Does the article assess agroecological practices' impact on climate change?\",\n",
       " 'q6': 'Does the article provide relevance to stakeholders and farmers in the agricultural sector?',\n",
       " 'q7': 'Does the article address limitations, challenges, and potential risks?',\n",
       " 'q8': 'Does the article address policy implications?',\n",
       " 'q9': 'Does the article have a specific geographic focus?',\n",
       " 'q10': 'Does the article discuss the role of agroecology in enhancing climate resilience in agricultural systems?',\n",
       " 'q11': 'Does the article assess the impact of agroecology on nitrogen dynamics?',\n",
       " 'q12': 'Does the article discuss the impact of methane (CH4) emissions?'}"
      ]
     },
     "execution_count": 5,
     "metadata": {},
     "output_type": "execute_result"
    }
   ],
   "source": [
    "generator.new_dict_bsqs"
   ]
  },
  {
   "cell_type": "markdown",
   "metadata": {},
   "source": [
    "Show the generator in action"
   ]
  },
  {
   "cell_type": "code",
   "execution_count": 11,
   "metadata": {},
   "outputs": [
    {
     "name": "stdout",
     "output_type": "stream",
     "text": [
      "Abstract: In this study, we apply a whole farm bioeconomic analysis to explore the changes in land use, farm practices and on-farm greenhouse gas (GHG) emission under varying levels of agricultural greenhouse gas abatement incentives in the form of a carbon tax for a semi-arid crop-livestock farming system in China's Loess Plateau. Our results show that the optimised agricultural enterprises move towards being cropping-dominated reducing on-farm emission since livestock perform is the major source of emission. Farmers employ less oats-based and rapeseed-based rotations but more dry pea-based rotations in the optimal enterprise mix. A substantial reduction in on-farm greenhouse gas emission can be achieved at low cost with a small increase in carbon incentives. Our estimates indicate that crop-livestock farmers in China's Loess Plateau may reduce their on-farm GHG emission between 16.6 and 33 per cent with marginal abatement costs <100/t CO(2)e and 150/t CO(2)e in 2015 Chinese Yuan. The analysis implies that reducing greenhouse gas emission in China's semi-arid crop-livestock agriculture is potentially a low-cost option.\n",
      "No: 0.031662676\n",
      "Yes: 0.9785034\n"
     ]
    }
   ],
   "source": [
    "sen = generator.data_train.iloc[0][\"abstract\"]\n",
    "print(\"Abstract:\", sen)\n",
    "b = \"Does the article address greenhouse gas emissions?\"\n",
    "o = generator.decisionClassifier(sen, b)\n",
    "print(\"No:\", o[0])\n",
    "print(\"Yes:\", o[1])"
   ]
  }
 ],
 "metadata": {
  "kernelspec": {
   "display_name": "net",
   "language": "python",
   "name": "python3"
  },
  "language_info": {
   "codemirror_mode": {
    "name": "ipython",
    "version": 3
   },
   "file_extension": ".py",
   "mimetype": "text/x-python",
   "name": "python",
   "nbconvert_exporter": "python",
   "pygments_lexer": "ipython3",
   "version": "3.10.8"
  },
  "orig_nbformat": 4
 },
 "nbformat": 4,
 "nbformat_minor": 2
}
