{
 "cells": [
  {
   "cell_type": "code",
   "execution_count": 1,
   "metadata": {},
   "outputs": [
    {
     "name": "stdout",
     "output_type": "stream",
     "text": [
      "torch.cuda.is_available()\n",
      "True\n"
     ]
    }
   ],
   "source": [
    "from class_nllf_generation import NLLFGeneratorInAction, pd"
   ]
  },
  {
   "cell_type": "markdown",
   "metadata": {},
   "source": [
    "Prepare new bsqs"
   ]
  },
  {
   "cell_type": "code",
   "execution_count": 2,
   "metadata": {},
   "outputs": [],
   "source": [
    "bsqs = [\n",
    "    \"Does the article discuss agroecological practices?\",\n",
    "    \"Does the article cover climate change mitigation?\",\n",
    "    \"Does the article cover climate change adaptation?\",\n",
    "    \"Does the article comprehensively cover climate change and environmental aspects?\",\n",
    "    \"Does the article address greenhouse gas emissions?\",\n",
    "    \"Does the article assess agroecological practices' impact on climate change?\",\n",
    "    \"Does the article provide relevance to stakeholders and farmers in the agricultural sector?\",\n",
    "    \"Does the article address limitations, challenges, and potential risks?\",\n",
    "    \"Does the article address policy implications?\",\n",
    "    \"Does the article have a specific geographic focus?\",\n",
    "    # new bsqs\n",
    "    \"Does the article discuss the role of agroecology in enhancing climate resilience in agricultural systems?\",\n",
    "    \"Does the article assess the impact of agroecology on nitrogen dynamics?\",\n",
    "    \"Does the article discuss the impact of methane (CH4) emissions?\"\n",
    "]\n",
    "\n",
    "dict_bsqs = {f\"q{i}\": bsq for i, bsq in enumerate(bsqs)}"
   ]
  },
  {
   "cell_type": "markdown",
   "metadata": {},
   "source": [
    "Load data"
   ]
  },
  {
   "cell_type": "code",
   "execution_count": 3,
   "metadata": {},
   "outputs": [],
   "source": [
    "data_train = pd.read_excel(\"data/data_train.xlsx\", index_col=0)\n",
    "data_val = pd.read_excel(\"data/data_val.xlsx\", index_col=0)\n",
    "data_test = pd.read_excel(\"data/data_test.xlsx\", index_col=0)"
   ]
  },
  {
   "cell_type": "markdown",
   "metadata": {},
   "source": [
    "Prepare generator"
   ]
  },
  {
   "cell_type": "code",
   "execution_count": 5,
   "metadata": {},
   "outputs": [
    {
     "name": "stderr",
     "output_type": "stream",
     "text": [
      "/home/furrutia/anaconda3/envs/net/lib/python3.10/site-packages/huggingface_hub/file_download.py:637: FutureWarning: `cached_download` is the legacy way to download files from the HF hub, please consider upgrading to `hf_hub_download`\n",
      "  warnings.warn(\n"
     ]
    }
   ],
   "source": [
    "%%capture\n",
    "generator = NLLFGeneratorInAction(\n",
    "    new_dict_bsqs = dict_bsqs,\n",
    "    maxlen_s = 489, \n",
    "    maxlen_bsq = 20, \n",
    "    hf_username = \"<HF-USERNAME>\", \n",
    "    repo_name = \"example_juke\", \n",
    "    data_train = data_train, \n",
    "    data_val = data_val, \n",
    "    data_test = data_test,\n",
    "    sentence_col_name = \"abstract\"\n",
    ")"
   ]
  },
  {
   "cell_type": "markdown",
   "metadata": {},
   "source": [
    "Apply generator"
   ]
  },
  {
   "cell_type": "code",
   "execution_count": 6,
   "metadata": {},
   "outputs": [
    {
     "name": "stdout",
     "output_type": "stream",
     "text": [
      "[train] ChatGPT question: q0\n",
      "[test] ChatGPT question: q0\n",
      "[dev] ChatGPT question: q0\n",
      "[train] ChatGPT question: q1\n",
      "[test] ChatGPT question: q1\n",
      "[dev] ChatGPT question: q1\n",
      "[train] ChatGPT question: q2\n",
      "[test] ChatGPT question: q2\n",
      "[dev] ChatGPT question: q2\n",
      "[train] ChatGPT question: q3\n",
      "[test] ChatGPT question: q3\n",
      "[dev] ChatGPT question: q3\n",
      "[train] ChatGPT question: q4\n",
      "[test] ChatGPT question: q4\n",
      "[dev] ChatGPT question: q4\n",
      "[train] ChatGPT question: q5\n",
      "[test] ChatGPT question: q5\n",
      "[dev] ChatGPT question: q5\n",
      "[train] ChatGPT question: q6\n",
      "[test] ChatGPT question: q6\n",
      "[dev] ChatGPT question: q6\n",
      "[train] ChatGPT question: q7\n",
      "[test] ChatGPT question: q7\n",
      "[dev] ChatGPT question: q7\n",
      "[train] ChatGPT question: q8\n",
      "[test] ChatGPT question: q8\n",
      "[dev] ChatGPT question: q8\n",
      "[train] ChatGPT question: q9\n",
      "[test] ChatGPT question: q9\n",
      "[dev] ChatGPT question: q9\n",
      "[train] ChatGPT question: q10\n",
      "[test] ChatGPT question: q10\n",
      "[dev] ChatGPT question: q10\n",
      "[train] ChatGPT question: q11\n",
      "[test] ChatGPT question: q11\n",
      "[dev] ChatGPT question: q11\n",
      "[train] ChatGPT question: q12\n",
      "[test] ChatGPT question: q12\n",
      "[dev] ChatGPT question: q12\n",
      "02_labels/train_nllf_q4.xlsx\n",
      "02_labels/train_nllf_q10.xlsx\n",
      "02_labels/train_nllf_q12.xlsx\n",
      "02_labels/train_nllf_q0.xlsx\n",
      "02_labels/train_nllf_q8.xlsx\n",
      "02_labels/train_nllf_q7.xlsx\n",
      "02_labels/train_nllf_q3.xlsx\n",
      "02_labels/train_nllf_q6.xlsx\n",
      "02_labels/train_nllf_q5.xlsx\n",
      "02_labels/train_nllf_q11.xlsx\n",
      "02_labels/train_nllf_q2.xlsx\n",
      "02_labels/train_nllf_q1.xlsx\n",
      "02_labels/val_nllf_q11.xlsx\n",
      "02_labels/val_nllf_q5.xlsx\n",
      "02_labels/val_nllf_q10.xlsx\n",
      "02_labels/val_nllf_q3.xlsx\n",
      "02_labels/val_nllf_q0.xlsx\n",
      "02_labels/val_nllf_q6.xlsx\n",
      "02_labels/val_nllf_q4.xlsx\n",
      "02_labels/val_nllf_q12.xlsx\n",
      "02_labels/val_nllf_q2.xlsx\n",
      "02_labels/val_nllf_q9.xlsx\n",
      "02_labels/val_nllf_q7.xlsx\n",
      "02_labels/val_nllf_q8.xlsx\n",
      "02_labels/test_nllf_q4.xlsx\n",
      "02_labels/test_nllf_q9.xlsx\n",
      "02_labels/test_nllf_q12.xlsx\n",
      "02_labels/test_nllf_q10.xlsx\n",
      "02_labels/test_nllf_q2.xlsx\n",
      "02_labels/test_nllf_q11.xlsx\n",
      "02_labels/test_nllf_q7.xlsx\n",
      "02_labels/test_nllf_q0.xlsx\n",
      "02_labels/test_nllf_q1.xlsx\n",
      "02_labels/test_nllf_q3.xlsx\n",
      "02_labels/test_nllf_q5.xlsx\n",
      "02_labels/test_nllf_q8.xlsx\n"
     ]
    }
   ],
   "source": [
    "generator.apply(\n",
    "    root_labels=\"02_labels\",\n",
    "    verbose=True\n",
    ")"
   ]
  }
 ],
 "metadata": {
  "kernelspec": {
   "display_name": "net",
   "language": "python",
   "name": "python3"
  },
  "language_info": {
   "codemirror_mode": {
    "name": "ipython",
    "version": 3
   },
   "file_extension": ".py",
   "mimetype": "text/x-python",
   "name": "python",
   "nbconvert_exporter": "python",
   "pygments_lexer": "ipython3",
   "version": "3.10.8"
  },
  "orig_nbformat": 4
 },
 "nbformat": 4,
 "nbformat_minor": 2
}
