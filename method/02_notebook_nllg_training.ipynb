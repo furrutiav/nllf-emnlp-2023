{
 "cells": [
  {
   "cell_type": "code",
   "execution_count": 1,
   "metadata": {},
   "outputs": [
    {
     "name": "stdout",
     "output_type": "stream",
     "text": [
      "torch.cuda.is_available()\n",
      "True\n"
     ]
    }
   ],
   "source": [
    "from class_nllfg_training import NLLFGeneratorTraining"
   ]
  },
  {
   "cell_type": "markdown",
   "metadata": {},
   "source": [
    "Prepare bsqs"
   ]
  },
  {
   "cell_type": "code",
   "execution_count": 2,
   "metadata": {},
   "outputs": [],
   "source": [
    "bsqs = [\n",
    "    \"Does the abstract discuss agroecological practices?\",\n",
    "    \"Does the abstract cover climate change mitigation?\",\n",
    "    \"Does the abstract cover climate change adaptation?\",\n",
    "    \"Does the abstract comprehensively cover climate change and environmental aspects?\",\n",
    "    \"Does the abstract address greenhouse gas emissions?\",\n",
    "    \"Does the abstract assess agroecological practices' impact on climate change?\",\n",
    "    \"Does the abstract provide relevance to stakeholders and farmers in the agricultural sector?\",\n",
    "    \"Does the abstract address limitations, challenges, and potential risks?\",\n",
    "    \"Does the abstract address policy implications?\",\n",
    "    \"Does the abstract have a specific geographic focus?\",\n",
    "]\n",
    "\n",
    "dict_bsqs = {f\"q{i}\": bsq for i, bsq in enumerate(bsqs)}"
   ]
  },
  {
   "cell_type": "markdown",
   "metadata": {},
   "source": [
    "Create training"
   ]
  },
  {
   "cell_type": "code",
   "execution_count": 4,
   "metadata": {},
   "outputs": [],
   "source": [
    "training = NLLFGeneratorTraining(\n",
    "    dict_bsqs = dict_bsqs, \n",
    "    root_labels = \"01_labels\", \n",
    "    sentence_col_name = \"abstract\", \n",
    "    model_name = \"bert-base-uncased\",\n",
    "    maxlen_s=489,\n",
    "    maxlen_bsq=20\n",
    ")"
   ]
  },
  {
   "cell_type": "markdown",
   "metadata": {},
   "source": [
    "Train the generator"
   ]
  },
  {
   "cell_type": "code",
   "execution_count": 5,
   "metadata": {},
   "outputs": [
    {
     "name": "stderr",
     "output_type": "stream",
     "text": [
      "Some weights of the model checkpoint at bert-base-uncased were not used when initializing BertModel: ['cls.predictions.transform.LayerNorm.weight', 'cls.predictions.bias', 'cls.predictions.transform.dense.bias', 'cls.predictions.decoder.weight', 'cls.predictions.transform.LayerNorm.bias', 'cls.seq_relationship.weight', 'cls.predictions.transform.dense.weight', 'cls.seq_relationship.bias']\n",
      "- This IS expected if you are initializing BertModel from the checkpoint of a model trained on another task or with another architecture (e.g. initializing a BertForSequenceClassification model from a BertForPreTraining model).\n",
      "- This IS NOT expected if you are initializing BertModel from the checkpoint of a model that you expect to be exactly identical (initializing a BertForSequenceClassification model from a BertForSequenceClassification model).\n"
     ]
    },
    {
     "name": "stdout",
     "output_type": "stream",
     "text": [
      "              precision    recall  f1-score   support\n",
      "\n",
      "           0     0.0000    0.0000    0.0000        20\n",
      "           1     0.8000    1.0000    0.8889        80\n",
      "\n",
      "    accuracy                         0.8000       100\n",
      "   macro avg     0.4000    0.5000    0.4444       100\n",
      "weighted avg     0.6400    0.8000    0.7111       100\n",
      "\n",
      "Epoch 1 complete! Validation Accuracy : 0.7890625, Validation Loss : 0.5304460227489471\n"
     ]
    },
    {
     "name": "stderr",
     "output_type": "stream",
     "text": [
      "/home/furrutia/anaconda3/envs/net/lib/python3.10/site-packages/sklearn/metrics/_classification.py:1327: UndefinedMetricWarning: Precision and F-score are ill-defined and being set to 0.0 in labels with no predicted samples. Use `zero_division` parameter to control this behavior.\n",
      "  _warn_prf(average, modifier, msg_start, len(result))\n",
      "/home/furrutia/anaconda3/envs/net/lib/python3.10/site-packages/sklearn/metrics/_classification.py:1327: UndefinedMetricWarning: Precision and F-score are ill-defined and being set to 0.0 in labels with no predicted samples. Use `zero_division` parameter to control this behavior.\n",
      "  _warn_prf(average, modifier, msg_start, len(result))\n",
      "/home/furrutia/anaconda3/envs/net/lib/python3.10/site-packages/sklearn/metrics/_classification.py:1327: UndefinedMetricWarning: Precision and F-score are ill-defined and being set to 0.0 in labels with no predicted samples. Use `zero_division` parameter to control this behavior.\n",
      "  _warn_prf(average, modifier, msg_start, len(result))\n"
     ]
    },
    {
     "name": "stdout",
     "output_type": "stream",
     "text": [
      "              precision    recall  f1-score   support\n",
      "\n",
      "           0     0.8000    0.4000    0.5333        20\n",
      "           1     0.8667    0.9750    0.9176        80\n",
      "\n",
      "    accuracy                         0.8600       100\n",
      "   macro avg     0.8333    0.6875    0.7255       100\n",
      "weighted avg     0.8533    0.8600    0.8408       100\n",
      "\n",
      "Epoch 2 complete! Validation Accuracy : 0.8359375, Validation Loss : 0.4162459559738636\n",
      "              precision    recall  f1-score   support\n",
      "\n",
      "           0     0.6471    0.5500    0.5946        20\n",
      "           1     0.8916    0.9250    0.9080        80\n",
      "\n",
      "    accuracy                         0.8500       100\n",
      "   macro avg     0.7693    0.7375    0.7513       100\n",
      "weighted avg     0.8427    0.8500    0.8453       100\n",
      "\n",
      "Epoch 3 complete! Validation Accuracy : 0.828125, Validation Loss : 0.406436562538147\n",
      "              precision    recall  f1-score   support\n",
      "\n",
      "           0     0.7143    0.5000    0.5882        20\n",
      "           1     0.8837    0.9500    0.9157        80\n",
      "\n",
      "    accuracy                         0.8600       100\n",
      "   macro avg     0.7990    0.7250    0.7519       100\n",
      "weighted avg     0.8498    0.8600    0.8502       100\n",
      "\n",
      "Epoch 4 complete! Validation Accuracy : 0.7734375, Validation Loss : 0.3963366709649563\n",
      "              precision    recall  f1-score   support\n",
      "\n",
      "           0     0.6000    0.6000    0.6000        20\n",
      "           1     0.9000    0.9000    0.9000        80\n",
      "\n",
      "    accuracy                         0.8400       100\n",
      "   macro avg     0.7500    0.7500    0.7500       100\n",
      "weighted avg     0.8400    0.8400    0.8400       100\n",
      "\n",
      "Epoch 5 complete! Validation Accuracy : 0.84375, Validation Loss : 0.4566160514950752\n"
     ]
    }
   ],
   "source": [
    "training.train(epochs=5, verbose=True)"
   ]
  },
  {
   "cell_type": "markdown",
   "metadata": {},
   "source": [
    "Save trained model"
   ]
  },
  {
   "cell_type": "code",
   "execution_count": 8,
   "metadata": {},
   "outputs": [
    {
     "name": "stdout",
     "output_type": "stream",
     "text": [
      "Token will not been saved to git credential helper. Pass `add_to_git_credential=True` if you want to set the git credential as well.\n"
     ]
    },
    {
     "name": "stdout",
     "output_type": "stream",
     "text": [
      "Token is valid.\n",
      "Your token has been saved to /home/furrutia/.cache/huggingface/token\n",
      "Login successful\n"
     ]
    }
   ],
   "source": [
    "training.save(\n",
    "    hf_token = \"<HF-TOKEN>\",  # https://huggingface.co/settings/tokens\n",
    "    repo_name = \"example_juke\"\n",
    ")"
   ]
  }
 ],
 "metadata": {
  "kernelspec": {
   "display_name": "Python 3",
   "language": "python",
   "name": "python3"
  },
  "language_info": {
   "codemirror_mode": {
    "name": "ipython",
    "version": 3
   },
   "file_extension": ".py",
   "mimetype": "text/x-python",
   "name": "python",
   "nbconvert_exporter": "python",
   "pygments_lexer": "ipython3",
   "version": "3.10.8"
  },
  "orig_nbformat": 4
 },
 "nbformat": 4,
 "nbformat_minor": 2
}
