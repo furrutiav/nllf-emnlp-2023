{
 "cells": [
  {
   "cell_type": "code",
   "execution_count": 2,
   "metadata": {},
   "outputs": [],
   "source": [
    "%%capture\n",
    "from class_nllfg_training import NLLFGeneratorTraining"
   ]
  },
  {
   "cell_type": "markdown",
   "metadata": {},
   "source": [
    "# Plug and play"
   ]
  },
  {
   "cell_type": "markdown",
   "metadata": {},
   "source": [
    "Create training"
   ]
  },
  {
   "cell_type": "code",
   "execution_count": 3,
   "metadata": {},
   "outputs": [],
   "source": [
    "training = NLLFGeneratorTraining(\n",
    "    file_name_dict_bsqs = \"data/dict_bsqs.json\",    # File name of your JSON with BSQs\n",
    "    root_labels = \"01_labels\",                      # Root folder of the weak-labels\n",
    "    sentence_col_name = \"abstract\",                 # Column name of your text-to-classify\n",
    "    model_name = \"bert-base-uncased\",               # Base model name for your NLLF generator (This version: Only for BERT models from HuggingFace)\n",
    "    maxlen_s=489,                                   # Max. number of tokens for your tokenize text-to-classify\n",
    "    maxlen_bsq=20,                                  # Max. number of tokens for your tokenize BSQs\n",
    "    batch_size=8                                    # Batch size for the training\n",
    ")"
   ]
  },
  {
   "cell_type": "markdown",
   "metadata": {},
   "source": [
    "Train the generator"
   ]
  },
  {
   "cell_type": "code",
   "execution_count": 4,
   "metadata": {},
   "outputs": [
    {
     "name": "stdout",
     "output_type": "stream",
     "text": [
      "              precision    recall  f1-score   support\n",
      "\n",
      "           0     0.5882    0.5000    0.5405        20\n",
      "           1     0.8795    0.9125    0.8957        80\n",
      "\n",
      "    accuracy                         0.8300       100\n",
      "   macro avg     0.7339    0.7063    0.7181       100\n",
      "weighted avg     0.8213    0.8300    0.8247       100\n",
      "\n",
      "Epoch 1 complete! Validation Accuracy : 0.826923131942749, Validation Loss : 0.45770772661154085\n",
      "              precision    recall  f1-score   support\n",
      "\n",
      "           0     0.5882    0.5000    0.5405        20\n",
      "           1     0.8795    0.9125    0.8957        80\n",
      "\n",
      "    accuracy                         0.8300       100\n",
      "   macro avg     0.7339    0.7063    0.7181       100\n",
      "weighted avg     0.8213    0.8300    0.8247       100\n",
      "\n",
      "Epoch 2 complete! Validation Accuracy : 0.826923131942749, Validation Loss : 0.4239254667638586\n",
      "              precision    recall  f1-score   support\n",
      "\n",
      "           0     0.6250    0.5000    0.5556        20\n",
      "           1     0.8810    0.9250    0.9024        80\n",
      "\n",
      "    accuracy                         0.8400       100\n",
      "   macro avg     0.7530    0.7125    0.7290       100\n",
      "weighted avg     0.8298    0.8400    0.8331       100\n",
      "\n",
      "Epoch 3 complete! Validation Accuracy : 0.8461538553237915, Validation Loss : 0.3503935034118163\n",
      "              precision    recall  f1-score   support\n",
      "\n",
      "           0     0.5417    0.6500    0.5909        20\n",
      "           1     0.9079    0.8625    0.8846        80\n",
      "\n",
      "    accuracy                         0.8200       100\n",
      "   macro avg     0.7248    0.7563    0.7378       100\n",
      "weighted avg     0.8346    0.8200    0.8259       100\n",
      "\n",
      "Epoch 4 complete! Validation Accuracy : 0.817307710647583, Validation Loss : 0.4247548217401625\n",
      "              precision    recall  f1-score   support\n",
      "\n",
      "           0     0.5652    0.6500    0.6047        20\n",
      "           1     0.9091    0.8750    0.8917        80\n",
      "\n",
      "    accuracy                         0.8300       100\n",
      "   macro avg     0.7372    0.7625    0.7482       100\n",
      "weighted avg     0.8403    0.8300    0.8343       100\n",
      "\n",
      "Epoch 5 complete! Validation Accuracy : 0.8365384936332703, Validation Loss : 0.3779322493310946\n"
     ]
    }
   ],
   "source": [
    "training.train(\n",
    "    epochs=5,       # Number of epochs for the training\n",
    "    lr=2e-5,        # Learning rate for the training\n",
    "    verbose=True    # Print status\n",
    ")"
   ]
  },
  {
   "cell_type": "markdown",
   "metadata": {},
   "source": [
    "Save trained model"
   ]
  },
  {
   "cell_type": "code",
   "execution_count": 5,
   "metadata": {},
   "outputs": [],
   "source": [
    "%%capture\n",
    "training.save(\n",
    "    hf_token = \"<HF-TOKEN>\",    # Hugging Face User Access Token: https://huggingface.co/settings/tokens\n",
    "    repo_name = \"example_juke\", # Repo. name for your NLLF generator\n",
    "    username= \"<HF-USERNAME>\"   # Hugging Face Username\n",
    ")"
   ]
  },
  {
   "cell_type": "markdown",
   "metadata": {},
   "source": [
    "# Explore"
   ]
  },
  {
   "cell_type": "markdown",
   "metadata": {},
   "source": [
    "Show training dataset for the NLLF generator made with weak-labels"
   ]
  },
  {
   "cell_type": "code",
   "execution_count": 6,
   "metadata": {},
   "outputs": [
    {
     "data": {
      "text/html": [
       "<div>\n",
       "<style scoped>\n",
       "    .dataframe tbody tr th:only-of-type {\n",
       "        vertical-align: middle;\n",
       "    }\n",
       "\n",
       "    .dataframe tbody tr th {\n",
       "        vertical-align: top;\n",
       "    }\n",
       "\n",
       "    .dataframe thead th {\n",
       "        text-align: right;\n",
       "    }\n",
       "</style>\n",
       "<table border=\"1\" class=\"dataframe\">\n",
       "  <thead>\n",
       "    <tr style=\"text-align: right;\">\n",
       "      <th></th>\n",
       "      <th>abstract</th>\n",
       "      <th>bsq</th>\n",
       "      <th>label_bsq</th>\n",
       "    </tr>\n",
       "  </thead>\n",
       "  <tbody>\n",
       "    <tr>\n",
       "      <th>0</th>\n",
       "      <td>Iran is considered one of the most polluted co...</td>\n",
       "      <td>Does the abstract discuss agroecological pract...</td>\n",
       "      <td>0</td>\n",
       "    </tr>\n",
       "    <tr>\n",
       "      <th>1</th>\n",
       "      <td>Agricultural practices contribute to emissions...</td>\n",
       "      <td>Does the abstract discuss agroecological pract...</td>\n",
       "      <td>0</td>\n",
       "    </tr>\n",
       "    <tr>\n",
       "      <th>2</th>\n",
       "      <td>Agriculture is a source for three primary gree...</td>\n",
       "      <td>Does the abstract discuss agroecological pract...</td>\n",
       "      <td>1</td>\n",
       "    </tr>\n",
       "    <tr>\n",
       "      <th>3</th>\n",
       "      <td>Adopting Regenerative Agriculture (RA) practic...</td>\n",
       "      <td>Does the abstract discuss agroecological pract...</td>\n",
       "      <td>1</td>\n",
       "    </tr>\n",
       "    <tr>\n",
       "      <th>4</th>\n",
       "      <td>Agroforestry has a potentially important role ...</td>\n",
       "      <td>Does the abstract discuss agroecological pract...</td>\n",
       "      <td>1</td>\n",
       "    </tr>\n",
       "    <tr>\n",
       "      <th>...</th>\n",
       "      <td>...</td>\n",
       "      <td>...</td>\n",
       "      <td>...</td>\n",
       "    </tr>\n",
       "    <tr>\n",
       "      <th>995</th>\n",
       "      <td>Determining appropriate farming management pra...</td>\n",
       "      <td>Does the abstract have a specific geographic f...</td>\n",
       "      <td>1</td>\n",
       "    </tr>\n",
       "    <tr>\n",
       "      <th>996</th>\n",
       "      <td>In the Mediterranean Basin, sheep meat product...</td>\n",
       "      <td>Does the abstract have a specific geographic f...</td>\n",
       "      <td>1</td>\n",
       "    </tr>\n",
       "    <tr>\n",
       "      <th>997</th>\n",
       "      <td>Grain production is a key source of food globa...</td>\n",
       "      <td>Does the abstract have a specific geographic f...</td>\n",
       "      <td>1</td>\n",
       "    </tr>\n",
       "    <tr>\n",
       "      <th>998</th>\n",
       "      <td>Agroforestry systems (AFS) contribute to carbo...</td>\n",
       "      <td>Does the abstract have a specific geographic f...</td>\n",
       "      <td>1</td>\n",
       "    </tr>\n",
       "    <tr>\n",
       "      <th>999</th>\n",
       "      <td>The Earth's climate is rapidly changing largel...</td>\n",
       "      <td>Does the abstract have a specific geographic f...</td>\n",
       "      <td>1</td>\n",
       "    </tr>\n",
       "  </tbody>\n",
       "</table>\n",
       "<p>1000 rows × 3 columns</p>\n",
       "</div>"
      ],
      "text/plain": [
       "                                              abstract  \\\n",
       "0    Iran is considered one of the most polluted co...   \n",
       "1    Agricultural practices contribute to emissions...   \n",
       "2    Agriculture is a source for three primary gree...   \n",
       "3    Adopting Regenerative Agriculture (RA) practic...   \n",
       "4    Agroforestry has a potentially important role ...   \n",
       "..                                                 ...   \n",
       "995  Determining appropriate farming management pra...   \n",
       "996  In the Mediterranean Basin, sheep meat product...   \n",
       "997  Grain production is a key source of food globa...   \n",
       "998  Agroforestry systems (AFS) contribute to carbo...   \n",
       "999  The Earth's climate is rapidly changing largel...   \n",
       "\n",
       "                                                   bsq  label_bsq  \n",
       "0    Does the abstract discuss agroecological pract...          0  \n",
       "1    Does the abstract discuss agroecological pract...          0  \n",
       "2    Does the abstract discuss agroecological pract...          1  \n",
       "3    Does the abstract discuss agroecological pract...          1  \n",
       "4    Does the abstract discuss agroecological pract...          1  \n",
       "..                                                 ...        ...  \n",
       "995  Does the abstract have a specific geographic f...          1  \n",
       "996  Does the abstract have a specific geographic f...          1  \n",
       "997  Does the abstract have a specific geographic f...          1  \n",
       "998  Does the abstract have a specific geographic f...          1  \n",
       "999  Does the abstract have a specific geographic f...          1  \n",
       "\n",
       "[1000 rows x 3 columns]"
      ]
     },
     "execution_count": 6,
     "metadata": {},
     "output_type": "execute_result"
    }
   ],
   "source": [
    "training.dataset"
   ]
  }
 ],
 "metadata": {
  "kernelspec": {
   "display_name": "Python 3",
   "language": "python",
   "name": "python3"
  },
  "language_info": {
   "codemirror_mode": {
    "name": "ipython",
    "version": 3
   },
   "file_extension": ".py",
   "mimetype": "text/x-python",
   "name": "python",
   "nbconvert_exporter": "python",
   "pygments_lexer": "ipython3",
   "version": "3.10.8"
  },
  "orig_nbformat": 4
 },
 "nbformat": 4,
 "nbformat_minor": 2
}
