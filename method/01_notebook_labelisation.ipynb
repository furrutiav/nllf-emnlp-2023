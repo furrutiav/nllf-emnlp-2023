{
 "cells": [
  {
   "cell_type": "code",
   "execution_count": 1,
   "metadata": {},
   "outputs": [],
   "source": [
    "from class_sub_task_labelisation import SubTaskLabelisator, pd"
   ]
  },
  {
   "cell_type": "markdown",
   "metadata": {},
   "source": [
    "Load data_train"
   ]
  },
  {
   "cell_type": "code",
   "execution_count": 2,
   "metadata": {},
   "outputs": [
    {
     "data": {
      "text/html": [
       "<div>\n",
       "<style scoped>\n",
       "    .dataframe tbody tr th:only-of-type {\n",
       "        vertical-align: middle;\n",
       "    }\n",
       "\n",
       "    .dataframe tbody tr th {\n",
       "        vertical-align: top;\n",
       "    }\n",
       "\n",
       "    .dataframe thead th {\n",
       "        text-align: right;\n",
       "    }\n",
       "</style>\n",
       "<table border=\"1\" class=\"dataframe\">\n",
       "  <thead>\n",
       "    <tr style=\"text-align: right;\">\n",
       "      <th></th>\n",
       "      <th>idx</th>\n",
       "      <th>abstract</th>\n",
       "      <th>label</th>\n",
       "    </tr>\n",
       "  </thead>\n",
       "  <tbody>\n",
       "    <tr>\n",
       "      <th>0</th>\n",
       "      <td>231</td>\n",
       "      <td>In this study, we apply a whole farm bioeconom...</td>\n",
       "      <td>1</td>\n",
       "    </tr>\n",
       "    <tr>\n",
       "      <th>1</th>\n",
       "      <td>1760</td>\n",
       "      <td>The intensive use of mineral (M) fertilizers m...</td>\n",
       "      <td>1</td>\n",
       "    </tr>\n",
       "    <tr>\n",
       "      <th>2</th>\n",
       "      <td>791</td>\n",
       "      <td>The Intergovernmental Panel on Climate Change ...</td>\n",
       "      <td>0</td>\n",
       "    </tr>\n",
       "    <tr>\n",
       "      <th>3</th>\n",
       "      <td>404</td>\n",
       "      <td>Drainage and cultivation of peat soils almost ...</td>\n",
       "      <td>1</td>\n",
       "    </tr>\n",
       "    <tr>\n",
       "      <th>4</th>\n",
       "      <td>1395</td>\n",
       "      <td>The rice-wheat cropping system (RWCS) is the b...</td>\n",
       "      <td>0</td>\n",
       "    </tr>\n",
       "    <tr>\n",
       "      <th>...</th>\n",
       "      <td>...</td>\n",
       "      <td>...</td>\n",
       "      <td>...</td>\n",
       "    </tr>\n",
       "    <tr>\n",
       "      <th>1395</th>\n",
       "      <td>164</td>\n",
       "      <td>Biochar has been widely researched as an impor...</td>\n",
       "      <td>0</td>\n",
       "    </tr>\n",
       "    <tr>\n",
       "      <th>1396</th>\n",
       "      <td>1254</td>\n",
       "      <td>The objective of this study was to evaluate th...</td>\n",
       "      <td>0</td>\n",
       "    </tr>\n",
       "    <tr>\n",
       "      <th>1397</th>\n",
       "      <td>782</td>\n",
       "      <td>Intensive tillage often contributes to yield g...</td>\n",
       "      <td>1</td>\n",
       "    </tr>\n",
       "    <tr>\n",
       "      <th>1398</th>\n",
       "      <td>1481</td>\n",
       "      <td>Dairy goat production continues to be a social...</td>\n",
       "      <td>0</td>\n",
       "    </tr>\n",
       "    <tr>\n",
       "      <th>1399</th>\n",
       "      <td>769</td>\n",
       "      <td>There is a close relationship among agricultur...</td>\n",
       "      <td>1</td>\n",
       "    </tr>\n",
       "  </tbody>\n",
       "</table>\n",
       "<p>1395 rows × 3 columns</p>\n",
       "</div>"
      ],
      "text/plain": [
       "       idx                                           abstract  label\n",
       "0      231  In this study, we apply a whole farm bioeconom...      1\n",
       "1     1760  The intensive use of mineral (M) fertilizers m...      1\n",
       "2      791  The Intergovernmental Panel on Climate Change ...      0\n",
       "3      404  Drainage and cultivation of peat soils almost ...      1\n",
       "4     1395  The rice-wheat cropping system (RWCS) is the b...      0\n",
       "...    ...                                                ...    ...\n",
       "1395   164  Biochar has been widely researched as an impor...      0\n",
       "1396  1254  The objective of this study was to evaluate th...      0\n",
       "1397   782  Intensive tillage often contributes to yield g...      1\n",
       "1398  1481  Dairy goat production continues to be a social...      0\n",
       "1399   769  There is a close relationship among agricultur...      1\n",
       "\n",
       "[1395 rows x 3 columns]"
      ]
     },
     "execution_count": 2,
     "metadata": {},
     "output_type": "execute_result"
    }
   ],
   "source": [
    "data_train = pd.read_excel(\"data/data_train.xlsx\", index_col=0)\n",
    "data_train"
   ]
  },
  {
   "cell_type": "markdown",
   "metadata": {},
   "source": [
    "Preare bsqs"
   ]
  },
  {
   "cell_type": "code",
   "execution_count": 3,
   "metadata": {},
   "outputs": [],
   "source": [
    "bsqs = [\n",
    "    \"Does the abstract discuss agroecological practices?\",\n",
    "    \"Does the abstract cover climate change mitigation?\",\n",
    "    \"Does the abstract cover climate change adaptation?\",\n",
    "    \"Does the abstract comprehensively cover climate change and environmental aspects?\",\n",
    "    \"Does the abstract address greenhouse gas emissions?\",\n",
    "    \"Does the abstract assess agroecological practices' impact on climate change?\",\n",
    "    \"Does the abstract provide relevance to stakeholders and farmers in the agricultural sector?\",\n",
    "    \"Does the abstract address limitations, challenges, and potential risks?\",\n",
    "    \"Does the abstract address policy implications?\",\n",
    "    \"Does the abstract have a specific geographic focus?\",\n",
    "]\n",
    "\n",
    "dict_bsqs = {f\"q{i}\": bsq for i, bsq in enumerate(bsqs)}"
   ]
  },
  {
   "cell_type": "markdown",
   "metadata": {},
   "source": [
    "Prepare chatgpt template"
   ]
  },
  {
   "cell_type": "code",
   "execution_count": 4,
   "metadata": {},
   "outputs": [],
   "source": [
    "template = lambda sen, bsq: f\"\"\"Abstract: {sen}\\nBased on the abstract, {bsq} (answer 'Yes' or 'No')\"\"\""
   ]
  },
  {
   "cell_type": "code",
   "execution_count": 5,
   "metadata": {},
   "outputs": [
    {
     "name": "stdout",
     "output_type": "stream",
     "text": [
      "Abstract: <ABSTRACT>\n",
      "Based on the abstract, <BSQ> (answer 'Yes' or 'No')\n"
     ]
    }
   ],
   "source": [
    "print(template(\"<ABSTRACT>\", \"<BSQ>\"))"
   ]
  },
  {
   "cell_type": "markdown",
   "metadata": {},
   "source": [
    "Create labelisator"
   ]
  },
  {
   "cell_type": "code",
   "execution_count": null,
   "metadata": {},
   "outputs": [],
   "source": [
    "labelisator = SubTaskLabelisator(\n",
    "    api_key = \"<API-KEY>\",\n",
    "    dict_bsqs = dict_bsqs,\n",
    "    data_train = data_train, \n",
    "    sentence_col_name = \"abstract\", \n",
    "    sample_size = 100,\n",
    "    chatgpt_template = template,\n",
    "    seed = 42\n",
    ")"
   ]
  },
  {
   "cell_type": "markdown",
   "metadata": {},
   "source": [
    "Run labelisator"
   ]
  },
  {
   "cell_type": "code",
   "execution_count": null,
   "metadata": {},
   "outputs": [],
   "source": [
    "labelisator.run_labeling(\n",
    "    root_labels = \"01_labels\",\n",
    "    temp=0,\n",
    "    max_t=5,\n",
    "    verbose=True\n",
    ")"
   ]
  },
  {
   "cell_type": "markdown",
   "metadata": {},
   "source": [
    "```\n",
    "q0 BSQ: Does the abstract discuss agroecological practices?\n",
    "10/100\n",
    "20/100\n",
    "30/100\n",
    "40/100\n",
    "50/100\n",
    "60/100\n",
    "70/100\n",
    "80/100\n",
    "90/100\n",
    "100/100\n",
    "q1 BSQ: Does the abstract cover climate change mitigation?\n",
    "10/100\n",
    "20/100\n",
    "30/100\n",
    "40/100\n",
    "50/100\n",
    "60/100\n",
    "70/100\n",
    "80/100\n",
    "90/100\n",
    "100/100\n",
    "q2 BSQ: Does the abstract cover climate change adaptation?\n",
    "10/100\n",
    "20/100\n",
    "30/100\n",
    "40/100\n",
    "50/100\n",
    "60/100\n",
    "70/100\n",
    "80/100\n",
    "90/100\n",
    "100/100\n",
    "q3 BSQ: Does the abstract comprehensively cover climate change and environmental aspects?\n",
    "10/100\n",
    "20/100\n",
    "30/100\n",
    "40/100\n",
    "50/100\n",
    "60/100\n",
    "70/100\n",
    "80/100\n",
    "90/100\n",
    "100/100\n",
    "q4 BSQ: Does the abstract address greenhouse gas emissions?\n",
    "10/100\n",
    "20/100\n",
    "30/100\n",
    "40/100\n",
    "50/100\n",
    "60/100\n",
    "70/100\n",
    "80/100\n",
    "90/100\n",
    "100/100\n",
    "q5 BSQ: Does the abstract assess agroecological practices' impact on climate change?\n",
    "10/100\n",
    "20/100\n",
    "30/100\n",
    "40/100\n",
    "50/100\n",
    "60/100\n",
    "70/100\n",
    "80/100\n",
    "90/100\n",
    "100/100\n",
    "q6 BSQ: Does the abstract provide relevance to stakeholders and farmers in the agricultural sector?\n",
    "10/100\n",
    "20/100\n",
    "30/100\n",
    "40/100\n",
    "50/100\n",
    "60/100\n",
    "70/100\n",
    "80/100\n",
    "90/100\n",
    "100/100\n",
    "q7 BSQ: Does the abstract address limitations, challenges, and potential risks?\n",
    "10/100\n",
    "20/100\n",
    "30/100\n",
    "40/100\n",
    "50/100\n",
    "60/100\n",
    "70/100\n",
    "80/100\n",
    "90/100\n",
    "100/100\n",
    "q8 BSQ: Does the abstract address policy implications?\n",
    "10/100\n",
    "20/100\n",
    "30/100\n",
    "40/100\n",
    "50/100\n",
    "60/100\n",
    "70/100\n",
    "80/100\n",
    "90/100\n",
    "100/100\n",
    "q9 BSQ: Does the abstract have a specific geographic focus?\n",
    "10/100\n",
    "20/100\n",
    "30/100\n",
    "40/100\n",
    "50/100\n",
    "60/100\n",
    "70/100\n",
    "80/100\n",
    "90/100\n",
    "100/100\n",
    "```"
   ]
  }
 ],
 "metadata": {
  "kernelspec": {
   "display_name": "Python 3",
   "language": "python",
   "name": "python3"
  },
  "language_info": {
   "codemirror_mode": {
    "name": "ipython",
    "version": 3
   },
   "file_extension": ".py",
   "mimetype": "text/x-python",
   "name": "python",
   "nbconvert_exporter": "python",
   "pygments_lexer": "ipython3",
   "version": "3.8.6"
  },
  "orig_nbformat": 4
 },
 "nbformat": 4,
 "nbformat_minor": 2
}
