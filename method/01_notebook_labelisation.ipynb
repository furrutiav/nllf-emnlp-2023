{
 "cells": [
  {
   "cell_type": "code",
   "execution_count": 1,
   "metadata": {},
   "outputs": [],
   "source": [
    "from class_sub_task_labelisation import SubTaskLabelisator"
   ]
  },
  {
   "cell_type": "markdown",
   "metadata": {},
   "source": [
    "# Plug and play"
   ]
  },
  {
   "cell_type": "markdown",
   "metadata": {},
   "source": [
    "Create a labelisator"
   ]
  },
  {
   "cell_type": "code",
   "execution_count": 2,
   "metadata": {},
   "outputs": [],
   "source": [
    "labelisator = SubTaskLabelisator(\n",
    "    api_key = \"<OPENAI-API-KEY>\",                   # OpenAI - API Key: https://platform.openai.com/account/api-keys\n",
    "    file_name_dict_bsqs = \"data/dict_bsqs.json\",    # File name of your JSON with BSQs\n",
    "    file_name_data_train = \"data/data_train.xlsx\",  # File name of your .xlsx Training Dataset\n",
    "    sentence_col_name = \"abstract\",                 # Column name of your text-to-classify\n",
    "    sample_size = 100,                              # Sample size for zero-shot labelisation: Integer number or fraction between 0 to 1\n",
    "    seed = 42                                       # Random seed\n",
    ")"
   ]
  },
  {
   "cell_type": "markdown",
   "metadata": {},
   "source": [
    "Run the labelisator"
   ]
  },
  {
   "cell_type": "code",
   "execution_count": null,
   "metadata": {},
   "outputs": [],
   "source": [
    "%%capture\n",
    "labelisator.run_labeling(\n",
    "    root_labels = \"01_labels\",  # Root folder to save the weak-labels\n",
    "    temp=0,                     # Temperature of GPT-3.5-turbo\n",
    "    max_t=5,                    # Max. number of output-tokens\n",
    "    verbose=True                # Print status\n",
    ")"
   ]
  },
  {
   "cell_type": "markdown",
   "metadata": {},
   "source": [
    "# Explore"
   ]
  },
  {
   "cell_type": "markdown",
   "metadata": {},
   "source": [
    "Show *.json of binary-subtask-questions (bsqs)"
   ]
  },
  {
   "cell_type": "code",
   "execution_count": 4,
   "metadata": {},
   "outputs": [
    {
     "data": {
      "text/plain": [
       "{'q0': 'Does the abstract discuss agroecological practices?',\n",
       " 'q1': 'Does the abstract cover climate change mitigation?',\n",
       " 'q2': 'Does the abstract cover climate change adaptation?',\n",
       " 'q3': 'Does the abstract comprehensively cover climate change and environmental aspects?',\n",
       " 'q4': 'Does the abstract address greenhouse gas emissions?',\n",
       " 'q5': \"Does the abstract assess agroecological practices' impact on climate change?\",\n",
       " 'q6': 'Does the abstract provide relevance to stakeholders and farmers in the agricultural sector?',\n",
       " 'q7': 'Does the abstract address limitations, challenges, and potential risks?',\n",
       " 'q8': 'Does the abstract address policy implications?',\n",
       " 'q9': 'Does the abstract have a specific geographic focus?'}"
      ]
     },
     "execution_count": 4,
     "metadata": {},
     "output_type": "execute_result"
    }
   ],
   "source": [
    "labelisator.dict_bsqs"
   ]
  },
  {
   "cell_type": "markdown",
   "metadata": {},
   "source": [
    "Show sample of training"
   ]
  },
  {
   "cell_type": "code",
   "execution_count": 5,
   "metadata": {},
   "outputs": [
    {
     "data": {
      "text/html": [
       "<div>\n",
       "<style scoped>\n",
       "    .dataframe tbody tr th:only-of-type {\n",
       "        vertical-align: middle;\n",
       "    }\n",
       "\n",
       "    .dataframe tbody tr th {\n",
       "        vertical-align: top;\n",
       "    }\n",
       "\n",
       "    .dataframe thead th {\n",
       "        text-align: right;\n",
       "    }\n",
       "</style>\n",
       "<table border=\"1\" class=\"dataframe\">\n",
       "  <thead>\n",
       "    <tr style=\"text-align: right;\">\n",
       "      <th></th>\n",
       "      <th>idx</th>\n",
       "      <th>abstract</th>\n",
       "      <th>label</th>\n",
       "    </tr>\n",
       "  </thead>\n",
       "  <tbody>\n",
       "    <tr>\n",
       "      <th>1221</th>\n",
       "      <td>1097</td>\n",
       "      <td>Iran is considered one of the most polluted co...</td>\n",
       "      <td>0</td>\n",
       "    </tr>\n",
       "    <tr>\n",
       "      <th>422</th>\n",
       "      <td>13</td>\n",
       "      <td>Agricultural practices contribute to emissions...</td>\n",
       "      <td>1</td>\n",
       "    </tr>\n",
       "    <tr>\n",
       "      <th>1388</th>\n",
       "      <td>53</td>\n",
       "      <td>Agriculture is a source for three primary gree...</td>\n",
       "      <td>1</td>\n",
       "    </tr>\n",
       "    <tr>\n",
       "      <th>702</th>\n",
       "      <td>529</td>\n",
       "      <td>Adopting Regenerative Agriculture (RA) practic...</td>\n",
       "      <td>0</td>\n",
       "    </tr>\n",
       "    <tr>\n",
       "      <th>601</th>\n",
       "      <td>1473</td>\n",
       "      <td>Agroforestry has a potentially important role ...</td>\n",
       "      <td>0</td>\n",
       "    </tr>\n",
       "    <tr>\n",
       "      <th>...</th>\n",
       "      <td>...</td>\n",
       "      <td>...</td>\n",
       "      <td>...</td>\n",
       "    </tr>\n",
       "    <tr>\n",
       "      <th>1191</th>\n",
       "      <td>1411</td>\n",
       "      <td>Determining appropriate farming management pra...</td>\n",
       "      <td>1</td>\n",
       "    </tr>\n",
       "    <tr>\n",
       "      <th>779</th>\n",
       "      <td>1847</td>\n",
       "      <td>In the Mediterranean Basin, sheep meat product...</td>\n",
       "      <td>0</td>\n",
       "    </tr>\n",
       "    <tr>\n",
       "      <th>314</th>\n",
       "      <td>948</td>\n",
       "      <td>Grain production is a key source of food globa...</td>\n",
       "      <td>0</td>\n",
       "    </tr>\n",
       "    <tr>\n",
       "      <th>1058</th>\n",
       "      <td>270</td>\n",
       "      <td>Agroforestry systems (AFS) contribute to carbo...</td>\n",
       "      <td>1</td>\n",
       "    </tr>\n",
       "    <tr>\n",
       "      <th>764</th>\n",
       "      <td>667</td>\n",
       "      <td>The Earth's climate is rapidly changing largel...</td>\n",
       "      <td>1</td>\n",
       "    </tr>\n",
       "  </tbody>\n",
       "</table>\n",
       "<p>100 rows × 3 columns</p>\n",
       "</div>"
      ],
      "text/plain": [
       "       idx                                           abstract  label\n",
       "1221  1097  Iran is considered one of the most polluted co...      0\n",
       "422     13  Agricultural practices contribute to emissions...      1\n",
       "1388    53  Agriculture is a source for three primary gree...      1\n",
       "702    529  Adopting Regenerative Agriculture (RA) practic...      0\n",
       "601   1473  Agroforestry has a potentially important role ...      0\n",
       "...    ...                                                ...    ...\n",
       "1191  1411  Determining appropriate farming management pra...      1\n",
       "779   1847  In the Mediterranean Basin, sheep meat product...      0\n",
       "314    948  Grain production is a key source of food globa...      0\n",
       "1058   270  Agroforestry systems (AFS) contribute to carbo...      1\n",
       "764    667  The Earth's climate is rapidly changing largel...      1\n",
       "\n",
       "[100 rows x 3 columns]"
      ]
     },
     "execution_count": 5,
     "metadata": {},
     "output_type": "execute_result"
    }
   ],
   "source": [
    "labelisator.sample_train"
   ]
  },
  {
   "cell_type": "markdown",
   "metadata": {},
   "source": [
    "Show the template for ChatGPT zero-shot labelisation"
   ]
  },
  {
   "cell_type": "code",
   "execution_count": 6,
   "metadata": {},
   "outputs": [
    {
     "name": "stdout",
     "output_type": "stream",
     "text": [
      "Abstract: <SENTENCE>\n",
      "Based on the abstract, <BSQ> (answer 'Yes' or 'No')\n"
     ]
    }
   ],
   "source": [
    "print(labelisator.chatgpt_template(\"<SENTENCE>\", \"<BSQ>\"))"
   ]
  }
 ],
 "metadata": {
  "kernelspec": {
   "display_name": "Python 3",
   "language": "python",
   "name": "python3"
  },
  "language_info": {
   "codemirror_mode": {
    "name": "ipython",
    "version": 3
   },
   "file_extension": ".py",
   "mimetype": "text/x-python",
   "name": "python",
   "nbconvert_exporter": "python",
   "pygments_lexer": "ipython3",
   "version": "3.10.8"
  },
  "orig_nbformat": 4
 },
 "nbformat": 4,
 "nbformat_minor": 2
}
